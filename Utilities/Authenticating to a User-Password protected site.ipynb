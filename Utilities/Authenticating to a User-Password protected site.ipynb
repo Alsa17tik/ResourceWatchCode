{
 "cells": [
  {
   "cell_type": "code",
   "execution_count": null,
   "metadata": {
    "collapsed": true
   },
   "outputs": [],
   "source": [
    "### CREDIT: Max Miao\n",
    "\n",
    "from sys import argv\n",
    "import urllib\n",
    "try:\n",
    "    from http.cookiejar import CookieJar\n",
    "except ImportError:\n",
    "    from cookielib import CookieJar\n",
    "from urllib.parse import urlencode\n",
    "\n",
    "\n",
    "username = \"max2017 \"\n",
    "password = \"Resourcewatch123\"\n",
    "\n",
    "# The url of the file we wish to retrieve\n",
    " \n",
    "url = \"http://e4ftl01.cr.usgs.gov/MOLA/MYD17A3H.006/2009.01.01/MYD17A3H.A2009001.h12v05.006.2015198130546.hdf.xml\"\n",
    " \n",
    " \n",
    "# Create a password manager to deal with the 401 reponse that is returned from\n",
    "# Earthdata Login\n",
    " \n",
    "password_manager =  urllib.request.HTTPPasswordMgrWithDefaultRealm()\n",
    "password_manager.add_password(None, \"https://urs.earthdata.nasa.gov\", username, password)\n",
    " \n",
    " \n",
    "# Create a cookie jar for storing cookies. This is used to store and return\n",
    "# the session cookie given to use by the data server (otherwise it will just\n",
    "# keep sending us back to Earthdata Login to authenticate).  Ideally, we\n",
    "# should use a file based cookie jar to preserve cookies between runs. This\n",
    "# will make it much more efficient.\n",
    " \n",
    "cookie_jar = CookieJar()\n",
    "  \n",
    " \n",
    "# Install all the handlers.\n",
    " \n",
    "opener = urllib.request.build_opener(\n",
    "    urllib.request.HTTPBasicAuthHandler(password_manager),\n",
    "    #urllib2.HTTPHandler(debuglevel=1),    # Uncomment these two lines to see\n",
    "    #urllib2.HTTPSHandler(debuglevel=1),   # details of the requests/responses\n",
    "    urllib.request.HTTPCookieProcessor(cookie_jar))\n",
    "urllib.request.install_opener(opener)"
   ]
  }
 ],
 "metadata": {
  "kernelspec": {
   "display_name": "Python 3",
   "language": "python",
   "name": "python3"
  },
  "language_info": {
   "codemirror_mode": {
    "name": "ipython",
    "version": 3
   },
   "file_extension": ".py",
   "mimetype": "text/x-python",
   "name": "python",
   "nbconvert_exporter": "python",
   "pygments_lexer": "ipython3",
   "version": "3.6.0"
  }
 },
 "nbformat": 4,
 "nbformat_minor": 2
}
