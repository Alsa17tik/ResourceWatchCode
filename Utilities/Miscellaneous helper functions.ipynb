{
 "cells": [
  {
   "cell_type": "code",
   "execution_count": 16,
   "metadata": {
    "collapsed": true
   },
   "outputs": [],
   "source": [
    "# Standardizing Country names and ISO3\n",
    "\n",
    "\n",
    "# Fixing datetimes from various formats\n",
    "def fix_datetime_UTC(data_df, date_columns=[], date_pattern=[]):\n",
    "    \"\"\"\n",
    "    Desired datetime format: 2017-12-08T15:16:03Z\n",
    "    Desired date_pattern: %Y-\n",
    "    date_columns, if a list, should be listed in order\n",
    "    date_pattern, if a list, should be of the same length as date_columns\n",
    "    \"\"\"\n",
    "    num_columns = len(columns)\n",
    "    \n",
    "    # https://stackoverflow.com/questions/466345/converting-string-into-datetime\n",
    "    # https://docs.python.org/3/library/datetime.html#datetime.datetime.strptime\n",
    "    datetime_object = datetime.strptime('Jun 1 2005  1:33PM', '%b %d %Y %I:%M%p')\n",
    "    \n",
    "    # Or can use dateutil.parser\n",
    "    #from dateutil import parser\n",
    "    dt = parser.parse(\"Aug 28 1999 12:00AM\")\n",
    "\n",
    "def transfer_columns_between_tables(src_df, dst_df, columns_to_xfer=None):\n",
    "    \"\"\"\n",
    "    Inputs:\n",
    "    * src_df and dst_df with same index\n",
    "    * list of columns from src_df to transfer to dst_df\n",
    "    \n",
    "    Outputs:\n",
    "    * dst_df with new columns from the src_df\n",
    "    \"\"\"\n",
    "    \n",
    "    dst_df = dst_df.copy()\n",
    "    try:\n",
    "        info = src_df.loc[dst_df.index, columns_to_xfer]\n",
    "        dst_df[columns_to_xfer] = info\n",
    "        return(dst_df)\n",
    "    except:\n",
    "        print(\"ERROR\")\n",
    "        print(\"Possible source: There is an element in the metadata sheet that is not in the tracking sheet\")\n",
    "        print(\"Possible source: One of more of the given columns to transfer is not in the source df\")\n",
    "        return(None)"
   ]
  },
  {
   "cell_type": "code",
   "execution_count": 22,
   "metadata": {
    "collapsed": false
   },
   "outputs": [
    {
     "name": "stdout",
     "output_type": "stream",
     "text": [
      "Int64Index([0, 1], dtype='int64')\n",
      "Int64Index([0, 1], dtype='int64')\n"
     ]
    },
    {
     "data": {
      "text/html": [
       "<div>\n",
       "<style>\n",
       "    .dataframe thead tr:only-child th {\n",
       "        text-align: right;\n",
       "    }\n",
       "\n",
       "    .dataframe thead th {\n",
       "        text-align: left;\n",
       "    }\n",
       "\n",
       "    .dataframe tbody tr th {\n",
       "        vertical-align: top;\n",
       "    }\n",
       "</style>\n",
       "<table border=\"1\" class=\"dataframe\">\n",
       "  <thead>\n",
       "    <tr style=\"text-align: right;\">\n",
       "      <th></th>\n",
       "      <th>A</th>\n",
       "      <th>B</th>\n",
       "      <th>C</th>\n",
       "      <th>D</th>\n",
       "    </tr>\n",
       "  </thead>\n",
       "  <tbody>\n",
       "    <tr>\n",
       "      <th>0</th>\n",
       "      <td>1</td>\n",
       "      <td>3</td>\n",
       "      <td>4</td>\n",
       "      <td>6</td>\n",
       "    </tr>\n",
       "    <tr>\n",
       "      <th>1</th>\n",
       "      <td>2</td>\n",
       "      <td>4</td>\n",
       "      <td>5</td>\n",
       "      <td>7</td>\n",
       "    </tr>\n",
       "  </tbody>\n",
       "</table>\n",
       "</div>"
      ],
      "text/plain": [
       "   A  B  C  D\n",
       "0  1  3  4  6\n",
       "1  2  4  5  7"
      ]
     },
     "execution_count": 22,
     "metadata": {},
     "output_type": "execute_result"
    }
   ],
   "source": [
    "df1 = pd.DataFrame({\"A\":[1,2], \"B\":[3,4]}, index=[0,1])\n",
    "df2 = pd.DataFrame({\"C\":[4,5], \"D\":[6,7]}, index=[0,1])\n",
    "\n",
    "print(df1.index)\n",
    "print(df2.index)\n",
    "\n",
    "df3 = transfer_columns_between_tables(df2, df1, [\"C\",\"D\"])\n",
    "df3"
   ]
  },
  {
   "cell_type": "code",
   "execution_count": null,
   "metadata": {
    "collapsed": true
   },
   "outputs": [],
   "source": []
  }
 ],
 "metadata": {
  "kernelspec": {
   "display_name": "Python 3",
   "language": "python",
   "name": "python3"
  },
  "language_info": {
   "codemirror_mode": {
    "name": "ipython",
    "version": 3
   },
   "file_extension": ".py",
   "mimetype": "text/x-python",
   "name": "python",
   "nbconvert_exporter": "python",
   "pygments_lexer": "ipython3",
   "version": "3.6.0"
  }
 },
 "nbformat": 4,
 "nbformat_minor": 2
}
