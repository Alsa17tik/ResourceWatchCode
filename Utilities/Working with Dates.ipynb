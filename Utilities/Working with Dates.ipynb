{
 "cells": [
  {
   "cell_type": "code",
   "execution_count": 16,
   "metadata": {
    "collapsed": false
   },
   "outputs": [
    {
     "name": "stdout",
     "output_type": "stream",
     "text": [
      "1999-08-28 00:00:00\n",
      "1999-08-28T00:00:00Z\n"
     ]
    }
   ],
   "source": [
    "import pandas as pd\n",
    "\n",
    "import dateutil\n",
    "from dateutil import parser\n",
    "#https://dateutil.readthedocs.io/en/stable/\n",
    "\n",
    "import datetime\n",
    "# https://docs.python.org/3/library/datetime.html\n",
    "# http://strftime.org\n",
    "# https://howchoo.com/g/ywi5m2vkodk/working-with-datetime-objects-and-timezones-in-python\n",
    "# Inlcudes how to replace w/ datetime.replace(year=?): https://pymotw.com/2/datetime/\n",
    "\n",
    "dt = parser.parse(\"Aug 28 1999 12:00AM\")\n",
    "print(dt)\n",
    "print(dt.strftime(\"%Y-%m-%dT%H:%M:%SZ\"))"
   ]
  },
  {
   "cell_type": "code",
   "execution_count": 42,
   "metadata": {
    "collapsed": false
   },
   "outputs": [
    {
     "data": {
      "text/html": [
       "<div>\n",
       "<style>\n",
       "    .dataframe thead tr:only-child th {\n",
       "        text-align: right;\n",
       "    }\n",
       "\n",
       "    .dataframe thead th {\n",
       "        text-align: left;\n",
       "    }\n",
       "\n",
       "    .dataframe tbody tr th {\n",
       "        vertical-align: top;\n",
       "    }\n",
       "</style>\n",
       "<table border=\"1\" class=\"dataframe\">\n",
       "  <thead>\n",
       "    <tr style=\"text-align: right;\">\n",
       "      <th></th>\n",
       "      <th>datetime</th>\n",
       "    </tr>\n",
       "  </thead>\n",
       "  <tbody>\n",
       "    <tr>\n",
       "      <th>0</th>\n",
       "      <td>1999-08-28</td>\n",
       "    </tr>\n",
       "  </tbody>\n",
       "</table>\n",
       "</div>"
      ],
      "text/plain": [
       "     datetime\n",
       "0  1999-08-28"
      ]
     },
     "execution_count": 42,
     "metadata": {},
     "output_type": "execute_result"
    }
   ],
   "source": [
    "# Demo this is possible\n",
    "pd.DataFrame({\"datetime\":[parser.parse(\"Aug 28 1999 12:00AM\")]}).astype(str)"
   ]
  },
  {
   "cell_type": "code",
   "execution_count": 11,
   "metadata": {
    "collapsed": true
   },
   "outputs": [],
   "source": [
    "# https://stackoverflow.com/questions/466345/converting-string-into-datetime\n",
    "# https://docs.python.org/3/library/datetime.html#datetime.datetime.strptime\n",
    "def fix_datetime_UTC(data_df, date_columns=[], date_pattern=\"%Y-%m-%dT%H:%M:%SZ\"):\n",
    "    \"\"\"\n",
    "    Desired datetime format: 2017-12-08T15:16:03Z\n",
    "    Corresponding date_pattern for strftime: %Y-%m-%dT%H:%M:%SZ\n",
    "    \n",
    "    Depends on:\n",
    "    from dateutil import parser\n",
    "    \"\"\"\n",
    "    \n",
    "    assert((type(date_columns)==str) | (type(date_columns)==list))\n",
    "    if type(date_columns)==str:\n",
    "        date_columns = [date_columns]\n",
    "        \n",
    "    date_expression = data_df[date_columns[0]].astype(str)\n",
    "    for col in date_columns[1:]:\n",
    "        date_expression = date_expression + \" \" + data_df[col].astype(str)\n",
    "    \n",
    "    # Need to provide the default parameter to parser.parse so that missing entries don't default to current date\n",
    "    date_col = date_expression.apply(lambda date: parser.parse(date, default=parser.parse(\"January 1 1900 00:00:00\")).strftime(date_pattern))\n",
    "    \n",
    "    return(date_col)"
   ]
  },
  {
   "cell_type": "code",
   "execution_count": 88,
   "metadata": {
    "collapsed": true
   },
   "outputs": [],
   "source": [
    "def structure_dttm_from_parts(row, dttm_elems, dttm_pattern):\n",
    "    dt = datetime.datetime(year=int(row[dttm_elems[\"year_col\"]]), \n",
    "                           month=int(row[dttm_elems[\"month_col\"]]),\n",
    "                           day=int(row[dttm_elems[\"day_col\"]]))\n",
    "    if \"hour_col\" in dttm_elems:\n",
    "        dt = dt.replace(hour=int(row[dttm_elems[\"hour_col\"]]))\n",
    "    if \"min_col\" in dttm_elems:\n",
    "        dt = dt.replace(minute=int(row[dttm_elems[\"min_col\"]]))\n",
    "    if \"sec_col\" in dttm_elems:\n",
    "        dt = dt.replace(second=int(row[dttm_elems[\"sec_col\"]]))\n",
    "    if \"milli_col\" in dttm_elems:\n",
    "        dt = dt.replace(milliseconds=int(row[dttm_elems[\"milli_col\"]]))\n",
    "    if \"micro_col\" in dttm_elems:\n",
    "        dt = dt.replace(microseconds=int(row[dttm_elems[\"micro_col\"]]))\n",
    "    if \"tzinfo_col\" in dttm_elems:\n",
    "        timezone = pytz.timezone(row[dttm_elems[\"tzinfo_col\"]])\n",
    "        dt = timezone.localize(dt)\n",
    "    \n",
    "    dttm_str = dt.strftime(dttm_pattern)\n",
    "    return(dttm_str)\n",
    "\n",
    "def fix_datetime_UTC(data_df, dttm_elems_in_sep_columns=True, \n",
    "                     dttm_elems={},\n",
    "                     dttm_col=None, \n",
    "                     dttm_pattern=\"%Y-%m-%dT%H:%M:%SZ\"):\n",
    "    \"\"\"\n",
    "    Desired datetime format: 2017-12-08T15:16:03Z\n",
    "    Corresponding date_pattern for strftime: %Y-%m-%dT%H:%M:%SZ\n",
    "    \n",
    "    If date_elems_in_sep_columns=True, then there will be a dictionary date_elems\n",
    "    That at least contains the following elements:\n",
    "    date_elems = {\"year_col\":`int or string`,\"month_col\":`int or string`,\"day_col\":`int or string`}\n",
    "    OPTIONAL KEYS IN date_elems:\n",
    "    * hour_col\n",
    "    * min_col\n",
    "    * sec_col\n",
    "    * milli_col\n",
    "    * micro_col\n",
    "    * tz_col\n",
    "    \n",
    "    Depends on:\n",
    "    from dateutil import parser\n",
    "    \"\"\"\n",
    "    default_date = parser.parse(\"January 1 1900 00:00:00\")\n",
    "        \n",
    "    # Mutually exclusive to provide broken down datetime factors, \n",
    "    # and either a date, time, or datetime object\n",
    "    if dttm_elems_in_sep_columns:\n",
    "        assert(type(dttm_elems)==dict)\n",
    "        assert(dttm_col==None)\n",
    "        \n",
    "        tmp = data_df.copy()\n",
    "        if \"year_col\" not in dttm_elems:\n",
    "            dttm_elems[\"year_col\"] = \"year_tmp\"\n",
    "        if dttm_elems[\"year_col\"] not in tmp.columns:\n",
    "            tmp[dttm_elems[\"year_col\"]] = 1990\n",
    "            \n",
    "        if \"month_col\" not in dttm_elems:\n",
    "            dttm_elems[\"month_col\"] = \"month_tmp\"\n",
    "        if dttm_elems[\"month_col\"] not in tmp.columns:\n",
    "            tmp[dttm_elems[\"month_col\"]] = 1\n",
    "            \n",
    "        if \"day_col\" not in dttm_elems:\n",
    "            dttm_elems[\"day_col\"] = \"day_tmp\"\n",
    "        if dttm_elems[\"day_col\"] not in tmp.columns:\n",
    "            tmp[dttm_elems[\"day_col\"]] = 1\n",
    "        \n",
    "        dttm_col = tmp.apply(lambda row: structure_dttm_from_parts(row, dttm_elems, dttm_pattern), axis=1)\n",
    "        \n",
    "    else:\n",
    "        # Need to provide the default parameter to parser.parse so that missing entries don't default to current date\n",
    "        dttm_col = data_df.apply(lambda row: parser.parse(row[dttm_col], default=default_date).strftime(dttm_pattern), axis=1)\n",
    "    \n",
    "    return(dttm_col)"
   ]
  },
  {
   "cell_type": "code",
   "execution_count": 67,
   "metadata": {
    "collapsed": false
   },
   "outputs": [
    {
     "name": "stdout",
     "output_type": "stream",
     "text": [
      "1990-02-10 02:10:10\n",
      "1990-02-10 00:00:00\n"
     ]
    }
   ],
   "source": [
    "print(datetime.datetime(year=1990, month=int(\"02\"), day=10, hour=2, minute=10, second=10))\n",
    "dt = datetime.datetime(year=1990, month=int(\"02\"), day=10)\n",
    "print(dt)"
   ]
  },
  {
   "cell_type": "code",
   "execution_count": 77,
   "metadata": {
    "collapsed": false
   },
   "outputs": [
    {
     "data": {
      "text/html": [
       "<div>\n",
       "<style>\n",
       "    .dataframe thead tr:only-child th {\n",
       "        text-align: right;\n",
       "    }\n",
       "\n",
       "    .dataframe thead th {\n",
       "        text-align: left;\n",
       "    }\n",
       "\n",
       "    .dataframe tbody tr th {\n",
       "        vertical-align: top;\n",
       "    }\n",
       "</style>\n",
       "<table border=\"1\" class=\"dataframe\">\n",
       "  <thead>\n",
       "    <tr style=\"text-align: right;\">\n",
       "      <th></th>\n",
       "      <th>Day</th>\n",
       "      <th>Month</th>\n",
       "      <th>Year</th>\n",
       "    </tr>\n",
       "  </thead>\n",
       "  <tbody>\n",
       "    <tr>\n",
       "      <th>0</th>\n",
       "      <td>12</td>\n",
       "      <td>1</td>\n",
       "      <td>1990</td>\n",
       "    </tr>\n",
       "    <tr>\n",
       "      <th>1</th>\n",
       "      <td>10</td>\n",
       "      <td>2</td>\n",
       "      <td>1991</td>\n",
       "    </tr>\n",
       "    <tr>\n",
       "      <th>2</th>\n",
       "      <td>4</td>\n",
       "      <td>3</td>\n",
       "      <td>1992</td>\n",
       "    </tr>\n",
       "  </tbody>\n",
       "</table>\n",
       "</div>"
      ],
      "text/plain": [
       "   Day  Month  Year\n",
       "0   12      1  1990\n",
       "1   10      2  1991\n",
       "2    4      3  1992"
      ]
     },
     "execution_count": 77,
     "metadata": {},
     "output_type": "execute_result"
    }
   ],
   "source": [
    "df = pd.DataFrame({\"Year\":[1990, 1991, 1992], \"Month\":[1,2,3], \"Day\":[12,10,4]})\n",
    "df"
   ]
  },
  {
   "cell_type": "code",
   "execution_count": 90,
   "metadata": {
    "collapsed": false
   },
   "outputs": [
    {
     "name": "stdout",
     "output_type": "stream",
     "text": [
      "0    1990-01-01T00:00:00Z\n",
      "1    1991-01-01T00:00:00Z\n",
      "2    1992-01-01T00:00:00Z\n",
      "dtype: object\n",
      "0    1990-01-01T00:00:00Z\n",
      "1    1990-02-01T00:00:00Z\n",
      "2    1990-03-01T00:00:00Z\n",
      "dtype: object\n",
      "0    1990-01-12T00:00:00Z\n",
      "1    1990-01-10T00:00:00Z\n",
      "2    1990-01-04T00:00:00Z\n",
      "dtype: object\n",
      "0    1990-01-12T00:00:00Z\n",
      "1    1991-02-10T00:00:00Z\n",
      "2    1992-03-04T00:00:00Z\n",
      "dtype: object\n"
     ]
    }
   ],
   "source": [
    "# When can this go wrong?\n",
    "print(fix_datetime_UTC(df, dttm_elems={\"year_col\":\"Year\"}))\n",
    "print(fix_datetime_UTC(df, dttm_elems={\"month_col\":\"Month\"}))\n",
    "print(fix_datetime_UTC(df, dttm_elems={\"day_col\":\"Day\"}))\n",
    "print(fix_datetime_UTC(df, dttm_elems={\"year_col\":\"Year\",\n",
    "                                       \"month_col\":\"Month\",\n",
    "                                       \"day_col\":\"Day\"}))"
   ]
  },
  {
   "cell_type": "code",
   "execution_count": 31,
   "metadata": {
    "collapsed": false
   },
   "outputs": [
    {
     "name": "stdout",
     "output_type": "stream",
     "text": [
      "0    1990-01-12T00:00:00Z\n",
      "1    1991-02-10T00:00:00Z\n",
      "2    1992-03-04T00:00:00Z\n",
      "dtype: object\n",
      "0    1900-01-12T00:00:00Z\n",
      "1    1900-02-10T00:00:00Z\n",
      "2    1900-03-04T00:00:00Z\n",
      "dtype: object\n",
      "0    1900-12-01T00:00:00Z\n",
      "1    1900-10-02T00:00:00Z\n",
      "2    1900-04-03T00:00:00Z\n",
      "dtype: object\n",
      "0    1990-12-01T00:00:00Z\n",
      "1    1991-10-01T00:00:00Z\n",
      "2    1992-04-01T00:00:00Z\n",
      "dtype: object\n",
      "0    1990-01-01T00:00:00Z\n",
      "1    1991-02-01T00:00:00Z\n",
      "2    1992-03-01T00:00:00Z\n",
      "dtype: object\n",
      "0    1990-12-01T00:00:00Z\n",
      "1    1991-10-01T00:00:00Z\n",
      "2    1992-04-01T00:00:00Z\n",
      "dtype: object\n"
     ]
    }
   ],
   "source": [
    "# When can this go wrong?\n",
    "print(fix_datetime_UTC(df, date_columns=[\"Year\", \"Month\", \"Day\"]))\n",
    "print(fix_datetime_UTC(df, date_columns=[\"Month\", \"Day\"]))\n",
    "print(fix_datetime_UTC(df, date_columns=[\"Day\", \"Month\"]))\n",
    "print(fix_datetime_UTC(df, date_columns=[\"Year\", \"Day\"]))\n",
    "print(fix_datetime_UTC(df, date_columns=[\"Year\", \"Month\"]))\n",
    "print(fix_datetime_UTC(df, date_columns=[\"Day\", \"Year\"]))"
   ]
  },
  {
   "cell_type": "code",
   "execution_count": 35,
   "metadata": {
    "collapsed": false
   },
   "outputs": [
    {
     "name": "stdout",
     "output_type": "stream",
     "text": [
      "0    1900-01-13T00:00:00Z\n",
      "1    1900-02-10T00:00:00Z\n",
      "2    1900-03-04T00:00:00Z\n",
      "dtype: object\n"
     ]
    },
    {
     "ename": "ValueError",
     "evalue": "month must be in 1..12",
     "output_type": "error",
     "traceback": [
      "\u001b[0;31m---------------------------------------------------------------------------\u001b[0m",
      "\u001b[0;31mValueError\u001b[0m                                Traceback (most recent call last)",
      "\u001b[0;32m<ipython-input-35-c9db23cb5e21>\u001b[0m in \u001b[0;36m<module>\u001b[0;34m()\u001b[0m\n\u001b[1;32m      1\u001b[0m \u001b[0mdf\u001b[0m \u001b[0;34m=\u001b[0m \u001b[0mpd\u001b[0m\u001b[0;34m.\u001b[0m\u001b[0mDataFrame\u001b[0m\u001b[0;34m(\u001b[0m\u001b[0;34m{\u001b[0m\u001b[0;34m\"Year\"\u001b[0m\u001b[0;34m:\u001b[0m\u001b[0;34m[\u001b[0m\u001b[0;36m1990\u001b[0m\u001b[0;34m,\u001b[0m \u001b[0;36m1991\u001b[0m\u001b[0;34m,\u001b[0m \u001b[0;36m1992\u001b[0m\u001b[0;34m]\u001b[0m\u001b[0;34m,\u001b[0m \u001b[0;34m\"Month\"\u001b[0m\u001b[0;34m:\u001b[0m\u001b[0;34m[\u001b[0m\u001b[0;36m1\u001b[0m\u001b[0;34m,\u001b[0m\u001b[0;36m2\u001b[0m\u001b[0;34m,\u001b[0m\u001b[0;36m3\u001b[0m\u001b[0;34m]\u001b[0m\u001b[0;34m,\u001b[0m \u001b[0;34m\"Day\"\u001b[0m\u001b[0;34m:\u001b[0m\u001b[0;34m[\u001b[0m\u001b[0;36m13\u001b[0m\u001b[0;34m,\u001b[0m\u001b[0;36m10\u001b[0m\u001b[0;34m,\u001b[0m\u001b[0;36m4\u001b[0m\u001b[0;34m]\u001b[0m\u001b[0;34m}\u001b[0m\u001b[0;34m)\u001b[0m\u001b[0;34m\u001b[0m\u001b[0m\n\u001b[1;32m      2\u001b[0m \u001b[0mprint\u001b[0m\u001b[0;34m(\u001b[0m\u001b[0mfix_datetime_UTC\u001b[0m\u001b[0;34m(\u001b[0m\u001b[0mdf\u001b[0m\u001b[0;34m,\u001b[0m \u001b[0mdate_columns\u001b[0m\u001b[0;34m=\u001b[0m\u001b[0;34m[\u001b[0m\u001b[0;34m\"Month\"\u001b[0m\u001b[0;34m,\u001b[0m \u001b[0;34m\"Day\"\u001b[0m\u001b[0;34m]\u001b[0m\u001b[0;34m)\u001b[0m\u001b[0;34m)\u001b[0m\u001b[0;34m\u001b[0m\u001b[0m\n\u001b[0;32m----> 3\u001b[0;31m \u001b[0mprint\u001b[0m\u001b[0;34m(\u001b[0m\u001b[0mfix_datetime_UTC\u001b[0m\u001b[0;34m(\u001b[0m\u001b[0mdf\u001b[0m\u001b[0;34m,\u001b[0m \u001b[0mdate_columns\u001b[0m\u001b[0;34m=\u001b[0m\u001b[0;34m[\u001b[0m\u001b[0;34m\"Day\"\u001b[0m\u001b[0;34m,\u001b[0m \u001b[0;34m\"Month\"\u001b[0m\u001b[0;34m]\u001b[0m\u001b[0;34m)\u001b[0m\u001b[0;34m)\u001b[0m\u001b[0;34m\u001b[0m\u001b[0m\n\u001b[0m",
      "\u001b[0;32m<ipython-input-11-2bb3fe105c68>\u001b[0m in \u001b[0;36mfix_datetime_UTC\u001b[0;34m(data_df, date_columns, date_pattern)\u001b[0m\n\u001b[1;32m     19\u001b[0m \u001b[0;34m\u001b[0m\u001b[0m\n\u001b[1;32m     20\u001b[0m     \u001b[0;31m# Need to provide the default parameter to parser.parse so that missing entries don't default to current date\u001b[0m\u001b[0;34m\u001b[0m\u001b[0;34m\u001b[0m\u001b[0m\n\u001b[0;32m---> 21\u001b[0;31m     \u001b[0mdate_col\u001b[0m \u001b[0;34m=\u001b[0m \u001b[0mdate_expression\u001b[0m\u001b[0;34m.\u001b[0m\u001b[0mapply\u001b[0m\u001b[0;34m(\u001b[0m\u001b[0;32mlambda\u001b[0m \u001b[0mdate\u001b[0m\u001b[0;34m:\u001b[0m \u001b[0mparser\u001b[0m\u001b[0;34m.\u001b[0m\u001b[0mparse\u001b[0m\u001b[0;34m(\u001b[0m\u001b[0mdate\u001b[0m\u001b[0;34m,\u001b[0m \u001b[0mdefault\u001b[0m\u001b[0;34m=\u001b[0m\u001b[0mparser\u001b[0m\u001b[0;34m.\u001b[0m\u001b[0mparse\u001b[0m\u001b[0;34m(\u001b[0m\u001b[0;34m\"January 1 1900 00:00:00\"\u001b[0m\u001b[0;34m)\u001b[0m\u001b[0;34m)\u001b[0m\u001b[0;34m.\u001b[0m\u001b[0mstrftime\u001b[0m\u001b[0;34m(\u001b[0m\u001b[0mdate_pattern\u001b[0m\u001b[0;34m)\u001b[0m\u001b[0;34m)\u001b[0m\u001b[0;34m\u001b[0m\u001b[0m\n\u001b[0m\u001b[1;32m     22\u001b[0m \u001b[0;34m\u001b[0m\u001b[0m\n\u001b[1;32m     23\u001b[0m     \u001b[0;32mreturn\u001b[0m\u001b[0;34m(\u001b[0m\u001b[0mdate_col\u001b[0m\u001b[0;34m)\u001b[0m\u001b[0;34m\u001b[0m\u001b[0m\n",
      "\u001b[0;32m~/.pyenv/versions/3.6.0/lib/python3.6/site-packages/pandas/core/series.py\u001b[0m in \u001b[0;36mapply\u001b[0;34m(self, func, convert_dtype, args, **kwds)\u001b[0m\n\u001b[1;32m   2353\u001b[0m             \u001b[0;32melse\u001b[0m\u001b[0;34m:\u001b[0m\u001b[0;34m\u001b[0m\u001b[0m\n\u001b[1;32m   2354\u001b[0m                 \u001b[0mvalues\u001b[0m \u001b[0;34m=\u001b[0m \u001b[0mself\u001b[0m\u001b[0;34m.\u001b[0m\u001b[0masobject\u001b[0m\u001b[0;34m\u001b[0m\u001b[0m\n\u001b[0;32m-> 2355\u001b[0;31m                 \u001b[0mmapped\u001b[0m \u001b[0;34m=\u001b[0m \u001b[0mlib\u001b[0m\u001b[0;34m.\u001b[0m\u001b[0mmap_infer\u001b[0m\u001b[0;34m(\u001b[0m\u001b[0mvalues\u001b[0m\u001b[0;34m,\u001b[0m \u001b[0mf\u001b[0m\u001b[0;34m,\u001b[0m \u001b[0mconvert\u001b[0m\u001b[0;34m=\u001b[0m\u001b[0mconvert_dtype\u001b[0m\u001b[0;34m)\u001b[0m\u001b[0;34m\u001b[0m\u001b[0m\n\u001b[0m\u001b[1;32m   2356\u001b[0m \u001b[0;34m\u001b[0m\u001b[0m\n\u001b[1;32m   2357\u001b[0m         \u001b[0;32mif\u001b[0m \u001b[0mlen\u001b[0m\u001b[0;34m(\u001b[0m\u001b[0mmapped\u001b[0m\u001b[0;34m)\u001b[0m \u001b[0;32mand\u001b[0m \u001b[0misinstance\u001b[0m\u001b[0;34m(\u001b[0m\u001b[0mmapped\u001b[0m\u001b[0;34m[\u001b[0m\u001b[0;36m0\u001b[0m\u001b[0;34m]\u001b[0m\u001b[0;34m,\u001b[0m \u001b[0mSeries\u001b[0m\u001b[0;34m)\u001b[0m\u001b[0;34m:\u001b[0m\u001b[0;34m\u001b[0m\u001b[0m\n",
      "\u001b[0;32mpandas/_libs/src/inference.pyx\u001b[0m in \u001b[0;36mpandas._libs.lib.map_infer (pandas/_libs/lib.c:66645)\u001b[0;34m()\u001b[0m\n",
      "\u001b[0;32m<ipython-input-11-2bb3fe105c68>\u001b[0m in \u001b[0;36m<lambda>\u001b[0;34m(date)\u001b[0m\n\u001b[1;32m     19\u001b[0m \u001b[0;34m\u001b[0m\u001b[0m\n\u001b[1;32m     20\u001b[0m     \u001b[0;31m# Need to provide the default parameter to parser.parse so that missing entries don't default to current date\u001b[0m\u001b[0;34m\u001b[0m\u001b[0;34m\u001b[0m\u001b[0m\n\u001b[0;32m---> 21\u001b[0;31m     \u001b[0mdate_col\u001b[0m \u001b[0;34m=\u001b[0m \u001b[0mdate_expression\u001b[0m\u001b[0;34m.\u001b[0m\u001b[0mapply\u001b[0m\u001b[0;34m(\u001b[0m\u001b[0;32mlambda\u001b[0m \u001b[0mdate\u001b[0m\u001b[0;34m:\u001b[0m \u001b[0mparser\u001b[0m\u001b[0;34m.\u001b[0m\u001b[0mparse\u001b[0m\u001b[0;34m(\u001b[0m\u001b[0mdate\u001b[0m\u001b[0;34m,\u001b[0m \u001b[0mdefault\u001b[0m\u001b[0;34m=\u001b[0m\u001b[0mparser\u001b[0m\u001b[0;34m.\u001b[0m\u001b[0mparse\u001b[0m\u001b[0;34m(\u001b[0m\u001b[0;34m\"January 1 1900 00:00:00\"\u001b[0m\u001b[0;34m)\u001b[0m\u001b[0;34m)\u001b[0m\u001b[0;34m.\u001b[0m\u001b[0mstrftime\u001b[0m\u001b[0;34m(\u001b[0m\u001b[0mdate_pattern\u001b[0m\u001b[0;34m)\u001b[0m\u001b[0;34m)\u001b[0m\u001b[0;34m\u001b[0m\u001b[0m\n\u001b[0m\u001b[1;32m     22\u001b[0m \u001b[0;34m\u001b[0m\u001b[0m\n\u001b[1;32m     23\u001b[0m     \u001b[0;32mreturn\u001b[0m\u001b[0;34m(\u001b[0m\u001b[0mdate_col\u001b[0m\u001b[0;34m)\u001b[0m\u001b[0;34m\u001b[0m\u001b[0m\n",
      "\u001b[0;32m~/.pyenv/versions/3.6.0/lib/python3.6/site-packages/dateutil/parser.py\u001b[0m in \u001b[0;36mparse\u001b[0;34m(timestr, parserinfo, **kwargs)\u001b[0m\n\u001b[1;32m   1180\u001b[0m         \u001b[0;32mreturn\u001b[0m \u001b[0mparser\u001b[0m\u001b[0;34m(\u001b[0m\u001b[0mparserinfo\u001b[0m\u001b[0;34m)\u001b[0m\u001b[0;34m.\u001b[0m\u001b[0mparse\u001b[0m\u001b[0;34m(\u001b[0m\u001b[0mtimestr\u001b[0m\u001b[0;34m,\u001b[0m \u001b[0;34m**\u001b[0m\u001b[0mkwargs\u001b[0m\u001b[0;34m)\u001b[0m\u001b[0;34m\u001b[0m\u001b[0m\n\u001b[1;32m   1181\u001b[0m     \u001b[0;32melse\u001b[0m\u001b[0;34m:\u001b[0m\u001b[0;34m\u001b[0m\u001b[0m\n\u001b[0;32m-> 1182\u001b[0;31m         \u001b[0;32mreturn\u001b[0m \u001b[0mDEFAULTPARSER\u001b[0m\u001b[0;34m.\u001b[0m\u001b[0mparse\u001b[0m\u001b[0;34m(\u001b[0m\u001b[0mtimestr\u001b[0m\u001b[0;34m,\u001b[0m \u001b[0;34m**\u001b[0m\u001b[0mkwargs\u001b[0m\u001b[0;34m)\u001b[0m\u001b[0;34m\u001b[0m\u001b[0m\n\u001b[0m\u001b[1;32m   1183\u001b[0m \u001b[0;34m\u001b[0m\u001b[0m\n\u001b[1;32m   1184\u001b[0m \u001b[0;34m\u001b[0m\u001b[0m\n",
      "\u001b[0;32m~/.pyenv/versions/3.6.0/lib/python3.6/site-packages/dateutil/parser.py\u001b[0m in \u001b[0;36mparse\u001b[0;34m(self, timestr, default, ignoretz, tzinfos, **kwargs)\u001b[0m\n\u001b[1;32m    579\u001b[0m                 \u001b[0mrepl\u001b[0m\u001b[0;34m[\u001b[0m\u001b[0;34m'day'\u001b[0m\u001b[0;34m]\u001b[0m \u001b[0;34m=\u001b[0m \u001b[0mmonthrange\u001b[0m\u001b[0;34m(\u001b[0m\u001b[0mcyear\u001b[0m\u001b[0;34m,\u001b[0m \u001b[0mcmonth\u001b[0m\u001b[0;34m)\u001b[0m\u001b[0;34m[\u001b[0m\u001b[0;36m1\u001b[0m\u001b[0;34m]\u001b[0m\u001b[0;34m\u001b[0m\u001b[0m\n\u001b[1;32m    580\u001b[0m \u001b[0;34m\u001b[0m\u001b[0m\n\u001b[0;32m--> 581\u001b[0;31m         \u001b[0mret\u001b[0m \u001b[0;34m=\u001b[0m \u001b[0mdefault\u001b[0m\u001b[0;34m.\u001b[0m\u001b[0mreplace\u001b[0m\u001b[0;34m(\u001b[0m\u001b[0;34m**\u001b[0m\u001b[0mrepl\u001b[0m\u001b[0;34m)\u001b[0m\u001b[0;34m\u001b[0m\u001b[0m\n\u001b[0m\u001b[1;32m    582\u001b[0m \u001b[0;34m\u001b[0m\u001b[0m\n\u001b[1;32m    583\u001b[0m         \u001b[0;32mif\u001b[0m \u001b[0mres\u001b[0m\u001b[0;34m.\u001b[0m\u001b[0mweekday\u001b[0m \u001b[0;32mis\u001b[0m \u001b[0;32mnot\u001b[0m \u001b[0;32mNone\u001b[0m \u001b[0;32mand\u001b[0m \u001b[0;32mnot\u001b[0m \u001b[0mres\u001b[0m\u001b[0;34m.\u001b[0m\u001b[0mday\u001b[0m\u001b[0;34m:\u001b[0m\u001b[0;34m\u001b[0m\u001b[0m\n",
      "\u001b[0;31mValueError\u001b[0m: month must be in 1..12"
     ]
    }
   ],
   "source": [
    "df = pd.DataFrame({\"Year\":[1990, 1991, 1992], \"Month\":[1,2,3], \"Day\":[13,10,4]})\n",
    "print(fix_datetime_UTC(df, date_columns=[\"Month\", \"Day\"]))\n",
    "print(fix_datetime_UTC(df, date_columns=[\"Day\", \"Month\"]))"
   ]
  }
 ],
 "metadata": {
  "kernelspec": {
   "display_name": "Python 3",
   "language": "python",
   "name": "python3"
  },
  "language_info": {
   "codemirror_mode": {
    "name": "ipython",
    "version": 3
   },
   "file_extension": ".py",
   "mimetype": "text/x-python",
   "name": "python",
   "nbconvert_exporter": "python",
   "pygments_lexer": "ipython3",
   "version": "3.6.0"
  }
 },
 "nbformat": 4,
 "nbformat_minor": 2
}
