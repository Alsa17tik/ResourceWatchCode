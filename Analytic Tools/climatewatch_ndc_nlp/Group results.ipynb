{
 "cells": [
  {
   "cell_type": "code",
   "execution_count": null,
   "metadata": {
    "collapsed": true
   },
   "outputs": [],
   "source": [
    "import pandas as pd\n",
    "import json\n",
    "from functools import reduce\n",
    "from collections import defaultdict"
   ]
  },
  {
   "cell_type": "code",
   "execution_count": null,
   "metadata": {
    "collapsed": true
   },
   "outputs": [],
   "source": [
    "NLP_RESULTS = '/Users/nathansuberi/Documents/GitHub/ResourceWatchCode/Analytic Tools/climatewatch_ndc_nlp/data/nlp_results.txt'\n",
    "COUNTRY_CATEGORIES = '/Users/nathansuberi/Documents/GitHub/ResourceWatchCode/Analytic Tools/climatewatch_ndc_nlp/data/country_grouping.csv'"
   ]
  },
  {
   "cell_type": "code",
   "execution_count": null,
   "metadata": {
    "collapsed": false
   },
   "outputs": [],
   "source": [
    "categories = pd.read_csv(COUNTRY_CATEGORIES).set_index('countryCode')\n",
    "with open(NLP_RESULTS, 'r') as src:\n",
    "    nlp_results = json.load(src)"
   ]
  },
  {
   "cell_type": "code",
   "execution_count": null,
   "metadata": {
    "collapsed": false
   },
   "outputs": [],
   "source": [
    "nlp_results"
   ]
  },
  {
   "cell_type": "code",
   "execution_count": null,
   "metadata": {
    "collapsed": false
   },
   "outputs": [],
   "source": [
    "categories = categories.drop('countryName', axis=1)"
   ]
  },
  {
   "cell_type": "code",
   "execution_count": null,
   "metadata": {
    "collapsed": false
   },
   "outputs": [],
   "source": [
    "def create_summaries(agg, cntry, nlp, group, groupings):\n",
    "    try:\n",
    "        cntry_group = groupings.loc[cntry, group]\n",
    "        for word, count in nlp[cntry].items():\n",
    "            agg[cntry_group][word] += count\n",
    "    except:\n",
    "        pass\n",
    "    return agg\n",
    "    \n",
    "def dd_wrapper():\n",
    "    return defaultdict(int)\n",
    "    \n",
    "def flatten(dd):\n",
    "    dd = dict(dd)\n",
    "    for key, _dd in dd.items():\n",
    "        dd[key] = dict(_dd)\n",
    "    return dd\n",
    "        \n",
    "topics_by_income = flatten(reduce(lambda agg, country: create_summaries(agg, \n",
    "                                               country, \n",
    "                                               nlp_results, \n",
    "                                               'byIncomeTXT', \n",
    "                                               categories), \n",
    "                                          nlp_results, \n",
    "                                          defaultdict(dd_wrapper)))"
   ]
  },
  {
   "cell_type": "code",
   "execution_count": null,
   "metadata": {
    "collapsed": false
   },
   "outputs": [],
   "source": [
    "grouped_results = {}\n",
    "for cat in categories.columns:\n",
    "    grouped_results[cat] = flatten(reduce(lambda agg, country: create_summaries(agg, \n",
    "                                               country, \n",
    "                                               nlp_results, \n",
    "                                               cat, \n",
    "                                               categories), \n",
    "                                          nlp_results, \n",
    "                                          defaultdict(dd_wrapper)))"
   ]
  },
  {
   "cell_type": "code",
   "execution_count": null,
   "metadata": {
    "collapsed": false
   },
   "outputs": [],
   "source": [
    "with open('grouped_results.txt', 'w') as dst:\n",
    "    dst.write(json.dumps(grouped_results))"
   ]
  }
 ],
 "metadata": {
  "kernelspec": {
   "display_name": "Python 3",
   "language": "python",
   "name": "python3"
  },
  "language_info": {
   "codemirror_mode": {
    "name": "ipython",
    "version": 3
   },
   "file_extension": ".py",
   "mimetype": "text/x-python",
   "name": "python",
   "nbconvert_exporter": "python",
   "pygments_lexer": "ipython3",
   "version": "3.6.0"
  }
 },
 "nbformat": 4,
 "nbformat_minor": 2
}
