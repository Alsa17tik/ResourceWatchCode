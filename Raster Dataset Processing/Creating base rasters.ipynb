{
 "cells": [
  {
   "cell_type": "code",
   "execution_count": 29,
   "metadata": {
    "collapsed": false
   },
   "outputs": [],
   "source": [
    "import numpy as np\n",
    "import rasterio as rio\n",
    "from rasterio.crs import CRS\n",
    "from affine import Affine\n",
    "from matplotlib import pyplot\n",
    "%matplotlib inline\n",
    "import os"
   ]
  },
  {
   "cell_type": "code",
   "execution_count": 86,
   "metadata": {
    "collapsed": false
   },
   "outputs": [
    {
     "name": "stdout",
     "output_type": "stream",
     "text": [
      "{'driver': 'GTiff', 'dtype': 'float32', 'nodata': 0.0, 'width': 360, 'height': 180, 'count': 1, 'crs': CRS({'init': 'epsg:4326'}), 'transform': Affine(1.0, 0.0, -180.0,\n",
      "       0.0, -1.0, 90.0), 'blockxsize': 128, 'blockysize': 128, 'compress': 'lzw', 'interleave': 'band', 'tiled': True}\n",
      "[[ 1.  1.  1. ...,  1.  1.  1.]\n",
      " [ 1.  1.  1. ...,  1.  1.  1.]\n",
      " [ 1.  1.  1. ...,  1.  1.  1.]\n",
      " ..., \n",
      " [ 1.  1.  1. ...,  1.  1.  1.]\n",
      " [ 1.  1.  1. ...,  1.  1.  1.]\n",
      " [ 1.  1.  1. ...,  1.  1.  1.]]\n"
     ]
    },
    {
     "data": {
      "text/plain": [
       "<matplotlib.image.AxesImage at 0x1157ce320>"
      ]
     },
     "execution_count": 86,
     "metadata": {},
     "output_type": "execute_result"
    },
    {
     "data": {
      "image/png": "[encoded data removed]",
      "text/plain": [
       "<matplotlib.figure.Figure at 0x114d40dd8>"
      ]
     },
     "metadata": {},
     "output_type": "display_data"
    }
   ],
   "source": [
    "# Create array of ones size of a global, 1 degree raster\n",
    "dst_array = np.ones((360, 180), dtype=np.float32)\n",
    "#dst_array = np.random.randn(360, 180).astype(np.float32)\n",
    "#print(dst_array)\n",
    "# Use rasterio to classify this as WGS84 EPSG:4326\n",
    "world_array = '/Users/nathansuberi/Desktop/RW_Data/world_array.tif'\n",
    "profile = {\n",
    "    'driver': 'GTiff', \n",
    "    'dtype': np.float32, \n",
    "    'nodata': 0, \n",
    "    'width': 360, \n",
    "    'height': 180, \n",
    "    'count': 1, \n",
    "    'crs': CRS({'init': 'EPSG:4326'}), \n",
    "    'transform':Affine(1, 0, -180, 0, -1, 90),\n",
    "    'blockxsize': 128, \n",
    "    'blockysize': 128, \n",
    "    'tiled': True, \n",
    "    'compress': 'lzw', \n",
    "    'interleave': 'band'\n",
    "}\n",
    "with rio.open(world_array, \"w\", **profile) as dst:\n",
    "    dst.write(dst_array, indexes=1)\n",
    "\n",
    "# Print, observe\n",
    "with rio.open(world_array, \"r\") as src:\n",
    "    data = src.read(indexes=1)\n",
    "    print(src.profile)\n",
    "    print(data)\n",
    "pyplot.imshow(data)"
   ]
  },
  {
   "cell_type": "code",
   "execution_count": 97,
   "metadata": {
    "collapsed": true
   },
   "outputs": [],
   "source": [
    "# Define alternate projection\n",
    "alt_proj = \"EPSG:54009\""
   ]
  },
  {
   "cell_type": "code",
   "execution_count": 104,
   "metadata": {
    "collapsed": false
   },
   "outputs": [
    {
     "name": "stdout",
     "output_type": "stream",
     "text": [
      "Creating output file that is 360P x 180L.\n",
      "Processing input file /Users/nathansuberi/Desktop/RW_Data/world_array.tif.\n",
      "Using internal nodata values (e.g. 0) for image /Users/nathansuberi/Desktop/RW_Data/world_array.tif.\n",
      "Copying nodata values from source /Users/nathansuberi/Desktop/RW_Data/world_array.tif to destination /Users/nathansuberi/Desktop/RW_Data/world_array_edit.tif.\n",
      "0...10...20...30...40...50...60...70...80...90...100 - done.\n",
      "{'driver': 'GTiff', 'dtype': 'float32', 'nodata': 0.0, 'width': 360, 'height': 180, 'count': 1, 'crs': CRS({'proj': 'moll', 'lon_0': 0, 'x_0': 0, 'y_0': 0, 'ellps': 'WGS84', 'units': 'm', 'no_defs': True}), 'transform': Affine(100222.6315252748, 0.0, -18040068.169145808,\n",
      "       0.0, -100222.6315252748, 9020047.848073646), 'tiled': False, 'interleave': 'band'}\n",
      "[[ 0.  0.  0. ...,  0.  0.  0.]\n",
      " [ 0.  0.  0. ...,  0.  0.  0.]\n",
      " [ 0.  0.  0. ...,  0.  0.  0.]\n",
      " ..., \n",
      " [ 0.  0.  0. ...,  0.  0.  0.]\n",
      " [ 0.  0.  0. ...,  0.  0.  0.]\n",
      " [ 0.  0.  0. ...,  0.  0.  0.]]\n",
      "0.784074\n",
      "Driver: GTiff/GeoTIFF\n",
      "Files: /Users/nathansuberi/Desktop/RW_Data/world_array_edit.tif\n",
      "Size is 360, 180\n",
      "Coordinate System is:\n",
      "PROJCS[\"World_Mollweide\",\n",
      "    GEOGCS[\"GCS_WGS_1984\",\n",
      "        DATUM[\"D_WGS_1984\",\n",
      "            SPHEROID[\"WGS_1984\",6378137,298.257223563]],\n",
      "        PRIMEM[\"Greenwich\",0],\n",
      "        UNIT[\"Degree\",0.017453292519943295]],\n",
      "    PROJECTION[\"Mollweide\"],\n",
      "    PARAMETER[\"False_Easting\",0],\n",
      "    PARAMETER[\"False_Northing\",0],\n",
      "    PARAMETER[\"Central_Meridian\",0],\n",
      "    UNIT[\"Meter\",1]]\n",
      "Origin = (-18040068.169145807623863,9020047.848073646426201)\n",
      "Pixel Size = (100222.631525274802698,-100222.631525274802698)\n",
      "Metadata:\n",
      "  AREA_OR_POINT=Area\n",
      "Image Structure Metadata:\n",
      "  INTERLEAVE=BAND\n",
      "Corner Coordinates:\n",
      "Upper Left  (-18040068.169, 9020047.848) \n",
      "Lower Left  (-18040068.169,-9020025.826) \n",
      "Upper Right (18040079.180, 9020047.848) \n",
      "Lower Right (18040079.180,-9020025.826) \n",
      "Center      (   5.5054037,  11.0107989) (  0d 0' 0.20\"E,  0d 0' 0.32\"N)\n",
      "Band 1 Block=360x5 Type=Float32, ColorInterp=Gray\n",
      "  NoData Value=0\n"
     ]
    },
    {
     "data": {
      "image/png": "[encoded data removed]",
      "text/plain": [
       "<matplotlib.figure.Figure at 0x11572ccf8>"
      ]
     },
     "metadata": {},
     "output_type": "display_data"
    }
   ],
   "source": [
    "# Use gdal to re-project as Mollweide EPSG:54009\n",
    "os.environ[\"Zsrc_file\"] = world_array\n",
    "world_array_edit = world_array[:-4] + \"_edit.tif\"\n",
    "os.environ[\"Zdst_file\"] = world_array_edit\n",
    "os.environ[\"Zoptions\"] = \"-r near -s_srs EPSG:4326 -t_srs \"+alt_proj+\" -of GTiff -overwrite\"\n",
    "!gdalwarp $Zoptions $Zsrc_file $Zdst_file\n",
    "\n",
    "# Print, observe\n",
    "with rio.open(world_array_edit, \"r\") as src:\n",
    "    data = src.read(indexes=1)\n",
    "    print(src.profile)\n",
    "    print(data)\n",
    "    print(np.mean(data))\n",
    "    \n",
    "pyplot.imshow(data)\n",
    "!gdalinfo $Zdst_file"
   ]
  },
  {
   "cell_type": "code",
   "execution_count": 108,
   "metadata": {
    "collapsed": false
   },
   "outputs": [
    {
     "name": "stdout",
     "output_type": "stream",
     "text": [
      "ERROR 1: latitude or longitude exceeded limits\n",
      "ERROR 1: latitude or longitude exceeded limits\n",
      "ERROR 1: latitude or longitude exceeded limits\n",
      "ERROR 1: latitude or longitude exceeded limits\n",
      "ERROR 1: latitude or longitude exceeded limits\n",
      "ERROR 1: latitude or longitude exceeded limits\n",
      "ERROR 1: latitude or longitude exceeded limits\n",
      "ERROR 1: latitude or longitude exceeded limits\n",
      "ERROR 1: latitude or longitude exceeded limits\n",
      "ERROR 1: latitude or longitude exceeded limits\n",
      "ERROR 1: latitude or longitude exceeded limits\n",
      "ERROR 1: latitude or longitude exceeded limits\n",
      "ERROR 1: latitude or longitude exceeded limits\n",
      "ERROR 1: latitude or longitude exceeded limits\n",
      "ERROR 1: latitude or longitude exceeded limits\n",
      "ERROR 1: latitude or longitude exceeded limits\n",
      "ERROR 1: latitude or longitude exceeded limits\n",
      "ERROR 1: latitude or longitude exceeded limits\n",
      "ERROR 1: latitude or longitude exceeded limits\n",
      "ERROR 1: Reprojection failed, err = -14, further errors will be suppressed on the transform object.\n",
      "Creating output file that is 360P x 164L.\n",
      "Processing input file /Users/nathansuberi/Desktop/RW_Data/world_array_edit.tif.\n",
      "Using internal nodata values (e.g. 0) for image /Users/nathansuberi/Desktop/RW_Data/world_array_edit.tif.\n",
      "Copying nodata values from source /Users/nathansuberi/Desktop/RW_Data/world_array_edit.tif to destination /Users/nathansuberi/Desktop/RW_Data/world_array2.tif.\n",
      "0...10...20...30...40...50...60...70...80...90...100 - done.\n",
      "{'driver': 'GTiff', 'dtype': 'float32', 'nodata': 0.0, 'width': 360, 'height': 164, 'count': 1, 'crs': CRS({'init': 'epsg:4326'}), 'transform': Affine(1.0, 0.0, -179.99998586220772,\n",
      "       0.0, -1.0, 74.28354549890912), 'tiled': False, 'interleave': 'band'}\n",
      "[[ 1.  1.  1. ...,  1.  1.  1.]\n",
      " [ 1.  1.  1. ...,  1.  1.  1.]\n",
      " [ 0.  0.  0. ...,  0.  0.  0.]\n",
      " ..., \n",
      " [ 0.  0.  0. ...,  0.  0.  0.]\n",
      " [ 1.  1.  1. ...,  1.  1.  1.]\n",
      " [ 0.  0.  0. ...,  0.  0.  0.]]\n",
      "0.985806\n",
      "Driver: GTiff/GeoTIFF\n",
      "Files: /Users/nathansuberi/Desktop/RW_Data/world_array2.tif\n",
      "Size is 360, 164\n",
      "Coordinate System is:\n",
      "GEOGCS[\"WGS 84\",\n",
      "    DATUM[\"WGS_1984\",\n",
      "        SPHEROID[\"WGS 84\",6378137,298.257223563,\n",
      "            AUTHORITY[\"EPSG\",\"7030\"]],\n",
      "        AUTHORITY[\"EPSG\",\"6326\"]],\n",
      "    PRIMEM[\"Greenwich\",0],\n",
      "    UNIT[\"degree\",0.0174532925199433],\n",
      "    AUTHORITY[\"EPSG\",\"4326\"]]\n",
      "Origin = (-179.999985862207723,74.283545498909120)\n",
      "Pixel Size = (1.000000000000000,-1.000000000000000)\n",
      "Metadata:\n",
      "  AREA_OR_POINT=Area\n",
      "Image Structure Metadata:\n",
      "  INTERLEAVE=BAND\n",
      "Corner Coordinates:\n",
      "Upper Left  (-179.9999859,  74.2835455) (179d59'59.95\"W, 74d17' 0.76\"N)\n",
      "Lower Left  (-179.9999859, -89.7164545) (179d59'59.95\"W, 89d42'59.24\"S)\n",
      "Upper Right ( 180.0000141,  74.2835455) (180d 0' 0.05\"E, 74d17' 0.76\"N)\n",
      "Lower Right ( 180.0000141, -89.7164545) (180d 0' 0.05\"E, 89d42'59.24\"S)\n",
      "Center      (   0.0000141,  -7.7164545) (  0d 0' 0.05\"E,  7d42'59.24\"S)\n",
      "Band 1 Block=360x5 Type=Float32, ColorInterp=Gray\n",
      "  NoData Value=0\n"
     ]
    },
    {
     "data": {
      "image/png": "[encoded data removed]",
      "text/plain": [
       "<matplotlib.figure.Figure at 0x11696e048>"
      ]
     },
     "metadata": {},
     "output_type": "display_data"
    }
   ],
   "source": [
    "# Use gdal to re-project as WGS84 EPSG:4326\n",
    "os.environ[\"Zsrc_file\"] = world_array_edit\n",
    "world_array2 = world_array[:-4] + \"2.tif\"\n",
    "os.environ[\"Zdst_file\"] = world_array2 \n",
    "\n",
    "os.environ[\"Zoptions\"] = \"-s_srs \"+alt_proj+\" -t_srs EPSG:4326 -of GTiff -overwrite\"\n",
    "os.environ[\"Zoptions_with_tr\"] = \"-r near -s_srs \"+alt_proj+\" -t_srs EPSG:4326 -of GTiff -overwrite -tr 1 1\"\n",
    "#!gdalwarp $Zoptions $Zsrc_file $Zdst_file\n",
    "!gdalwarp $Zoptions_with_tr $Zsrc_file $Zdst_file\n",
    "\n",
    "# Print, observe\n",
    "with rio.open(world_array2, \"r\") as src:\n",
    "    data = src.read(indexes=1)\n",
    "    print(src.profile)\n",
    "    print(data)\n",
    "    print(np.mean(data))\n",
    "    \n",
    "pyplot.imshow(data)\n",
    "!gdalinfo $Zdst_file"
   ]
  },
  {
   "cell_type": "code",
   "execution_count": 100,
   "metadata": {
    "collapsed": false
   },
   "outputs": [
    {
     "name": "stdout",
     "output_type": "stream",
     "text": [
      "Creating output file that is 360P x 180L.\n",
      "Processing input file /Users/nathansuberi/Desktop/RW_Data/world_array.tif.\n",
      "Using internal nodata values (e.g. 0) for image /Users/nathansuberi/Desktop/RW_Data/world_array.tif.\n",
      "Copying nodata values from source /Users/nathansuberi/Desktop/RW_Data/world_array.tif to destination /Users/nathansuberi/Desktop/RW_Data/world_array3.tif.\n",
      "0...10...20...30...40...50...60...70...80...90...100 - done.\n",
      "{'driver': 'GTiff', 'dtype': 'float32', 'nodata': 0.0, 'width': 360, 'height': 180, 'count': 1, 'crs': CRS({'init': 'epsg:4326'}), 'transform': Affine(1.0, 0.0, -180.0,\n",
      "       0.0, -1.0, 90.0), 'tiled': False, 'interleave': 'band'}\n",
      "[[ 1.  1.  1. ...,  1.  1.  1.]\n",
      " [ 1.  1.  1. ...,  1.  1.  1.]\n",
      " [ 1.  1.  1. ...,  1.  1.  1.]\n",
      " ..., \n",
      " [ 1.  1.  1. ...,  1.  1.  1.]\n",
      " [ 1.  1.  1. ...,  1.  1.  1.]\n",
      " [ 1.  1.  1. ...,  1.  1.  1.]]\n",
      "1.0\n",
      "Driver: GTiff/GeoTIFF\n",
      "Files: /Users/nathansuberi/Desktop/RW_Data/world_array3.tif\n",
      "Size is 360, 180\n",
      "Coordinate System is:\n",
      "GEOGCS[\"WGS 84\",\n",
      "    DATUM[\"WGS_1984\",\n",
      "        SPHEROID[\"WGS 84\",6378137,298.257223563,\n",
      "            AUTHORITY[\"EPSG\",\"7030\"]],\n",
      "        AUTHORITY[\"EPSG\",\"6326\"]],\n",
      "    PRIMEM[\"Greenwich\",0],\n",
      "    UNIT[\"degree\",0.0174532925199433],\n",
      "    AUTHORITY[\"EPSG\",\"4326\"]]\n",
      "Origin = (-180.000000000000000,90.000000000000000)\n",
      "Pixel Size = (1.000000000000000,-1.000000000000000)\n",
      "Metadata:\n",
      "  AREA_OR_POINT=Area\n",
      "Image Structure Metadata:\n",
      "  INTERLEAVE=BAND\n",
      "Corner Coordinates:\n",
      "Upper Left  (-180.0000000,  90.0000000) (180d 0' 0.00\"W, 90d 0' 0.00\"N)\n",
      "Lower Left  (-180.0000000, -90.0000000) (180d 0' 0.00\"W, 90d 0' 0.00\"S)\n",
      "Upper Right ( 180.0000000,  90.0000000) (180d 0' 0.00\"E, 90d 0' 0.00\"N)\n",
      "Lower Right ( 180.0000000, -90.0000000) (180d 0' 0.00\"E, 90d 0' 0.00\"S)\n",
      "Center      (   0.0000000,   0.0000000) (  0d 0' 0.01\"E,  0d 0' 0.01\"N)\n",
      "Band 1 Block=360x5 Type=Float32, ColorInterp=Gray\n",
      "  NoData Value=0\n"
     ]
    },
    {
     "data": {
      "image/png": "[encoded data removed]",
      "text/plain": [
       "<matplotlib.figure.Figure at 0x1138ec780>"
      ]
     },
     "metadata": {},
     "output_type": "display_data"
    }
   ],
   "source": [
    "# Use gdal to re-project as WGS84 EPSG:4326\n",
    "os.environ[\"Zsrc_file\"] = world_array\n",
    "world_array3 = world_array[:-4] + \"3.tif\"\n",
    "os.environ[\"Zdst_file\"] = world_array3\n",
    "os.environ[\"Zoptions\"] = \"-s_srs EPSG:4326 -t_srs EPSG:4326 -of GTiff -overwrite\"\n",
    "!gdalwarp $Zoptions $Zsrc_file $Zdst_file\n",
    "\n",
    "# Print, observe\n",
    "with rio.open(world_array3, \"r\") as src:\n",
    "    data = src.read(indexes=1)\n",
    "    print(src.profile)\n",
    "    print(data)\n",
    "    print(np.mean(data))\n",
    "    \n",
    "pyplot.imshow(data)\n",
    "!gdalinfo $Zdst_file"
   ]
  },
  {
   "cell_type": "code",
   "execution_count": null,
   "metadata": {
    "collapsed": true
   },
   "outputs": [],
   "source": []
  },
  {
   "cell_type": "code",
   "execution_count": null,
   "metadata": {
    "collapsed": true
   },
   "outputs": [],
   "source": []
  },
  {
   "cell_type": "code",
   "execution_count": 200,
   "metadata": {
    "collapsed": false
   },
   "outputs": [
    {
     "name": "stdout",
     "output_type": "stream",
     "text": [
      "[      0.              0.              0.        ...,  617656.0568747\n",
      "  617656.0568747  617656.0568747]\n",
      "[      0.              0.              0.        ...,  617656.0568747\n",
      "  617656.0568747  617656.0568747]\n"
     ]
    }
   ],
   "source": [
    "### Create areal weighted rasters\n",
    "# https://waterprogramming.wordpress.com/2015/06/09/using-arcpy-to-calculate-area-weighted-averages-of-gridded-spatial-data-over-political-units-part-2/\n",
    "# http://pythonhosted.org/rasterstats/cli.html\n",
    "# http://mathforum.org/library/drmath/view/63767.html\n",
    "\n",
    "# https://stackoverflow.com/questions/41826750/calculating-the-area-of-gridded-data-equidistant-in-degrees\n",
    "# http://unidata.github.io/netcdf4-python/#section1\n",
    "from netCDF4 import Dataset\n",
    "import numpy as np\n",
    "\n",
    "# Create netcdf from scratch\n",
    "os.chdir(\"/Users/nathansuberi/Desktop/RW_Data/\")\n",
    "Data = Dataset(\"./one_degree_raster_with_cell_areas20.nc\", mode=\"w\")\n",
    "\n",
    "num_cols = 360\n",
    "num_rows = 180\n",
    "\n",
    "Data.createDimension(\"dim_latitude\", num_rows*num_cols)\n",
    "Data.createDimension(\"dim_longitude\", num_cols*num_rows)\n",
    "\n",
    "col_lats = [np.repeat(i, num_rows) for i in np.arange(-180, 180, 1)]\n",
    "# Need to squeeze this?\n",
    "\n",
    "row_lons = [np.arange(90, -90, -1)]*num_cols\n",
    "\n",
    "lats = Data.createVariable('latitude', 'f4', 'dim_latitude')\n",
    "lons = Data.createVariable('longitude', 'f4', 'dim_longitude')\n",
    "#Data.variables['latitude'] = np.reshape(col_lats, -1)\n",
    "lats = np.reshape(col_lats, -1)\n",
    "#Data.variables['longitude'] = np.reshape(row_lons, -1)\n",
    "lons = np.reshape(row_lons, -1)\n",
    "\n",
    "#VAR = np.squeeze(np.squeeze(Data.variables['REPLACE WITH VALID VARIABLE NAME'][:]))\n",
    "\n",
    "#Lat = Data.variables['latitude'][:]\n",
    "Lat = lats\n",
    "#Lon = Data.variables['longitude'][:]\n",
    "Lon = lons\n",
    "\n",
    "# print(Lat)\n",
    "\n",
    "AREA_VAR = np.empty(len(Lat))\n",
    "\n",
    "# Equation for area of a lat-lon rectangle\n",
    "R = 6371.\n",
    "\n",
    "resolution = 1\n",
    "for i in range(0,360, resolution):\n",
    "    for j in range(0,180, resolution):  #just northern hemisphere\n",
    "        \n",
    "        place = (i*180)+j\n",
    "        \n",
    "        lat1=Lat[place]\n",
    "        lon1=Lon[place]\n",
    "        if i == 359:\n",
    "            lat2 = 180\n",
    "        else:\n",
    "            lat2 = Lat[place+1]\n",
    "        \n",
    "        if j == 179:\n",
    "            lon2 = -90\n",
    "        else:\n",
    "            lon2 = Lon[place+1]\n",
    "\n",
    "        # print(np.pi)\n",
    "        # print(np.sin(lat1))\n",
    "#         print(np.sin(lat2))\n",
    "#         print(np.abs(lon1-lon2))\n",
    "#         print(np.abs(np.sin(lat1)-np.sin(lat2)))\n",
    "#         print((np.pi/180)*(R**2))\n",
    "        area = (np.pi/180.)*(R**2)*np.abs(np.sin(lat1)-np.sin(lat2))*np.abs(lon1-lon2)\n",
    "#         print(area)\n",
    "#         lower_boundary = 0.15\n",
    "#         upper_boundary = 1.0\n",
    "#         if VAR[j,i] > lower_boundary and VAR[j,i] <= upper_boundary:\n",
    "        #cell_area[i,j] = R*np.cos(np.radians(Lat[j]))\n",
    "        AREA_VAR[place] = area\n",
    "            \n",
    "Data.createVariable('cell_area', 'f4', 'dim_longitude')            \n",
    "Data.variables[\"cell_area\"] = AREA_VAR\n",
    "print(AREA_VAR)\n",
    "print(Data.variables[\"cell_area\"])\n",
    "Data.close()\n",
    "# Bring in Thomas' formula"
   ]
  },
  {
   "cell_type": "code",
   "execution_count": 187,
   "metadata": {
    "collapsed": false
   },
   "outputs": [
    {
     "data": {
      "text/plain": [
       "129420"
      ]
     },
     "execution_count": 187,
     "metadata": {},
     "output_type": "execute_result"
    }
   ],
   "source": [
    "359*360 + 180"
   ]
  },
  {
   "cell_type": "code",
   "execution_count": 202,
   "metadata": {
    "collapsed": false
   },
   "outputs": [
    {
     "data": {
      "text/plain": [
       "masked_array(data = [-- -- -- ..., -- -- --],\n",
       "             mask = [ True  True  True ...,  True  True  True],\n",
       "       fill_value = 9.96921e+36)"
      ]
     },
     "execution_count": 202,
     "metadata": {},
     "output_type": "execute_result"
    }
   ],
   "source": [
    "Read_data = Dataset(\"./one_degree_raster_with_cell_areas20.nc\", \"r+\")\n",
    "Read_data.variables[\"cell_area\"]\n",
    "areas = Read_data.variables[\"cell_area\"][:]\n",
    "areas"
   ]
  },
  {
   "cell_type": "code",
   "execution_count": 117,
   "metadata": {
    "collapsed": false
   },
   "outputs": [
    {
     "data": {
      "text/plain": [
       "array([ 90,  89,  88,  87,  86,  85,  84,  83,  82,  81,  80,  79,  78,\n",
       "        77,  76,  75,  74,  73,  72,  71,  70,  69,  68,  67,  66,  65,\n",
       "        64,  63,  62,  61,  60,  59,  58,  57,  56,  55,  54,  53,  52,\n",
       "        51,  50,  49,  48,  47,  46,  45,  44,  43,  42,  41,  40,  39,\n",
       "        38,  37,  36,  35,  34,  33,  32,  31,  30,  29,  28,  27,  26,\n",
       "        25,  24,  23,  22,  21,  20,  19,  18,  17,  16,  15,  14,  13,\n",
       "        12,  11,  10,   9,   8,   7,   6,   5,   4,   3,   2,   1,   0,\n",
       "        -1,  -2,  -3,  -4,  -5,  -6,  -7,  -8,  -9, -10, -11, -12, -13,\n",
       "       -14, -15, -16, -17, -18, -19, -20, -21, -22, -23, -24, -25, -26,\n",
       "       -27, -28, -29, -30, -31, -32, -33, -34, -35, -36, -37, -38, -39,\n",
       "       -40, -41, -42, -43, -44, -45, -46, -47, -48, -49, -50, -51, -52,\n",
       "       -53, -54, -55, -56, -57, -58, -59, -60, -61, -62, -63, -64, -65,\n",
       "       -66, -67, -68, -69, -70, -71, -72, -73, -74, -75, -76, -77, -78,\n",
       "       -79, -80, -81, -82, -83, -84, -85, -86, -87, -88, -89])"
      ]
     },
     "execution_count": 117,
     "metadata": {},
     "output_type": "execute_result"
    }
   ],
   "source": [
    "col_ids = np.arange(-180, 180, 1)\n",
    "row_ids = np.arange(90, -90, -1)\n",
    "\n",
    "# col_ids represent upper right x of upper left corner of raster\n",
    "# row_ids represent upper right y of upper left corner of raster\n",
    "\n",
    "row_ids"
   ]
  },
  {
   "cell_type": "code",
   "execution_count": 113,
   "metadata": {
    "collapsed": false
   },
   "outputs": [
    {
     "data": {
      "text/plain": [
       "3.141592653589793"
      ]
     },
     "execution_count": 113,
     "metadata": {},
     "output_type": "execute_result"
    }
   ],
   "source": [
    "np.pi"
   ]
  },
  {
   "cell_type": "code",
   "execution_count": 111,
   "metadata": {
    "collapsed": false
   },
   "outputs": [],
   "source": [
    "# How to configure transforms for rasters??\n",
    "\n",
    "def create_transform(row_width,row_rotation, upper_right_x,\n",
    "                    column_rotation, column_height, upper_right_y):\n",
    "    \n",
    "    return(Affine(row_width,row_rotation,upper_right_x,\n",
    "                  column_rotation, column_height, upper_right_y))\n",
    "\n",
    "row_width=0\n",
    "column_height=0\n",
    "row_rotation=0\n",
    "column_rotation=0\n",
    "upper_right_x=-180\n",
    "upper_right_y=90\n",
    "\n",
    "degree1 = create_transform(1,0,-180,0,-1,90)\n",
    "arcminutes30 = create_transform(.5,0,-180,0,-.5,90)\n",
    "arcminutes15 = create_transform(.25,0,-180,0,-.25,90)\n",
    "arcminutes5 = create_transform(0.0833333,0,-180,0,-0.0833333,90)\n",
    "arcminutes3 = create_transform(row_width,0,-180,0,column_height,90)\n",
    "arcminutes1 = create_transform(0.0166667,0,-180,0,-0.0166667,90)\n",
    "arcseconds30 = create_transform(0.00833333,0,-180,-0,0.00833333,90)\n",
    "arcseconds15 = create_transform(0.00416667,0,-180,-0,0.00416667,90)\n",
    "arcseconds5 = create_transform(0.00138889,0,-180,0,-0.00138889,90)\n",
    "arcseconds3 = create_transform(row_width,0,-180,0,column_height,90)\n",
    "arcseconds1 = create_transform(0.0166667,0,-180,0,-0.0166667,90)"
   ]
  },
  {
   "cell_type": "code",
   "execution_count": 112,
   "metadata": {
    "collapsed": false
   },
   "outputs": [
    {
     "data": {
      "text/plain": [
       "Affine(0.5, 0.0, -180.0,\n",
       "       0.0, -0.5, 90.0)"
      ]
     },
     "execution_count": 112,
     "metadata": {},
     "output_type": "execute_result"
    }
   ],
   "source": []
  },
  {
   "cell_type": "code",
   "execution_count": null,
   "metadata": {
    "collapsed": true
   },
   "outputs": [],
   "source": []
  },
  {
   "cell_type": "code",
   "execution_count": null,
   "metadata": {
    "collapsed": true
   },
   "outputs": [],
   "source": []
  },
  {
   "cell_type": "code",
   "execution_count": 203,
   "metadata": {
    "collapsed": true
   },
   "outputs": [],
   "source": [
    "### Use WFP Logistics Cluster data - create a raster\n",
    "# 1 = WFP deployment to an area\n",
    "# 0 = no WFP deployment to an area\n",
    "# Divide up by month into many rasters, can use as training data labels\n",
    "# Add in geocoded \"Who does what where\" from reliefweb\n",
    "# Try to use GDELT as training data inputs\n",
    "\n",
    "# Can 1Concern help here?"
   ]
  },
  {
   "cell_type": "code",
   "execution_count": null,
   "metadata": {
    "collapsed": true
   },
   "outputs": [],
   "source": []
  }
 ],
 "metadata": {
  "kernelspec": {
   "display_name": "Python 3",
   "language": "python",
   "name": "python3"
  },
  "language_info": {
   "codemirror_mode": {
    "name": "ipython",
    "version": 3
   },
   "file_extension": ".py",
   "mimetype": "text/x-python",
   "name": "python",
   "nbconvert_exporter": "python",
   "pygments_lexer": "ipython3",
   "version": "3.6.0"
  }
 },
 "nbformat": 4,
 "nbformat_minor": 2
}
