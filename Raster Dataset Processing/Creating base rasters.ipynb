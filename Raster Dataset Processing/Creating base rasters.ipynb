{
 "cells": [
  {
   "cell_type": "code",
   "execution_count": null,
   "metadata": {
    "collapsed": false
   },
   "outputs": [],
   "source": [
    "import numpy as np\n",
    "import rasterio as rio\n",
    "from rasterio.crs import CRS\n",
    "from affine import Affine\n",
    "from matplotlib import pyplot\n",
    "%matplotlib inline\n",
    "import os"
   ]
  },
  {
   "cell_type": "code",
   "execution_count": null,
   "metadata": {
    "collapsed": false
   },
   "outputs": [],
   "source": [
    "# How to configure transforms for rasters??\n",
    "\n",
    "def create_transform(row_width,row_rotation, upper_right_x,\n",
    "                    column_rotation, column_height, upper_right_y):\n",
    "    \n",
    "    return(Affine(row_width,row_rotation,upper_right_x,\n",
    "                  column_rotation, column_height, upper_right_y))\n",
    "\n",
    "row_width=0\n",
    "column_height=0\n",
    "row_rotation=0\n",
    "column_rotation=0\n",
    "upper_right_x=-180\n",
    "upper_right_y=90\n",
    "\n",
    "degree1 = create_transform(1,0,-180,0,-1,90)\n",
    "arcminutes30 = create_transform(.5,0,-180,0,-.5,90)\n",
    "arcminutes15 = create_transform(.25,0,-180,0,-.25,90)\n",
    "arcminutes5 = create_transform(0.0833333,0,-180,0,-0.0833333,90)\n",
    "arcminutes3 = create_transform(row_width,0,-180,0,column_height,90)\n",
    "arcminutes1 = create_transform(0.0166667,0,-180,0,-0.0166667,90)\n",
    "arcseconds30 = create_transform(0.00833333,0,-180,-0,0.00833333,90)\n",
    "arcseconds15 = create_transform(0.00416667,0,-180,-0,0.00416667,90)\n",
    "arcseconds5 = create_transform(0.00138889,0,-180,0,-0.00138889,90)\n",
    "arcseconds3 = create_transform(row_width,0,-180,0,column_height,90)\n",
    "arcseconds1 = create_transform(0.0166667,0,-180,0,-0.0166667,90)"
   ]
  },
  {
   "cell_type": "code",
   "execution_count": null,
   "metadata": {
    "collapsed": false
   },
   "outputs": [],
   "source": [
    "# Create array of ones size of a global, 1 degree raster\n",
    "dst_array = np.ones((360, 180), dtype=np.float32)\n",
    "#dst_array = np.random.randn(360, 180).astype(np.float32)\n",
    "#print(dst_array)\n",
    "\n",
    "# Use rasterio to classify this as WGS84 EPSG:4326\n",
    "world_array = '/Users/nathansuberi/Desktop/RW_Data/world_array.tif'\n",
    "\n",
    "profile = {\n",
    "    'driver': 'GTiff', \n",
    "    'dtype': np.float32, \n",
    "    'nodata': 0, \n",
    "    'width': 360, \n",
    "    'height': 180, \n",
    "    'count': 1, \n",
    "    'crs': CRS({'init': 'EPSG:4326'}), \n",
    "    'transform':degree1,\n",
    "    'blockxsize': 128, \n",
    "    'blockysize': 128, \n",
    "    'tiled': True, \n",
    "    'compress': 'lzw', \n",
    "    'interleave': 'band'\n",
    "}\n",
    "with rio.open(world_array, \"w\", **profile) as dst:\n",
    "    dst.write(dst_array, indexes=1)\n",
    "\n",
    "# Print, observe\n",
    "with rio.open(world_array, \"r\") as src:\n",
    "    data = src.read(indexes=1)\n",
    "    print(src.profile)\n",
    "    print(data)\n",
    "pyplot.imshow(data)"
   ]
  },
  {
   "cell_type": "code",
   "execution_count": null,
   "metadata": {
    "collapsed": true
   },
   "outputs": [],
   "source": [
    "# Define alternate projection\n",
    "alt_proj = \"EPSG:54009\""
   ]
  },
  {
   "cell_type": "code",
   "execution_count": null,
   "metadata": {
    "collapsed": false
   },
   "outputs": [],
   "source": [
    "# Use gdal to re-project as Mollweide EPSG:54009\n",
    "os.environ[\"Zsrc_file\"] = world_array\n",
    "world_array_edit = world_array[:-4] + \"_edit.tif\"\n",
    "os.environ[\"Zdst_file\"] = world_array_edit\n",
    "os.environ[\"Zoptions\"] = \"-r near -s_srs EPSG:4326 -t_srs \"+alt_proj+\" -of GTiff -overwrite\"\n",
    "!gdalwarp $Zoptions $Zsrc_file $Zdst_file\n",
    "\n",
    "# Print, observe\n",
    "with rio.open(world_array_edit, \"r\") as src:\n",
    "    data = src.read(indexes=1)\n",
    "    print(src.profile)\n",
    "    print(data)\n",
    "    print(np.mean(data))\n",
    "    \n",
    "pyplot.imshow(data)\n",
    "!gdalinfo $Zdst_file"
   ]
  },
  {
   "cell_type": "code",
   "execution_count": null,
   "metadata": {
    "collapsed": false
   },
   "outputs": [],
   "source": [
    "# Use gdal to re-project as WGS84 EPSG:4326\n",
    "os.environ[\"Zsrc_file\"] = world_array_edit\n",
    "world_array2 = world_array[:-4] + \"2.tif\"\n",
    "os.environ[\"Zdst_file\"] = world_array2 \n",
    "\n",
    "os.environ[\"Zoptions\"] = \"-s_srs \"+alt_proj+\" -t_srs EPSG:4326 -of GTiff -overwrite\"\n",
    "os.environ[\"Zoptions_with_tr\"] = \"-r near -s_srs \"+alt_proj+\" -t_srs EPSG:4326 -of GTiff -overwrite -tr 1 1 -te -180 -90 180 90 -wo SOURCE_EXTRA=1000\"\n",
    "#!gdalwarp $Zoptions $Zsrc_file $Zdst_file\n",
    "!gdalwarp $Zoptions_with_tr $Zsrc_file $Zdst_file\n",
    "\n",
    "# Print, observe\n",
    "with rio.open(world_array2, \"r\") as src:\n",
    "    data = src.read(indexes=1)\n",
    "    print(src.profile)\n",
    "    print(data)\n",
    "    print(np.mean(data))\n",
    "    \n",
    "pyplot.imshow(data)\n",
    "!gdalinfo $Zdst_file"
   ]
  },
  {
   "cell_type": "code",
   "execution_count": null,
   "metadata": {
    "collapsed": false
   },
   "outputs": [],
   "source": [
    "# Use gdal to re-project as WGS84 EPSG:4326\n",
    "os.environ[\"Zsrc_file\"] = world_array\n",
    "world_array3 = world_array[:-4] + \"3.tif\"\n",
    "os.environ[\"Zdst_file\"] = world_array3\n",
    "os.environ[\"Zoptions\"] = \"-s_srs EPSG:4326 -t_srs EPSG:4326 -of GTiff -overwrite\"\n",
    "!gdalwarp $Zoptions $Zsrc_file $Zdst_file\n",
    "\n",
    "# Print, observe\n",
    "with rio.open(world_array3, \"r\") as src:\n",
    "    data = src.read(indexes=1)\n",
    "    print(src.profile)\n",
    "    print(data)\n",
    "    print(np.mean(data))\n",
    "    \n",
    "pyplot.imshow(data)\n",
    "!gdalinfo $Zdst_file"
   ]
  },
  {
   "cell_type": "code",
   "execution_count": null,
   "metadata": {
    "collapsed": true
   },
   "outputs": [],
   "source": []
  },
  {
   "cell_type": "code",
   "execution_count": null,
   "metadata": {
    "collapsed": true
   },
   "outputs": [],
   "source": []
  },
  {
   "cell_type": "code",
   "execution_count": null,
   "metadata": {
    "collapsed": false,
    "scrolled": true
   },
   "outputs": [
    {
     "name": "stdout",
     "output_type": "stream",
     "text": [
      "Done\n",
      "Done\n",
      "Done\n",
      "Done\n",
      "Done\n",
      "Done\n",
      "Done\n"
     ]
    }
   ],
   "source": [
    "### Create areal weighted rasters\n",
    "# https://waterprogramming.wordpress.com/2015/06/09/using-arcpy-to-calculate-area-weighted-averages-of-gridded-spatial-data-over-political-units-part-2/\n",
    "# http://pythonhosted.org/rasterstats/cli.html\n",
    "# http://mathforum.org/library/drmath/view/63767.html\n",
    "\n",
    "# https://stackoverflow.com/questions/41826750/calculating-the-area-of-gridded-data-equidistant-in-degrees\n",
    "# http://unidata.github.io/netcdf4-python/#section1\n",
    "from netCDF4 import Dataset\n",
    "import numpy as np\n",
    "import os\n",
    "from pyproj import Proj\n",
    "# Didn't end up using this:\n",
    "# from shapely.geometry import shape\n",
    "\n",
    "def calc_cell_area(lon, lon_res, num_cols):\n",
    "    # TO DO: Bring in Thomas' formula\n",
    "    R = 6371.\n",
    "\n",
    "    lon = lon*(np.pi/180)\n",
    "    lon_res = lon_res*(np.pi/180)\n",
    "\n",
    "    theta1 = lon\n",
    "    theta2 = lon-lon_res\n",
    "    \n",
    "    h1 = R*np.sin(theta1)\n",
    "    h2 = R*np.sin(theta2)\n",
    "    \n",
    "    A = 2*np.pi*R*np.abs(h1-h2) / num_cols\n",
    "    \n",
    "    #print(\"lon:\", lon, \", area:\", A)\n",
    "    return(A)\n",
    "\n",
    "def create_areal_raster(file_name, start_lat, start_lon, end_lat, end_lon, resolution, col_vector=True):\n",
    "    # Create netcdf from scratch\n",
    "    Data = Dataset(file_name, mode=\"w\")\n",
    "\n",
    "    row_range = (start_lat - end_lat)\n",
    "    col_range = (end_lon - start_lon)\n",
    "    \n",
    "    num_cols = int(col_range / resolution)\n",
    "    num_rows = int(row_range / resolution)\n",
    "\n",
    "    Data.createDimension(\"dim_data_col_vector\", num_rows*num_cols)\n",
    "    #Data.createDimension(\"dim_data_2d_array\", (num_rows, num_cols))\n",
    "\n",
    "    col_lats = [np.repeat(i, num_rows) for i in np.arange(-180, 180, resolution)]\n",
    "    row_lons = [np.arange(90, -90, -resolution)]*num_cols\n",
    "    \n",
    "    if col_vector:\n",
    "        lats = Data.createVariable('latitude', 'f4', 'dim_data_col_vector')\n",
    "        lons = Data.createVariable('longitude', 'f4', 'dim_data_col_vector')\n",
    "        lats[:] = np.reshape(col_lats, -1)\n",
    "        lons[:] = np.reshape(row_lons, -1)\n",
    "        \n",
    "        # Create a vector of areas for longitude = -180, over whole range of latitudes\n",
    "        # Broadcast this to be size of AREA_VAR\n",
    "        AREA_VAR = np.empty(len(lats))\n",
    "        #projection = Proj(init=\"EPSG:4326\")\n",
    "        \n",
    "        areas = []\n",
    "        \n",
    "        for j in np.arange(start_lat,end_lat,-resolution):  #just northern hemisphere\n",
    "            areas.append(calc_cell_area(j,resolution,num_cols))\n",
    "            \n",
    "        #print(areas)\n",
    "        areas = np.repeat(areas, num_cols)\n",
    "        AREA_VAR = np.reshape(areas, -1)\n",
    "        #print(AREA_VAR)\n",
    "        \n",
    "        cell_area = Data.createVariable('cell_area', 'f4', 'dim_data_col_vector')            \n",
    "        cell_area[:] = AREA_VAR\n",
    "        \n",
    "    else:\n",
    "        lats = Data.createVariable('latitude', 'f4', 'dim_data_2d_array')\n",
    "        lons = Data.createVariable('longitude', 'f4', 'dim_data_2d_array')\n",
    "        # TO DO: Implement 2d array version\n",
    "\n",
    "    Data.close()\n",
    "    \n",
    "    \n",
    "os.chdir(\"/Users/nathansuberi/Desktop/RW_Data/Areal_Rasters/\")\n",
    "\n",
    "raster_set = {\n",
    "    \"./1_degree_areal_raster.nc\":1,\n",
    "    \"./30_arc_minute_areal_raster.nc\":1/2.,\n",
    "    \"./15_arc_minute_areal_raster.nc\":1/4.,\n",
    "    \"./5_arc_minute_areal_raster.nc\":1/12.,\n",
    "    \"./3_arc_minute_areal_raster.nc\":1/20.,\n",
    "    \"./1_arc_minute_areal_raster.nc\":1/60.,\n",
    "    \"./30_arc_second_areal_raster.nc\":1/120.,\n",
    "    \"./15_arc_second_areal_raster.nc\":1/240.,\n",
    "    \"./5_arc_second_areal_raster.nc\":1/720.,\n",
    "    \"./3_arc_second_areal_raster.nc\":1/1200.,\n",
    "    \"./1_arc_second_areal_raster.nc\":1/3600.,   \n",
    "}\n",
    "\n",
    "for file_name, resolution in raster_set.items():\n",
    "    areal_rasters_args = {\n",
    "        \"file_name\":file_name, \n",
    "        \"start_lat\": 90, \n",
    "        \"start_lon\": -180, \n",
    "        \"end_lat\": -90, \n",
    "        \"end_lon\": 180, \n",
    "        \"resolution\":resolution, \n",
    "        \"col_vector\":True\n",
    "        }\n",
    "    \n",
    "    try:\n",
    "        create_areal_raster(**areal_rasters_args)\n",
    "        print(\"Done\")\n",
    "    except:\n",
    "        print(\"File already exists - permission denied.\")"
   ]
  },
  {
   "cell_type": "code",
   "execution_count": null,
   "metadata": {
    "collapsed": true
   },
   "outputs": [],
   "source": [
    "Read_data = Dataset(\"./test_areal_raster24.nc\", \"r+\")\n",
    "Read_data.variables[\"latitude\"]\n",
    "areas = Read_data.variables[\"cell_area\"][:]\n",
    "areas[1000:2000]"
   ]
  },
  {
   "cell_type": "code",
   "execution_count": null,
   "metadata": {
    "collapsed": true
   },
   "outputs": [],
   "source": [
    "# Extract geotiff data, put into a NETCDF4 band\n"
   ]
  },
  {
   "cell_type": "code",
   "execution_count": null,
   "metadata": {
    "collapsed": true
   },
   "outputs": [],
   "source": []
  },
  {
   "cell_type": "code",
   "execution_count": null,
   "metadata": {
    "collapsed": true
   },
   "outputs": [],
   "source": []
  },
  {
   "cell_type": "code",
   "execution_count": null,
   "metadata": {
    "collapsed": true
   },
   "outputs": [],
   "source": [
    "### Use WFP Logistics Cluster data - create a raster\n",
    "# 1 = WFP deployment to an area\n",
    "# 0 = no WFP deployment to an area\n",
    "# Divide up by month into many rasters, can use as training data labels\n",
    "# Add in geocoded \"Who does what where\" from reliefweb\n",
    "# Try to use GDELT as training data inputs\n",
    "\n",
    "# Can 1Concern help here?"
   ]
  },
  {
   "cell_type": "code",
   "execution_count": null,
   "metadata": {
    "collapsed": true
   },
   "outputs": [],
   "source": []
  },
  {
   "cell_type": "code",
   "execution_count": null,
   "metadata": {
    "collapsed": true
   },
   "outputs": [],
   "source": []
  },
  {
   "cell_type": "code",
   "execution_count": null,
   "metadata": {
    "collapsed": true
   },
   "outputs": [],
   "source": []
  },
  {
   "cell_type": "code",
   "execution_count": null,
   "metadata": {
    "collapsed": true
   },
   "outputs": [],
   "source": [
    "# Fitting a gamma distribution to calculation SPI\n",
    "# Other weighted moving average calculations over raster stacks"
   ]
  },
  {
   "cell_type": "code",
   "execution_count": null,
   "metadata": {
    "collapsed": true
   },
   "outputs": [],
   "source": []
  }
 ],
 "metadata": {
  "kernelspec": {
   "display_name": "Python 3",
   "language": "python",
   "name": "python3"
  },
  "language_info": {
   "codemirror_mode": {
    "name": "ipython",
    "version": 3
   },
   "file_extension": ".py",
   "mimetype": "text/x-python",
   "name": "python",
   "nbconvert_exporter": "python",
   "pygments_lexer": "ipython3",
   "version": "3.6.0"
  }
 },
 "nbformat": 4,
 "nbformat_minor": 2
}
