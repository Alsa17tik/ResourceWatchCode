{
 "cells": [
  {
   "cell_type": "code",
   "execution_count": 1,
   "metadata": {
    "collapsed": false
   },
   "outputs": [],
   "source": [
    "# Libraries for downloading data from FTP\n",
    "import shutil\n",
    "import urllib.request as req\n",
    "from contextlib import closing\n",
    "\n",
    "# Library for uploading data to S3\n",
    "import boto3\n",
    "\n",
    "# Libraries for handling data\n",
    "import rasterio as rio\n",
    "import pandas as pd\n",
    "import numpy as np\n",
    "\n",
    "# Libraries for various helper functions\n",
    "from datetime import datetime\n",
    "import os\n",
    "import threading\n",
    "import sys"
   ]
  },
  {
   "cell_type": "markdown",
   "metadata": {},
   "source": [
    "cli.005.1 https://nsidc.org/data/docs/noaa/g02135_seaice_index/#text_summary\n",
    "SRC: ftp://sidads.colorado.edu/DATASETS/NOAA/G02135/north/monthly/geotiff/01_Jan (etc)\n",
    "files look like: N_197901_concentration_v2.1.tif, N_197901_extent_v2.1.tif\n",
    "from Jan 1979\n",
    "File type: tif\n",
    "North Polar Projection\n",
    "\n",
    "cli.005.2 https://nsidc.org/data/docs/noaa/g02135_seaice_index/#text_summary\n",
    "SRC: ftp://sidads.colorado.edu/DATASETS/NOAA/G02135/south/monthly/geotiff/01_Jan (etc)\n",
    "files look like: S_197901_concentration_v2.1.tif\n",
    "from Jan 1979\n",
    "File type: tif\n",
    "Antarctic Projection"
   ]
  },
  {
   "cell_type": "code",
   "execution_count": null,
   "metadata": {
    "collapsed": true
   },
   "outputs": [],
   "source": [
    "## Need to know - how often do they update?\n",
    "\n",
    "# This could run every day... there won't necessarily be anything to add\n",
    "# In that case perhaps it should return an error to some console\n",
    "# It would be nice for RW staff to see what has been updated\n",
    "# And what updates were attempted but found nothing new\n"
   ]
  },
  {
   "cell_type": "code",
   "execution_count": 2,
   "metadata": {
    "collapsed": false
   },
   "outputs": [
    {
     "data": {
      "text/plain": [
       "[b'drwxr-xr-x   14 500        9474               14 Aug 16 18:04 .',\n",
       " b'drwxr-xr-x    6 500        9474                6 Aug 16 18:04 ..',\n",
       " b'drwxr-xr-x    2 500        9474               78 Oct 20 09:32 01_Jan',\n",
       " b'drwxr-xr-x    2 500        9474               80 Oct 20 09:32 02_Feb',\n",
       " b'drwxr-xr-x    2 500        9474               80 Oct 20 09:32 03_Mar',\n",
       " b'drwxr-xr-x    2 500        9474               80 Oct 20 09:32 04_Apr',\n",
       " b'drwxr-xr-x    2 500        9474               80 Oct 20 09:32 05_May',\n",
       " b'drwxr-xr-x    2 500        9474               80 Oct 20 09:32 06_Jun',\n",
       " b'drwxr-xr-x    2 500        9474               80 Oct 20 09:32 07_Jul',\n",
       " b'drwxr-xr-x    2 500        9474               79 Oct 20 09:32 08_Aug',\n",
       " b'drwxr-xr-x    2 500        9474               80 Oct 20 09:32 09_Sep',\n",
       " b'drwxr-xr-x    2 500        9474               80 Jan  2 11:10 10_Oct',\n",
       " b'drwxr-xr-x    2 500        9474               82 Jan  2 11:10 11_Nov',\n",
       " b'drwxr-xr-x    2 500        9474               80 Jan  2 11:10 12_Dec']"
      ]
     },
     "execution_count": 2,
     "metadata": {},
     "output_type": "execute_result"
    }
   ],
   "source": [
    "# Directions for how to read contents of an FTP directory\n",
    "# https://stackoverflow.com/questions/2289768/python-and-urllib\n",
    "remote_path_north = \"ftp://sidads.colorado.edu/DATASETS/NOAA/G02135/north/monthly/geotiff/\"\n",
    "remote_path_south = \"ftp://sidads.colorado.edu/DATASETS/NOAA/G02135/south/monthly/geotiff/\"\n",
    "file = req.urlopen(remote_path_north).read().splitlines()\n",
    "file"
   ]
  },
  {
   "cell_type": "code",
   "execution_count": 28,
   "metadata": {
    "collapsed": false
   },
   "outputs": [
    {
     "name": "stdout",
     "output_type": "stream",
     "text": [
      "1 07 2017\n"
     ]
    }
   ],
   "source": [
    "def format_month(mon):\n",
    "    if mon == 0:\n",
    "        return(\"12\")\n",
    "    elif mon < 0:\n",
    "        if mon > -2:\n",
    "            return(str(12 + mon))\n",
    "        else:\n",
    "            return(\"0\" + str(12 + mon))\n",
    "    elif mon < 10:\n",
    "        return(\"0\" + str(mon))\n",
    "    else:\n",
    "        return(str(mon))\n",
    "    \n",
    "\n",
    "now = datetime.now()\n",
    "year = str(now.year-1)\n",
    "month = format_month(now.month-6)\n",
    "print(now.month, month, year)\n",
    "\n",
    "def create_most_recent_file(year, month, north_or_south=\"N\"):\n",
    "    # file_type in [extent, concentration]\n",
    "    months = [\"Jan\", \"Feb\", \"Mar\", \"Apr\", \"May\", \"Jun\", \n",
    "              \"Jul\", \"Aug\", \"Sep\", \"Oct\", \"Nov\", \"Dec\"]\n",
    "\n",
    "    return(\"{}_{}/{}_{}{}_extent_v3.0.tif\".format(month,months[int(month)-1],north_or_south, year, month))\n",
    "\n",
    "arctic_file = create_most_recent_file(year, month, \"N\")\n",
    "antarctic_file = create_most_recent_file(year, month, \"S\")"
   ]
  },
  {
   "cell_type": "code",
   "execution_count": 24,
   "metadata": {
    "collapsed": false
   },
   "outputs": [
    {
     "data": {
      "text/plain": [
       "'07_Jul/S_201707_extent_v2.1.tif'"
      ]
     },
     "execution_count": 24,
     "metadata": {},
     "output_type": "execute_result"
    }
   ],
   "source": [
    "antarctic_file"
   ]
  },
  {
   "cell_type": "code",
   "execution_count": 31,
   "metadata": {
    "collapsed": false
   },
   "outputs": [
    {
     "name": "stdout",
     "output_type": "stream",
     "text": [
      "ftp://sidads.colorado.edu/DATASETS/NOAA/G02135/north/monthly/geotiff/07_Jul/N_201707_extent_v3.0.tif\n",
      "ftp://sidads.colorado.edu/DATASETS/NOAA/G02135/south/monthly/geotiff/07_Jul/S_201707_extent_v3.0.tif\n"
     ]
    }
   ],
   "source": [
    "ftp_arctic = remote_path_north+arctic_file\n",
    "ftp_antarctic = remote_path_south+antarctic_file\n",
    "print(ftp_arctic)\n",
    "print(ftp_antarctic)\n",
    "\n",
    "local_folder = \"/Users/nathansuberi/Desktop/RW_Data/Polar_Sea_Ice/\"\n",
    "# Use 7: to not include the month's folder in the local file name\n",
    "arctic_file_name = arctic_file[7:]\n",
    "antarctic_file_name = antarctic_file[7:]\n",
    "\n",
    "local_arctic_orig = local_folder+arctic_file_name\n",
    "local_antarctic_orig = local_folder+antarctic_file_name\n",
    "\n",
    "local_arctic_edit = local_arctic_orig[:-4] + \"_edit.tif\"\n",
    "local_antarctic_edit = local_antarctic_orig[:-4] + \"_edit.tif\"\n",
    "\n",
    "with closing(req.urlopen(ftp_arctic)) as r:\n",
    "    with open(local_arctic_orig, 'wb') as f:\n",
    "        shutil.copyfileobj(r, f)\n",
    "         \n",
    "with closing(req.urlopen(ftp_antarctic)) as r:\n",
    "    with open(local_antarctic_orig, 'wb') as f:\n",
    "        shutil.copyfileobj(r, f)"
   ]
  },
  {
   "cell_type": "code",
   "execution_count": 62,
   "metadata": {
    "collapsed": false
   },
   "outputs": [
    {
     "name": "stdout",
     "output_type": "stream",
     "text": [
      "CRS({'init': 'epsg:3411'})\n",
      "CRS({'init': 'epsg:3412'})\n"
     ]
    }
   ],
   "source": [
    "from rasterio.warp import calculate_default_transform, reproject\n",
    "import rasterio\n",
    "\n",
    "def reproject_file(orig_name, edit_name):\n",
    "    with rasterio.open(orig_name, 'r') as src:\n",
    "        # This assumes data is readable by rasterio\n",
    "        # May need to open instead with netcdf4.Dataset, for example\n",
    "        print(src.crs)\n",
    "        dst_crs = 'EPSG:4326'\n",
    "        transform, width, height = calculate_default_transform(src.crs, dst_crs, \n",
    "                                                               src.width, src.height, \n",
    "                                                               *src.bounds)\n",
    "        kwargs = src.meta.copy()\n",
    "        kwargs.update({\n",
    "            'crs': dst_crs,\n",
    "            'transform': transform,\n",
    "            'width': width,\n",
    "            'height': height,\n",
    "            'compress':'lzw'\n",
    "        })\n",
    "\n",
    "        with rasterio.open(edit_name, \"w\", **kwargs) as dst:\n",
    "            reproject(\n",
    "                source=rasterio.band(src, 1),\n",
    "                destination=rasterio.band(dst, 1),\n",
    "                src_transform=src.transform,\n",
    "                src_crs=src.crs,\n",
    "                dst_transform=transform,\n",
    "                dst_crs=dst_crs)\n",
    "\n",
    "reproject_file(local_arctic_orig, local_arctic_edit)\n",
    "reproject_file(local_antarctic_orig, local_antarctic_edit)"
   ]
  },
  {
   "cell_type": "code",
   "execution_count": null,
   "metadata": {
    "collapsed": true
   },
   "outputs": [],
   "source": [
    "import os\n",
    "def reproject_file(orig_name, edit_name):\n",
    "    with rasterio.open(orig_name, 'r') as src:\n",
    "        # This assumes data is readable by rasterio\n",
    "        # May need to open instead with netcdf4.Dataset, for example\n",
    "        print(src.crs)\n",
    "        !gdalwarp -overwrite -s_srs \n",
    "\n",
    "reproject_file(local_arctic_orig, local_arctic_edit)\n",
    "reproject_file(local_antarctic_orig, local_antarctic_edit)"
   ]
  },
  {
   "cell_type": "code",
   "execution_count": 100,
   "metadata": {
    "collapsed": false
   },
   "outputs": [],
   "source": [
    "with rio.open(local_arctic_orig) as src:\n",
    "    arctic_pro = src.profile\n",
    "    arctic_data = src.read(indexes=1)\n",
    "    arctic_bounds = src.bounds\n",
    "    \n",
    "with rio.open(local_antarctic_orig) as src:\n",
    "    antarctic_pro = src.profile\n",
    "    antarctic_data = src.read(indexes=1)\n",
    "    antarctic_bounds = src.bounds"
   ]
  },
  {
   "cell_type": "code",
   "execution_count": 101,
   "metadata": {
    "collapsed": false
   },
   "outputs": [
    {
     "data": {
      "text/plain": [
       "{'driver': 'GTiff', 'dtype': 'uint8', 'nodata': None, 'width': 304, 'height': 448, 'count': 1, 'crs': CRS({'init': 'epsg:3411'}), 'transform': Affine(25000.0, 0.0, -3850000.0,\n",
       "       0.0, -25000.0, 5850000.0), 'tiled': False, 'interleave': 'band'}"
      ]
     },
     "execution_count": 101,
     "metadata": {},
     "output_type": "execute_result"
    }
   ],
   "source": [
    "arctic_pro"
   ]
  },
  {
   "cell_type": "code",
   "execution_count": 102,
   "metadata": {
    "collapsed": false
   },
   "outputs": [
    {
     "data": {
      "text/plain": [
       "{'driver': 'GTiff', 'dtype': 'uint8', 'nodata': None, 'width': 316, 'height': 332, 'count': 1, 'crs': CRS({'init': 'epsg:3412'}), 'transform': Affine(25000.0, 0.0, -3950000.0,\n",
       "       0.0, -25000.0, 4350000.0), 'tiled': False, 'interleave': 'band'}"
      ]
     },
     "execution_count": 102,
     "metadata": {},
     "output_type": "execute_result"
    }
   ],
   "source": [
    "antarctic_pro"
   ]
  },
  {
   "cell_type": "code",
   "execution_count": 69,
   "metadata": {
    "collapsed": false
   },
   "outputs": [
    {
     "data": {
      "text/plain": [
       "BoundingBox(left=-178.15733969334627, bottom=30.9099890253481, right=177.62359256195185, top=56.275851787994355)"
      ]
     },
     "execution_count": 69,
     "metadata": {},
     "output_type": "execute_result"
    }
   ],
   "source": [
    "arctic_bounds"
   ]
  },
  {
   "cell_type": "code",
   "execution_count": 83,
   "metadata": {
    "collapsed": false
   },
   "outputs": [
    {
     "data": {
      "text/plain": [
       "<matplotlib.axes._subplots.AxesSubplot at 0x1166284e0>"
      ]
     },
     "execution_count": 83,
     "metadata": {},
     "output_type": "execute_result"
    },
    {
     "data": {
      "image/png": "[encoded data removed]",
      "text/plain": [
       "<matplotlib.figure.Figure at 0x115a75b00>"
      ]
     },
     "metadata": {},
     "output_type": "display_data"
    }
   ],
   "source": [
    "from matplotlib import pyplot as plt\n",
    "import geopandas as gpd\n",
    "%matplotlib inline\n",
    "\n",
    "# World country boundaries for context\n",
    "country_bounds = gpd.read_file(\"/Users/nathansuberi/Desktop/RW_Data/all_countries/all_countries.shp\")\n",
    "country_bounds = country_bounds[[\"geometry\", \"name\"]]\n",
    "\n",
    "b = arctic_bounds\n",
    "plt.imshow(arctic_data, extent = [b[0], b[2], 90-b[1], 90-(b[1]-abs(b[3]-b[1]))])\n",
    "ax = plt.gca()\n",
    "country_bounds.plot(ax=ax)"
   ]
  },
  {
   "cell_type": "code",
   "execution_count": 72,
   "metadata": {
    "collapsed": false
   },
   "outputs": [
    {
     "data": {
      "text/plain": [
       "BoundingBox(left=-179.99991257357857, bottom=-54.70000483751825, right=179.6570445922746, top=-39.23088840027726)"
      ]
     },
     "execution_count": 72,
     "metadata": {},
     "output_type": "execute_result"
    }
   ],
   "source": [
    "antarctic_bounds"
   ]
  },
  {
   "cell_type": "code",
   "execution_count": 96,
   "metadata": {
    "collapsed": false
   },
   "outputs": [
    {
     "data": {
      "text/plain": [
       "<matplotlib.axes._subplots.AxesSubplot at 0x118ee1be0>"
      ]
     },
     "execution_count": 96,
     "metadata": {},
     "output_type": "execute_result"
    },
    {
     "data": {
      "image/png": "[encoded data removed]",
      "text/plain": [
       "<matplotlib.figure.Figure at 0x119531cf8>"
      ]
     },
     "metadata": {},
     "output_type": "display_data"
    }
   ],
   "source": [
    "from matplotlib import pyplot as plt\n",
    "import geopandas as gpd\n",
    "%matplotlib inline\n",
    "\n",
    "# World country boundaries for context\n",
    "country_bounds = gpd.read_file(\"/Users/nathansuberi/Desktop/RW_Data/all_countries/all_countries.shp\")\n",
    "country_bounds = country_bounds[[\"geometry\", \"name\"]]\n",
    "    \n",
    "b = antarctic_bounds\n",
    "plt.imshow(antarctic_data, extent = [b[0], b[2], -90-(b[3]+abs(b[3]-b[1])), -90-b[3]])\n",
    "ax = plt.gca()\n",
    "country_bounds.plot(ax=ax)"
   ]
  },
  {
   "cell_type": "code",
   "execution_count": null,
   "metadata": {
    "collapsed": true
   },
   "outputs": [],
   "source": [
    "### NOTE = THIS WILL KEEP REPLACING THE FILE WITH THE NEWEST VERSION\n",
    "\n",
    "# S3 destinations\n",
    "s3_bucket = \"wri-public-data\"\n",
    "s3_folder = \"resourcewatch/raster/\"\n",
    "\n",
    "s3_file_antarctic = \"cli_005_antarctic_sea_ice_extent.tif\"\n",
    "s3_key_antarctic_orig = s3_folder + s3_file_antarctic\n",
    "s3_key_antarctic_edit = s3_key_antarctic_orig[:-4] + \"_edit.tif\"\n",
    "\n",
    "s3_file_arctic = \"cli_006_arctic_sea_ice_extent.tif\"\n",
    "s3_key_arctic_orig = s3_folder + s3_file_arctic\n",
    "s3_key_arctic_edit = s3_key_arctic_orig[:-4] + \"_edit.tif\"\n",
    "\n",
    "# S3 services\n",
    "s3_download = boto3.resource(\"s3\")\n",
    "s3_upload = boto3.client(\"s3\")\n",
    "\n",
    "# Helper function to view upload progress\n",
    "class ProgressPercentage(object):\n",
    "        def __init__(self, filename):\n",
    "            self._filename = filename\n",
    "            self._size = float(os.path.getsize(filename))\n",
    "            self._seen_so_far = 0\n",
    "            self._lock = threading.Lock()\n",
    "\n",
    "        def __call__(self, bytes_amount):\n",
    "            # To simplify we'll assume this is hooked up\n",
    "            # to a single filename.\n",
    "            with self._lock:\n",
    "                self._seen_so_far += bytes_amount\n",
    "                percentage = (self._seen_so_far / self._size) * 100\n",
    "                sys.stdout.write(\n",
    "                    \"\\r%s  %s / %s  (%.2f%%)\" % (\n",
    "                        self._filename, self._seen_so_far, self._size,\n",
    "                        percentage))\n",
    "                sys.stdout.flush()"
   ]
  },
  {
   "cell_type": "code",
   "execution_count": null,
   "metadata": {
    "collapsed": false
   },
   "outputs": [],
   "source": [
    "# Originals\n",
    "s3_upload.upload_file(local_arctic, s3_bucket, s3_key_arctic_orig,\n",
    "                         Callback=ProgressPercentage(local_arctic))\n",
    "\n",
    "s3_upload.upload_file(local_antarctic, s3_bucket, s3_key_antarctic_orig,\n",
    "                         Callback=ProgressPercentage(local_antarctic))\n",
    "\n",
    "# Edits\n",
    "s3_upload.upload_file(local_arctic_edit, s3_bucket, s3_key_arctic_edit,\n",
    "                         Callback=ProgressPercentage(local_arctic_edit))\n",
    "\n",
    "s3_upload.upload_file(local_antarctic_edit, s3_bucket, s3_key_antarctic_edit,\n",
    "                         Callback=ProgressPercentage(local_antarctic_edit))"
   ]
  }
 ],
 "metadata": {
  "kernelspec": {
   "display_name": "Python 3",
   "language": "python",
   "name": "python3"
  },
  "language_info": {
   "codemirror_mode": {
    "name": "ipython",
    "version": 3
   },
   "file_extension": ".py",
   "mimetype": "text/x-python",
   "name": "python",
   "nbconvert_exporter": "python",
   "pygments_lexer": "ipython3",
   "version": "3.6.0"
  }
 },
 "nbformat": 4,
 "nbformat_minor": 2
}
