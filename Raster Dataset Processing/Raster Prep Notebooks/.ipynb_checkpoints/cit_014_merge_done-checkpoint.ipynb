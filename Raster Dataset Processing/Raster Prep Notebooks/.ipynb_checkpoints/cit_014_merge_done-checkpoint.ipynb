{
 "cells": [
  {
   "cell_type": "markdown",
   "metadata": {},
   "source": [
    "High Density Areas of Urban Development\tcit.014\thttp://data.jrc.ec.europa.eu/dataset/jrc-ghsl-ghs_smod_pop_globe_r2016a"
   ]
  },
  {
   "cell_type": "code",
   "execution_count": 1,
   "metadata": {
    "collapsed": true
   },
   "outputs": [],
   "source": [
    "import numpy as np\n",
    "import pandas as pd\n",
    "import rasterio as rio\n",
    "\n",
    "import boto3\n",
    "import requests as req\n",
    "\n",
    "from matplotlib import pyplot as plt\n",
    "%matplotlib inline\n",
    "import os\n",
    "import sys\n",
    "import threading"
   ]
  },
  {
   "cell_type": "markdown",
   "metadata": {},
   "source": [
    "Establish s3 location"
   ]
  },
  {
   "cell_type": "code",
   "execution_count": 28,
   "metadata": {
    "collapsed": false
   },
   "outputs": [],
   "source": [
    "# Investigate what the data in these rasters means, and whether we can \n",
    "# Display high and low density clusters separately as is\n",
    "s3_bucket = \"wri-public-data\"\n",
    "s3_folder = \"resourcewatch/raster/cit_014_areas_of_urban_development/\"\n",
    "\n",
    "s3_files = [\"cit_014_areas_of_urban_development_1975.tif\",\n",
    "            \"cit_014_areas_of_urban_development_1990.tif\",\n",
    "            \"cit_014_areas_of_urban_development_2000.tif\",\n",
    "            \"cit_014_areas_of_urban_development_2015.tif\",\n",
    "            \"cit_014_areas_of_urban_development_2015_HDC.tif\",\n",
    "            \"cit_014_areas_of_urban_development_2015_LDC.tif\"]\n",
    "s3_file_merge = \"cit_014_areas_of_urban_development_merge.tif\"\n",
    "\n",
    "s3_key_origs = []\n",
    "s3_key_edits = []\n",
    "\n",
    "for file in s3_files:\n",
    "    orig = s3_folder + file\n",
    "    s3_key_origs.append(orig)\n",
    "    s3_key_edits.append(orig[0:-4] + \"_edit.tif\")\n",
    "    \n",
    "s3_key_merge = s3_folder + s3_file_merge\n",
    "\n",
    "\n",
    "s3_upload = boto3.client(\"s3\")\n",
    "s3_download = boto3.resource(\"s3\")\n",
    "\n",
    "class ProgressPercentage(object):\n",
    "        def __init__(self, filename):\n",
    "            self._filename = filename\n",
    "            self._size = float(os.path.getsize(filename))\n",
    "            self._seen_so_far = 0\n",
    "            self._lock = threading.Lock()\n",
    "\n",
    "        def __call__(self, bytes_amount):\n",
    "            # To simplify we'll assume this is hooked up\n",
    "            # to a single filename.\n",
    "            with self._lock:\n",
    "                self._seen_so_far += bytes_amount\n",
    "                percentage = (self._seen_so_far / self._size) * 100\n",
    "                sys.stdout.write(\n",
    "                    \"\\r%s  %s / %s  (%.2f%%)\" % (\n",
    "                        self._filename, self._seen_so_far, self._size,\n",
    "                        percentage))\n",
    "                sys.stdout.flush()"
   ]
  },
  {
   "cell_type": "markdown",
   "metadata": {},
   "source": [
    "Local files"
   ]
  },
  {
   "cell_type": "code",
   "execution_count": 18,
   "metadata": {
    "collapsed": false
   },
   "outputs": [],
   "source": [
    "local_folder = \"/Users/nathansuberi/Desktop/RW_Data/\"\n",
    "local_orig_keys = []\n",
    "local_edit_keys = []\n",
    "\n",
    "for file in s3_files:\n",
    "    local_orig_keys.append(local_folder + file)\n",
    "    local_edit_keys.append(local_folder + file[0:-4] + \"_edit.tif\")\n",
    "\n",
    "local_merge_key = local_folder + s3_file_merge"
   ]
  },
  {
   "cell_type": "code",
   "execution_count": 7,
   "metadata": {
    "collapsed": false
   },
   "outputs": [
    {
     "data": {
      "text/plain": [
       "['/Users/nathansuberi/Desktop/RW_Data/cit_014_areas_of_urban_development_1975_edit.tif',\n",
       " '/Users/nathansuberi/Desktop/RW_Data/cit_014_areas_of_urban_development_1990_edit.tif',\n",
       " '/Users/nathansuberi/Desktop/RW_Data/cit_014_areas_of_urban_development_2000_edit.tif',\n",
       " '/Users/nathansuberi/Desktop/RW_Data/cit_014_areas_of_urban_development_2015_edit.tif',\n",
       " '/Users/nathansuberi/Desktop/RW_Data/cit_014_areas_of_urban_development_2015_HDC_edit.tif',\n",
       " '/Users/nathansuberi/Desktop/RW_Data/cit_014_areas_of_urban_development_2015_LDC_edit.tif']"
      ]
     },
     "execution_count": 7,
     "metadata": {},
     "output_type": "execute_result"
    }
   ],
   "source": [
    "local_edit_keys"
   ]
  },
  {
   "cell_type": "code",
   "execution_count": 9,
   "metadata": {
    "collapsed": false
   },
   "outputs": [],
   "source": [
    "# Defined above:\n",
    "# s3_bucket\n",
    "# s3_key_orig\n",
    "# s3_key_edit\n",
    "# staging_key_orig\n",
    "# staging_key_edit\n",
    "for ix, file in enumerate(s3_key_origs):\n",
    "    s3_download.meta.client.download_file(s3_bucket, file, local_orig_keys[ix])"
   ]
  },
  {
   "cell_type": "markdown",
   "metadata": {},
   "source": [
    "Process files"
   ]
  },
  {
   "cell_type": "code",
   "execution_count": 11,
   "metadata": {
    "collapsed": false
   },
   "outputs": [
    {
     "name": "stdout",
     "output_type": "stream",
     "text": [
      "{'driver': 'GTiff', 'dtype': 'uint8', 'nodata': None, 'width': 35497, 'height': 15236, 'count': 1, 'crs': CRS({'proj': 'moll', 'lon_0': 0, 'x_0': 0, 'y_0': 0, 'ellps': 'WGS84', 'units': 'm', 'no_defs': True}), 'transform': (-17619594.54744353, 1000.0, 0.0, 8751029.46186849, 0.0, -1000.0), 'affine': Affine(1000.0, 0.0, -17619594.54744353,\n",
      "       0.0, -1000.0, 8751029.46186849), 'blockxsize': 512, 'blockysize': 512, 'tiled': True, 'compress': 'lzw', 'interleave': 'band'}\n",
      "{'driver': 'GTiff', 'dtype': 'uint8', 'nodata': None, 'width': 35497, 'height': 15236, 'count': 1, 'crs': CRS({'proj': 'moll', 'lon_0': 0, 'x_0': 0, 'y_0': 0, 'ellps': 'WGS84', 'units': 'm', 'no_defs': True}), 'transform': (-17619594.54744353, 1000.0, 0.0, 8751029.46186849, 0.0, -1000.0), 'affine': Affine(1000.0, 0.0, -17619594.54744353,\n",
      "       0.0, -1000.0, 8751029.46186849), 'blockxsize': 512, 'blockysize': 512, 'tiled': True, 'compress': 'lzw', 'interleave': 'band'}\n",
      "{'driver': 'GTiff', 'dtype': 'uint8', 'nodata': None, 'width': 35497, 'height': 15236, 'count': 1, 'crs': CRS({'proj': 'moll', 'lon_0': 0, 'x_0': 0, 'y_0': 0, 'ellps': 'WGS84', 'units': 'm', 'no_defs': True}), 'transform': (-17619594.54744353, 1000.0, 0.0, 8751029.46186849, 0.0, -1000.0), 'affine': Affine(1000.0, 0.0, -17619594.54744353,\n",
      "       0.0, -1000.0, 8751029.46186849), 'blockxsize': 512, 'blockysize': 512, 'tiled': True, 'compress': 'lzw', 'interleave': 'band'}\n",
      "{'driver': 'GTiff', 'dtype': 'uint8', 'nodata': None, 'width': 35497, 'height': 15236, 'count': 1, 'crs': CRS({'proj': 'moll', 'lon_0': 0, 'x_0': 0, 'y_0': 0, 'ellps': 'WGS84', 'units': 'm', 'no_defs': True}), 'transform': (-17619594.54744353, 1000.0, 0.0, 8751029.46186849, 0.0, -1000.0), 'affine': Affine(1000.0, 0.0, -17619594.54744353,\n",
      "       0.0, -1000.0, 8751029.46186849), 'blockxsize': 512, 'blockysize': 512, 'tiled': True, 'compress': 'lzw', 'interleave': 'band'}\n",
      "{'driver': 'GTiff', 'dtype': 'float64', 'nodata': None, 'width': 35497, 'height': 15236, 'count': 1, 'crs': CRS({'proj': 'moll', 'lon_0': 0, 'x_0': 0, 'y_0': 0, 'ellps': 'WGS84', 'units': 'm', 'no_defs': True}), 'transform': (-17619594.54744353, 1000.0, 0.0, 8751029.46186849, 0.0, -1000.0), 'affine': Affine(1000.0, 0.0, -17619594.54744353,\n",
      "       0.0, -1000.0, 8751029.46186849), 'blockxsize': 512, 'blockysize': 512, 'tiled': True, 'compress': 'lzw', 'interleave': 'band'}\n",
      "{'driver': 'GTiff', 'dtype': 'float64', 'nodata': None, 'width': 35497, 'height': 15236, 'count': 1, 'crs': CRS({'proj': 'moll', 'lon_0': 0, 'x_0': 0, 'y_0': 0, 'ellps': 'WGS84', 'units': 'm', 'no_defs': True}), 'transform': (-17619594.54744353, 1000.0, 0.0, 8751029.46186849, 0.0, -1000.0), 'affine': Affine(1000.0, 0.0, -17619594.54744353,\n",
      "       0.0, -1000.0, 8751029.46186849), 'blockxsize': 512, 'blockysize': 512, 'tiled': True, 'compress': 'lzw', 'interleave': 'band'}\n"
     ]
    }
   ],
   "source": [
    "for file in local_orig_keys:\n",
    "    with rio.open(file) as src:\n",
    "        print(src.profile)"
   ]
  },
  {
   "cell_type": "markdown",
   "metadata": {},
   "source": [
    "Upload edited files to S3"
   ]
  },
  {
   "cell_type": "code",
   "execution_count": 16,
   "metadata": {
    "collapsed": false
   },
   "outputs": [],
   "source": [
    "def reproject_file(orig_name, edit_name):\n",
    "    with rio.open(orig_name, 'r') as src:\n",
    "        # This assumes data is readable by rasterio\n",
    "        # May need to open instead with netcdf4.Dataset, for example\n",
    "        \n",
    "        srcprofile = src.profile\n",
    "        rows = srcprofile[\"height\"]\n",
    "        columns = srcprofile[\"width\"]\n",
    "\n",
    "        print(rows)\n",
    "        print(columns)\n",
    "\n",
    "        # Latitude bounds\n",
    "        south_lat = -90\n",
    "        north_lat = 90\n",
    "\n",
    "        # Longitude bounds\n",
    "        west_lon = -180\n",
    "        east_lon = 180\n",
    "\n",
    "        transform = rio.transform.from_bounds(west_lon, south_lat, east_lon, north_lat, columns, rows)\n",
    "\n",
    "        # Profile\n",
    "\n",
    "        no_data_val = srcprofile[\"nodata\"]\n",
    "        target_projection = 'EPSG:4326'\n",
    "        target_data_type = np.float64\n",
    "\n",
    "        profile = {\n",
    "            'driver':'GTiff', \n",
    "            'height':rows, \n",
    "            'width':columns, \n",
    "            'count':1, \n",
    "            'dtype':target_data_type, \n",
    "            'crs':target_projection, \n",
    "            'transform':transform, \n",
    "            'compress':'lzw', \n",
    "            'nodata': no_data_val\n",
    "        }\n",
    "\n",
    "        windows = src.block_windows()\n",
    "        with rio.open(edit_name, \"w\", **profile) as dst:\n",
    "            for ix, window in windows:\n",
    "                data = src.read(1, window=window)\n",
    "                dst.write(data.astype(profile[\"dtype\"]),1, window=window)"
   ]
  },
  {
   "cell_type": "code",
   "execution_count": 13,
   "metadata": {
    "collapsed": false
   },
   "outputs": [
    {
     "data": {
      "text/plain": [
       "['resourcewatch/cit_014_areas_of_urban_development/cit_014_areas_of_urban_development_1975_edit.tif',\n",
       " 'resourcewatch/cit_014_areas_of_urban_development/cit_014_areas_of_urban_development_1990_edit.tif',\n",
       " 'resourcewatch/cit_014_areas_of_urban_development/cit_014_areas_of_urban_development_2000_edit.tif',\n",
       " 'resourcewatch/cit_014_areas_of_urban_development/cit_014_areas_of_urban_development_2015_edit.tif',\n",
       " 'resourcewatch/cit_014_areas_of_urban_development/cit_014_areas_of_urban_development_2015_HDC_edit.tif',\n",
       " 'resourcewatch/cit_014_areas_of_urban_development/cit_014_areas_of_urban_development_2015_LDC_edit.tif']"
      ]
     },
     "execution_count": 13,
     "metadata": {},
     "output_type": "execute_result"
    }
   ],
   "source": [
    "s3_key_edits"
   ]
  },
  {
   "cell_type": "code",
   "execution_count": 31,
   "metadata": {
    "collapsed": true
   },
   "outputs": [
    {
     "name": "stdout",
     "output_type": "stream",
     "text": [
      "15236\n",
      "35497\n"
     ]
    },
    {
     "ename": "KeyboardInterrupt",
     "evalue": "",
     "output_type": "error",
     "traceback": [
      "\u001b[0;31m---------------------------------------------------------------------------\u001b[0m",
      "\u001b[0;31mKeyboardInterrupt\u001b[0m                         Traceback (most recent call last)",
      "\u001b[0;32m<ipython-input-31-60a3a234150e>\u001b[0m in \u001b[0;36m<module>\u001b[0;34m()\u001b[0m\n\u001b[1;32m      2\u001b[0m     \u001b[0morig_key\u001b[0m \u001b[0;34m=\u001b[0m \u001b[0mlocal_orig_keys\u001b[0m\u001b[0;34m[\u001b[0m\u001b[0mi\u001b[0m\u001b[0;34m]\u001b[0m\u001b[0;34m\u001b[0m\u001b[0m\n\u001b[1;32m      3\u001b[0m     \u001b[0medit_key\u001b[0m \u001b[0;34m=\u001b[0m \u001b[0mlocal_edit_keys\u001b[0m\u001b[0;34m[\u001b[0m\u001b[0mi\u001b[0m\u001b[0;34m]\u001b[0m\u001b[0;34m\u001b[0m\u001b[0m\n\u001b[0;32m----> 4\u001b[0;31m     \u001b[0mreproject_file\u001b[0m\u001b[0;34m(\u001b[0m\u001b[0morig_key\u001b[0m\u001b[0;34m,\u001b[0m \u001b[0medit_key\u001b[0m\u001b[0;34m)\u001b[0m\u001b[0;34m\u001b[0m\u001b[0m\n\u001b[0m\u001b[1;32m      5\u001b[0m     s3_upload.upload_file(edit_key, s3_bucket, s3_key_edits[i],\n\u001b[1;32m      6\u001b[0m                Callback=ProgressPercentage(edit_key))\n",
      "\u001b[0;32m<ipython-input-16-abc0921b065f>\u001b[0m in \u001b[0;36mreproject_file\u001b[0;34m(orig_name, edit_name)\u001b[0m\n\u001b[1;32m     43\u001b[0m             \u001b[0;32mfor\u001b[0m \u001b[0mix\u001b[0m\u001b[0;34m,\u001b[0m \u001b[0mwindow\u001b[0m \u001b[0;32min\u001b[0m \u001b[0mwindows\u001b[0m\u001b[0;34m:\u001b[0m\u001b[0;34m\u001b[0m\u001b[0m\n\u001b[1;32m     44\u001b[0m                 \u001b[0mdata\u001b[0m \u001b[0;34m=\u001b[0m \u001b[0msrc\u001b[0m\u001b[0;34m.\u001b[0m\u001b[0mread\u001b[0m\u001b[0;34m(\u001b[0m\u001b[0;36m1\u001b[0m\u001b[0;34m,\u001b[0m \u001b[0mwindow\u001b[0m\u001b[0;34m=\u001b[0m\u001b[0mwindow\u001b[0m\u001b[0;34m)\u001b[0m\u001b[0;34m\u001b[0m\u001b[0m\n\u001b[0;32m---> 45\u001b[0;31m                 \u001b[0mdst\u001b[0m\u001b[0;34m.\u001b[0m\u001b[0mwrite\u001b[0m\u001b[0;34m(\u001b[0m\u001b[0mdata\u001b[0m\u001b[0;34m.\u001b[0m\u001b[0mastype\u001b[0m\u001b[0;34m(\u001b[0m\u001b[0mprofile\u001b[0m\u001b[0;34m[\u001b[0m\u001b[0;34m\"dtype\"\u001b[0m\u001b[0;34m]\u001b[0m\u001b[0;34m)\u001b[0m\u001b[0;34m,\u001b[0m\u001b[0;36m1\u001b[0m\u001b[0;34m,\u001b[0m \u001b[0mwindow\u001b[0m\u001b[0;34m=\u001b[0m\u001b[0mwindow\u001b[0m\u001b[0;34m)\u001b[0m\u001b[0;34m\u001b[0m\u001b[0m\n\u001b[0m",
      "\u001b[0;31mKeyboardInterrupt\u001b[0m: "
     ]
    }
   ],
   "source": [
    "for i in range(0,6):\n",
    "    orig_key = local_orig_keys[i]\n",
    "    edit_key = local_edit_keys[i]\n",
    "    reproject_file(orig_key, edit_key)\n",
    "    s3_upload.upload_file(edit_key, s3_bucket, s3_key_edits[i],\n",
    "               Callback=ProgressPercentage(edit_key))"
   ]
  },
  {
   "cell_type": "markdown",
   "metadata": {},
   "source": [
    "Merge files and upload to s3"
   ]
  },
  {
   "cell_type": "code",
   "execution_count": 24,
   "metadata": {
    "collapsed": false
   },
   "outputs": [
    {
     "name": "stdout",
     "output_type": "stream",
     "text": [
      "/Users/nathansuberi/Desktop/RW_Data/cit_014_areas_of_urban_development_merge.tif  207084647 / 207084647.0  (100.00%)"
     ]
    }
   ],
   "source": [
    "with rio.open(local_edit_keys[0], 'r') as src:\n",
    "    profile = src.profile\n",
    "    \n",
    "profile.update(count=len(local_edit_keys))\n",
    "\n",
    "with rio.open(local_merge_key, 'w', **profile) as dst:\n",
    "    for idx, file in enumerate(local_edit_keys):\n",
    "        print(idx)\n",
    "        with rio.open(file) as src:\n",
    "            band = idx+1\n",
    "            windows = src.block_windows()\n",
    "            for win_id, window in windows:\n",
    "                src_data = src.read(1, window=window)\n",
    "                dst.write_band(band, src_data, window=window)\n",
    "\n",
    "s3_upload.upload_file(local_merge_key, s3_bucket, s3_key_merge,\n",
    "           Callback=ProgressPercentage(local_merge_key))"
   ]
  },
  {
   "cell_type": "code",
   "execution_count": null,
   "metadata": {
    "collapsed": true
   },
   "outputs": [],
   "source": [
    "s3_upload.upload_file(local_merge_key, s3_bucket, s3_key_merge,\n",
    "           Callback=ProgressPercentage(local_merge_key))"
   ]
  },
  {
   "cell_type": "markdown",
   "metadata": {},
   "source": [
    "Upload to GEE"
   ]
  },
  {
   "cell_type": "code",
   "execution_count": 25,
   "metadata": {
    "collapsed": false
   },
   "outputs": [
    {
     "name": "stdout",
     "output_type": "stream",
     "text": [
      "Non-MD5 etag (\"598d2e1c795c5c786ea954d8a9f83b05-25\") present for key <Key: wri-public-data,resourcewatch/cit_014_areas_of_urban_development/cit_014_areas_of_urban_development_merge.tif>, data integrity checks are not possible.\n",
      "Copying s3://wri-public-data/resourcewatch/cit_014_areas_of_urban_development/cit_014_areas_of_urban_development_merge.tif [Content-Type=binary/octet-stream]...\n",
      "WARNING: Found no hashes to validate object downloaded from s3://wri-public-data/resourcewatch/cit_014_areas_of_urban_development/cit_014_areas_of_urban_development_merge.tif and uploaded to gs://resource-watch-public/resourcewatch/cit_014_areas_of_urban_development/cit_014_areas_of_urban_development_merge.tif. Integrity cannot be assured without hashes.\n",
      "/ [1 files][197.5 MiB/197.5 MiB]    7.7 MiB/s                                   \n",
      "Operation completed over 1 objects/197.5 MiB.                                    \n"
     ]
    }
   ],
   "source": [
    "os.environ[\"s3_key\"] = \"s3://wri-public-data/\" + s3_key_merge\n",
    "os.environ[\"gs_key\"] = \"gs://resource-watch-public/\" + s3_key_merge\n",
    "\n",
    "!gsutil cp $s3_key $gs_key"
   ]
  },
  {
   "cell_type": "code",
   "execution_count": 33,
   "metadata": {
    "collapsed": false
   },
   "outputs": [
    {
     "name": "stdout",
     "output_type": "stream",
     "text": [
      "Copying s3://wri-public-data/resourcewatch/raster/cit_014_areas_of_urban_development/cit_014_areas_of_urban_development_1975.tif [Content-Type=binary/octet-stream]...\n",
      "\\ [1 files][  6.5 MiB/  6.5 MiB]                                                \n",
      "Operation completed over 1 objects/6.5 MiB.                                      \n",
      "Copying s3://wri-public-data/resourcewatch/raster/cit_014_areas_of_urban_development/cit_014_areas_of_urban_development_1990.tif [Content-Type=binary/octet-stream]...\n",
      "- [1 files][  7.2 MiB/  7.2 MiB]                                                \n",
      "Operation completed over 1 objects/7.2 MiB.                                      \n",
      "Copying s3://wri-public-data/resourcewatch/raster/cit_014_areas_of_urban_development/cit_014_areas_of_urban_development_2000.tif [Content-Type=binary/octet-stream]...\n",
      "\\ [1 files][  7.6 MiB/  7.6 MiB]                                                \n",
      "Operation completed over 1 objects/7.6 MiB.                                      \n",
      "Copying s3://wri-public-data/resourcewatch/raster/cit_014_areas_of_urban_development/cit_014_areas_of_urban_development_2015.tif [Content-Type=binary/octet-stream]...\n",
      "\\ [1 files][  7.6 MiB/  7.6 MiB]                                                \n",
      "Operation completed over 1 objects/7.6 MiB.                                      \n",
      "Copying s3://wri-public-data/resourcewatch/raster/cit_014_areas_of_urban_development/cit_014_areas_of_urban_development_2015_HDC.tif [Content-Type=binary/octet-stream]...\n",
      "\\ [1 files][  7.3 MiB/  7.3 MiB]                                                \n",
      "Operation completed over 1 objects/7.3 MiB.                                      \n",
      "Non-MD5 etag (\"6523dd0b51054df8282cf7355350d052-2\") present for key <Key: wri-public-data,resourcewatch/raster/cit_014_areas_of_urban_development/cit_014_areas_of_urban_development_2015_LDC.tif>, data integrity checks are not possible.\n",
      "Copying s3://wri-public-data/resourcewatch/raster/cit_014_areas_of_urban_development/cit_014_areas_of_urban_development_2015_LDC.tif [Content-Type=binary/octet-stream]...\n",
      "WARNING: Found no hashes to validate object downloaded from s3://wri-public-data/resourcewatch/raster/cit_014_areas_of_urban_development/cit_014_areas_of_urban_development_2015_LDC.tif and uploaded to gs://resource-watch-public/resourcewatch/raster/cit_014_areas_of_urban_development/cit_014_areas_of_urban_development_2015_LDC.tif. Integrity cannot be assured without hashes.\n",
      "\\ [1 files][ 10.7 MiB/ 10.7 MiB]                                                \n",
      "Operation completed over 1 objects/10.7 MiB.                                     \n"
     ]
    }
   ],
   "source": [
    "for file in s3_key_origs:\n",
    "    os.environ[\"s3_key\"] = \"s3://wri-public-data/\" + file\n",
    "    os.environ[\"gs_key\"] = \"gs://resource-watch-public/\" + file\n",
    "\n",
    "    !gsutil cp $s3_key $gs_key"
   ]
  },
  {
   "cell_type": "code",
   "execution_count": 34,
   "metadata": {
    "collapsed": false
   },
   "outputs": [
    {
     "name": "stdout",
     "output_type": "stream",
     "text": [
      "Non-MD5 etag (\"040c349e17c8ff62788a6a72b36eb9d5-5\") present for key <Key: wri-public-data,resourcewatch/raster/cit_014_areas_of_urban_development/cit_014_areas_of_urban_development_1975_edit.tif>, data integrity checks are not possible.\n",
      "Copying s3://wri-public-data/resourcewatch/raster/cit_014_areas_of_urban_development/cit_014_areas_of_urban_development_1975_edit.tif [Content-Type=binary/octet-stream]...\n",
      "WARNING: Found no hashes to validate object downloaded from s3://wri-public-data/resourcewatch/raster/cit_014_areas_of_urban_development/cit_014_areas_of_urban_development_1975_edit.tif and uploaded to gs://resource-watch-public/resourcewatch/raster/cit_014_areas_of_urban_development/cit_014_areas_of_urban_development_1975_edit.tif. Integrity cannot be assured without hashes.\n",
      "/ [1 files][ 39.0 MiB/ 39.0 MiB]                                                \n",
      "Operation completed over 1 objects/39.0 MiB.                                     \n",
      "Non-MD5 etag (\"4b20d784f324e4ef9d3030848695add0-5\") present for key <Key: wri-public-data,resourcewatch/raster/cit_014_areas_of_urban_development/cit_014_areas_of_urban_development_1990_edit.tif>, data integrity checks are not possible.\n",
      "Copying s3://wri-public-data/resourcewatch/raster/cit_014_areas_of_urban_development/cit_014_areas_of_urban_development_1990_edit.tif [Content-Type=binary/octet-stream]...\n",
      "WARNING: Found no hashes to validate object downloaded from s3://wri-public-data/resourcewatch/raster/cit_014_areas_of_urban_development/cit_014_areas_of_urban_development_1990_edit.tif and uploaded to gs://resource-watch-public/resourcewatch/raster/cit_014_areas_of_urban_development/cit_014_areas_of_urban_development_1990_edit.tif. Integrity cannot be assured without hashes.\n",
      "- [1 files][ 38.3 MiB/ 38.3 MiB]                                                \n",
      "Operation completed over 1 objects/38.3 MiB.                                     \n",
      "Non-MD5 etag (\"40dc7d812bfd1b700e1173b9f014b14f-5\") present for key <Key: wri-public-data,resourcewatch/raster/cit_014_areas_of_urban_development/cit_014_areas_of_urban_development_2000_edit.tif>, data integrity checks are not possible.\n",
      "Copying s3://wri-public-data/resourcewatch/raster/cit_014_areas_of_urban_development/cit_014_areas_of_urban_development_2000_edit.tif [Content-Type=binary/octet-stream]...\n",
      "WARNING: Found no hashes to validate object downloaded from s3://wri-public-data/resourcewatch/raster/cit_014_areas_of_urban_development/cit_014_areas_of_urban_development_2000_edit.tif and uploaded to gs://resource-watch-public/resourcewatch/raster/cit_014_areas_of_urban_development/cit_014_areas_of_urban_development_2000_edit.tif. Integrity cannot be assured without hashes.\n",
      "/ [1 files][ 38.4 MiB/ 38.4 MiB]                                                \n",
      "Operation completed over 1 objects/38.4 MiB.                                     \n",
      "Non-MD5 etag (\"e78a8f7b41837049d9ca6e5b0e0d6eaa-5\") present for key <Key: wri-public-data,resourcewatch/raster/cit_014_areas_of_urban_development/cit_014_areas_of_urban_development_2015_edit.tif>, data integrity checks are not possible.\n",
      "Copying s3://wri-public-data/resourcewatch/raster/cit_014_areas_of_urban_development/cit_014_areas_of_urban_development_2015_edit.tif [Content-Type=binary/octet-stream]...\n",
      "WARNING: Found no hashes to validate object downloaded from s3://wri-public-data/resourcewatch/raster/cit_014_areas_of_urban_development/cit_014_areas_of_urban_development_2015_edit.tif and uploaded to gs://resource-watch-public/resourcewatch/raster/cit_014_areas_of_urban_development/cit_014_areas_of_urban_development_2015_edit.tif. Integrity cannot be assured without hashes.\n",
      "- [1 files][ 38.6 MiB/ 38.6 MiB]    5.6 MiB/s                                   \n",
      "Operation completed over 1 objects/38.6 MiB.                                     \n",
      "Non-MD5 etag (\"4e041d3ec86d2809aae4e627a568b704-3\") present for key <Key: wri-public-data,resourcewatch/raster/cit_014_areas_of_urban_development/cit_014_areas_of_urban_development_2015_HDC_edit.tif>, data integrity checks are not possible.\n",
      "Copying s3://wri-public-data/resourcewatch/raster/cit_014_areas_of_urban_development/cit_014_areas_of_urban_development_2015_HDC_edit.tif [Content-Type=binary/octet-stream]...\n",
      "WARNING: Found no hashes to validate object downloaded from s3://wri-public-data/resourcewatch/raster/cit_014_areas_of_urban_development/cit_014_areas_of_urban_development_2015_HDC_edit.tif and uploaded to gs://resource-watch-public/resourcewatch/raster/cit_014_areas_of_urban_development/cit_014_areas_of_urban_development_2015_HDC_edit.tif. Integrity cannot be assured without hashes.\n",
      "- [1 files][ 18.5 MiB/ 18.5 MiB]                                                \n",
      "Operation completed over 1 objects/18.5 MiB.                                     \n",
      "Non-MD5 etag (\"be90bc177e7a51304bc09251894f33d5-4\") present for key <Key: wri-public-data,resourcewatch/raster/cit_014_areas_of_urban_development/cit_014_areas_of_urban_development_2015_LDC_edit.tif>, data integrity checks are not possible.\n",
      "Copying s3://wri-public-data/resourcewatch/raster/cit_014_areas_of_urban_development/cit_014_areas_of_urban_development_2015_LDC_edit.tif [Content-Type=binary/octet-stream]...\n",
      "WARNING: Found no hashes to validate object downloaded from s3://wri-public-data/resourcewatch/raster/cit_014_areas_of_urban_development/cit_014_areas_of_urban_development_2015_LDC_edit.tif and uploaded to gs://resource-watch-public/resourcewatch/raster/cit_014_areas_of_urban_development/cit_014_areas_of_urban_development_2015_LDC_edit.tif. Integrity cannot be assured without hashes.\n",
      "| [1 files][ 24.7 MiB/ 24.7 MiB]                                                \n",
      "Operation completed over 1 objects/24.7 MiB.                                     \n"
     ]
    }
   ],
   "source": [
    "for file in s3_key_edits:\n",
    "    os.environ[\"s3_key\"] = \"s3://wri-public-data/\" + file\n",
    "    os.environ[\"gs_key\"] = \"gs://resource-watch-public/\" + file\n",
    "\n",
    "    !gsutil cp $s3_key $gs_key"
   ]
  },
  {
   "cell_type": "markdown",
   "metadata": {},
   "source": [
    "Create assets"
   ]
  },
  {
   "cell_type": "code",
   "execution_count": 26,
   "metadata": {
    "collapsed": false
   },
   "outputs": [
    {
     "name": "stdout",
     "output_type": "stream",
     "text": [
      "Started upload task with ID: SSYOUDLMBOS73WFM26N2DDC4\r\n"
     ]
    }
   ],
   "source": [
    "os.environ[\"gs_key\"] = \"gs://resource-watch-public/\" + s3_key_merge\n",
    "os.environ[\"asset_id\"] = \"users/resourcewatch/cit_014_areas_of_urban_development_merged\"\n",
    "\n",
    "!earthengine upload image --asset_id=$asset_id $gs_key"
   ]
  },
  {
   "cell_type": "code",
   "execution_count": 37,
   "metadata": {
    "collapsed": false
   },
   "outputs": [
    {
     "data": {
      "text/plain": [
       "'cit_014_areas_of_urban_development_1975'"
      ]
     },
     "execution_count": 37,
     "metadata": {},
     "output_type": "execute_result"
    }
   ],
   "source": [
    "s3_files[0][0:-4]"
   ]
  },
  {
   "cell_type": "code",
   "execution_count": 39,
   "metadata": {
    "collapsed": false
   },
   "outputs": [
    {
     "name": "stdout",
     "output_type": "stream",
     "text": [
      "Started upload task with ID: 4VI4IU75JFFU2XCRMUM7DF5O\n",
      "Started upload task with ID: PIKH7LIWVUOOHIVQJ3TGBQF5\n",
      "Started upload task with ID: OGEXAZP2K3AIA35Q2BAOQYGE\n",
      "Started upload task with ID: YSDWWF4UZPCLMLQJKKGHVKV3\n",
      "Started upload task with ID: FS6SYSEDUGZ7OOS7H3UZADZF\n",
      "Started upload task with ID: VA2HQVFNPXMFWYAKZR2OENPH\n"
     ]
    }
   ],
   "source": [
    "for ix, file in enumerate(s3_files):\n",
    "    os.environ[\"gs_key\"] = \"gs://resource-watch-public/\" + s3_key_origs[ix]\n",
    "    os.environ[\"asset_id\"] = \"users/resourcewatch/\" + file[:-4]\n",
    "\n",
    "    !earthengine upload image --asset_id=$asset_id $gs_key"
   ]
  },
  {
   "cell_type": "code",
   "execution_count": 40,
   "metadata": {
    "collapsed": false
   },
   "outputs": [
    {
     "name": "stdout",
     "output_type": "stream",
     "text": [
      "Started upload task with ID: MEJI6LPVPNSSUABNENFI5FAU\n",
      "Started upload task with ID: UZHUNG4JJK5P4MKFB63M3WML\n",
      "Started upload task with ID: 6NGE7NTTIV7MFMH5TK5Q6POP\n",
      "Started upload task with ID: YDQYDY2RIX3YMSMZFO5ULFG5\n",
      "Started upload task with ID: DQ6GPR6A5TAVANFVHFWUDSUE\n",
      "Started upload task with ID: M25P7LBDU7H6MVWA333FZ4DR\n"
     ]
    }
   ],
   "source": [
    "for ix, file in enumerate(s3_files):\n",
    "    os.environ[\"gs_key\"] = \"gs://resource-watch-public/\" + s3_key_edits[ix]\n",
    "    os.environ[\"asset_id\"] = \"users/resourcewatch/\" + file[:-4] + \"_edit\"\n",
    "\n",
    "    !earthengine upload image --asset_id=$asset_id $gs_key"
   ]
  },
  {
   "cell_type": "code",
   "execution_count": null,
   "metadata": {
    "collapsed": true
   },
   "outputs": [],
   "source": [
    "!earthengine acl set public $asset_id"
   ]
  },
  {
   "cell_type": "code",
   "execution_count": null,
   "metadata": {
    "collapsed": true
   },
   "outputs": [],
   "source": [
    "# os.environ[\"band_names\"] = str(band_names)\n",
    "\n",
    "# !earthengine asset set -p '(string)band_names='\"$band_names\" $asset_id"
   ]
  }
 ],
 "metadata": {
  "kernelspec": {
   "display_name": "Python 3",
   "language": "python",
   "name": "python3"
  },
  "language_info": {
   "codemirror_mode": {
    "name": "ipython",
    "version": 3
   },
   "file_extension": ".py",
   "mimetype": "text/x-python",
   "name": "python",
   "nbconvert_exporter": "python",
   "pygments_lexer": "ipython3",
   "version": "3.6.0"
  }
 },
 "nbformat": 4,
 "nbformat_minor": 2
}
