{
 "cells": [
  {
   "cell_type": "code",
   "execution_count": 86,
   "metadata": {
    "collapsed": false
   },
   "outputs": [],
   "source": [
    "import netCDF4 as nc\n",
    "from matplotlib import pyplot as plt\n",
    "%matplotlib inline\n",
    "\n",
    "# Libraries for downloading data from FTP\n",
    "import shutil\n",
    "import urllib.request as obj_req\n",
    "from contextlib import closing\n",
    "import gzip\n",
    "\n",
    "remote_path = \"https://data.giss.nasa.gov/pub/gistemp/\"\n",
    "file1 = \"gistemp1200_ERSSTv5.nc.gz\"\n",
    "file2 = \"gistemp250.nc.gz\"\n",
    "\n",
    "recent_files = [file1, file2]"
   ]
  },
  {
   "cell_type": "code",
   "execution_count": 78,
   "metadata": {
    "collapsed": false
   },
   "outputs": [],
   "source": [
    "local_storage = \"/Users/nathansuberi/Desktop/RW_Data/GISSTEMP/\"\n",
    "\n",
    "for file in recent_files:\n",
    "    ftp_loc = remote_path + file\n",
    "    local_file = local_storage + file\n",
    "    with closing(obj_req.urlopen(ftp_loc)) as r:\n",
    "        # Unzip the file while copying over\n",
    "        with gzip.open(r, \"rb\") as unzipped:\n",
    "            with open(local_file[:-3], 'wb') as f:\n",
    "                shutil.copyfileobj(unzipped, f)"
   ]
  },
  {
   "cell_type": "code",
   "execution_count": 79,
   "metadata": {
    "collapsed": false
   },
   "outputs": [],
   "source": [
    "temp250 = nc.Dataset(local_storage + \"gistemp250.nc\")"
   ]
  },
  {
   "cell_type": "code",
   "execution_count": 80,
   "metadata": {
    "collapsed": false
   },
   "outputs": [
    {
     "data": {
      "text/plain": [
       "<class 'netCDF4._netCDF4.Dataset'>\n",
       "root group (NETCDF3_CLASSIC data model, file format NETCDF3):\n",
       "    title: GISTEMP Surface Temperature Analysis\n",
       "    institution: NASA Goddard Institute for Space Studies\n",
       "    source: http://data.giss.nasa.gov/gistemp/\n",
       "    Conventions: CF-1.6\n",
       "    history: Created 2017-10-13 09:39:25 by SBBX_to_nc 2.0 - ILAND=250,  IOCEAN=none,     Base: 1951-1980\n",
       "    dimensions(sizes): lat(90), lon(180), time(1653), nv(2)\n",
       "    variables(dimensions): float32 \u001b[4mlat\u001b[0m(lat), float32 \u001b[4mlon\u001b[0m(lon), int32 \u001b[4mtime\u001b[0m(time), int32 \u001b[4mtime_bnds\u001b[0m(time,nv), int16 \u001b[4mtempanomaly\u001b[0m(time,lat,lon)\n",
       "    groups: "
      ]
     },
     "execution_count": 80,
     "metadata": {},
     "output_type": "execute_result"
    }
   ],
   "source": [
    "temp250"
   ]
  },
  {
   "cell_type": "code",
   "execution_count": 12,
   "metadata": {
    "collapsed": false
   },
   "outputs": [
    {
     "data": {
      "text/plain": [
       "['lat', 'lon', 'time', 'time_bnds', 'tempanomaly']"
      ]
     },
     "execution_count": 12,
     "metadata": {},
     "output_type": "execute_result"
    }
   ],
   "source": [
    "[var for var in temp250.variables]"
   ]
  },
  {
   "cell_type": "code",
   "execution_count": 30,
   "metadata": {
    "collapsed": false
   },
   "outputs": [
    {
     "name": "stdout",
     "output_type": "stream",
     "text": [
      "['long_name', 'units', 'bounds']\n",
      "days since 1800-01-01 00:00:00\n"
     ]
    }
   ],
   "source": [
    "print(temp250.variables[\"time\"].ncattrs())\n",
    "print(temp250.variables[\"time\"].getncattr('units'))"
   ]
  },
  {
   "cell_type": "code",
   "execution_count": 44,
   "metadata": {
    "collapsed": false
   },
   "outputs": [
    {
     "name": "stdout",
     "output_type": "stream",
     "text": [
      "Data starts at: 1880.09041096\n",
      "First five values: [29233 29264 29293 29324 29354] , monthly measurements\n",
      "First five approx years: [1880.0904109589042, 1880.1753424657534, 1880.2547945205479, 1880.3397260273973, 1880.4219178082192]\n",
      "Data goes until: 2017.84931507\n"
     ]
    }
   ],
   "source": [
    "print(\"Data starts at:\", 1800 + temp250.variables[\"time\"][0] / 365)\n",
    "print(\"First five values:\",temp250.variables[\"time\"][0:5], \", monthly measurements\")\n",
    "print(\"First five approx years:\",[1800 + val / 365 for val in temp250.variables[\"time\"][0:5]])\n",
    "print(\"Data goes until:\", 1800 + temp250.variables[\"time\"][-1] / 365)"
   ]
  },
  {
   "cell_type": "code",
   "execution_count": 85,
   "metadata": {
    "collapsed": false
   },
   "outputs": [
    {
     "data": {
      "text/plain": [
       "<matplotlib.image.AxesImage at 0x12b9c1ac8>"
      ]
     },
     "execution_count": 85,
     "metadata": {},
     "output_type": "execute_result"
    },
    {
     "data": {
      "image/png": "[encoded data removed]",
      "text/plain": [
       "<matplotlib.figure.Figure at 0x123638f60>"
      ]
     },
     "metadata": {},
     "output_type": "display_data"
    }
   ],
   "source": [
    "first_temp250_data = temp250.variables[\"tempanomaly\"][0, :, :]\n",
    "plt.imshow(first_temp250_data)"
   ]
  },
  {
   "cell_type": "code",
   "execution_count": 84,
   "metadata": {
    "collapsed": false
   },
   "outputs": [
    {
     "data": {
      "text/plain": [
       "<matplotlib.image.AxesImage at 0x1236e84a8>"
      ]
     },
     "execution_count": 84,
     "metadata": {},
     "output_type": "execute_result"
    },
    {
     "data": {
      "image/png": "[encoded data removed]",
      "text/plain": [
       "<matplotlib.figure.Figure at 0x1236389e8>"
      ]
     },
     "metadata": {},
     "output_type": "display_data"
    }
   ],
   "source": [
    "last_temp250_data = temp250.variables[\"tempanomaly\"][-1, :, :]\n",
    "plt.imshow(last_temp250_data)"
   ]
  },
  {
   "cell_type": "code",
   "execution_count": null,
   "metadata": {
    "collapsed": true
   },
   "outputs": [],
   "source": [
    "# Reproject using rasterio and/or gdal\n",
    "\n",
    "data = last_temp250_data\n",
    "\n",
    "src_crs = \"?\"\n",
    "src_width = \n",
    "\n",
    "out = local_storage + \"gistemp250_edit.tif\"\n",
    "dst_crs = \"EPSG:4326\"\n",
    "\n",
    "dst_affine, dst_width, dst_height = calculate_default_transform(\n",
    "        src.crs, dst_crs, src_width, src_height, *src.bounds)\n",
    "\n",
    "profile.update({\n",
    "        'crs': dst_crs,\n",
    "        'transform': dst_affine,\n",
    "        'width': dst_width,\n",
    "        'height': dst_height\n",
    "    })\n",
    "\n",
    "with rio.open(out, 'w', **profile) as dst:\n",
    "    src_array = src.read(indexes=1)\n",
    "    dst_array = np.empty((dst_height, dst_width), dtype=src.profile[\"dtype\"])\n",
    "\n",
    "    reproject(\n",
    "        # Source parameters\n",
    "        source=data_2030,\n",
    "        src_crs=src.crs,\n",
    "        src_transform=src.transform,\n",
    "        # Destination paramaters\n",
    "        destination=dst_array,\n",
    "        dst_transform=dst_affine,\n",
    "        dst_crs=dst_crs,\n",
    "        # Configuration\n",
    "        resampling=Resampling.nearest,\n",
    "        num_threads=2)\n",
    "\n",
    "    dst.write(dst_array, indexes=1)"
   ]
  }
 ],
 "metadata": {
  "kernelspec": {
   "display_name": "Python 3",
   "language": "python",
   "name": "python3"
  },
  "language_info": {
   "codemirror_mode": {
    "name": "ipython",
    "version": 3
   },
   "file_extension": ".py",
   "mimetype": "text/x-python",
   "name": "python",
   "nbconvert_exporter": "python",
   "pygments_lexer": "ipython3",
   "version": "3.6.0"
  }
 },
 "nbformat": 4,
 "nbformat_minor": 2
}
