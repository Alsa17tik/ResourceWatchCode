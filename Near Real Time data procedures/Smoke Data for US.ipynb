{
 "cells": [
  {
   "cell_type": "code",
   "execution_count": null,
   "metadata": {
    "collapsed": false
   },
   "outputs": [],
   "source": [
    "# Data handling libraries\n",
    "import pandas as pd\n",
    "#import fiona\n",
    "#import geopandas as gpd\n",
    "\n",
    "# Misc helpers\n",
    "import json\n",
    "from datetime import datetime\n",
    "import os\n",
    "\n",
    "# Authentication\n",
    "from configparser import ConfigParser\n",
    "\n",
    "config = ConfigParser()\n",
    "config.read(\"../.env\")\n",
    "# FROM: https://resourcewatch.carto.com/u/wri-rw/your_apps\n",
    "carto_api_token = config.get(\"auth\", \"carto_api_token\")\n",
    "\n",
    "# URL interactions\n",
    "import requests as req\n",
    "\n",
    "# Libraries for downloading data from FTP\n",
    "import shutil\n",
    "import urllib.request as obj_req\n",
    "from contextlib import closing\n",
    "\n",
    "remote_path = \"ftp://satepsanone.nesdis.noaa.gov/FIRE/HMS/GIS/\"\n",
    "\n",
    "# data upload\n",
    "import boto3\n",
    "import sys\n",
    "import threading\n",
    "\n",
    "s3_upload = boto3.client(\"s3\")\n",
    "s3_download = boto3.resource(\"s3\")\n",
    "s3_bucket = \"wri-public-data\"\n",
    "s3_folder = \"resourcewatch/\"\n",
    "zipped_file_name = \"yesterday_smoke_shapefile\"\n",
    "\n",
    "class ProgressPercentage(object):\n",
    "        def __init__(self, filename):\n",
    "            self._filename = filename\n",
    "            self._size = float(os.path.getsize(filename))\n",
    "            self._seen_so_far = 0\n",
    "            self._lock = threading.Lock()\n",
    "\n",
    "        def __call__(self, bytes_amount):\n",
    "            # To simplify we'll assume this is hooked up\n",
    "            # to a single filename.\n",
    "            with self._lock:\n",
    "                self._seen_so_far += bytes_amount\n",
    "                percentage = (self._seen_so_far / self._size) * 100\n",
    "                sys.stdout.write(\"\\r%s  %s / %s  (%.2f%%)\"%(\n",
    "                        self._filename, self._seen_so_far, self._size,\n",
    "                        percentage))\n",
    "                sys.stdout.flush()"
   ]
  },
  {
   "cell_type": "code",
   "execution_count": null,
   "metadata": {
    "collapsed": false
   },
   "outputs": [],
   "source": [
    "# View smoke data files available on ftp\n",
    "file = obj_req.urlopen(remote_path).read().splitlines()\n",
    "file"
   ]
  },
  {
   "cell_type": "code",
   "execution_count": 6,
   "metadata": {
    "collapsed": false
   },
   "outputs": [
    {
     "name": "stdout",
     "output_type": "stream",
     "text": [
      "/Users/nathansuberi/Desktop/RW_Data/Smoke/yesterday_smoke/hms_smoke20171019.prelim.shp\n",
      "/Users/nathansuberi/Desktop/RW_Data/Smoke/yesterday_smoke/hms_smoke20171019.prelim.shx\n",
      "/Users/nathansuberi/Desktop/RW_Data/Smoke/yesterday_smoke/hms_smoke20171019.prelim.dbf\n"
     ]
    }
   ],
   "source": [
    "# Download most recent smoke data - or past 4 days?\n",
    "# If want to include a history, need to do reformatting if \n",
    "# 4 day interval extends across 2 months\n",
    "\n",
    "def format_month(mon):\n",
    "    if mon < 10:\n",
    "        return(\"0\" + str(mon))\n",
    "    else:\n",
    "        return(str(mon))\n",
    "\n",
    "now = datetime.now()\n",
    "year = str(now.year)\n",
    "month = format_month(now.month)\n",
    "today = str(now.day)\n",
    "yesterday = str(now.day-1)\n",
    "\n",
    "def create_most_recent_file(year, month, day):\n",
    "    files = [\n",
    "        \"hms_smoke{}{}{}.prelim.shp\".format(year, month, day),\n",
    "        \"hms_smoke{}{}{}.prelim.shx\".format(year, month, day),\n",
    "        \"hms_smoke{}{}{}.prelim.dbf\".format(year, month, day)\n",
    "    ]\n",
    "    return(files)\n",
    "\n",
    "# recent_files = create_most_recent_file(year, month, today)\n",
    "recent_files = create_most_recent_file(year, month, yesterday)\n",
    "\n",
    "smoke_folder = \"/Users/nathansuberi/Desktop/RW_Data/Smoke/\"\n",
    "yesterday_smoke_folder = \"/Users/nathansuberi/Desktop/RW_Data/Smoke/yesterday_smoke/\"\n",
    "\n",
    "for file in recent_files:\n",
    "    ftp_loc = remote_path+file\n",
    "    local_file = yesterday_smoke_folder + file\n",
    "    print(local_file)\n",
    "    with closing(obj_req.urlopen(ftp_loc)) as r:\n",
    "        with open(local_file, 'wb') as f:\n",
    "            shutil.copyfileobj(r, f)"
   ]
  },
  {
   "cell_type": "code",
   "execution_count": 7,
   "metadata": {
    "collapsed": false
   },
   "outputs": [
    {
     "name": "stdout",
     "output_type": "stream",
     "text": [
      "\r",
      "yesterday_smoke_shapefile.zip  24035 / 24035.0  (100.00%)"
     ]
    }
   ],
   "source": [
    "# Prepare data, upload to S3\n",
    "\n",
    "# Zip file: https://stackoverflow.com/questions/1855095/how-to-create-a-zip-archive-of-a-directory\n",
    "os.chdir(smoke_folder)\n",
    "shutil.make_archive(zipped_file_name, 'zip', yesterday_smoke_folder)\n",
    "\n",
    "# Upload to S3\n",
    "s3_upload.upload_file(zipped_file_name + \".zip\", s3_bucket, s3_folder + zipped_file_name + \".zip\",\n",
    "                         Callback=ProgressPercentage(zipped_file_name + \".zip\"))\n",
    "\n",
    "# Deleteoriginal files and zipped files from local\n",
    "\n",
    "# Unlink is the same as os.remove\n",
    "for folder in [yesterday_smoke_folder, smoke_folder]:\n",
    "    for file in os.listdir(folder):\n",
    "        file_path = os.path.join(folder, file)\n",
    "        try:\n",
    "            if os.path.isfile(file_path):\n",
    "                os.unlink(file_path)\n",
    "            #elif os.path.isdir(file_path): shutil.rmtree(file_path)\n",
    "        except Exception as e:\n",
    "            print(e)    "
   ]
  },
  {
   "cell_type": "code",
   "execution_count": 10,
   "metadata": {
    "collapsed": false
   },
   "outputs": [
    {
     "name": "stdout",
     "output_type": "stream",
     "text": [
      "{\"data_import\":{\"endpoint\":\"/api/v1/imports\",\"item_queue_id\":\"d8d79dbe-dd5d-482b-9e17-b05007f5f3a5\"},\"id\":\"75148898-b5a7-11e7-9db9-0e831088b0bc\",\"name\":null,\"interval\":86400,\"url\":\"https://wri-public-data.s3.amazonaws.com/resourcewatch/yesterday_smoke_shapefile.zip\",\"state\":\"created\",\"user_id\":\"c73d7d4a-5ff5-4d7c-bfb8-53dd1a6ce8f9\",\"created_at\":\"2017-10-20T15:00:48+00:00\",\"updated_at\":\"2017-10-20T15:00:48+00:00\",\"run_at\":\"2017-10-21T15:00:48+00:00\",\"ran_at\":\"2017-10-20T15:00:48+00:00\",\"modified_at\":null,\"etag\":null,\"checksum\":\"\",\"log_id\":null,\"error_code\":null,\"error_message\":null,\"retried_times\":0,\"service_name\":null,\"service_item_id\":null,\"type_guessing\":true,\"quoted_fields_guessing\":true,\"content_guessing\":false,\"visualization_id\":null,\"from_external_source\":false}\n"
     ]
    }
   ],
   "source": [
    "# Sync carto table with S3 url\n",
    "# zipped_file_name = \"latest_smoke_shapefile.zip\"\n",
    "data_url = \"https://wri-public-data.s3.amazonaws.com/resourcewatch/\" + zipped_file_name + \".zip\"\n",
    "# 3600 = sync every hour\n",
    "# 3600 * 24 = sync every day\n",
    "interval = str(3600*24)\n",
    "\n",
    "payload = {\n",
    "    \"url\":data_url,\n",
    "    \"interval\":interval\n",
    "}\n",
    "\n",
    "sync_url = \"https://wri-rw.carto.com/api/v1/synchronizations/?api_key={}\".format(carto_api_token)\n",
    "headers = {\n",
    "    'content-type': \"application/json\"\n",
    "}\n",
    "\n",
    "res = req.request(\"POST\", sync_url, data=json.dumps(payload), headers = headers)\n",
    "print(res.text)"
   ]
  },
  {
   "cell_type": "code",
   "execution_count": 19,
   "metadata": {
    "collapsed": false
   },
   "outputs": [
    {
     "name": "stdout",
     "output_type": "stream",
     "text": [
      "{\"enqueued\":false,\"synchronization_id\":\"75148898-b5a7-11e7-9db9-0e831088b0bc\"}\n"
     ]
    }
   ],
   "source": [
    "# Force sync, will only go through if last sync was more than 15 minutes ago\n",
    "import_id = \"75148898-b5a7-11e7-9db9-0e831088b0bc\"\n",
    "headers = {\n",
    "    \"content-length\":\"0\"\n",
    "}\n",
    "res = req.put(\"https://wri-rw.carto.com/api/v1/synchronizations/{}/sync_now?api_key={}\".format(import_id, carto_api_token),\n",
    "             headers=headers)\n",
    "print(res.text)"
   ]
  }
 ],
 "metadata": {
  "kernelspec": {
   "display_name": "Python 3",
   "language": "python",
   "name": "python3"
  },
  "language_info": {
   "codemirror_mode": {
    "name": "ipython",
    "version": 3
   },
   "file_extension": ".py",
   "mimetype": "text/x-python",
   "name": "python",
   "nbconvert_exporter": "python",
   "pygments_lexer": "ipython3",
   "version": "3.6.0"
  }
 },
 "nbformat": 4,
 "nbformat_minor": 2
}
