{
 "cells": [
  {
   "cell_type": "code",
   "execution_count": 1,
   "metadata": {
    "collapsed": true
   },
   "outputs": [],
   "source": [
    "import requests as req\n",
    "import pandas as pd"
   ]
  },
  {
   "cell_type": "markdown",
   "metadata": {},
   "source": [
    "Documentation: https://docs.openaq.org"
   ]
  },
  {
   "cell_type": "code",
   "execution_count": null,
   "metadata": {
    "collapsed": true
   },
   "outputs": [],
   "source": [
    "# Cities\n",
    "url = \"https://api.openaq.org/v1/cities\"\n",
    "# Countries\n",
    "url = \"https://api.openaq.org/v1/countries\"\n",
    "# Fetches\n",
    "url = \"https://api.openaq.org/v1/fetches\"\n",
    "# Latest\n",
    "url = \"https://api.openaq.org/v1/latest\"\n",
    "# Locations\n",
    "url = \"https://api.openaq.org/v1/locations\"\n",
    "# Measurements\n",
    "url = \"https://api.openaq.org/v1/measurements\"\n",
    "# Parameters\n",
    "url = \"https://api.openaq.org/v1/parameters\"\n",
    "# Sources\n",
    "url = \"https://api.openaq.org/v1/sources\""
   ]
  },
  {
   "cell_type": "code",
   "execution_count": null,
   "metadata": {
    "collapsed": false
   },
   "outputs": [],
   "source": [
    "url = \"https://api.openaq.org/v1/latest\"\n",
    "\n",
    "params = {\n",
    "    \"limit\":10000\n",
    "}\n",
    "\n",
    "res = req.get(url, params=params)\n",
    "data = res.json()\n",
    "df = pd.io.json.json_normalize(data[\"results\"])\n",
    "df"
   ]
  },
  {
   "cell_type": "code",
   "execution_count": null,
   "metadata": {
    "collapsed": true
   },
   "outputs": [],
   "source": [
    "print(df.columns)\n",
    "columns_to_keep = []"
   ]
  }
 ],
 "metadata": {
  "kernelspec": {
   "display_name": "Python 3",
   "language": "python",
   "name": "python3"
  },
  "language_info": {
   "codemirror_mode": {
    "name": "ipython",
    "version": 3
   },
   "file_extension": ".py",
   "mimetype": "text/x-python",
   "name": "python",
   "nbconvert_exporter": "python",
   "pygments_lexer": "ipython3",
   "version": "3.6.0"
  }
 },
 "nbformat": 4,
 "nbformat_minor": 2
}
