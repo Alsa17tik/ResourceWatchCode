{
 "cells": [
  {
   "cell_type": "code",
   "execution_count": 1,
   "metadata": {
    "collapsed": true
   },
   "outputs": [],
   "source": [
    "import boto3\n",
    "import pandas as pd\n",
    "import os"
   ]
  },
  {
   "cell_type": "code",
   "execution_count": null,
   "metadata": {
    "collapsed": true
   },
   "outputs": [],
   "source": [
    "vectors_on_s3 = \"/Users/nathansuberi/Desktop/RW_Data/temp-vector_files_on_s3.csv\"\n",
    "os.environ[\"Ztmp_file_vectors\"] = vectors_on_s3\n",
    "\n",
    "!aws s3 ls wri-public-data/resourcewatch/ > $Ztmp_file\n",
    "s3_ls_output_public_data = pd.read_csv(\"./s3_datasets1.csv\", header = None)"
   ]
  },
  {
   "cell_type": "code",
   "execution_count": null,
   "metadata": {
    "collapsed": true
   },
   "outputs": [],
   "source": [
    "def check_data_topic(string):\n",
    "    \"\"\"Find first match\"\"\"\n",
    "    try:\n",
    "        \n",
    "        len_str = len(string)\n",
    "        if(len_str < 3):\n",
    "            # Can have nothing if string not at least 3 chars\n",
    "            return(None)\n",
    "        \n",
    "        else:\n",
    "            \n",
    "            dataset = \"\"\n",
    "            \n",
    "            for ix in range(0,len_str - 3):\n",
    "                sample = string[ix:ix+3]\n",
    "                if(sample in unique_id_prefixes):\n",
    "                    dataset = string[ix:ix+7]\n",
    "                    return(dataset)\n",
    "            if dataset == \"\":\n",
    "                return(None)\n",
    "    except:\n",
    "        # If error on checking string length, return None\n",
    "        return(None)"
   ]
  }
 ],
 "metadata": {
  "kernelspec": {
   "display_name": "Python 3",
   "language": "python",
   "name": "python3"
  },
  "language_info": {
   "codemirror_mode": {
    "name": "ipython",
    "version": 3
   },
   "file_extension": ".py",
   "mimetype": "text/x-python",
   "name": "python",
   "nbconvert_exporter": "python",
   "pygments_lexer": "ipython3",
   "version": "3.6.0"
  }
 },
 "nbformat": 4,
 "nbformat_minor": 2
}
