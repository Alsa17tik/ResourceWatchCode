{
 "cells": [
  {
   "cell_type": "code",
   "execution_count": null,
   "metadata": {
    "collapsed": false
   },
   "outputs": [],
   "source": [
    "import requests as req\n",
    "import pandas as pd\n",
    "import numpy as np\n",
    "from rw_api_tools.rw_api_tools import rw_api_tools as rw\n",
    "rw = rw()"
   ]
  },
  {
   "cell_type": "code",
   "execution_count": null,
   "metadata": {
    "collapsed": true
   },
   "outputs": [],
   "source": [
    "pd.options.display.max_rows = 4000\n",
    "pd.options.display.max_columns = 4000"
   ]
  },
  {
   "cell_type": "code",
   "execution_count": null,
   "metadata": {
    "collapsed": false
   },
   "outputs": [],
   "source": [
    "carto_data = rw.get_rw_datasets(provider=\"cartodb\")"
   ]
  },
  {
   "cell_type": "code",
   "execution_count": null,
   "metadata": {
    "collapsed": false
   },
   "outputs": [],
   "source": [
    "wb_datasets = pd.DataFrame([carto_data.loc[ix] for ix in carto_data.index if \"wb\" in carto_data.loc[ix, \"table_name\"]])"
   ]
  },
  {
   "cell_type": "code",
   "execution_count": null,
   "metadata": {
    "collapsed": false
   },
   "outputs": [],
   "source": [
    "wb_datasets"
   ]
  },
  {
   "cell_type": "code",
   "execution_count": null,
   "metadata": {
    "collapsed": false
   },
   "outputs": [],
   "source": [
    "def create_query(rw_id, table_name):\n",
    "    sql = \"SELECT * FROM {}\".format(table_name)\n",
    "    query = \"https://api.resourcewatch.org/v1/query/{}?sql={}\".format(rw_id, sql)\n",
    "    return(query)\n",
    "\n",
    "wb_datasets[\"query\"] = list(map(create_query, wb_datasets[\"rw_id\"], wb_datasets[\"table_name\"]))"
   ]
  },
  {
   "cell_type": "code",
   "execution_count": null,
   "metadata": {
    "collapsed": false
   },
   "outputs": [],
   "source": [
    "def retrieve_data(query):\n",
    "    print(\"RW API query:\", query)\n",
    "    res = req.get(query)\n",
    "    data = res.json()[\"data\"]\n",
    "    print(\"Num results: \", len(data))\n",
    "    return(data)\n",
    "\n",
    "wb_datasets[\"data\"] = list(map(retrieve_data, wb_datasets[\"query\"]))"
   ]
  },
  {
   "cell_type": "code",
   "execution_count": null,
   "metadata": {
    "collapsed": false
   },
   "outputs": [],
   "source": [
    "starter = pd.DataFrame(wb_datasets[\"data\"].iloc[0]).sort_values(by=[\"time\", \"country_code\"])\n",
    "tuples = list(zip(*[starter[\"time\"],starter[\"country_code\"]]))\n",
    "multi_index = pd.MultiIndex.from_tuples(tuples, names=[\"year\", \"country_code\"])\n",
    "starter.index = multi_index\n",
    "starter = starter.drop([\"the_geom\", \"the_geom_webmercator\", \"cartodb_id\", \"time_code\", \"time\", \"country_code\"], axis=1)"
   ]
  },
  {
   "cell_type": "code",
   "execution_count": null,
   "metadata": {
    "collapsed": false
   },
   "outputs": [],
   "source": [
    "def add_wb_col(old_data, new_data):\n",
    "    add_on = pd.DataFrame(new_data).sort_values(by=[\"time\", \"country_code\"])\n",
    "    tuples = list(zip(*[add_on[\"time\"],add_on[\"country_code\"]]))\n",
    "    multi_index = pd.MultiIndex.from_tuples(tuples, names=[\"year\", \"country_code\"])\n",
    "    add_on.index = multi_index\n",
    "    add_on = add_on.drop([\"the_geom\", \"the_geom_webmercator\", \"cartodb_id\", \"time_code\", \"time\", \"country_code\", \"country_name\"], axis=1)\n",
    "\n",
    "    return(old_data.join(add_on))\n",
    "\n",
    "wb_data = starter\n",
    "\n",
    "for i in range(1,wb_datasets.shape[0]):\n",
    "    wb_data = add_wb_col(wb_data, wb_datasets[\"data\"].iloc[i])"
   ]
  },
  {
   "cell_type": "code",
   "execution_count": null,
   "metadata": {
    "collapsed": false
   },
   "outputs": [],
   "source": [
    "data_for_nate = wb_data.reset_index()"
   ]
  },
  {
   "cell_type": "code",
   "execution_count": null,
   "metadata": {
    "collapsed": false
   },
   "outputs": [],
   "source": [
    "data_for_nate = data_for_nate.replace(\"..\", np.nan)"
   ]
  },
  {
   "cell_type": "code",
   "execution_count": null,
   "metadata": {
    "collapsed": false
   },
   "outputs": [],
   "source": [
    "data_for_nate_iso3 = data_for_nate[\"country_code\"].values"
   ]
  },
  {
   "cell_type": "code",
   "execution_count": null,
   "metadata": {
    "collapsed": false
   },
   "outputs": [],
   "source": [
    "# Import country boundary shapefile to make sure unique ID matches\n",
    "country_boundaries = pd.read_json(\"/Users/nathansuberi/Desktop/RW_Data/all_primary_countries.json\")[\"features\"]\n",
    "country_boundaries = pd.io.json.json_normalize(country_boundaries)"
   ]
  },
  {
   "cell_type": "code",
   "execution_count": null,
   "metadata": {
    "collapsed": false
   },
   "outputs": [],
   "source": [
    "country_boundaries.head()"
   ]
  },
  {
   "cell_type": "code",
   "execution_count": null,
   "metadata": {
    "collapsed": false
   },
   "outputs": [],
   "source": [
    "shapefile_iso3 = country_boundaries[\"properties.iso_a3\"].values"
   ]
  },
  {
   "cell_type": "code",
   "execution_count": null,
   "metadata": {
    "collapsed": false
   },
   "outputs": [],
   "source": [
    "shapefile_iso3"
   ]
  },
  {
   "cell_type": "code",
   "execution_count": null,
   "metadata": {
    "collapsed": false
   },
   "outputs": [],
   "source": [
    "data_for_nate_iso3_total_pos_matches = len(data_for_nate_iso3)\n",
    "shapefile_iso3_total_pos_matches = len(shapefile_iso3)\n",
    "\n",
    "print(data_for_nate_iso3_total_pos_matches)\n",
    "print(shapefile_iso3_total_pos_matches)"
   ]
  },
  {
   "cell_type": "code",
   "execution_count": null,
   "metadata": {
    "collapsed": false
   },
   "outputs": [],
   "source": [
    "data_shapefile_matches = np.unique([iso for iso in data_for_nate_iso3 if iso in shapefile_iso3])\n",
    "shapefile_data_matches = np.unique([iso for iso in shapefile_iso3 if iso in data_for_nate_iso3])\n",
    "\n",
    "print(len(data_shapefile_matches))\n",
    "print(len(shapefile_data_matches))\n",
    "\n",
    "len(np.unique([iso for iso in data_shapefile_matches if iso in shapefile_data_matches]))"
   ]
  },
  {
   "cell_type": "code",
   "execution_count": null,
   "metadata": {
    "collapsed": false
   },
   "outputs": [],
   "source": [
    "## Load CDIAC Data and make sure it matches here too\n",
    "\n",
    "root_folder = \"/Users/nathansuberi/Desktop/WRI_Programming/Py_Scripts/Data Packs/Materials for Nate/\"\n",
    "file_name = root_folder + \"wb_names_only_with_iso_territory_gcb.csv\"\n",
    "\n",
    "cdiac_data = pd.read_csv(file_name)\n",
    "cdiac_data_iso3 = cdiac_data[\"ISO\"].values\n",
    "cdiac_data_iso3_total_pos_matches = len(cdiac_data_iso3)"
   ]
  },
  {
   "cell_type": "code",
   "execution_count": null,
   "metadata": {
    "collapsed": false
   },
   "outputs": [],
   "source": [
    "print(cdiac_data_iso3_total_pos_matches)\n",
    "\n",
    "cdiac_shapefile_misses = [iso for iso in cdiac_data_iso3 if iso not in shapefile_iso3]\n",
    "cdiac_wb_misses = [iso for iso in cdiac_data_iso3 if iso not in data_for_nate_iso3]\n",
    "\n",
    "cdiac_shapefile_matches = [iso for iso in cdiac_data_iso3 if iso in shapefile_iso3]\n",
    "cdiac_wb_matches = [iso for iso in cdiac_data_iso3 if iso in data_for_nate_iso3]\n",
    "\n",
    "print(len(np.unique(cdiac_shapefile_matches)))\n",
    "print(len(np.unique(cdiac_wb_matches)))"
   ]
  },
  {
   "cell_type": "code",
   "execution_count": null,
   "metadata": {
    "collapsed": true
   },
   "outputs": [],
   "source": [
    "shapefile_data_matches"
   ]
  },
  {
   "cell_type": "code",
   "execution_count": null,
   "metadata": {
    "collapsed": false
   },
   "outputs": [],
   "source": [
    "keep= [iso in shapefile_data_matches for iso in data_for_nate_iso3]\n",
    "data_for_nate_keep = data_for_nate.loc[keep]\n",
    "len(np.unique(data_for_nate_keep[\"country_code\"]))"
   ]
  },
  {
   "cell_type": "code",
   "execution_count": null,
   "metadata": {
    "collapsed": false
   },
   "outputs": [],
   "source": [
    "cdiac_shapefile_misses\n",
    "# Zaire\n",
    "# Bermuda\n",
    "# Greenland\n",
    "# Hong Kong\n",
    "# Macau\n",
    "# Romania\n",
    "# World"
   ]
  },
  {
   "cell_type": "code",
   "execution_count": null,
   "metadata": {
    "collapsed": false
   },
   "outputs": [],
   "source": [
    "cdiac_wb_misses \n",
    "# Zaire\n",
    "# Romania"
   ]
  },
  {
   "cell_type": "code",
   "execution_count": null,
   "metadata": {
    "collapsed": false
   },
   "outputs": [],
   "source": [
    "data_for_nate_keep.to_csv(root_folder + \"wb_data.csv\")"
   ]
  },
  {
   "cell_type": "code",
   "execution_count": null,
   "metadata": {
    "collapsed": true
   },
   "outputs": [],
   "source": [
    "data_for_nate_keep"
   ]
  }
 ],
 "metadata": {
  "kernelspec": {
   "display_name": "Python 3",
   "language": "python",
   "name": "python3"
  },
  "language_info": {
   "codemirror_mode": {
    "name": "ipython",
    "version": 3
   },
   "file_extension": ".py",
   "mimetype": "text/x-python",
   "name": "python",
   "nbconvert_exporter": "python",
   "pygments_lexer": "ipython3",
   "version": "3.6.0"
  }
 },
 "nbformat": 4,
 "nbformat_minor": 2
}
