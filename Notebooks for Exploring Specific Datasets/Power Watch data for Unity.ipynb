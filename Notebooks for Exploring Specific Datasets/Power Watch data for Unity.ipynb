{
 "cells": [
  {
   "cell_type": "code",
   "execution_count": 43,
   "metadata": {
    "collapsed": true
   },
   "outputs": [],
   "source": [
    "import pandas as pd\n",
    "pd.options.display.max_columns = 100\n",
    "\n",
    "import json\n",
    "import numpy as np"
   ]
  },
  {
   "cell_type": "code",
   "execution_count": 2,
   "metadata": {
    "collapsed": false
   },
   "outputs": [],
   "source": [
    "powerwatch_data = pd.read_csv('s3://wri-public-data/resourcewatch/yale_hackathon/powerwatchdata.tsv', sep='\\t')"
   ]
  },
  {
   "cell_type": "code",
   "execution_count": 52,
   "metadata": {
    "collapsed": false
   },
   "outputs": [
    {
     "data": {
      "text/plain": [
       "(37, 21)"
      ]
     },
     "execution_count": 52,
     "metadata": {},
     "output_type": "execute_result"
    }
   ],
   "source": [
    "powerwatch_data[powerwatch_data['capacity_mw'].isnull()].shape"
   ]
  },
  {
   "cell_type": "code",
   "execution_count": 26,
   "metadata": {
    "collapsed": false
   },
   "outputs": [
    {
     "data": {
      "text/plain": [
       "Index(['name', 'pw_idnr', 'capacity_mw', 'year_of_capacity_data', 'country',\n",
       "       'owner', 'source', 'url', 'latitude', 'longitude', 'commissioning_year',\n",
       "       'fuel1', 'fuel2', 'fuel3', 'fuel4', 'generation_gwh_2012',\n",
       "       'generation_gwh_2013', 'generation_gwh_2014', 'generation_gwh_2015',\n",
       "       'generation_gwh_2016', 'estimated_generation_gwh'],\n",
       "      dtype='object')"
      ]
     },
     "execution_count": 26,
     "metadata": {},
     "output_type": "execute_result"
    }
   ],
   "source": [
    "powerwatch_data.columns"
   ]
  },
  {
   "cell_type": "code",
   "execution_count": 75,
   "metadata": {
    "collapsed": false
   },
   "outputs": [
    {
     "data": {
      "text/plain": [
       "array(['Waste', 'Solar', 'Gas', 'Geothermal', 'Hydro', 'Coal', 'Oil',\n",
       "       'Wind', 'Biomass', 'Nuclear', 'Other', 'Petcoke', 'Cogeneration',\n",
       "       'Wave and Tidal', nan], dtype=object)"
      ]
     },
     "execution_count": 75,
     "metadata": {},
     "output_type": "execute_result"
    }
   ],
   "source": [
    "powerwatch_data['fuel1'].unique()"
   ]
  },
  {
   "cell_type": "code",
   "execution_count": 56,
   "metadata": {
    "collapsed": true
   },
   "outputs": [],
   "source": [
    "def prepare_data(df, latcol, loncol, datacol, scenariocol, scenarios):\n",
    "    '''\n",
    "    new_dataset_schema = {\n",
    "        'scenario':'scenario_name',\n",
    "        'dataseries':['lat', 'lon', 'datapoint', '...']\n",
    "    }\n",
    "    '''\n",
    "    \n",
    "    json = {\"AllData\":[]}    \n",
    "    for scenario in scenarios:\n",
    "        if scenario == np.nan:\n",
    "            print('skipping' + scenario)\n",
    "            continue\n",
    "            \n",
    "        newdata = []\n",
    "        for ix, row in df.iterrows():\n",
    "            if row[scenariocol]==scenario:\n",
    "                lat = row[latcol]\n",
    "                lon = row[loncol]\n",
    "                data = row[datacol]\n",
    "                if data == np.nan:\n",
    "                    print('skipping a row')\n",
    "                    continue\n",
    "                newdata.extend([lat, lon, data])\n",
    "                \n",
    "        json['AllData'].append({\n",
    "            \"PlantType\":str(scenario),\n",
    "            \"Data\":newdata\n",
    "        })\n",
    "    \n",
    "    return json\n",
    "                "
   ]
  },
  {
   "cell_type": "code",
   "execution_count": 57,
   "metadata": {
    "collapsed": false
   },
   "outputs": [],
   "source": [
    "kwargs = {\n",
    "    'df':powerwatch_data,\n",
    "    'latcol':'latitude',\n",
    "    'loncol':'longitude',\n",
    "    'datacol':'capacity_mw',\n",
    "    'scenariocol':'fuel1',\n",
    "    'scenarios':powerwatch_data['fuel1'].unique()\n",
    "}\n",
    "pwdata4unity = prepare_data(**kwargs)"
   ]
  },
  {
   "cell_type": "code",
   "execution_count": 55,
   "metadata": {
    "collapsed": false
   },
   "outputs": [],
   "source": [
    "with open('pwdata4unity.json', 'w') as f:\n",
    "    f.write(json.dumps(pwdata4unity))"
   ]
  },
  {
   "cell_type": "code",
   "execution_count": 42,
   "metadata": {
    "collapsed": false
   },
   "outputs": [
    {
     "data": {
      "text/plain": [
       "\"{'AllData': [{'Year': 'Waste', 'Data': [52.535, 12.3626, 2.5, 42.4803, -87.8861, 7.0, 41.2378, -86.2\""
      ]
     },
     "execution_count": 42,
     "metadata": {},
     "output_type": "execute_result"
    }
   ],
   "source": []
  },
  {
   "cell_type": "code",
   "execution_count": null,
   "metadata": {
    "collapsed": true
   },
   "outputs": [],
   "source": []
  },
  {
   "cell_type": "code",
   "execution_count": null,
   "metadata": {
    "collapsed": true
   },
   "outputs": [],
   "source": []
  },
  {
   "cell_type": "code",
   "execution_count": null,
   "metadata": {
    "collapsed": true
   },
   "outputs": [],
   "source": []
  },
  {
   "cell_type": "code",
   "execution_count": null,
   "metadata": {
    "collapsed": true
   },
   "outputs": [],
   "source": [
    "pwdata4unity = prepare_data(climatewatch_data, 'latitude', 'longitude', 'emissions', 'year', [1860 -- 2015])"
   ]
  }
 ],
 "metadata": {
  "kernelspec": {
   "display_name": "Python 3",
   "language": "python",
   "name": "python3"
  },
  "language_info": {
   "codemirror_mode": {
    "name": "ipython",
    "version": 3
   },
   "file_extension": ".py",
   "mimetype": "text/x-python",
   "name": "python",
   "nbconvert_exporter": "python",
   "pygments_lexer": "ipython3",
   "version": "3.6.0"
  }
 },
 "nbformat": 4,
 "nbformat_minor": 2
}
