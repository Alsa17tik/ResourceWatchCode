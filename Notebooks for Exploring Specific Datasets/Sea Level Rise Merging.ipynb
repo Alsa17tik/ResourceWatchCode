{
 "cells": [
  {
   "cell_type": "code",
   "execution_count": 2,
   "metadata": {
    "collapsed": true
   },
   "outputs": [],
   "source": [
    "import rasterio as rio\n",
    "import numpy as np"
   ]
  },
  {
   "cell_type": "code",
   "execution_count": 5,
   "metadata": {
    "collapsed": false
   },
   "outputs": [
    {
     "name": "stdout",
     "output_type": "stream",
     "text": [
      "10\n",
      "(256, 256)\n",
      "10\n",
      "((0, 256), (0, 256)) (0, 0)\n",
      "[[0 0 0 ..., 0 0 0]\n",
      " [0 0 0 ..., 0 0 0]\n",
      " [0 0 0 ..., 0 0 0]\n",
      " ..., \n",
      " [0 0 0 ..., 0 0 0]\n",
      " [0 0 0 ..., 0 0 0]\n",
      " [0 0 0 ..., 0 0 0]]\n",
      "{'driver': 'GTiff', 'dtype': 'uint8', 'nodata': 0.0, 'width': 432360, 'height': 140517, 'count': 10, 'crs': CRS({'init': 'epsg:4326'}), 'transform': Affine(0.000832639467111, 0.0, -180.0,\n",
      "       0.0, -0.000832639467111, 61.0), 'blockxsize': 256, 'blockysize': 256, 'tiled': True, 'compress': 'lzw', 'interleave': 'pixel'}\n"
     ]
    }
   ],
   "source": [
    "with rio.open(\"https://wri-public-data.s3.amazonaws.com/resourcewatch/raster/cli_024_sea_level_rise/cli_024_sea_level_rise_ft.tif\", \"r\") as src:\n",
    "    profile = src.profile\n",
    "    num_bands = profile[\"count\"]\n",
    "    print(num_bands)\n",
    "    #data = src.read(indexes=1)\n",
    "    windows = src.block_windows()\n",
    "    for win_ix, win in windows:\n",
    "        new_data = np.zeros((256, 256))\n",
    "        print(new_data.shape)\n",
    "        \n",
    "        # Loop over windows in the CC data, add values in the new_data block\n",
    "        for bnd in range(num_bands,0, -1):\n",
    "            print(bnd)\n",
    "            print(win, win_ix)\n",
    "            \n",
    "            hardcoded_window = ((100000, 100200),(200000, 200200))\n",
    "            data = src.read(window=hardcoded_window, indexes=1)\n",
    "            print(data)\n",
    "            break \n",
    "        break\n",
    "    \n",
    "print(profile)"
   ]
  },
  {
   "cell_type": "code",
   "execution_count": 34,
   "metadata": {
    "collapsed": false
   },
   "outputs": [
    {
     "name": "stdout",
     "output_type": "stream",
     "text": [
      "Writing band 1\n",
      "Writing band 2\n",
      "Writing band 3\n",
      "Writing band 4\n",
      "Writing band 5\n",
      "Writing band 6\n",
      "Writing band 7\n",
      "Writing band 8\n",
      "Writing band 9\n",
      "Writing band 10\n"
     ]
    }
   ],
   "source": [
    "from rasterio.crs import CRS\n",
    "from affine import Affine\n",
    "\n",
    "sample_tif = \"climate_central_merge_sample.tif\"\n",
    "profile = {\n",
    "    'driver': 'GTiff', \n",
    "   'dtype': 'uint8', \n",
    "   'nodata': 0.0, \n",
    "   'width': 256, \n",
    "   'height': 256, \n",
    "   'count': 10, \n",
    "   'crs': CRS({'init': 'epsg:4326'}), \n",
    "   'transform': Affine(0.000832639467111, 0.0, -180.0,\n",
    "0.0, -0.000832639467111, 61.0), \n",
    "   'blockxsize': 256, \n",
    "   'blockysize': 256, \n",
    "   'tiled': True, \n",
    "   'compress': 'lzw', \n",
    "   'interleave': 'pixel'\n",
    "}\n",
    "\n",
    "num_bands = profile[\"count\"]\n",
    "\n",
    "with rio.open(sample_tif, \"w\", **profile) as dst:\n",
    "    # Make data that conforms to the CC style... \n",
    "    # i.e. if an earlier band has a 1 in a cell, the later ones do too\n",
    "    \n",
    "    new_data = np.zeros((256, 256), dtype=\"uint8\")\n",
    "    \n",
    "    for bnd in range(1,num_bands+1):\n",
    "        print(\"Writing band\", bnd)\n",
    "        new_ones = np.random.choice([True,False], new_data.shape)\n",
    "        new_data[new_ones] = 1\n",
    "        dst.write(new_data, indexes=bnd)"
   ]
  },
  {
   "cell_type": "code",
   "execution_count": 36,
   "metadata": {
    "collapsed": false
   },
   "outputs": [
    {
     "name": "stdout",
     "output_type": "stream",
     "text": [
      "Copying data from band 10\n",
      "Copying data from band 9\n",
      "Copying data from band 8\n",
      "Copying data from band 7\n",
      "Copying data from band 6\n",
      "Copying data from band 5\n",
      "Copying data from band 4\n",
      "Copying data from band 3\n",
      "Copying data from band 2\n",
      "Copying data from band 1\n"
     ]
    }
   ],
   "source": [
    "with rio.open(sample_tif, \"r\") as src:\n",
    "        profile = src.profile\n",
    "        num_bands = profile[\"count\"]\n",
    "        for bnd in range(num_bands, 0, -1):\n",
    "            print(\"Copying data from band\", bnd)\n",
    "            data = src.read(indexes=bnd)\n",
    "            merged_data[data==1] = bnd"
   ]
  },
  {
   "cell_type": "code",
   "execution_count": 42,
   "metadata": {
    "collapsed": false
   },
   "outputs": [
    {
     "name": "stdout",
     "output_type": "stream",
     "text": [
      "Copying data from band 10\n",
      "Copying data from band 9\n",
      "Copying data from band 8\n",
      "Copying data from band 7\n",
      "Copying data from band 6\n",
      "Copying data from band 5\n",
      "Copying data from band 4\n",
      "Copying data from band 3\n",
      "Copying data from band 2\n",
      "Copying data from band 1\n",
      "(256, 256)\n",
      "[[5 1 1 ..., 5 4 3]\n",
      " [1 1 5 ..., 4 5 1]\n",
      " [1 1 4 ..., 3 5 1]\n",
      " ..., \n",
      " [1 1 5 ..., 3 3 1]\n",
      " [9 1 3 ..., 2 2 1]\n",
      " [2 6 3 ..., 3 1 1]]\n"
     ]
    }
   ],
   "source": [
    "sample_merged_tif = \"climate_central_merged_sample.tif\"\n",
    "profile = {\n",
    "    'driver': 'GTiff', \n",
    "   'dtype': 'uint8', \n",
    "   'nodata': 0.0, \n",
    "   'width': 256, \n",
    "   'height': 256, \n",
    "   'count': 1, \n",
    "   'crs': CRS({'init': 'epsg:4326'}), \n",
    "   'transform': Affine(0.000832639467111, 0.0, -180.0,\n",
    "0.0, -0.000832639467111, 61.0), \n",
    "   'blockxsize': 256, \n",
    "   'blockysize': 256, \n",
    "   'tiled': True, \n",
    "   'compress': 'lzw', \n",
    "   'interleave': 'pixel'\n",
    "}\n",
    "\n",
    "# Open the file to contain the merged data\n",
    "with rio.open(sample_merged_tif, \"w\", **profile) as dst:\n",
    "    # Iterate over the input data, updating the merged file as we go\n",
    "    # Would do this for every block in the larger block_windows\n",
    "    \n",
    "    merged_data = np.zeros((256,256), dtype=\"uint8\")\n",
    "    \n",
    "    with rio.open(sample_tif, \"r\") as src:\n",
    "        profile = src.profile\n",
    "        num_bands = profile[\"count\"]\n",
    "        for bnd in range(num_bands, 0, -1):\n",
    "            print(\"Copying data from band\", bnd)\n",
    "            data = src.read(indexes=bnd)\n",
    "            merged_data[data==1] = bnd\n",
    "    \n",
    "    print(merged_data.shape)\n",
    "    print(merged_data)\n",
    "    dst.write(merged_data, indexes=1)"
   ]
  },
  {
   "cell_type": "code",
   "execution_count": 43,
   "metadata": {
    "collapsed": false
   },
   "outputs": [
    {
     "name": "stdout",
     "output_type": "stream",
     "text": [
      "{'driver': 'GTiff', 'dtype': 'uint8', 'nodata': 0.0, 'width': 256, 'height': 256, 'count': 1, 'crs': CRS({'init': 'epsg:4326'}), 'transform': Affine(0.000832639467111, 0.0, -180.0,\n",
      "       0.0, -0.000832639467111, 61.0), 'blockxsize': '256', 'blockysize': '256', 'compress': 'lzw', 'interleave': 'band', 'tiled': False}\n",
      "[[5 1 1 ..., 5 4 3]\n",
      " [1 1 5 ..., 4 5 1]\n",
      " [1 1 4 ..., 3 5 1]\n",
      " ..., \n",
      " [1 1 5 ..., 3 3 1]\n",
      " [9 1 3 ..., 2 2 1]\n",
      " [2 6 3 ..., 3 1 1]]\n"
     ]
    }
   ],
   "source": [
    "with rio.open(sample_merged_tif, \"r\", **profile) as src:\n",
    "    merged_profile = src.profile\n",
    "    print(merged_profile)\n",
    "    data = src.read(indexes=1)\n",
    "    \n",
    "print(data)"
   ]
  }
 ],
 "metadata": {
  "kernelspec": {
   "display_name": "Python 3",
   "language": "python",
   "name": "python3"
  },
  "language_info": {
   "codemirror_mode": {
    "name": "ipython",
    "version": 3
   },
   "file_extension": ".py",
   "mimetype": "text/x-python",
   "name": "python",
   "nbconvert_exporter": "python",
   "pygments_lexer": "ipython3",
   "version": "3.6.0"
  }
 },
 "nbformat": 4,
 "nbformat_minor": 2
}
