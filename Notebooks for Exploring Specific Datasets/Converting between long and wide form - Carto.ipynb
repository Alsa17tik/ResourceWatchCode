{
 "cells": [
  {
   "cell_type": "code",
   "execution_count": 1,
   "metadata": {
    "collapsed": true
   },
   "outputs": [],
   "source": [
    "# Data handling libraries\n",
    "import pandas as pd\n",
    "pd.options.display.max_rows = 10000\n",
    "import numpy as np\n",
    "import boto3\n",
    "import io\n",
    "import requests as req"
   ]
  },
  {
   "cell_type": "code",
   "execution_count": null,
   "metadata": {
    "collapsed": true
   },
   "outputs": [],
   "source": [
    "## Deciding on WB datasets by their unique id, "
   ]
  },
  {
   "cell_type": "code",
   "execution_count": 2,
   "metadata": {
    "collapsed": false
   },
   "outputs": [
    {
     "data": {
      "text/plain": [
       "{'EG.ELC.ACCS.ZS': 'access_to_electricity_of_population_eg_elc_accs_zs',\n",
       " 'EG.FEC.RNEW.ZS': 'renewable_energy_consumption_of_total_final_energy_consumpti',\n",
       " 'IT.NET.USER.ZS': 'individuals_using_the_internet_of_population_it_net_user_z',\n",
       " 'NE.CON.PRVT.PC.KD': 'household_final_consumption_expenditure_per_capita_constant_20',\n",
       " 'NV.IND.TOTL.KD': 'industry_value_added_constant_2010_us_nv_ind_totl_kd',\n",
       " 'NY.GDP.MKTP.CD': 'GDP',\n",
       " 'NY.GDP.TOTL.RT.ZS': 'total_natural_resources_rents_of_gdp_ny_gdp_totl_rt_zs',\n",
       " 'SG.GEN.PARL.ZS': 'proportion_of_seats_held_by_women_in_national_parliaments',\n",
       " 'SL.EMP.TOTL.SP.ZS': 'employment_to_population_ratio_15_total_modeled_ilo_est',\n",
       " 'SM.POP.NETM': 'net_migration_sm_pop_netm',\n",
       " 'SP.DYN.LE00.IN': 'life_expectancy_at_birth_total_years_sp_dyn_le00_in',\n",
       " 'SP.URB.TOTL.IN.ZS': 'urban_population_of_total_sp_urb_totl_in_zs',\n",
       " 'TM.VAL.MRCH.CD.WT': 'merchandise_imports_current_us_tm_val_mrch_cd_wt'}"
      ]
     },
     "execution_count": 2,
     "metadata": {},
     "output_type": "execute_result"
    }
   ],
   "source": [
    "data_names_and_codes = {'EG.ELC.ACCS.ZS': 'Access to electricity (% of population)',\n",
    " 'EG.FEC.RNEW.ZS': 'Renewable energy consumption (% of total final energy consumption)',\n",
    " 'IT.NET.USER.ZS': 'Individuals using the Internet (% of population)',\n",
    " 'NE.CON.PRVT.PC.KD': 'Household final consumption expenditure per capita (constant 2010 US$)',\n",
    " 'NV.IND.TOTL.KD': 'Industry, value added (constant 2010 US$)',\n",
    " 'NY.GDP.TOTL.RT.ZS': 'Total natural resources rents (% of GDP)',\n",
    " 'SG.GEN.PARL.ZS': 'Proportion of seats held by women in national parliaments (%)',\n",
    " 'SL.EMP.TOTL.SP.ZS': 'Employment to population ratio, 15+, total (%) (modeled ILO estimate)',\n",
    " 'SM.POP.NETM': 'Net migration',\n",
    " 'SP.DYN.LE00.IN': 'Life expectancy at birth, total (years)',\n",
    " 'SP.URB.TOTL.IN.ZS': 'Urban population (% of total)',\n",
    " 'TM.VAL.MRCH.CD.WT': 'Merchandise imports (current US$)',\n",
    " 'NY.GDP.MKTP.CD': 'GDP (current US$)'}\n",
    "\n",
    "column_long_name_to_short_name = {\n",
    "    'Renewable energy consumption (% of total final energy consumption)': 'renewable_energy_consumption_of_total_final_energy_consumpti',\n",
    "    'Household final consumption expenditure per capita (constant 2010 US$)': 'household_final_consumption_expenditure_per_capita_constant_20',\n",
    "    'Merchandise imports (current US$)': 'merchandise_imports_current_us_tm_val_mrch_cd_wt',\n",
    "    'Industry, value added (constant 2010 US$)': 'industry_value_added_constant_2010_us_nv_ind_totl_kd',\n",
    "    'Access to electricity (% of population)': 'access_to_electricity_of_population_eg_elc_accs_zs',\n",
    "    'Urban population (% of total)': 'urban_population_of_total_sp_urb_totl_in_zs',\n",
    "    'Employment to population ratio, 15+, total (%) (modeled ILO estimate)': 'employment_to_population_ratio_15_total_modeled_ilo_est',\n",
    "    'Total natural resources rents (% of GDP)': 'total_natural_resources_rents_of_gdp_ny_gdp_totl_rt_zs',\n",
    "    'Life expectancy at birth, total (years)': 'life_expectancy_at_birth_total_years_sp_dyn_le00_in',\n",
    "    'Net migration': 'net_migration_sm_pop_netm',\n",
    "    'Proportion of seats held by women in national parliaments (%)': 'proportion_of_seats_held_by_women_in_national_parliaments',\n",
    "    'Individuals using the Internet (% of population)': 'individuals_using_the_internet_of_population_it_net_user_z',\n",
    "    'GDP (current US$)': 'GDP'\n",
    "}\n",
    "\n",
    "series_code_to_data_viz_name = {}\n",
    "for key, value in data_names_and_codes.items():\n",
    "    series_code_to_data_viz_name[key] = column_long_name_to_short_name[value]\n",
    "    \n",
    "series_code_to_data_viz_name "
   ]
  },
  {
   "cell_type": "markdown",
   "metadata": {},
   "source": [
    "## Data in long form"
   ]
  },
  {
   "cell_type": "code",
   "execution_count": null,
   "metadata": {
    "collapsed": true
   },
   "outputs": [],
   "source": [
    "indicators = list(series_code_to_data_viz_name.keys())\n",
    "seed = indicators[0]\n",
    "print(seed)\n",
    "res = req.get(\"http://api.worldbank.org/countries/all/indicators/{}?format=json&per_page=10000\".format(seed))\n",
    "#print(res.text)\n",
    "data = pd.io.json.json_normalize(res.json()[1])\n",
    "data = data[[\"country.value\", \"date\", \"value\"]]\n",
    "value_name = series_code_to_data_viz_name[seed]\n",
    "data.columns = [\"Country Name\", \"Year\", value_name]\n",
    "data = data.set_index([\"Country Name\", \"Year\"])\n",
    "all_world_bank_data = data\n",
    "\n",
    "for indicator in indicators[1:]:\n",
    "    # Results are paginated\n",
    "    print(indicator)\n",
    "    res = req.get(\"http://api.worldbank.org/countries/all/indicators/{}?format=json&per_page=10000\".format(indicator))\n",
    "    #print(res.text)\n",
    "    data = pd.io.json.json_normalize(res.json()[1])\n",
    "    data = data[[\"country.value\", \"date\", \"value\"]]\n",
    "    value_name = series_code_to_data_viz_name[indicator]\n",
    "    data.columns = [\"Country Name\", \"Year\", value_name]\n",
    "    data = data.set_index([\"Country Name\", \"Year\"])\n",
    "    all_world_bank_data = all_world_bank_data.join(data, how=\"outer\")\n",
    "\n",
    "clean_column_names = [\"Access to electricity\", \"Share of Renewable Energy in Total Consumption\",\n",
    "                     \"Percentage of Individuals Using the Internet\", \"Household Consumption Expenditure per Capita\",\n",
    "                     \"Industry Value Added\", \"Total Natural Resource Rents as Percentage of GDP\",\n",
    "                     \"Proportion of Women in National Parliament\", \"Employment to Population Ratio\",\n",
    "                     \"Net Migration\", \"Life Expectancy at Birth\", \"Urban Population\", \"Merchandise Import Value\",\n",
    "                     \"GDP\"]\n",
    "    \n",
    "all_world_bank_data.columns = clean_column_names"
   ]
  },
  {
   "cell_type": "code",
   "execution_count": null,
   "metadata": {
    "collapsed": true
   },
   "outputs": [],
   "source": [
    "for col in clean_column_names:\n",
    "    data = all_world_bank_data[col]\n",
    "    data = data.reset_index()\n",
    "    data = data[pd.notnull(data[col])]\n",
    "    data.to_csv(\"/Users/nathansuberi/Desktop/RW_Data/wb_data/wb_data_{}.csv\".format(col.replace(\" \", \"_\")))"
   ]
  },
  {
   "cell_type": "markdown",
   "metadata": {},
   "source": [
    "## Data in wide form"
   ]
  },
  {
   "cell_type": "code",
   "execution_count": null,
   "metadata": {
    "collapsed": true
   },
   "outputs": [],
   "source": [
    "indicators = series_code_to_data_viz_name\n",
    "\n",
    "all_world_bank_data = pd.DataFrame()\n",
    "for indicator in indicators:\n",
    "    # Results are paginated\n",
    "    print(indicator)\n",
    "    res = req.get(\"http://api.worldbank.org/countries/all/indicators/{}?date=1999:2016&format=json&per_page=10000\".format(indicator))\n",
    "    data = pd.io.json.json_normalize(res.json()[1])\n",
    "    data = data[[\"country.value\", \"date\", \"value\"]]\n",
    "    value_name = series_code_to_data_viz_name[indicator]\n",
    "    data.columns = [\"Country Name\", \"Year\", value_name]\n",
    "    data = data.pivot(index=\"Country Name\", columns=\"Year\", values=value_name).astype(float)\n",
    "    data[\"ISO\"] = list(map(add_iso, data.index))\n",
    "    data = data.loc[pd.notnull(data[\"ISO\"])]\n",
    "    data[\"Indicator\"] = value_name \n",
    "    all_world_bank_data = all_world_bank_data.append(data)\n",
    "    \n",
    "    if indicator == \"NY.GDP.MKTP.CD\":\n",
    "        year_cols = [str(yr) for yr in range(1999,2016)]\n",
    "        data = data.loc[:,year_cols].pct_change(axis=1).loc[:,year_cols[1:]]\n",
    "        data[\"Indicator\"] = \"GDP percent change\"\n",
    "        data[\"ISO\"] = list(map(add_iso, data.index))\n",
    "        all_world_bank_data = all_world_bank_data.append(data)\n",
    "    \n",
    "all_world_bank_data.index.name = \"Country Name\"\n",
    "all_world_bank_data.reset_index(inplace=True)\n",
    "all_world_bank_data.columns.name = \"\"\n",
    "all_world_bank_data = all_world_bank_data.drop([\"1999\", \"2016\"], axis=1)"
   ]
  }
 ],
 "metadata": {
  "kernelspec": {
   "display_name": "Python 3",
   "language": "python",
   "name": "python3"
  },
  "language_info": {
   "codemirror_mode": {
    "name": "ipython",
    "version": 3
   },
   "file_extension": ".py",
   "mimetype": "text/x-python",
   "name": "python",
   "nbconvert_exporter": "python",
   "pygments_lexer": "ipython3",
   "version": "3.6.0"
  }
 },
 "nbformat": 4,
 "nbformat_minor": 2
}
