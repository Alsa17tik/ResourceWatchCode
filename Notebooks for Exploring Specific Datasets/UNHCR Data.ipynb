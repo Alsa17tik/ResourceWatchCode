{
 "cells": [
  {
   "cell_type": "code",
   "execution_count": 2,
   "metadata": {
    "collapsed": true
   },
   "outputs": [],
   "source": [
    "import requests as req\n",
    "import pandas as pd"
   ]
  },
  {
   "cell_type": "code",
   "execution_count": 62,
   "metadata": {
    "collapsed": false
   },
   "outputs": [
    {
     "name": "stdout",
     "output_type": "stream",
     "text": [
      "1999 (1797, 4)\n",
      "  country  month  year  asylum_seekers_fleeing\n",
      "0     AFG      1  1999                    1583\n",
      "1     AFG      2  1999                    1262\n",
      "2     AFG      3  1999                    1697\n",
      "3     AFG      4  1999                    1610\n",
      "4     AFG      5  1999                    1577\n",
      "1999 (338, 4)\n",
      "  country  month  year  asylum_seekers_arriving\n",
      "0     AUS      1  1999                      574\n",
      "1     AUS      2  1999                      681\n",
      "2     AUS      3  1999                      951\n",
      "3     AUS      4  1999                      772\n",
      "4     AUS      5  1999                      740\n",
      "(1924, 5)\n",
      "  country  month  year  asylum_seekers_fleeing  asylum_seekers_arriving\n",
      "0     AFG      1  1999                  1583.0                      0.0\n",
      "1     AFG      2  1999                  1262.0                      0.0\n",
      "2     AFG      3  1999                  1697.0                      0.0\n",
      "3     AFG      4  1999                  1610.0                      0.0\n",
      "4     AFG      5  1999                  1577.0                      0.0\n"
     ]
    }
   ],
   "source": [
    "# Required: post by year\n",
    "for yr in range(1999,2018):\n",
    "    url = \"http://popdata.unhcr.org/api/stats/asylum_seekers_monthly.json?year={year}\"\n",
    "    url = url.format(year=yr)\n",
    "    res = req.get(url)\n",
    "    data = res.json()\n",
    "    df = pd.DataFrame(data)\n",
    "    \n",
    "    group_orig = df.groupby([\"country_of_origin\", \"month\", \"year\"]).sum().reset_index()\n",
    "    group_dest = df.groupby([\"country_of_asylum\", \"month\", \"year\"]).sum().reset_index()\n",
    "    \n",
    "    group_orig.columns = [\"country\", \"month\", \"year\", \"asylum_seekers_fleeing\"]\n",
    "    group_dest.columns = [\"country\", \"month\", \"year\", \"asylum_seekers_arriving\"]\n",
    "    \n",
    "    join = group_orig.join(group_dest.set_index([\"country\", \"month\", \"year\"]), on=[\"country\", \"month\", \"year\"], how=\"outer\")\n",
    "    join = join.fillna(0)\n",
    "    \n",
    "    print(yr, group_orig.shape)\n",
    "    print(group_orig.head())\n",
    "    print(yr, group_dest.shape)\n",
    "    print(group_dest.head())\n",
    "    print(join.shape)\n",
    "    print(join.head())\n",
    "    \n",
    "    # Fix month / year to UTC\n",
    "    \n",
    "    # Upload to Carto\n",
    "    \n",
    "    break"
   ]
  },
  {
   "cell_type": "code",
   "execution_count": null,
   "metadata": {
    "collapsed": true
   },
   "outputs": [],
   "source": [
    "# This provides data formatted for flow - country of origin and asylum listed\n",
    "url = \"http://popdata.unhcr.org/api/stats/persons_of_concern.json?year={year}\""
   ]
  },
  {
   "cell_type": "code",
   "execution_count": null,
   "metadata": {
    "collapsed": true
   },
   "outputs": [],
   "source": [
    "# This provides data formatted how we want, \n",
    "# each country with a list of total POC originating from and arriving in the country\n",
    "url = \"http://popdata.unhcr.org/api/stats/persons_of_concern_all_countries.json?year={year}\""
   ]
  },
  {
   "cell_type": "code",
   "execution_count": 61,
   "metadata": {
    "collapsed": false
   },
   "outputs": [
    {
     "name": "stdout",
     "output_type": "stream",
     "text": [
      "1990 (222, 23)\n",
      "  country_code  country_id country_iso  country_of_asylum.asy  \\\n",
      "0          ABW         224         ABW                      0   \n",
      "1          AFG           2         AFG                      0   \n",
      "2          AIA         223         AIA                      0   \n",
      "3          ALB           3         ALB                      0   \n",
      "4          ALG           4         DZA                      0   \n",
      "\n",
      "   country_of_asylum.idp  country_of_asylum.ioc  country_of_asylum.ooc  \\\n",
      "0                      0                      0                      0   \n",
      "1                      0                      0                      0   \n",
      "2                      0                      0                      0   \n",
      "3                      0                      0                      0   \n",
      "4                      0                      0                      0   \n",
      "\n",
      "   country_of_asylum.rdp  country_of_asylum.ref  country_of_asylum.ret  ...   \\\n",
      "0                      0                    0.0                    0.0  ...    \n",
      "1                      0                   50.0                    0.0  ...    \n",
      "2                      0                    0.0                    0.0  ...    \n",
      "3                      0                    0.0                    0.0  ...    \n",
      "4                      0               169110.0                    0.0  ...    \n",
      "\n",
      "   country_of_origin.idp  country_of_origin.ioc  country_of_origin.ooc  \\\n",
      "0                      0                      0                      0   \n",
      "1                      0                      0                      0   \n",
      "2                      0                      0                      0   \n",
      "3                      0                      0                      0   \n",
      "4                      0                      0                      0   \n",
      "\n",
      "   country_of_origin.rdp  country_of_origin.ref  country_of_origin.ret  \\\n",
      "0                      0                    0.0                    0.0   \n",
      "1                      0              6339095.0                21580.0   \n",
      "2                      0                    0.0                    0.0   \n",
      "3                      0                 1822.0                    0.0   \n",
      "4                      0                   19.0                    0.0   \n",
      "\n",
      "   country_of_origin.roc  country_of_origin.sta         name  year  \n",
      "0                      0                      0        Aruba  1990  \n",
      "1                      0                      0  Afghanistan  1990  \n",
      "2                      0                      0     Anguilla  1990  \n",
      "3                      0                      0      Albania  1990  \n",
      "4                      0                      0      Algeria  1990  \n",
      "\n",
      "[5 rows x 23 columns]\n"
     ]
    }
   ],
   "source": [
    "for yr in range(1990,2018):\n",
    "    url = \"http://popdata.unhcr.org/api/stats/persons_of_concern_all_countries.json?year={year}\"\n",
    "    url = url.format(year=yr)\n",
    "    res = req.get(url)\n",
    "    data = res.json()\n",
    "    df = pd.io.json.json_normalize(data)\n",
    "    df = df.fillna(0)\n",
    "    print(yr, df.shape)\n",
    "    print(df.head())\n",
    "    \n",
    "    # Fix years\n",
    "    \n",
    "    # Upload to Carto\n",
    "    \n",
    "    break"
   ]
  },
  {
   "cell_type": "code",
   "execution_count": null,
   "metadata": {
    "collapsed": true
   },
   "outputs": [],
   "source": []
  }
 ],
 "metadata": {
  "kernelspec": {
   "display_name": "Python 3",
   "language": "python",
   "name": "python3"
  },
  "language_info": {
   "codemirror_mode": {
    "name": "ipython",
    "version": 3
   },
   "file_extension": ".py",
   "mimetype": "text/x-python",
   "name": "python",
   "nbconvert_exporter": "python",
   "pygments_lexer": "ipython3",
   "version": "3.6.0"
  }
 },
 "nbformat": 4,
 "nbformat_minor": 2
}
