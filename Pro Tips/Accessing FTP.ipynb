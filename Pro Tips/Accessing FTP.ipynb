{
 "cells": [
  {
   "cell_type": "code",
   "execution_count": 40,
   "metadata": {
    "collapsed": false
   },
   "outputs": [
    {
     "name": "stdout",
     "output_type": "stream",
     "text": [
      "-rwxr-xr-x    1 130966651 41001       50875 Nov 14  2016 GFWED.20161114.tar.gz\n",
      "-rwxr-xr-x    1 130966651 41001        8254 Feb 06  2017 README.v2.txt\n",
      "-rw-r--r--    1 130966651 41001    12814921 Jan 05 01:04 RemoteFileList.txt\n",
      "drwxr-xr-x    5 130966651 41001        4096 Jul 31 14:49 diagnostics\n",
      "drwxr-xr-x    3 130966651 41001        4096 Jan 20  2017 fwiCalcs.GEOS-5\n",
      "drwxrwxr-x    3 130966651 41001        4096 Nov 13  2016 fwiCalcs.MERRA2\n",
      "drwxr-xr-x   11 130966651 41001        4096 Dec 16 18:56 wxInput\n",
      "-rw-r--r--    1 130966651 41001    17210240 Jan 04 21:34 FWI.GEOS-5.Daily.Default.2018010300.20180104.nc\n",
      "-rw-r--r--    1 130966651 41001    17210240 Jan 04 21:34 FWI.GEOS-5.Daily.Default.2018010300.20180105.nc\n",
      "-rw-r--r--    1 130966651 41001    17210240 Jan 04 21:34 FWI.GEOS-5.Daily.Default.2018010300.20180106.nc\n",
      "-rw-r--r--    1 130966651 41001    17210240 Jan 04 21:34 FWI.GEOS-5.Daily.Default.2018010300.20180107.nc\n",
      "-rw-r--r--    1 130966651 41001    17210240 Jan 04 21:34 FWI.GEOS-5.Daily.Default.2018010300.20180108.nc\n",
      "-rw-r--r--    1 130966651 41001    17210240 Jan 04 21:34 FWI.GEOS-5.Daily.Default.2018010300.20180109.nc\n",
      "-rw-r--r--    1 130966651 41001    17210240 Jan 04 21:34 FWI.GEOS-5.Daily.Default.2018010300.20180110.nc\n",
      "-rw-r--r--    1 130966651 41001    17210240 Jan 04 21:34 FWI.GEOS-5.Daily.Default.2018010300.20180111.nc\n"
     ]
    }
   ],
   "source": [
    "from ftplib import FTP\n",
    "remote_ftp = 'ftp.nccs.nasa.gov'\n",
    "\n",
    "with FTP(remote_ftp) as ftp:\n",
    "    ftp.login('GlobalFWI', '')\n",
    "    ftp.cwd('v2.0')\n",
    "    ftp.retrbinary('RETR README.v2.txt', open('README.v2.txt', 'wb').write)\n",
    "    ftp.cwd('fwiCalcs.GEOS-5/Default/GEOS-5/2018/2018010300')\n",
    "    ftp.retrlines('LIST')\n",
    "    ftp.quit()"
   ]
  }
 ],
 "metadata": {
  "kernelspec": {
   "display_name": "Python 3",
   "language": "python",
   "name": "python3"
  },
  "language_info": {
   "codemirror_mode": {
    "name": "ipython",
    "version": 3
   },
   "file_extension": ".py",
   "mimetype": "text/x-python",
   "name": "python",
   "nbconvert_exporter": "python",
   "pygments_lexer": "ipython3",
   "version": "3.6.0"
  }
 },
 "nbformat": 4,
 "nbformat_minor": 2
}
