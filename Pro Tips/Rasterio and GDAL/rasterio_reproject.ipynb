{
 "cells": [
  {
   "cell_type": "code",
   "execution_count": 6,
   "metadata": {
    "collapsed": true
   },
   "outputs": [],
   "source": [
    "import rasterio as rio\n",
    "from rasterio import warp\n",
    "from rasterio import windows\n",
    "from rasterio import features\n",
    "from rasterio.crs import CRS\n",
    "import pyproj\n",
    "\n",
    "from matplotlib import pyplot\n",
    "%matplotlib inline\n",
    "\n",
    "import numpy as np"
   ]
  },
  {
   "cell_type": "code",
   "execution_count": 71,
   "metadata": {
    "collapsed": true
   },
   "outputs": [
    {
     "name": "stdout",
     "output_type": "stream",
     "text": [
      "Help on module rasterio.crs in rasterio:\n",
      "\n",
      "NAME\n",
      "    rasterio.crs\n",
      "\n",
      "CLASSES\n",
      "    rasterio._crs._CRS(collections.UserDict)\n",
      "        CRS\n",
      "    \n",
      "    class CRS(rasterio._crs._CRS)\n",
      "     |  A container class for coordinate reference system info\n",
      "     |  \n",
      "     |  PROJ.4 is the law of this land: http://proj.osgeo.org/. But whereas PROJ.4\n",
      "     |  coordinate reference systems are described by strings of parameters such as\n",
      "     |  \n",
      "     |      +proj=longlat +ellps=WGS84 +datum=WGS84 +no_defs\n",
      "     |  \n",
      "     |  here we use mappings:\n",
      "     |  \n",
      "     |      {'proj': 'longlat', 'ellps': 'WGS84', 'datum': 'WGS84', 'no_defs': True}\n",
      "     |  \n",
      "     |  One can set/get any PROJ.4 parameter using a dict-like key/value pair on the\n",
      "     |  object. You can instantiate the object by simply passing a dict to the\n",
      "     |  constructor. E.g.\n",
      "     |  \n",
      "     |      crs = CRS({'init': 'epsg:3005'})\n",
      "     |  \n",
      "     |  Method resolution order:\n",
      "     |      CRS\n",
      "     |      rasterio._crs._CRS\n",
      "     |      collections.UserDict\n",
      "     |      collections.abc.MutableMapping\n",
      "     |      collections.abc.Mapping\n",
      "     |      collections.abc.Collection\n",
      "     |      collections.abc.Sized\n",
      "     |      collections.abc.Iterable\n",
      "     |      collections.abc.Container\n",
      "     |      builtins.object\n",
      "     |  \n",
      "     |  Methods defined here:\n",
      "     |  \n",
      "     |  __repr__(self)\n",
      "     |      Return repr(self).\n",
      "     |  \n",
      "     |  to_dict(self)\n",
      "     |  \n",
      "     |  to_string(self)\n",
      "     |      Turn a parameter mapping into a more conventional PROJ.4 string.\n",
      "     |      \n",
      "     |      Mapping keys are tested against the ``all_proj_keys`` list. Values of\n",
      "     |      ``True`` are omitted, leaving the key bare: {'no_defs': True} -> \"+no_defs\"\n",
      "     |      and items where the value is otherwise not a str, int, or float are\n",
      "     |      omitted.\n",
      "     |  \n",
      "     |  ----------------------------------------------------------------------\n",
      "     |  Static methods defined here:\n",
      "     |  \n",
      "     |  from_epsg(code)\n",
      "     |      Given an integer code, returns an EPSG-like mapping.\n",
      "     |      \n",
      "     |      Note: the input code is not validated against an EPSG database.\n",
      "     |  \n",
      "     |  from_string(prjs)\n",
      "     |      Turn a PROJ.4 string into a mapping of parameters.\n",
      "     |      \n",
      "     |      Bare parameters like \"+no_defs\" are given a value of ``True``. All keys\n",
      "     |      are checked against the ``all_proj_keys`` list.\n",
      "     |      \n",
      "     |      EPSG:nnnn is allowed.\n",
      "     |      \n",
      "     |      JSON text-encoded strings are allowed.\n",
      "     |  \n",
      "     |  ----------------------------------------------------------------------\n",
      "     |  Data descriptors defined here:\n",
      "     |  \n",
      "     |  is_epsg_code\n",
      "     |  \n",
      "     |  is_valid\n",
      "     |      Check if valid geographic or projected coordinate reference system.\n",
      "     |  \n",
      "     |  ----------------------------------------------------------------------\n",
      "     |  Data and other attributes defined here:\n",
      "     |  \n",
      "     |  __abstractmethods__ = frozenset()\n",
      "     |  \n",
      "     |  ----------------------------------------------------------------------\n",
      "     |  Methods inherited from rasterio._crs._CRS:\n",
      "     |  \n",
      "     |  __eq__(self, other)\n",
      "     |  \n",
      "     |  ----------------------------------------------------------------------\n",
      "     |  Class methods inherited from rasterio._crs._CRS:\n",
      "     |  \n",
      "     |  from_wkt(wkt) from abc.ABCMeta\n",
      "     |      Turn an OGC WKT string representation of a coordinate reference\n",
      "     |      system into a mapping of PROJ.4 parameters.\n",
      "     |      \n",
      "     |      Parameters\n",
      "     |      ----------\n",
      "     |      wkt : str\n",
      "     |          OGC WKT text representation of a coordinate reference system.\n",
      "     |      \n",
      "     |      Returns\n",
      "     |      -------\n",
      "     |      CRS\n",
      "     |  \n",
      "     |  ----------------------------------------------------------------------\n",
      "     |  Data descriptors inherited from rasterio._crs._CRS:\n",
      "     |  \n",
      "     |  is_geographic\n",
      "     |  \n",
      "     |  is_projected\n",
      "     |  \n",
      "     |  wkt\n",
      "     |      An OGC WKT string representation of the coordinate reference\n",
      "     |      system.\n",
      "     |  \n",
      "     |  ----------------------------------------------------------------------\n",
      "     |  Data and other attributes inherited from rasterio._crs._CRS:\n",
      "     |  \n",
      "     |  __hash__ = None\n",
      "     |  \n",
      "     |  ----------------------------------------------------------------------\n",
      "     |  Methods inherited from collections.UserDict:\n",
      "     |  \n",
      "     |  __contains__(self, key)\n",
      "     |      # Modify __contains__ to work correctly when __missing__ is present\n",
      "     |  \n",
      "     |  __delitem__(self, key)\n",
      "     |  \n",
      "     |  __getitem__(self, key)\n",
      "     |  \n",
      "     |  __init__(*args, **kwargs)\n",
      "     |      Initialize self.  See help(type(self)) for accurate signature.\n",
      "     |  \n",
      "     |  __iter__(self)\n",
      "     |  \n",
      "     |  __len__(self)\n",
      "     |  \n",
      "     |  __setitem__(self, key, item)\n",
      "     |  \n",
      "     |  copy(self)\n",
      "     |  \n",
      "     |  ----------------------------------------------------------------------\n",
      "     |  Class methods inherited from collections.UserDict:\n",
      "     |  \n",
      "     |  fromkeys(iterable, value=None) from abc.ABCMeta\n",
      "     |  \n",
      "     |  ----------------------------------------------------------------------\n",
      "     |  Data descriptors inherited from collections.UserDict:\n",
      "     |  \n",
      "     |  __dict__\n",
      "     |      dictionary for instance variables (if defined)\n",
      "     |  \n",
      "     |  __weakref__\n",
      "     |      list of weak references to the object (if defined)\n",
      "     |  \n",
      "     |  ----------------------------------------------------------------------\n",
      "     |  Methods inherited from collections.abc.MutableMapping:\n",
      "     |  \n",
      "     |  clear(self)\n",
      "     |      D.clear() -> None.  Remove all items from D.\n",
      "     |  \n",
      "     |  pop(self, key, default=<object object at 0x1014f0050>)\n",
      "     |      D.pop(k[,d]) -> v, remove specified key and return the corresponding value.\n",
      "     |      If key is not found, d is returned if given, otherwise KeyError is raised.\n",
      "     |  \n",
      "     |  popitem(self)\n",
      "     |      D.popitem() -> (k, v), remove and return some (key, value) pair\n",
      "     |      as a 2-tuple; but raise KeyError if D is empty.\n",
      "     |  \n",
      "     |  setdefault(self, key, default=None)\n",
      "     |      D.setdefault(k[,d]) -> D.get(k,d), also set D[k]=d if k not in D\n",
      "     |  \n",
      "     |  update(*args, **kwds)\n",
      "     |      D.update([E, ]**F) -> None.  Update D from mapping/iterable E and F.\n",
      "     |      If E present and has a .keys() method, does:     for k in E: D[k] = E[k]\n",
      "     |      If E present and lacks .keys() method, does:     for (k, v) in E: D[k] = v\n",
      "     |      In either case, this is followed by: for k, v in F.items(): D[k] = v\n",
      "     |  \n",
      "     |  ----------------------------------------------------------------------\n",
      "     |  Methods inherited from collections.abc.Mapping:\n",
      "     |  \n",
      "     |  get(self, key, default=None)\n",
      "     |      D.get(k[,d]) -> D[k] if k in D, else d.  d defaults to None.\n",
      "     |  \n",
      "     |  items(self)\n",
      "     |      D.items() -> a set-like object providing a view on D's items\n",
      "     |  \n",
      "     |  keys(self)\n",
      "     |      D.keys() -> a set-like object providing a view on D's keys\n",
      "     |  \n",
      "     |  values(self)\n",
      "     |      D.values() -> an object providing a view on D's values\n",
      "     |  \n",
      "     |  ----------------------------------------------------------------------\n",
      "     |  Data and other attributes inherited from collections.abc.Mapping:\n",
      "     |  \n",
      "     |  __reversed__ = None\n",
      "     |  \n",
      "     |  ----------------------------------------------------------------------\n",
      "     |  Class methods inherited from collections.abc.Collection:\n",
      "     |  \n",
      "     |  __subclasshook__(C) from abc.ABCMeta\n",
      "     |      Abstract classes can override this to customize issubclass().\n",
      "     |      \n",
      "     |      This is invoked early on by abc.ABCMeta.__subclasscheck__().\n",
      "     |      It should return True, False or NotImplemented.  If it returns\n",
      "     |      NotImplemented, the normal algorithm is used.  Otherwise, it\n",
      "     |      overrides the normal algorithm (and the outcome is cached).\n",
      "\n",
      "DATA\n",
      "    all_proj_keys = ['datum', 'vunits', 'lon_0', 'zone', 'belgium', 'ns', ...\n",
      "    string_types = (<class 'str'>,)\n",
      "\n",
      "FILE\n",
      "    /Users/nathansuberi/.pyenv/versions/3.6.0/lib/python3.6/site-packages/rasterio/crs.py\n",
      "\n",
      "\n"
     ]
    }
   ],
   "source": [
    "help(rio.crs)"
   ]
  },
  {
   "cell_type": "code",
   "execution_count": 59,
   "metadata": {
    "collapsed": false
   },
   "outputs": [
    {
     "data": {
      "text/plain": [
       "(Affine(63835.73132234098, 0.0, 0.0,\n",
       "       0.0, -64040.3330252972, 16213801.067583967),\n",
       " 313,\n",
       " 253)"
      ]
     },
     "execution_count": 59,
     "metadata": {},
     "output_type": "execute_result"
    }
   ],
   "source": [
    "#help(warp)\n",
    "\n",
    "# src_crs = pyproj.Proj(\"+init=EPSG:4326\")\n",
    "# dst_crs = pyproj.Proj(\"+init=EPSG:3857\")\n",
    "\n",
    "# WGS84\n",
    "src_crs = rio.crs.CRS({\"init\":\"EPSG:4326\"})\n",
    "# WGS84 Web Mercator, used by Google Maps and OpenStreetMaps\n",
    "dst_crs = rio.crs.CRS({\"init\":\"EPSG:3857\"})\n",
    "\n",
    "src_width = 360\n",
    "src_height = 180\n",
    "\n",
    "# bounds = (left, bottom, right, top)\n",
    "bounds = (0,180, 260, 0)\n",
    "\n",
    "warp.calculate_default_transform(src_crs, dst_crs, src_width, src_height, *bounds)"
   ]
  },
  {
   "cell_type": "code",
   "execution_count": 63,
   "metadata": {
    "collapsed": false
   },
   "outputs": [
    {
     "data": {
      "text/plain": [
       "1"
      ]
     },
     "execution_count": 63,
     "metadata": {},
     "output_type": "execute_result"
    }
   ],
   "source": []
  },
  {
   "cell_type": "code",
   "execution_count": 57,
   "metadata": {
    "collapsed": false
   },
   "outputs": [],
   "source": [
    "from rasterio.warp import reproject\n",
    "\n"
   ]
  },
  {
   "cell_type": "code",
   "execution_count": null,
   "metadata": {
    "collapsed": true
   },
   "outputs": [],
   "source": [
    "# calculates the projected coordinates for a single point\n",
    "lat = 100\n",
    "lon = 80\n",
    "\n",
    "# src_crs = pyproj.Proj(\"+init=EPSG:4326\")\n",
    "# dst_crs = pyproj.Proj(\"+init=EPSG:3857\")\n",
    "src_crs = rio.crs.CRS({\"init\":\"EPSG:4326\"})\n",
    "dst_crs = rio.crs.CRS({\"init\":\"EPSG:3857\"})\n",
    "\n",
    "pyproj.transform(pyproj.Proj(src_crs), pyproj.Proj(dst_crs), lat, lon)"
   ]
  },
  {
   "cell_type": "code",
   "execution_count": 16,
   "metadata": {
    "collapsed": false
   },
   "outputs": [
    {
     "name": "stdout",
     "output_type": "stream",
     "text": [
      "{'driver': 'GTiff', 'dtype': 'int32', 'nodata': 0.0, 'width': 43200, 'height': 21600, 'count': 1, 'crs': CRS({'init': 'epsg:4326'}), 'transform': Affine(0.00833330000000387, 0.0, -180.0,\n",
      "       0.0, -0.00833330000000387, 89.99928000008359), 'bigtiff': 'no', 'compress': 'lzw', 'interleave': 'band', 'old_nodata': '2147483647.0', 'tiled': False}\n",
      "| 0.01, 0.00,-180.00|\n",
      "| 0.00,-0.01, 90.00|\n",
      "| 0.00, 0.00, 1.00|\n",
      "| 0.01, 0.00,-178.33|\n",
      "| 0.00,-0.01, 88.33|\n",
      "| 0.00, 0.00, 1.00|\n"
     ]
    }
   ],
   "source": [
    "#help(windows)\n",
    "\n",
    "window = ((200,200), (200,200))\n",
    "\n",
    "with rio.open(\"/Users/nathansuberi/Desktop/RW_Data/bio_012_1_amphib.tif\") as src:\n",
    "    print(src.profile)\n",
    "    print(src.transform)\n",
    "    print(windows.transform(window, src.transform))"
   ]
  },
  {
   "cell_type": "code",
   "execution_count": 18,
   "metadata": {
    "collapsed": false
   },
   "outputs": [
    {
     "name": "stderr",
     "output_type": "stream",
     "text": [
      "/Users/nathansuberi/.pyenv/versions/3.6.0/lib/python3.6/site-packages/rasterio/__init__.py:282: NotGeoreferencedWarning: Dataset has no geotransform set. Default transform will be applied (Affine.identity())\n",
      "  s.start()\n"
     ]
    },
    {
     "name": "stdout",
     "output_type": "stream",
     "text": [
      "{'driver': 'PNG', 'dtype': 'uint8', 'nodata': None, 'width': 4000, 'height': 2000, 'count': 4, 'crs': None, 'transform': Affine(1.0, 0.0, 0.0,\n",
      "       0.0, 1.0, 0.0), 'tiled': False, 'interleave': 'pixel'}\n"
     ]
    }
   ],
   "source": [
    "file_name = \"mag_4days_20171001\"\n",
    "out = \"/Users/nathansuberi/Desktop/RW_Data/{}_edit.tif\".format(file_name)\n",
    "\n",
    "with rio.open(\"/Users/nathansuberi/Desktop/RW_Data/{}.png\".format(file_name)) as src:\n",
    "    print(src.profile)\n",
    "    r, g, b, a = [src.read(ix) for ix in src.indexes]\n",
    "    \n",
    "# Is GTiff\n",
    "# width*height*[[factor depending on dtype]] == how big file is\n",
    "### can read into memory at once?\n",
    "# Tried to run reprojection, kernel dies\n",
    "\n",
    "# Already compressed\n",
    "# Is tiled, with blocks\n",
    "# Interleave = band\n",
    "# CRS = merc... needs reprojecting\n",
    "\n",
    "# How many bands are there? How many should be kept?\n",
    "\n",
    "# Should this be done with the rio CLI or in python?"
   ]
  },
  {
   "cell_type": "code",
   "execution_count": 42,
   "metadata": {
    "collapsed": false
   },
   "outputs": [
    {
     "name": "stderr",
     "output_type": "stream",
     "text": [
      "/Users/nathansuberi/.pyenv/versions/3.6.0/lib/python3.6/site-packages/rasterio/__init__.py:282: NotGeoreferencedWarning: Dataset has no geotransform set. Default transform will be applied (Affine.identity())\n",
      "  s.start()\n"
     ]
    },
    {
     "name": "stdout",
     "output_type": "stream",
     "text": [
      "{'driver': 'PNG', 'dtype': 'uint8', 'nodata': None, 'width': 4000, 'height': 2000, 'count': 4, 'crs': None, 'transform': Affine(1.0, 0.0, 0.0,\n",
      "       0.0, 1.0, 0.0), 'tiled': False, 'interleave': 'pixel'}\n",
      "(array([  0,   8,  46,  56,  96, 126, 157, 193, 201, 247, 250, 255], dtype=uint8), array([31529504,    19809,    29519,    19809,    29519,    44078,\n",
      "          44078,    48436,    19809,    29519,    44078,   141842]))\n"
     ]
    },
    {
     "data": {
      "text/plain": [
       "<matplotlib.image.AxesImage at 0x1421a0f60>"
      ]
     },
     "execution_count": 42,
     "metadata": {},
     "output_type": "execute_result"
    },
    {
     "data": {
      "image/png": "[encoded data removed]",
      "text/plain": [
       "<matplotlib.figure.Figure at 0x145ed3908>"
      ]
     },
     "metadata": {},
     "output_type": "display_data"
    }
   ],
   "source": [
    "file_name = \"mag_4days_20171001\"\n",
    "out = \"/Users/nathansuberi/Desktop/RW_Data/{}_edit.tif\".format(file_name)\n",
    "\n",
    "with rio.open(\"/Users/nathansuberi/Desktop/RW_Data/{}.png\".format(file_name)) as src:\n",
    "    print(src.profile)\n",
    "    data_png = src.read()\n",
    "    \n",
    "print(np.unique(data_png, return_counts=True))\n",
    "pyplot.imshow(data_png[0])\n"
   ]
  },
  {
   "cell_type": "code",
   "execution_count": 28,
   "metadata": {
    "collapsed": false
   },
   "outputs": [
    {
     "name": "stdout",
     "output_type": "stream",
     "text": [
      "{'driver': 'GTiff', 'dtype': 'int32', 'nodata': -32000.0, 'width': 4000, 'height': 2000, 'count': 1, 'crs': CRS({'init': 'epsg:4326'}), 'transform': Affine(0.09, 0.0, -180.049999,\n",
      "       0.0, -0.09, 90.049999), 'tiled': False, 'compress': 'lzw', 'interleave': 'band'}\n"
     ]
    }
   ],
   "source": [
    "file_name = \"mag_signal_20171001_ALL\"\n",
    "out = \"/Users/nathansuberi/Desktop/RW_Data/{}_edit.tif\".format(file_name)\n",
    "\n",
    "with rio.open(\"/Users/nathansuberi/Desktop/RW_Data/{}.tif\".format(file_name)) as src:\n",
    "    print(src.profile)\n",
    "    data_tif = src.read()\n",
    "    \n",
    "# Is GTiff\n",
    "# width*height*[[factor depending on dtype]] == how big file is\n",
    "### can read into memory at once?\n",
    "# Tried to run reprojection, kernel dies\n",
    "\n",
    "# Already compressed\n",
    "# Is tiled, with blocks\n",
    "# Interleave = band\n",
    "# CRS = merc... needs reprojecting\n",
    "\n",
    "# How many bands are there? How many should be kept?\n",
    "\n",
    "# Should this be done with the rio CLI or in python?"
   ]
  },
  {
   "cell_type": "code",
   "execution_count": 40,
   "metadata": {
    "collapsed": false
   },
   "outputs": [
    {
     "name": "stdout",
     "output_type": "stream",
     "text": [
      "(array([-32000, -15191, -14651, ...,  19979,  19997,  20000], dtype=int32), array([729469,      1,      1, ...,      1,      1,    225]))\n"
     ]
    },
    {
     "ename": "TypeError",
     "evalue": "Invalid dimensions for image data",
     "output_type": "error",
     "traceback": [
      "\u001b[0;31m---------------------------------------------------------------------------\u001b[0m",
      "\u001b[0;31mTypeError\u001b[0m                                 Traceback (most recent call last)",
      "\u001b[0;32m<ipython-input-40-416ec277dece>\u001b[0m in \u001b[0;36m<module>\u001b[0;34m()\u001b[0m\n\u001b[1;32m      4\u001b[0m \u001b[0;31m# With tif\u001b[0m\u001b[0;34m\u001b[0m\u001b[0;34m\u001b[0m\u001b[0m\n\u001b[1;32m      5\u001b[0m \u001b[0mprint\u001b[0m\u001b[0;34m(\u001b[0m\u001b[0mnp\u001b[0m\u001b[0;34m.\u001b[0m\u001b[0munique\u001b[0m\u001b[0;34m(\u001b[0m\u001b[0mdata_tif\u001b[0m\u001b[0;34m,\u001b[0m \u001b[0mreturn_counts\u001b[0m\u001b[0;34m=\u001b[0m\u001b[0;32mTrue\u001b[0m\u001b[0;34m)\u001b[0m\u001b[0;34m)\u001b[0m\u001b[0;34m\u001b[0m\u001b[0m\n\u001b[0;32m----> 6\u001b[0;31m \u001b[0mpyplot\u001b[0m\u001b[0;34m.\u001b[0m\u001b[0mimshow\u001b[0m\u001b[0;34m(\u001b[0m\u001b[0mdata_tif\u001b[0m\u001b[0;34m)\u001b[0m\u001b[0;34m\u001b[0m\u001b[0m\n\u001b[0m",
      "\u001b[0;32m~/.pyenv/versions/3.6.0/lib/python3.6/site-packages/matplotlib/pyplot.py\u001b[0m in \u001b[0;36mimshow\u001b[0;34m(X, cmap, norm, aspect, interpolation, alpha, vmin, vmax, origin, extent, shape, filternorm, filterrad, imlim, resample, url, hold, data, **kwargs)\u001b[0m\n\u001b[1;32m   3156\u001b[0m                         \u001b[0mfilternorm\u001b[0m\u001b[0;34m=\u001b[0m\u001b[0mfilternorm\u001b[0m\u001b[0;34m,\u001b[0m \u001b[0mfilterrad\u001b[0m\u001b[0;34m=\u001b[0m\u001b[0mfilterrad\u001b[0m\u001b[0;34m,\u001b[0m\u001b[0;34m\u001b[0m\u001b[0m\n\u001b[1;32m   3157\u001b[0m                         \u001b[0mimlim\u001b[0m\u001b[0;34m=\u001b[0m\u001b[0mimlim\u001b[0m\u001b[0;34m,\u001b[0m \u001b[0mresample\u001b[0m\u001b[0;34m=\u001b[0m\u001b[0mresample\u001b[0m\u001b[0;34m,\u001b[0m \u001b[0murl\u001b[0m\u001b[0;34m=\u001b[0m\u001b[0murl\u001b[0m\u001b[0;34m,\u001b[0m \u001b[0mdata\u001b[0m\u001b[0;34m=\u001b[0m\u001b[0mdata\u001b[0m\u001b[0;34m,\u001b[0m\u001b[0;34m\u001b[0m\u001b[0m\n\u001b[0;32m-> 3158\u001b[0;31m                         **kwargs)\n\u001b[0m\u001b[1;32m   3159\u001b[0m     \u001b[0;32mfinally\u001b[0m\u001b[0;34m:\u001b[0m\u001b[0;34m\u001b[0m\u001b[0m\n\u001b[1;32m   3160\u001b[0m         \u001b[0max\u001b[0m\u001b[0;34m.\u001b[0m\u001b[0m_hold\u001b[0m \u001b[0;34m=\u001b[0m \u001b[0mwashold\u001b[0m\u001b[0;34m\u001b[0m\u001b[0m\n",
      "\u001b[0;32m~/.pyenv/versions/3.6.0/lib/python3.6/site-packages/matplotlib/__init__.py\u001b[0m in \u001b[0;36minner\u001b[0;34m(ax, *args, **kwargs)\u001b[0m\n\u001b[1;32m   1890\u001b[0m                     warnings.warn(msg % (label_namer, func.__name__),\n\u001b[1;32m   1891\u001b[0m                                   RuntimeWarning, stacklevel=2)\n\u001b[0;32m-> 1892\u001b[0;31m             \u001b[0;32mreturn\u001b[0m \u001b[0mfunc\u001b[0m\u001b[0;34m(\u001b[0m\u001b[0max\u001b[0m\u001b[0;34m,\u001b[0m \u001b[0;34m*\u001b[0m\u001b[0margs\u001b[0m\u001b[0;34m,\u001b[0m \u001b[0;34m**\u001b[0m\u001b[0mkwargs\u001b[0m\u001b[0;34m)\u001b[0m\u001b[0;34m\u001b[0m\u001b[0m\n\u001b[0m\u001b[1;32m   1893\u001b[0m         \u001b[0mpre_doc\u001b[0m \u001b[0;34m=\u001b[0m \u001b[0minner\u001b[0m\u001b[0;34m.\u001b[0m\u001b[0m__doc__\u001b[0m\u001b[0;34m\u001b[0m\u001b[0m\n\u001b[1;32m   1894\u001b[0m         \u001b[0;32mif\u001b[0m \u001b[0mpre_doc\u001b[0m \u001b[0;32mis\u001b[0m \u001b[0;32mNone\u001b[0m\u001b[0;34m:\u001b[0m\u001b[0;34m\u001b[0m\u001b[0m\n",
      "\u001b[0;32m~/.pyenv/versions/3.6.0/lib/python3.6/site-packages/matplotlib/axes/_axes.py\u001b[0m in \u001b[0;36mimshow\u001b[0;34m(self, X, cmap, norm, aspect, interpolation, alpha, vmin, vmax, origin, extent, shape, filternorm, filterrad, imlim, resample, url, **kwargs)\u001b[0m\n\u001b[1;32m   5116\u001b[0m                               resample=resample, **kwargs)\n\u001b[1;32m   5117\u001b[0m \u001b[0;34m\u001b[0m\u001b[0m\n\u001b[0;32m-> 5118\u001b[0;31m         \u001b[0mim\u001b[0m\u001b[0;34m.\u001b[0m\u001b[0mset_data\u001b[0m\u001b[0;34m(\u001b[0m\u001b[0mX\u001b[0m\u001b[0;34m)\u001b[0m\u001b[0;34m\u001b[0m\u001b[0m\n\u001b[0m\u001b[1;32m   5119\u001b[0m         \u001b[0mim\u001b[0m\u001b[0;34m.\u001b[0m\u001b[0mset_alpha\u001b[0m\u001b[0;34m(\u001b[0m\u001b[0malpha\u001b[0m\u001b[0;34m)\u001b[0m\u001b[0;34m\u001b[0m\u001b[0m\n\u001b[1;32m   5120\u001b[0m         \u001b[0;32mif\u001b[0m \u001b[0mim\u001b[0m\u001b[0;34m.\u001b[0m\u001b[0mget_clip_path\u001b[0m\u001b[0;34m(\u001b[0m\u001b[0;34m)\u001b[0m \u001b[0;32mis\u001b[0m \u001b[0;32mNone\u001b[0m\u001b[0;34m:\u001b[0m\u001b[0;34m\u001b[0m\u001b[0m\n",
      "\u001b[0;32m~/.pyenv/versions/3.6.0/lib/python3.6/site-packages/matplotlib/image.py\u001b[0m in \u001b[0;36mset_data\u001b[0;34m(self, A)\u001b[0m\n\u001b[1;32m    547\u001b[0m         if (self._A.ndim not in (2, 3) or\n\u001b[1;32m    548\u001b[0m                 (self._A.ndim == 3 and self._A.shape[-1] not in (3, 4))):\n\u001b[0;32m--> 549\u001b[0;31m             \u001b[0;32mraise\u001b[0m \u001b[0mTypeError\u001b[0m\u001b[0;34m(\u001b[0m\u001b[0;34m\"Invalid dimensions for image data\"\u001b[0m\u001b[0;34m)\u001b[0m\u001b[0;34m\u001b[0m\u001b[0m\n\u001b[0m\u001b[1;32m    550\u001b[0m \u001b[0;34m\u001b[0m\u001b[0m\n\u001b[1;32m    551\u001b[0m         \u001b[0mself\u001b[0m\u001b[0;34m.\u001b[0m\u001b[0m_imcache\u001b[0m \u001b[0;34m=\u001b[0m \u001b[0;32mNone\u001b[0m\u001b[0;34m\u001b[0m\u001b[0m\n",
      "\u001b[0;31mTypeError\u001b[0m: Invalid dimensions for image data"
     ]
    },
    {
     "data": {
      "image/png": "[encoded data removed]",
      "text/plain": [
       "<matplotlib.figure.Figure at 0x145e12240>"
      ]
     },
     "metadata": {},
     "output_type": "display_data"
    }
   ],
   "source": [
    "from matplotlib import pyplot\n",
    "%matplotlib inline\n",
    "\n",
    "# With tif\n",
    "print(np.unique(data_tif, return_counts=True))\n",
    "pyplot.imshow(data_tif)"
   ]
  },
  {
   "cell_type": "code",
   "execution_count": null,
   "metadata": {
    "collapsed": false
   },
   "outputs": [],
   "source": [
    "# With png\n",
    "np.unique(b, return_counts=True)"
   ]
  },
  {
   "cell_type": "code",
   "execution_count": 45,
   "metadata": {
    "collapsed": false,
    "scrolled": true
   },
   "outputs": [
    {
     "name": "stdout",
     "output_type": "stream",
     "text": [
      "{'driver': 'GTiff', 'dtype': 'uint8', 'nodata': 0.0, 'width': 4896, 'height': 4288, 'count': 1, 'crs': CRS({'proj': 'merc', 'a': 6378137, 'b': 6378137, 'lat_ts': 0, 'lon_0': 0, 'x_0': 0, 'y_0': 0, 'k': 1, 'units': 'm', 'nadgrids': '@null', 'wktext': True, 'no_defs': True}), 'transform': Affine(38.21851414259241, 0.0, -8671016.48866912,\n",
      "       0.0, -38.21851414259243, 4778231.5121615715), 'tiled': False, 'interleave': 'band'}\n",
      "BoundingBox(left=-8671016.48866912, bottom=4614350.523518135, right=-8483898.643426988, top=4778231.5121615715)\n",
      "((0, 1), (0, 4896))\n",
      "Start dst_array sum: [18]\n",
      "src: [[101 101   1 ...,   1   1   1]]\n",
      "src shape: (1, 4896)\n",
      "src sum: [118096]\n",
      "dst: [[0 0 0 ..., 0 0 0]]\n",
      "dst shape: (1, 4896)\n",
      "dst sum: [0]\n"
     ]
    }
   ],
   "source": [
    "from rasterio.warp import calculate_default_transform, reproject, Resampling\n",
    "\n",
    "orig_files = [\n",
    "    \"test_clip\",\n",
    "#     \"GHS_BUILT_LDS1975_GLOBE_R2016A_54009_250_v1_0\",\n",
    "#     \"GHS_BUILT_LDS1990_GLOBE_R2016A_54009_250_v1_0\",\n",
    "#     \"GHS_BUILT_LDS2000_GLOBE_R2016A_54009_250_v1_0\",\n",
    "#     \"GHS_BUILT_LDS2014_GLOBE_R2016A_54009_250_v1_0\"\n",
    "]\n",
    "\n",
    "for file_name in orig_files:\n",
    "\n",
    "    out = \"/Users/nathansuberi/Desktop/RW_Data/{}_edit.tif\".format(file_name)\n",
    "\n",
    "    with rio.open(\"/Users/nathansuberi/Desktop/RW_Data/{}.tif\".format(file_name)) as src:\n",
    "        print(src.profile)\n",
    "        dst_crs = CRS.from_string(\"EPSG:4326\")\n",
    "\n",
    "        profile = src.profile\n",
    "        print(src.bounds)\n",
    "\n",
    "        # Calculate the ideal dimensions and transformation in the new crs\n",
    "        dst_affine, dst_width, dst_height = calculate_default_transform(\n",
    "            src.crs, dst_crs, src.width, src.height, *src.bounds)\n",
    "\n",
    "        # Need to remove edges??\n",
    "\n",
    "\n",
    "        # update the relevant parts of the profile\n",
    "        profile.update({\n",
    "            'crs': dst_crs,\n",
    "            'transform': dst_affine,\n",
    "            'width': dst_width,\n",
    "            'height': dst_height\n",
    "        })\n",
    "\n",
    "        windows = src.block_windows()\n",
    "\n",
    "        with rio.open(out, 'w', **profile) as dst:\n",
    "            for ix, window in windows:\n",
    "                print(window)\n",
    "                src_array = src.read(indexes=1, window=window)\n",
    "                #src_array = src.read(indexes=1)\n",
    "                # adjust this to be the window size\n",
    "                #dst_array = np.empty((dst_height, dst_width), dtype=src.profile[\"dtype\"])\n",
    "                \n",
    "                dst_affine_window, dst_width_window, dst_height_window = calculate_default_transform(\n",
    "                    src.crs, dst_crs, src_array.shape[1], src_array.shape[0],\n",
    "                    *rio.windows.bounds(window, src.transform))\n",
    "                \n",
    "                #dst_array = np.empty((window[0][1] - window[0][0], window[1][1] - window[1][0]), dtype=src.profile[\"dtype\"])\n",
    "                dst_array = np.empty((dst_height_window, dst_width_window), dtype=src.profile[\"dtype\"])\n",
    "                \n",
    "                #dst_array = np.ones((window[0][1] - window[0][0], window[1][1] - window[1][0]), dtype=src.profile[\"dtype\"])\n",
    "                print(\"Start dst_array sum:\", np.sum(dst_array, axis=1))\n",
    "\n",
    "                print(\"src:\", src_array)\n",
    "                print(\"src shape:\", src_array.shape)\n",
    "                print(\"src sum:\", np.sum(src_array, axis=1))\n",
    "\n",
    "                # Charlie - do I need to compute a separate transform for this?\n",
    "                # https://github.com/wri/lambda-palm-risk-poc/blob/master/geop/geo_utils.py\n",
    "                #dst_window_affine = rio.windows.transform(window, dst_affine)\n",
    "                #print(dst_window_affine)\n",
    "                #print(dst_affine)\n",
    "\n",
    "                reproject(\n",
    "                    # Source parameters\n",
    "                    source=src_array,\n",
    "                    src_crs=src.crs,\n",
    "                    src_transform=src.transform,\n",
    "                    # Destination paramaters\n",
    "                    destination=dst_array,\n",
    "                    dst_transform=dst_affine_window,\n",
    "                    #dst_transform=dst_window_affine,\n",
    "                    dst_crs=dst_crs,\n",
    "                    # Configuration\n",
    "                    resampling=Resampling.nearest,\n",
    "                    num_threads=2)\n",
    "\n",
    "                print(\"dst:\", dst_array)\n",
    "                print(\"dst shape:\", dst_array.shape)\n",
    "                print(\"dst sum:\", np.sum(dst_array, axis=1))\n",
    "\n",
    "                # Neither dst_affine nor dst_window_affine produces any data\n",
    "                # in the dst_array...\n",
    "\n",
    "\n",
    "                dst.write(dst_array, indexes=1, window=window)\n",
    "                #dst.write(dst_array, indexes=1)\n",
    "                break\n",
    "\n"
   ]
  },
  {
   "cell_type": "code",
   "execution_count": 83,
   "metadata": {
    "collapsed": false
   },
   "outputs": [
    {
     "name": "stdout",
     "output_type": "stream",
     "text": [
      "{'driver': 'GTiff', 'dtype': 'float64', 'nodata': -1.797693e+308, 'width': 8696, 'height': 14141, 'count': 2, 'crs': CRS({'init': 'epsg:3857'}), 'transform': Affine(31.1395240813198, 0.0, 8844682.941911152,\n",
      "       0.0, -31.1395240813198, 1100353.9004315133), 'blockxsize': 128, 'blockysize': 128, 'compress': 'lzw', 'interleave': 'pixel', 'tiled': True}\n"
     ]
    }
   ],
   "source": [
    "with rio.open(out, \"r\") as src:\n",
    "    print(src.profile)"
   ]
  },
  {
   "cell_type": "code",
   "execution_count": 14,
   "metadata": {
    "collapsed": true
   },
   "outputs": [
    {
     "name": "stdout",
     "output_type": "stream",
     "text": [
      "Help on module rasterio.features in rasterio:\n",
      "\n",
      "NAME\n",
      "    rasterio.features - Functions for working with features in a raster dataset.\n",
      "\n",
      "FUNCTIONS\n",
      "    bounds(geometry)\n",
      "        Return a (minx, miny, maxx, maxy) bounding box.\n",
      "        \n",
      "        From Fiona 1.4.8. Modified to return bbox from geometry if available.\n",
      "        \n",
      "        Parameters\n",
      "        ----------\n",
      "        geometry: GeoJSON-like feature, feature collection, or geometry.\n",
      "        \n",
      "        Returns\n",
      "        -------\n",
      "        tuple\n",
      "            Bounding box: (minx, miny, maxx, maxy)\n",
      "    \n",
      "    geometry_mask(geometries, out_shape, transform, all_touched=False, invert=False)\n",
      "        Create a mask from shapes.\n",
      "        \n",
      "        By default, mask is intended for use as a\n",
      "        numpy mask, where pixels that overlap shapes are False.\n",
      "        \n",
      "        Parameters\n",
      "        ----------\n",
      "        geometries : iterable over geometries (GeoJSON-like objects)\n",
      "        out_shape : tuple or list\n",
      "            Shape of output numpy ndarray.\n",
      "        transform : Affine transformation object\n",
      "            Transformation from pixel coordinates of `image` to the\n",
      "            coordinate system of the input `shapes`. See the `transform`\n",
      "            property of dataset objects.\n",
      "        all_touched : boolean, optional\n",
      "            If True, all pixels touched by geometries will be burned in.  If\n",
      "            false, only pixels whose center is within the polygon or that\n",
      "            are selected by Bresenham's line algorithm will be burned in.\n",
      "        invert: boolean, optional\n",
      "            If True, mask will be True for pixels that overlap shapes.\n",
      "            False by default.\n",
      "        \n",
      "        Returns\n",
      "        -------\n",
      "        out : numpy ndarray of type 'bool'\n",
      "            Result\n",
      "    \n",
      "    rasterize(shapes, out_shape=None, fill=0, out=None, output=None, transform=Affine(1.0, 0.0, 0.0,\n",
      "           0.0, 1.0, 0.0), all_touched=False, default_value=1, dtype=None)\n",
      "        Return an image array with input geometries burned in.\n",
      "        \n",
      "        Parameters\n",
      "        ----------\n",
      "        shapes : iterable of (geometry, value) pairs or iterable over\n",
      "            geometries. `geometry` can either be an object that implements\n",
      "            the geo interface or GeoJSON-like object.\n",
      "        out_shape : tuple or list\n",
      "            Shape of output numpy ndarray.\n",
      "        fill : int or float, optional\n",
      "            Used as fill value for all areas not covered by input\n",
      "            geometries.\n",
      "        out : numpy ndarray, optional\n",
      "            Array of same shape and data type as `image` in which to store\n",
      "            results.\n",
      "        output : older alias for `out`, will be removed before 1.0.\n",
      "        transform : Affine transformation object, optional\n",
      "            Transformation from pixel coordinates of `image` to the\n",
      "            coordinate system of the input `shapes`. See the `transform`\n",
      "            property of dataset objects.\n",
      "        all_touched : boolean, optional\n",
      "            If True, all pixels touched by geometries will be burned in.  If\n",
      "            false, only pixels whose center is within the polygon or that\n",
      "            are selected by Bresenham's line algorithm will be burned in.\n",
      "        default_value : int or float, optional\n",
      "            Used as value for all geometries, if not provided in `shapes`.\n",
      "        dtype : rasterio or numpy data type, optional\n",
      "            Used as data type for results, if `out` is not provided.\n",
      "        \n",
      "        Returns\n",
      "        -------\n",
      "        out : numpy ndarray\n",
      "            Results\n",
      "        \n",
      "        Notes\n",
      "        -----\n",
      "        Valid data types for `fill`, `default_value`, `out`, `dtype` and\n",
      "        shape values are rasterio.int16, rasterio.int32, rasterio.uint8,\n",
      "        rasterio.uint16, rasterio.uint32, rasterio.float32,\n",
      "        rasterio.float64.\n",
      "    \n",
      "    shapes(image, mask=None, connectivity=4, transform=Affine(1.0, 0.0, 0.0,\n",
      "           0.0, 1.0, 0.0))\n",
      "        Yield (polygon, value for each set of adjacent pixels of the same value.\n",
      "        \n",
      "        Parameters\n",
      "        ----------\n",
      "        image : numpy ndarray or rasterio Band object\n",
      "            (RasterReader, bidx namedtuple).\n",
      "            Data type must be one of rasterio.int16, rasterio.int32,\n",
      "            rasterio.uint8, rasterio.uint16, or rasterio.float32.\n",
      "        mask : numpy ndarray or rasterio Band object, optional\n",
      "            Values of False or 0 will be excluded from feature generation\n",
      "            Must evaluate to bool (rasterio.bool_ or rasterio.uint8)\n",
      "        connectivity : int, optional\n",
      "            Use 4 or 8 pixel connectivity for grouping pixels into features\n",
      "        transform : Affine transformation, optional\n",
      "            If not provided, feature coordinates will be generated based on pixel\n",
      "            coordinates\n",
      "        \n",
      "        Yields\n",
      "        -------\n",
      "        tuple\n",
      "            A pair of (polygon, value) for each feature found in the image.\n",
      "            Polygons are GeoJSON-like dicts and the values are the associated value\n",
      "            from the image, in the data type of the image.\n",
      "            Note: due to floating point precision issues, values returned from a\n",
      "            floating point image may not exactly match the original values.\n",
      "        \n",
      "        Notes\n",
      "        -----\n",
      "        The amount of memory used by this algorithm is proportional to the number\n",
      "        and complexity of polygons produced.  This algorithm is most appropriate\n",
      "        for simple thematic data.  Data with high pixel-to-pixel variability, such\n",
      "        as imagery, may produce one polygon per pixel and consume large amounts of\n",
      "        memory.\n",
      "    \n",
      "    sieve(image, size, out=None, output=None, mask=None, connectivity=4)\n",
      "        Replace small polygons in `image` with value of their largest neighbor.\n",
      "        \n",
      "        Polygons are found for each set of neighboring pixels of the same value.\n",
      "        \n",
      "        Parameters\n",
      "        ----------\n",
      "        image : numpy ndarray or rasterio Band object\n",
      "            (RasterReader, bidx namedtuple)\n",
      "            Must be of type rasterio.int16, rasterio.int32, rasterio.uint8,\n",
      "            rasterio.uint16, or rasterio.float32\n",
      "        size : int\n",
      "            minimum polygon size (number of pixels) to retain.\n",
      "        out : numpy ndarray, optional\n",
      "            Array of same shape and data type as `image` in which to store results.\n",
      "        output : older alias for `out`, will be removed before 1.0.\n",
      "        output : numpy ndarray, optional\n",
      "        mask : numpy ndarray or rasterio Band object, optional\n",
      "            Values of False or 0 will be excluded from feature generation\n",
      "            Must evaluate to bool (rasterio.bool_ or rasterio.uint8)\n",
      "        connectivity : int, optional\n",
      "            Use 4 or 8 pixel connectivity for grouping pixels into features\n",
      "        \n",
      "        Returns\n",
      "        -------\n",
      "        out : numpy ndarray\n",
      "            Result\n",
      "        \n",
      "        Notes\n",
      "        -----\n",
      "        GDAL only supports values that can be cast to 32-bit integers for this\n",
      "        operation.\n",
      "        \n",
      "        The amount of memory used by this algorithm is proportional to the number\n",
      "        and complexity of polygons found in the image.  This algorithm is most\n",
      "        appropriate for simple thematic data.  Data with high pixel-to-pixel\n",
      "        variability, such as imagery, may produce one polygon per pixel and consume\n",
      "        large amounts of memory.\n",
      "\n",
      "DATA\n",
      "    IDENTITY = Affine(1.0, 0.0, 0.0,\n",
      "           0.0, 1.0, 0.0)\n",
      "    absolute_import = _Feature((2, 5, 0, 'alpha', 1), (3, 0, 0, 'alpha', 0...\n",
      "    log = <Logger rasterio.features (WARNING)>\n",
      "\n",
      "FILE\n",
      "    /Users/nathansuberi/.pyenv/versions/3.6.0/lib/python3.6/site-packages/rasterio/features.py\n",
      "\n",
      "\n"
     ]
    }
   ],
   "source": [
    "help(features)"
   ]
  },
  {
   "cell_type": "code",
   "execution_count": 3,
   "metadata": {
    "collapsed": false
   },
   "outputs": [
    {
     "name": "stdout",
     "output_type": "stream",
     "text": [
      "{'driver': 'GTiff', 'dtype': 'uint8', 'nodata': 255.0, 'width': 43200, 'height': 21600, 'count': 1, 'crs': CRS({'init': 'epsg:4326'}), 'transform': Affine(0.00833333333333333, 0.0, -180.00000000000003,\n",
      "       0.0, -0.00833333333333333, 90.00000000000001), 'blockxsize': 128, 'blockysize': 128, 'tiled': True, 'interleave': 'band'}\n"
     ]
    }
   ],
   "source": [
    "# Experimenting with remote access to files over s3\n",
    "\n",
    "with rio.open(\"s3://wri-public-data/resourcewatch/raster/for_013_forest_landscape_restoration_opportunity/for_013_forest_landscape_restoration_opportunity.tif\") as src:\n",
    "    print(src.profile)"
   ]
  },
  {
   "cell_type": "code",
   "execution_count": 6,
   "metadata": {
    "collapsed": false
   },
   "outputs": [
    {
     "data": {
      "text/plain": [
       "3224624"
      ]
     },
     "execution_count": 6,
     "metadata": {},
     "output_type": "execute_result"
    }
   ],
   "source": [
    "936344624 - 43200*21600"
   ]
  },
  {
   "cell_type": "code",
   "execution_count": 7,
   "metadata": {
    "collapsed": false
   },
   "outputs": [
    {
     "data": {
      "text/plain": [
       "256"
      ]
     },
     "execution_count": 7,
     "metadata": {},
     "output_type": "execute_result"
    }
   ],
   "source": [
    "2**8"
   ]
  },
  {
   "cell_type": "code",
   "execution_count": 8,
   "metadata": {
    "collapsed": false
   },
   "outputs": [
    {
     "name": "stdout",
     "output_type": "stream",
     "text": [
      "{\"blockxsize\": 128, \"blockysize\": 128, \"bounds\": [-180.00000000000003, -89.9999999999999, 179.9999999999998, 90.00000000000001], \"colorinterp\": [\"grey\"], \"count\": 1, \"crs\": \"EPSG:4326\", \"descriptions\": [null], \"driver\": \"GTiff\", \"dtype\": \"uint8\", \"height\": 21600, \"indexes\": [1], \"interleave\": \"band\", \"lnglat\": [-1.1368683772161603e-13, 5.684341886080802e-14], \"mask_flags\": [[\"nodata\"]], \"nodata\": 255.0, \"res\": [0.00833333333333333, 0.00833333333333333], \"shape\": [21600, 43200], \"tiled\": true, \"transform\": [0.00833333333333333, 0.0, -180.00000000000003, 0.0, -0.00833333333333333, 90.00000000000001, 0.0, 0.0, 1.0], \"units\": [null], \"width\": 43200}\r\n"
     ]
    }
   ],
   "source": [
    "!rio info s3://wri-public-data/resourcewatch/raster/for_013_forest_landscape_restoration_opportunity/for_013_forest_landscape_restoration_opportunity.tif\n"
   ]
  },
  {
   "cell_type": "code",
   "execution_count": 8,
   "metadata": {
    "collapsed": false
   },
   "outputs": [
    {
     "name": "stdout",
     "output_type": "stream",
     "text": [
      "{'driver': 'GTiff', 'dtype': 'float32', 'nodata': -3.402823e+38, 'width': 144060, 'height': 55869, 'count': 1, 'crs': CRS({'init': 'epsg:4326'}), 'transform': Affine(0.0024989486053415473, 0.0, -179.99999911850753,\n",
      "       0.0, -0.002498965952043977, 83.63080127242071), 'blockxsize': 512, 'blockysize': 512, 'compress': 'lzw', 'interleave': 'band', 'tiled': True}\n"
     ]
    }
   ],
   "source": [
    "with rio.open(\"/Users/nathansuberi/Desktop/RW_Data/GHS_BUILT_LDS2000_GLOBE_R2016A_54009_250_v1_0_rioedit.tif\") as src:\n",
    "    print(src.profile)\n",
    "    \n",
    "    af_bds = (60.5284298033, 29.318572496, 75.1580277851, 38.4862816432)\n",
    "    \n",
    "    #window_over_afghanistan = ((af_bds[0], af_bds[2]), (af_bds[1], af_bds[3]))\n",
    "    \n",
    "    window = rio.windows.from_bounds(*af_bds, src.transform, boundless=True)\n",
    "    \n",
    "    data = src.read(indexes=1, window=window)"
   ]
  },
  {
   "cell_type": "code",
   "execution_count": null,
   "metadata": {
    "collapsed": false
   },
   "outputs": [
    {
     "data": {
      "text/plain": [
       "<matplotlib.image.AxesImage at 0x118197ef0>"
      ]
     },
     "execution_count": 9,
     "metadata": {},
     "output_type": "execute_result"
    }
   ],
   "source": [
    "pyplot.imshow(data)"
   ]
  }
 ],
 "metadata": {
  "kernelspec": {
   "display_name": "Python 3",
   "language": "python",
   "name": "python3"
  },
  "language_info": {
   "codemirror_mode": {
    "name": "ipython",
    "version": 3
   },
   "file_extension": ".py",
   "mimetype": "text/x-python",
   "name": "python",
   "nbconvert_exporter": "python",
   "pygments_lexer": "ipython3",
   "version": "3.6.0"
  }
 },
 "nbformat": 4,
 "nbformat_minor": 2
}
