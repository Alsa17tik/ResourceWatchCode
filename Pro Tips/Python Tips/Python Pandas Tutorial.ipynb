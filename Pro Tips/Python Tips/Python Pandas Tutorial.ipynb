{
 "cells": [
  {
   "cell_type": "code",
   "execution_count": 2,
   "metadata": {
    "collapsed": false
   },
   "outputs": [],
   "source": [
    "import pandas as pd\n",
    "#import geopandas as gpd"
   ]
  },
  {
   "cell_type": "markdown",
   "metadata": {},
   "source": [
    "Learn about how to make a DataFrame\n",
    "\n",
    "Documentation:\n",
    "https://pandas.pydata.org/pandas-docs/stable/generated/pandas.DataFrame.html\n",
    "\n",
    "Cookbook, lots of examples: https://pandas.pydata.org/pandas-docs/stable/cookbook.html#cookbook-pivot\n",
    "\n",
    "Using pd.read_csv() to create a DataFrame from a csv: https://pandas.pydata.org/pandas-docs/stable/generated/pandas.read_csv.html\n",
    "\n",
    "Using DataFrame.head() and DataFrame.tail() to explore top and bottom of datasets:\n",
    "* https://pandas.pydata.org/pandas-docs/version/0.18.1/generated/pandas.DataFrame.head.html\n",
    "* https://pandas.pydata.org/pandas-docs/stable/generated/pandas.DataFrame.tail.html\n",
    "* http://pandathings.com/learn-about-the-giant-panda/do-pandas-have-tails/\n",
    "\n",
    "Resource Watch example, preparing data for the GDP-GHG Divergence project: https://github.com/nsuberi/ResourceWatchCode/blob/master/Notebooks%20for%20Exploring%20Specific%20Datasets/CDIAC%20Play.ipynb\n",
    "    "
   ]
  },
  {
   "cell_type": "code",
   "execution_count": 6,
   "metadata": {
    "collapsed": false
   },
   "outputs": [
    {
     "data": {
      "text/html": [
       "<div>\n",
       "<style>\n",
       "    .dataframe thead tr:only-child th {\n",
       "        text-align: right;\n",
       "    }\n",
       "\n",
       "    .dataframe thead th {\n",
       "        text-align: left;\n",
       "    }\n",
       "\n",
       "    .dataframe tbody tr th {\n",
       "        vertical-align: top;\n",
       "    }\n",
       "</style>\n",
       "<table border=\"1\" class=\"dataframe\">\n",
       "  <thead>\n",
       "    <tr style=\"text-align: right;\">\n",
       "      <th></th>\n",
       "      <th>row1</th>\n",
       "      <th>row2</th>\n",
       "    </tr>\n",
       "  </thead>\n",
       "  <tbody>\n",
       "    <tr>\n",
       "      <th>1</th>\n",
       "      <td>Hello</td>\n",
       "      <td>World</td>\n",
       "    </tr>\n",
       "    <tr>\n",
       "      <th>2</th>\n",
       "      <td>Hello</td>\n",
       "      <td>World</td>\n",
       "    </tr>\n",
       "  </tbody>\n",
       "</table>\n",
       "</div>"
      ],
      "text/plain": [
       "    row1   row2\n",
       "1  Hello  World\n",
       "2  Hello  World"
      ]
     },
     "execution_count": 6,
     "metadata": {},
     "output_type": "execute_result"
    }
   ],
   "source": [
    "# Practice here\n",
    "\n",
    "rows = {\n",
    "    \"row1\": \"Hello\",\n",
    "    \"row2\": \"World\"\n",
    "}\n",
    "\n",
    "pd.DataFrame(rows, index=[1,2])\n"
   ]
  },
  {
   "cell_type": "code",
   "execution_count": 34,
   "metadata": {
    "collapsed": false
   },
   "outputs": [
    {
     "data": {
      "text/html": [
       "<div>\n",
       "<style>\n",
       "    .dataframe thead tr:only-child th {\n",
       "        text-align: right;\n",
       "    }\n",
       "\n",
       "    .dataframe thead th {\n",
       "        text-align: left;\n",
       "    }\n",
       "\n",
       "    .dataframe tbody tr th {\n",
       "        vertical-align: top;\n",
       "    }\n",
       "</style>\n",
       "<table border=\"1\" class=\"dataframe\">\n",
       "  <thead>\n",
       "    <tr style=\"text-align: right;\">\n",
       "      <th></th>\n",
       "      <th>col1</th>\n",
       "      <th>col2</th>\n",
       "    </tr>\n",
       "  </thead>\n",
       "  <tbody>\n",
       "    <tr>\n",
       "      <th>1</th>\n",
       "      <td>2</td>\n",
       "      <td>5</td>\n",
       "    </tr>\n",
       "    <tr>\n",
       "      <th>2</th>\n",
       "      <td>3</td>\n",
       "      <td>6</td>\n",
       "    </tr>\n",
       "  </tbody>\n",
       "</table>\n",
       "</div>"
      ],
      "text/plain": [
       "   col1  col2\n",
       "1     2     5\n",
       "2     3     6"
      ]
     },
     "execution_count": 34,
     "metadata": {},
     "output_type": "execute_result"
    }
   ],
   "source": [
    "\n",
    "\n",
    "df.loc[0, \"col1\"]\n",
    "\n",
    "df[[False, True, True]]"
   ]
  },
  {
   "cell_type": "code",
   "execution_count": 35,
   "metadata": {
    "collapsed": false
   },
   "outputs": [
    {
     "data": {
      "text/plain": [
       "pandas.core.frame.DataFrame"
      ]
     },
     "execution_count": 35,
     "metadata": {},
     "output_type": "execute_result"
    }
   ],
   "source": [
    "type(df)"
   ]
  },
  {
   "cell_type": "code",
   "execution_count": 22,
   "metadata": {
    "collapsed": false
   },
   "outputs": [
    {
     "data": {
      "text/plain": [
       "0    False\n",
       "1     True\n",
       "2    False\n",
       "Name: col1, dtype: bool"
      ]
     },
     "execution_count": 22,
     "metadata": {},
     "output_type": "execute_result"
    }
   ],
   "source": [
    "df[\"col1\"]==2"
   ]
  },
  {
   "cell_type": "code",
   "execution_count": 68,
   "metadata": {
    "collapsed": false
   },
   "outputs": [
    {
     "name": "stdout",
     "output_type": "stream",
     "text": [
      "   col1  col2\n",
      "0     1     4\n",
      "1     2     5\n",
      "2     3     6\n",
      "[(1, 4), (2, 5), (3, 6)]\n",
      "[(1, 2, 3), (4, 5, 6)]\n"
     ]
    }
   ],
   "source": [
    "a = [1,2,3]\n",
    "b = [4,5,6]\n",
    "df = pd.DataFrame({\"col1\":a, \"col2\":b})\n",
    "print(df)\n",
    "\n",
    "\n",
    "c = list(zip(a,b))\n",
    "print(c)\n",
    "d = list(zip(*c))\n",
    "print(d)\n"
   ]
  },
  {
   "cell_type": "code",
   "execution_count": 87,
   "metadata": {
    "collapsed": false
   },
   "outputs": [
    {
     "name": "stdout",
     "output_type": "stream",
     "text": [
      "[[1, 2, 3], [4, 5, 6]]\n",
      "[(1, 4), (2, 5), (3, 6)]\n",
      "[([1, 2, 3],), ([4, 5, 6],)]\n",
      "[(1, 4), (2, 5), (3, 6)]\n",
      "[(1, 2, 3), (4, 5, 6)]\n",
      "[[1, 2, 3], [4, 5, 6], [7, 8, 9]]\n",
      "[(1, 4, 7), (2, 5, 8), (3, 6, 9)]\n",
      "[([1, 2, 3],), ([4, 5, 6],), ([7, 8, 9],)]\n",
      "[(1, 4, 7), (2, 5, 8), (3, 6, 9)]\n",
      "[(1, 2, 3), (4, 5, 6), (7, 8, 9)]\n",
      "[(1, 10), (2, 11), (3, 12)]\n",
      "[(1, 2, 3), (10, 11, 12)]\n"
     ]
    }
   ],
   "source": [
    "a = [1,2,3]\n",
    "b = [4,5,6]\n",
    "print(list([a,b]))\n",
    "print(list(zip(a,b)))\n",
    "print(list(zip([a,b])))\n",
    "print(list(zip(*[a,b])))\n",
    "print(list(zip(*zip(a,b))))\n",
    "c = [7,8,9]\n",
    "print(list([a,b,c]))\n",
    "print(list(zip(a,b,c)))\n",
    "print(list(zip([a,b,c])))\n",
    "print(list(zip(*[a,b,c])))\n",
    "print(list(zip(*zip(a,b,c))))\n",
    "d = [10,11,12,13,15]\n",
    "print(list(zip(a,d)))\n",
    "print(list(zip(*zip(a,d))))"
   ]
  },
  {
   "cell_type": "code",
   "execution_count": 69,
   "metadata": {
    "collapsed": false
   },
   "outputs": [
    {
     "ename": "ValueError",
     "evalue": "too many values to unpack (expected 2)",
     "output_type": "error",
     "traceback": [
      "\u001b[0;31m---------------------------------------------------------------------------\u001b[0m",
      "\u001b[0;31mValueError\u001b[0m                                Traceback (most recent call last)",
      "\u001b[0;32m<ipython-input-69-a7011839c67e>\u001b[0m in \u001b[0;36m<module>\u001b[0;34m()\u001b[0m\n\u001b[0;32m----> 1\u001b[0;31m \u001b[0mdf\u001b[0m\u001b[0;34m[\u001b[0m\u001b[0;34m\"col1sq\"\u001b[0m\u001b[0;34m]\u001b[0m\u001b[0;34m,\u001b[0m \u001b[0mdf\u001b[0m\u001b[0;34m[\u001b[0m\u001b[0;34m\"col2cu\"\u001b[0m\u001b[0;34m]\u001b[0m \u001b[0;34m=\u001b[0m \u001b[0mdf\u001b[0m\u001b[0;34m.\u001b[0m\u001b[0mapply\u001b[0m\u001b[0;34m(\u001b[0m\u001b[0;32mlambda\u001b[0m \u001b[0mrow\u001b[0m\u001b[0;34m:\u001b[0m \u001b[0;34m(\u001b[0m\u001b[0mrow\u001b[0m\u001b[0;34m.\u001b[0m\u001b[0mcol1\u001b[0m\u001b[0;34m**\u001b[0m\u001b[0;36m2\u001b[0m\u001b[0;34m,\u001b[0m \u001b[0mrow\u001b[0m\u001b[0;34m.\u001b[0m\u001b[0mcol2\u001b[0m\u001b[0;34m**\u001b[0m\u001b[0;36m3\u001b[0m\u001b[0;34m)\u001b[0m\u001b[0;34m,\u001b[0m \u001b[0maxis\u001b[0m\u001b[0;34m=\u001b[0m\u001b[0;36m1\u001b[0m\u001b[0;34m)\u001b[0m\u001b[0;34m\u001b[0m\u001b[0m\n\u001b[0m",
      "\u001b[0;31mValueError\u001b[0m: too many values to unpack (expected 2)"
     ]
    }
   ],
   "source": [
    "df[\"col1sq\"], df[\"col2cu\"] = df.apply(lambda row: (row.col1**2, row.col2**3), axis=1)"
   ]
  },
  {
   "cell_type": "markdown",
   "metadata": {},
   "source": [
    "Learn how to manipulate strings\n",
    "\n",
    "String indexing: \n",
    "* var = \"a new string\"\n",
    "* var[0]\n",
    "* var[1]\n",
    "* var[5]\n",
    "\n",
    "String slicing: \n",
    "* var[0:1]\n",
    "* var[0:2]\n",
    "* var[0:3]\n",
    "* var[1:3]\n",
    "* var[4:]\n",
    "* var[:6]\n",
    "* var[:-2]\n",
    "\n",
    "String formating: \n",
    "* var2 = \"a new {}\".format(\"statement\")\n",
    "\n",
    "Searching for substrings: \n",
    "* var3 = \"something to search\"\n",
    "* \"thing\" in var3\n",
    "* \"some\" in var3\n",
    "* \"Some\" in var3\n",
    "* \"SOME\".lower() in var3\n",
    "\n",
    "String casting: \n",
    "* var4 = \"big building\"\n",
    "* type(var4)\n",
    "* type(var4) == str\n",
    "\n",
    "* var5 = 10\n",
    "* type(var5)\n",
    "* var5 = float(var5)\n",
    "* type(var5)\n",
    "* var5 = str(var5)\n",
    "* type(var5)\n",
    "\n",
    "Resource Watch Example, setting up new file names: https://github.com/nsuberi/ResourceWatchCode/blob/master/Raster%20Dataset%20Processing/Raster%20Prep%20Notebooks/cli.005.1%20%26%20cli.005.2%20done.ipynb"
   ]
  },
  {
   "cell_type": "code",
   "execution_count": null,
   "metadata": {
    "collapsed": true
   },
   "outputs": [],
   "source": [
    "# Practice here"
   ]
  },
  {
   "cell_type": "markdown",
   "metadata": {},
   "source": [
    "Learn how to use pd.DataFrame.apply() to apply a function to rows or columns of a DataFrame\n",
    "\n",
    "Documentation: https://pandas.pydata.org/pandas-docs/stable/generated/pandas.DataFrame.apply.html\n",
    "\n",
    "A nice post w/ illustration to understand axis=1 (apply to rows) and axis=0 (apply to columns): https://stackoverflow.com/questions/22149584/what-does-axis-in-pandas-mean\n",
    "\n",
    "Using lambda functions in apply: https://stackoverflow.com/questions/36362888/python-use-a-function-in-pandas-lambda-expression\n",
    "\n",
    "Resource Watch Example: https://github.com/nsuberi/ResourceWatchCode/blob/master/Raster%20Dataset%20Processing/Raster%20Prep%20Notebooks/cit.018_calculate_running_average-later_done.ipynb"
   ]
  },
  {
   "cell_type": "code",
   "execution_count": null,
   "metadata": {
    "collapsed": true
   },
   "outputs": [],
   "source": [
    "# Practice here"
   ]
  },
  {
   "cell_type": "markdown",
   "metadata": {},
   "source": [
    "Learn how to use python's zip(*df.apply()) to make multiple columns at a time\n",
    "\n",
    "Documentation: https://docs.python.org/2/library/functions.html\n",
    "\n",
    "Resource Watch Example: https://github.com/nsuberi/ResourceWatchCode/blob/master/Raster%20Dataset%20Processing/Raster%20Prep%20Notebooks/cit.018_calculate_running_average-later_done.ipynb\n"
   ]
  },
  {
   "cell_type": "code",
   "execution_count": null,
   "metadata": {
    "collapsed": true
   },
   "outputs": [],
   "source": [
    "# Practice here"
   ]
  },
  {
   "cell_type": "markdown",
   "metadata": {},
   "source": [
    "Learn how to use python's list comprehensions\n",
    "\n",
    "Documentation: https://docs.python.org/2/tutorial/datastructures.html (see section 5.1.4)\n",
    "\n",
    "Example from the net (good example to spend time with): http://www.secnetix.de/olli/Python/list_comprehensions.hawk\n",
    "\n",
    "Resource Watch Example: https://github.com/nsuberi/ResourceWatchCode/blob/master/Metadata%20Management/Upload%20Metadata%20to%20API.ipynb\n",
    "\n",
    "search: \"missed_ids = [rw_id for rw_id\" and you will find two examples of using a list comprehension"
   ]
  },
  {
   "cell_type": "code",
   "execution_count": null,
   "metadata": {
    "collapsed": true
   },
   "outputs": [],
   "source": [
    "# Practice here"
   ]
  },
  {
   "cell_type": "markdown",
   "metadata": {},
   "source": [
    "Learn how to use a pivot table to reshape data\n",
    "\n",
    "Documentation: https://pandas.pydata.org/pandas-docs/stable/generated/pandas.DataFrame.pivot.html\n",
    "\n",
    "Reshaping with pivot tables: https://pandas.pydata.org/pandas-docs/stable/reshaping.html\n",
    "\n",
    "Cookbook example of pivoting: https://pandas.pydata.org/pandas-docs/stable/cookbook.html#cookbook-pivot\n",
    "    \n",
    "Resource Watch Example: https://github.com/nsuberi/ResourceWatchCode/blob/36cdefde097fd83cac11c5d60551b6dac2bb73fb/Notebooks%20for%20Exploring%20Specific%20Datasets/CDIAC%20Play.ipynb (search pivot in the notebook to see where I use it to reshape data coming from the World Bank API)\n",
    "    \n",
    "Other example from web: http://pbpython.com/pandas-pivot-table-explained.html"
   ]
  },
  {
   "cell_type": "code",
   "execution_count": null,
   "metadata": {
    "collapsed": true
   },
   "outputs": [],
   "source": [
    "# Practice here"
   ]
  }
 ],
 "metadata": {
  "kernelspec": {
   "display_name": "Python 3",
   "language": "python",
   "name": "python3"
  },
  "language_info": {
   "codemirror_mode": {
    "name": "ipython",
    "version": 3
   },
   "file_extension": ".py",
   "mimetype": "text/x-python",
   "name": "python",
   "nbconvert_exporter": "python",
   "pygments_lexer": "ipython3",
   "version": "3.6.0"
  }
 },
 "nbformat": 4,
 "nbformat_minor": 2
}
