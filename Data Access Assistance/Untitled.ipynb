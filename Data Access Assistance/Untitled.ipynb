{
 "cells": [
  {
   "cell_type": "code",
   "execution_count": 5,
   "metadata": {
    "collapsed": true
   },
   "outputs": [],
   "source": [
    "import subprocess\n",
    "import os\n",
    "os.chdir(\"/Users/nathansuberi/Desktop/RW_Data/\")"
   ]
  },
  {
   "cell_type": "code",
   "execution_count": 9,
   "metadata": {
    "collapsed": false
   },
   "outputs": [
    {
     "name": "stdout",
     "output_type": "stream",
     "text": [
      "b'Driver: GTiff/GeoTIFF\\nFiles: world_array.tif\\nSize is 360, 180\\nCoordinate System is:\\nGEOGCS[\"WGS 84\",\\n    DATUM[\"WGS_1984\",\\n        SPHEROID[\"WGS 84\",6378137,298.257223563,\\n            AUTHORITY[\"EPSG\",\"7030\"]],\\n        AUTHORITY[\"EPSG\",\"6326\"]],\\n    PRIMEM[\"Greenwich\",0],\\n    UNIT[\"degree\",0.0174532925199433],\\n    AUTHORITY[\"EPSG\",\"4326\"]]\\nOrigin = (-180.000000000000000,90.000000000000000)\\nPixel Size = (1.000000000000000,-1.000000000000000)\\nMetadata:\\n  AREA_OR_POINT=Area\\nImage Structure Metadata:\\n  COMPRESSION=LZW\\n  INTERLEAVE=BAND\\nCorner Coordinates:\\nUpper Left  (-180.0000000,  90.0000000) (180d 0\\' 0.00\"W, 90d 0\\' 0.00\"N)\\nLower Left  (-180.0000000, -90.0000000) (180d 0\\' 0.00\"W, 90d 0\\' 0.00\"S)\\nUpper Right ( 180.0000000,  90.0000000) (180d 0\\' 0.00\"E, 90d 0\\' 0.00\"N)\\nLower Right ( 180.0000000, -90.0000000) (180d 0\\' 0.00\"E, 90d 0\\' 0.00\"S)\\nCenter      (   0.0000000,   0.0000000) (  0d 0\\' 0.01\"E,  0d 0\\' 0.01\"N)\\nBand 1 Block=128x128 Type=Float32, ColorInterp=Gray\\n  NoData Value=0\\n'\n",
      "b'Driver: GTiff/GeoTIFF\\nFiles: world_array2.tif\\nSize is 360, 180\\nCoordinate System is:\\nGEOGCS[\"WGS 84\",\\n    DATUM[\"WGS_1984\",\\n        SPHEROID[\"WGS 84\",6378137,298.257223563,\\n            AUTHORITY[\"EPSG\",\"7030\"]],\\n        AUTHORITY[\"EPSG\",\"6326\"]],\\n    PRIMEM[\"Greenwich\",0],\\n    UNIT[\"degree\",0.0174532925199433],\\n    AUTHORITY[\"EPSG\",\"4326\"]]\\nOrigin = (-180.000000000000000,90.000000000000000)\\nPixel Size = (1.000000000000000,-1.000000000000000)\\nMetadata:\\n  AREA_OR_POINT=Area\\nImage Structure Metadata:\\n  INTERLEAVE=BAND\\nCorner Coordinates:\\nUpper Left  (-180.0000000,  90.0000000) (180d 0\\' 0.00\"W, 90d 0\\' 0.00\"N)\\nLower Left  (-180.0000000, -90.0000000) (180d 0\\' 0.00\"W, 90d 0\\' 0.00\"S)\\nUpper Right ( 180.0000000,  90.0000000) (180d 0\\' 0.00\"E, 90d 0\\' 0.00\"N)\\nLower Right ( 180.0000000, -90.0000000) (180d 0\\' 0.00\"E, 90d 0\\' 0.00\"S)\\nCenter      (   0.0000000,   0.0000000) (  0d 0\\' 0.01\"E,  0d 0\\' 0.01\"N)\\nBand 1 Block=360x5 Type=Float32, ColorInterp=Gray\\n  NoData Value=0\\n'\n"
     ]
    }
   ],
   "source": [
    "tifs = [\"world_array.tif\", \"world_array2.tif\"]\n",
    "\n",
    "for tif in tifs:\n",
    "    command = \"gdalinfo \" + tif\n",
    "    print(subprocess.check_output(command, shell=True))\n"
   ]
  }
 ],
 "metadata": {
  "kernelspec": {
   "display_name": "Python 3",
   "language": "python",
   "name": "python3"
  },
  "language_info": {
   "codemirror_mode": {
    "name": "ipython",
    "version": 3
   },
   "file_extension": ".py",
   "mimetype": "text/x-python",
   "name": "python",
   "nbconvert_exporter": "python",
   "pygments_lexer": "ipython3",
   "version": "3.6.0"
  }
 },
 "nbformat": 4,
 "nbformat_minor": 2
}
