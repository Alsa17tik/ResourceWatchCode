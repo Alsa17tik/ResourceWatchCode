{
 "cells": [
  {
   "cell_type": "code",
   "execution_count": 1,
   "metadata": {
    "collapsed": true
   },
   "outputs": [],
   "source": [
    "import pandas as pd"
   ]
  },
  {
   "cell_type": "markdown",
   "metadata": {},
   "source": [
    "Learn about how to make a DataFrame\n",
    "\n",
    "Documentation:\n",
    "https://pandas.pydata.org/pandas-docs/stable/generated/pandas.DataFrame.html\n",
    "\n",
    "Cookbook, lots of examples: https://pandas.pydata.org/pandas-docs/stable/cookbook.html#cookbook-pivot\n",
    "\n",
    "Resource Watch example:\n",
    "    "
   ]
  },
  {
   "cell_type": "code",
   "execution_count": null,
   "metadata": {
    "collapsed": true
   },
   "outputs": [],
   "source": [
    "# Practice here"
   ]
  },
  {
   "cell_type": "markdown",
   "metadata": {},
   "source": [
    "Learn how to use pd.DataFrame.apply() to apply a function to rows or columns of a DataFrame\n",
    "\n",
    "Documentation: https://pandas.pydata.org/pandas-docs/stable/generated/pandas.DataFrame.apply.html\n",
    "\n",
    "A nice post w/ illustration to understand axis=1 (apply to rows) and axis=0 (apply to columns): https://stackoverflow.com/questions/22149584/what-does-axis-in-pandas-mean\n",
    "\n",
    "Using lambda functions in apply: https://stackoverflow.com/questions/36362888/python-use-a-function-in-pandas-lambda-expression\n",
    "\n",
    "Resource Watch Example: "
   ]
  },
  {
   "cell_type": "code",
   "execution_count": null,
   "metadata": {
    "collapsed": true
   },
   "outputs": [],
   "source": [
    "# Practice here"
   ]
  },
  {
   "cell_type": "markdown",
   "metadata": {},
   "source": [
    "Learn how to use python's zip(*df.apply()) to make multiple columns at a time\n",
    "\n",
    "Documentation: https://docs.python.org/2/library/functions.html\n",
    "\n",
    "Resource Watch Example: https://github.com/nsuberi/ResourceWatchCode/blob/master/Raster%20Dataset%20Processing/Raster%20Prep%20Notebooks/cit.018_calculate_running_average-later_done.ipynb\n"
   ]
  },
  {
   "cell_type": "code",
   "execution_count": null,
   "metadata": {
    "collapsed": true
   },
   "outputs": [],
   "source": [
    "# Practice here"
   ]
  },
  {
   "cell_type": "markdown",
   "metadata": {},
   "source": [
    "Learn how to use python's list comprehensions\n",
    "\n",
    "Documentation: https://docs.python.org/2/tutorial/datastructures.html (see section 5.1.4)\n",
    "\n",
    "Example from the net (good example to spend time with): http://www.secnetix.de/olli/Python/list_comprehensions.hawk\n",
    "\n",
    "Resource Watch Example: https://github.com/nsuberi/ResourceWatchCode/blob/master/Metadata%20Management/Upload%20Metadata%20to%20API.ipynb\n",
    "\n",
    "search: \"missed_ids = [rw_id for rw_id\" and you will find two examples of using a list comprehension"
   ]
  },
  {
   "cell_type": "code",
   "execution_count": null,
   "metadata": {
    "collapsed": true
   },
   "outputs": [],
   "source": [
    "# Practice here"
   ]
  },
  {
   "cell_type": "markdown",
   "metadata": {},
   "source": [
    "Learn how to use a pivot table to reshape data\n",
    "\n",
    "Documentation: https://pandas.pydata.org/pandas-docs/stable/generated/pandas.DataFrame.pivot.html\n",
    "\n",
    "Reshaping with pivot tables: https://pandas.pydata.org/pandas-docs/stable/reshaping.html\n",
    "\n",
    "Cookbook example of pivoting: https://pandas.pydata.org/pandas-docs/stable/cookbook.html#cookbook-pivot\n",
    "    \n",
    "Resource Watch Example: https://github.com/nsuberi/ResourceWatchCode/blob/36cdefde097fd83cac11c5d60551b6dac2bb73fb/Notebooks%20for%20Exploring%20Specific%20Datasets/CDIAC%20Play.ipynb (search pivot in the notebook to see where I use it to reshape data coming from the World Bank API)\n",
    "    \n",
    "Other example from web: http://pbpython.com/pandas-pivot-table-explained.html"
   ]
  },
  {
   "cell_type": "code",
   "execution_count": null,
   "metadata": {
    "collapsed": true
   },
   "outputs": [],
   "source": [
    "# Practice here"
   ]
  }
 ],
 "metadata": {
  "kernelspec": {
   "display_name": "Python 3",
   "language": "python",
   "name": "python3"
  },
  "language_info": {
   "codemirror_mode": {
    "name": "ipython",
    "version": 3
   },
   "file_extension": ".py",
   "mimetype": "text/x-python",
   "name": "python",
   "nbconvert_exporter": "python",
   "pygments_lexer": "ipython3",
   "version": "3.6.0"
  }
 },
 "nbformat": 4,
 "nbformat_minor": 2
}
