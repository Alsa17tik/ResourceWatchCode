{
 "cells": [
  {
   "cell_type": "code",
   "execution_count": null,
   "metadata": {
    "collapsed": true
   },
   "outputs": [],
   "source": [
    "import os\n",
    "import pandas as pd\n",
    "import numpy as np"
   ]
  },
  {
   "cell_type": "code",
   "execution_count": null,
   "metadata": {
    "collapsed": false
   },
   "outputs": [],
   "source": [
    "# Reference from above:\n",
    "!mkdir temp\n",
    "\n",
    "os.chdir(\"temp\")\n",
    "# In order for this to be work, sheet needs to be public\n",
    "# Or \"On, anyone with link can access\"\n",
    "\n",
    "# Metadata to Upload\n",
    "!curl \"https://docs.google.com/spreadsheets/d/1UkABgMlBIinJjITa6WepFAL-8VBkulS0LCbKojRXjVY/export?format=tsv\" > current_metadata.tsv\n",
    "current_mdata = pd.read_csv(os.getcwd()+\"/current_metadata.tsv\", sep=\"\\t\", index_col=[0])\n",
    "current_mdata = current_mdata.transpose().set_index(\"Unique ID\")\n",
    "\n",
    "# Official Names\n",
    "!curl \"https://docs.google.com/spreadsheets/d/1ijQrjYv-mxtmoDHxv0S1XlfRed6IbYcviRW_HY7GAh8/export?format=tsv\" > official_names.tsv\n",
    "official_names = pd.read_csv(os.getcwd()+\"/official_names.tsv\", sep=\"\\t\", index_col=[0])\n",
    "\n",
    "os.chdir(\"..\")\n",
    "!rm -r temp"
   ]
  },
  {
   "cell_type": "code",
   "execution_count": null,
   "metadata": {
    "collapsed": true
   },
   "outputs": [],
   "source": [
    "current_mdata"
   ]
  },
  {
   "cell_type": "code",
   "execution_count": null,
   "metadata": {
    "collapsed": false
   },
   "outputs": [],
   "source": [
    "official_names"
   ]
  },
  {
   "cell_type": "code",
   "execution_count": null,
   "metadata": {
    "collapsed": false
   },
   "outputs": [],
   "source": [
    "need_to_be_added = []\n",
    "\n",
    "# Helper function\n",
    "def list_to_string(lst):\n",
    "    res = \"\"\n",
    "    for ix, item in enumerate(lst):\n",
    "        if ix < len(lst)-1:\n",
    "            res += item + \"/\"\n",
    "        else:\n",
    "            res += item\n",
    "\n",
    "    return(res)\n",
    "\n",
    "def clean_sources(source_orgs):\n",
    "    \n",
    "    # Get list of just long-form names\n",
    "    source_list = source_orgs.split(\"/\")\n",
    "    long_srcs = []\n",
    "    \n",
    "    for src in source_list:\n",
    "\n",
    "        paren_finder = src.split(\"(\")\n",
    "        \n",
    "        if (len(paren_finder) > 1):\n",
    "            # accronym stored in second section\n",
    "            long_name = paren_finder[0]\n",
    "            long_name = long_name.strip()\n",
    "            long_srcs.append(long_name)\n",
    "        else:\n",
    "            long_name = paren_finder[0].strip()\n",
    "            long_srcs.append(long_name)\n",
    "    \n",
    "    # Add acronyms onto long-form names\n",
    "    subtitles_list = []\n",
    "    source_org_list = []\n",
    "    \n",
    "    for src in long_srcs:\n",
    "        try:\n",
    "#             if(src in changed_names):\n",
    "#                 src = changed_names[src]\n",
    "#                 print(src)\n",
    "            accronym = official_names.loc[src][\"Subtitle, Source (top of data page)\"]\n",
    "            #official_names.loc[src][\"count\"] += 1\n",
    "        \n",
    "        # This block runs if src is not in official names\n",
    "        except:\n",
    "            need_to_be_added.append(src)\n",
    "            print(\"accronym not yet assigned\")\n",
    "        \n",
    "            source_org_list.append(src + \" (accronym not yet assigned)\")\n",
    "            subtitles_list.append(\"accronym not yet assigned\")\n",
    "                \n",
    "        # If official acronym exists, this runs\n",
    "        else:\n",
    "            source_org_list.append(src + \" (\" + accronym + \")\")\n",
    "            subtitles_list.append(accronym)\n",
    "                \n",
    "    # strip brackets, replace with /\n",
    "    clean_sources = list_to_string(source_org_list)\n",
    "    clean_subtitles = list_to_string(subtitles_list)\n",
    "    \n",
    "    return(clean_sources, clean_subtitles)\n",
    "    \n",
    "def update_source_info(row):\n",
    "    #print(\"Title: \", row[\"New Simple Title\"])\n",
    "    #print(\"Source Orgs: \", row[\"Source Organizations\"])\n",
    "    row[\"Source Organizations\"], row[\"Subtitle\"] = clean_sources(row[\"Source Organizations\"])\n",
    "    return(row)"
   ]
  },
  {
   "cell_type": "code",
   "execution_count": null,
   "metadata": {
    "collapsed": false
   },
   "outputs": [],
   "source": [
    "dummy = current_mdata.copy()\n",
    "last = dummy.shape[0]\n",
    "dummy = dummy.iloc[0:last-1]"
   ]
  },
  {
   "cell_type": "code",
   "execution_count": null,
   "metadata": {
    "collapsed": false
   },
   "outputs": [],
   "source": [
    "new_df = dummy.apply(lambda row: update_source_info(row), axis=1)\n",
    "\n",
    "new_df"
   ]
  },
  {
   "cell_type": "code",
   "execution_count": null,
   "metadata": {
    "collapsed": false
   },
   "outputs": [],
   "source": [
    "np.unique(need_to_be_added)"
   ]
  },
  {
   "cell_type": "code",
   "execution_count": null,
   "metadata": {
    "collapsed": true
   },
   "outputs": [],
   "source": [
    "current_mdata"
   ]
  }
 ],
 "metadata": {
  "kernelspec": {
   "display_name": "Python 3",
   "language": "python",
   "name": "python3"
  },
  "language_info": {
   "codemirror_mode": {
    "name": "ipython",
    "version": 3
   },
   "file_extension": ".py",
   "mimetype": "text/x-python",
   "name": "python",
   "nbconvert_exporter": "python",
   "pygments_lexer": "ipython3",
   "version": "3.6.0"
  }
 },
 "nbformat": 4,
 "nbformat_minor": 2
}
