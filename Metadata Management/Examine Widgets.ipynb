{
 "cells": [
  {
   "cell_type": "code",
   "execution_count": null,
   "metadata": {
    "collapsed": true
   },
   "outputs": [],
   "source": [
    "import requests as req\n",
    "import pandas as pd\n",
    "from pprint import pprint\n",
    "from functools import reduce\n",
    "import json\n",
    "\n",
    "pd.options.display.max_rows = 400"
   ]
  },
  {
   "cell_type": "code",
   "execution_count": null,
   "metadata": {
    "collapsed": false
   },
   "outputs": [],
   "source": [
    "# Base URL for getting dataset metadata from RW API\n",
    "# Metadata = Data that describes Data \n",
    "url = \"https://api.resourcewatch.org/v1/widget\"\n",
    "\n",
    "# page[size] tells the API the maximum number of results to send back\n",
    "# There are currently between 200 and 300 datasets on the RW API\n",
    "payload = { \"application\":\"rw\", \"page[size]\": 1000}\n",
    "\n",
    "# Request all datasets, and extract the data from the response\n",
    "res = req.get(url, params=payload)\n",
    "api_response = res.json()[\"data\"]\n",
    "\n",
    "pprint(api_response[0], depth=2)\n",
    "\n",
    "#############################################################\n",
    "\n",
    "### Convert the json object returned by the API into a pandas DataFrame\n",
    "# Another option: https://pandas.pydata.org/pandas-docs/stable/generated/pandas.io.json.json_normalize.html\n",
    "\n",
    "def extract_metadata(wgets_on_api, wget, attributes):\n",
    "    atts = wget[\"attributes\"]\n",
    "    wgets_on_api[atts[\"name\"]] = {'wget_id': wget['id']}\n",
    "    for att in attributes:\n",
    "        try:\n",
    "            wgets_on_api[atts[\"name\"]][att] = atts[att]\n",
    "        except:\n",
    "            wgets_on_api[atts[\"name\"]][att] = None\n",
    "            \n",
    "    return wgets_on_api\n",
    "\n",
    "attributes = ['protected', 'published', 'queryUrl', 'dataset', 'default', 'widgetConfig']\n",
    "widgets_on_api = reduce(lambda agg, elem: extract_metadata(agg, elem, attributes), api_response, {})\n",
    "\n",
    "    \n",
    "# Create the DataFrame, name the index, and sort by date_updated\n",
    "# More recently updated datasets at the top\n",
    "widgets_on_api = pd.DataFrame.from_dict(widgets_on_api, orient='index')"
   ]
  },
  {
   "cell_type": "code",
   "execution_count": null,
   "metadata": {
    "collapsed": false
   },
   "outputs": [],
   "source": [
    "#widgets_on_api.to_csv('widgets_on_api_feb_27_2018.csv')"
   ]
  },
  {
   "cell_type": "code",
   "execution_count": null,
   "metadata": {
    "collapsed": false,
    "scrolled": false
   },
   "outputs": [],
   "source": [
    "widgets_on_api[widgets_on_api['default']].shape"
   ]
  },
  {
   "cell_type": "code",
   "execution_count": null,
   "metadata": {
    "collapsed": false
   },
   "outputs": [],
   "source": [
    "widgets_on_api[widgets_on_api['published']].shape"
   ]
  },
  {
   "cell_type": "code",
   "execution_count": null,
   "metadata": {
    "collapsed": false
   },
   "outputs": [],
   "source": [
    "#widgets_on_api[~widgets_on_api['published']].to_csv('datasets_to_drop_feb_27_2018.csv')"
   ]
  },
  {
   "cell_type": "code",
   "execution_count": null,
   "metadata": {
    "collapsed": true
   },
   "outputs": [],
   "source": [
    "from configparser import ConfigParser\n",
    "config = ConfigParser()\n",
    "config.read(\"/Users/nathansuberi/Desktop/WRI_Programming/cred/.env\")\n",
    "api_token = config.get(\"auth\", \"rw_api_token\")\n",
    "\n",
    "auth_token = api_token # <Insert Auth Token Here>"
   ]
  },
  {
   "cell_type": "code",
   "execution_count": null,
   "metadata": {
    "collapsed": false
   },
   "outputs": [],
   "source": [
    "widgets_on_api[~widgets_on_api['published']].reset_index()"
   ]
  },
  {
   "cell_type": "code",
   "execution_count": null,
   "metadata": {
    "collapsed": true
   },
   "outputs": [],
   "source": [
    "widgets_to_delete = widgets_on_api[~widgets_on_api['published']].reset_index().set_index('wget_id')\n",
    "for rw_id in widgets_to_delete.index:\n",
    "    data = widgets_to_delete.loc[rw_id]\n",
    "    url = \"https://api.resourcewatch.org/v1/dataset/{dataset_id}/widget/{widget_id}\"\n",
    "    url = url.format(dataset_id=data['dataset'], widget_id=rw_id)\n",
    "\n",
    "    headers = {\n",
    "        'content-type': \"application/json\",\n",
    "        'authorization': \"Bearer \" + auth_token,\n",
    "    }\n",
    "\n",
    "    try:\n",
    "        res = req.request(\"DELETE\", url, headers = headers)\n",
    "        print(res.text)\n",
    "        if res.ok:\n",
    "            print('Deleted widget {}'.format(data['index']))\n",
    "        else:\n",
    "            print('Wasn\\'t able to delete widget {}'.format(data['index']))\n",
    "    except TypeError as e:\n",
    "        print(e.args)\n",
    "        print(data)"
   ]
  }
 ],
 "metadata": {
  "kernelspec": {
   "display_name": "Python 3",
   "language": "python",
   "name": "python3"
  },
  "language_info": {
   "codemirror_mode": {
    "name": "ipython",
    "version": 3
   },
   "file_extension": ".py",
   "mimetype": "text/x-python",
   "name": "python",
   "nbconvert_exporter": "python",
   "pygments_lexer": "ipython3",
   "version": "3.6.0"
  }
 },
 "nbformat": 4,
 "nbformat_minor": 2
}
