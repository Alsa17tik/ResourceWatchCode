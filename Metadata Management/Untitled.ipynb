{
 "cells": [
  {
   "cell_type": "code",
   "execution_count": 6,
   "metadata": {
    "collapsed": true
   },
   "outputs": [],
   "source": [
    "import pandas as pd"
   ]
  },
  {
   "cell_type": "code",
   "execution_count": 31,
   "metadata": {
    "collapsed": false
   },
   "outputs": [],
   "source": [
    "def pick_value_cols(col, prefixes, use_, only=None):\n",
    "    if use_:\n",
    "        seen = [True if pfx+'_' in col else False for pfx in prefixes]\n",
    "    else:\n",
    "        seen = [True if pfx in col else False for pfx in prefixes]\n",
    "        \n",
    "    if only:\n",
    "        if sum(seen) == 1:\n",
    "            # Only one match, keep if it matches 'only'\n",
    "            if seen[prefixes.index(only)]:\n",
    "                return True\n",
    "        elif sum(seen) > 1:\n",
    "            # More than one match, keep longest if it matches 'only'\n",
    "            seen_pfxs = [_[0] for _ in list(zip(prefixes,seen)) if _[1]]\n",
    "            seen_lengths = [len(_) for _ in seen_pfxs]\n",
    "            max_index = seen_lengths.index(max(seen_lengths))\n",
    "            if prefixes.index(seen_pfxs[max_index]) == prefixes.index(only):\n",
    "                return True\n",
    "    else:\n",
    "        if sum(seen):\n",
    "            return True\n",
    "    return False"
   ]
  },
  {
   "cell_type": "code",
   "execution_count": 32,
   "metadata": {
    "collapsed": false
   },
   "outputs": [
    {
     "name": "stdout",
     "output_type": "stream",
     "text": [
      "yr\n",
      "['yr_1970', 'yr_1971', 'yr_1972', 'yr_1973', 'yr_1974', 'yr_1975', 'yr_1976', 'yr_1977', 'yr_1978', 'yr_1979', 'yr_1980', 'yr_1981', 'yr_1982', 'yr_1983', 'yr_1984', 'yr_1985', 'yr_1986', 'yr_1987', 'yr_1988', 'yr_1989', 'yr_1990', 'yr_1991', 'yr_1992', 'yr_1993', 'yr_1994', 'yr_1995', 'yr_1996', 'yr_1997', 'yr_1998', 'yr_1999', 'yr_2000', 'yr_2001', 'yr_2002', 'yr_2003', 'yr_2004', 'yr_2005', 'yr_2006', 'yr_2007', 'yr_2008', 'yr_2009', 'yr_2010', 'yr_2011', 'yr_2012', 'yr_2013', 'yr_2014', \"yr_2015'\"]\n",
      "male\n",
      "['male_1999', 'male_2000', 'male_2001', 'male_2002', 'male_2003', 'male_2004', 'male_2005', 'male_2006', 'male_2007', 'male_2008', 'male_2009', 'male_2010', 'male_2011', 'male_2012', 'male_2013', 'male_2014', 'male_2015', 'male_2016']\n",
      "female\n",
      "['female_1999', 'female_2000', 'female_2001', 'female_2002', 'female_2003', 'female_2004', 'female_2005', 'female_2006', 'female_2007', 'female_2008', 'female_2009', 'female_2010', 'female_2011', 'female_2012', 'female_2013', 'female_2014', 'female_2015', 'female_2016']\n"
     ]
    }
   ],
   "source": [
    "prefixes = ['yr', 'male', 'female']\n",
    "columns =['female_1999', 'female_2000', 'female_2001', 'female_2002', 'female_2003', 'female_2004', 'female_2005', 'female_2006', 'female_2007', 'female_2008', 'female_2009', 'female_2010', 'female_2011', 'female_2012', 'female_2013', 'female_2014', 'female_2015', 'female_2016', 'yr_1970', 'yr_1971', 'yr_1972', 'yr_1973', 'yr_1974', 'yr_1975', 'yr_1976', 'yr_1977', 'yr_1978', 'yr_1979', 'yr_1980', 'yr_1981', 'yr_1982', 'yr_1983', 'yr_1984', 'yr_1985', 'yr_1986', 'yr_1987', 'yr_1988', 'yr_1989', 'yr_1990', 'yr_1991', 'yr_1992', 'yr_1993', 'yr_1994', 'yr_1995', 'yr_1996', 'yr_1997', 'yr_1998', 'yr_1999', 'yr_2000', 'yr_2001', 'yr_2002', 'yr_2003', 'yr_2004', 'yr_2005', 'yr_2006', 'yr_2007', 'yr_2008', 'yr_2009', 'yr_2010', 'yr_2011', 'yr_2012', 'yr_2013', 'yr_2014', \"yr_2015'\", 'male_1999', 'male_2000', 'male_2001', 'male_2002', 'male_2003', 'male_2004', 'male_2005', 'male_2006', 'male_2007', 'male_2008', 'male_2009', 'male_2010', 'male_2011', 'male_2012', 'male_2013', 'male_2014', 'male_2015', 'male_2016']\n",
    "id_cols = ['name']\n",
    "df = pd.DataFrame(columns=columns + id_cols)\n",
    "use_ = True\n",
    "\n",
    "for pfx in prefixes:\n",
    "    print(pfx)\n",
    "    value_cols = [col for col in columns if pick_value_cols(col, prefixes, use_, only=pfx)]\n",
    "    print(value_cols)\n",
    "#    _df = pd.melt(df, id_vars=id_cols, value_vars=value_cols)\n",
    "#    print(_df['variable'].unique())"
   ]
  },
  {
   "cell_type": "code",
   "execution_count": 14,
   "metadata": {
    "collapsed": false
   },
   "outputs": [
    {
     "name": "stdout",
     "output_type": "stream",
     "text": [
      "['female_1999', 'female_2000', 'female_2001', 'female_2002', 'female_2003', 'female_2004', 'female_2005', 'female_2006', 'female_2007', 'female_2008', 'female_2009', 'female_2010', 'female_2011', 'female_2012', 'female_2013', 'female_2014', 'female_2015', 'female_2016', 'yr_1970', 'yr_1971', 'yr_1972', 'yr_1973', 'yr_1974', 'yr_1975', 'yr_1976', 'yr_1977', 'yr_1978', 'yr_1979', 'yr_1980', 'yr_1981', 'yr_1982', 'yr_1983', 'yr_1984', 'yr_1985', 'yr_1986', 'yr_1987', 'yr_1988', 'yr_1989', 'yr_1990', 'yr_1991', 'yr_1992', 'yr_1993', 'yr_1994', 'yr_1995', 'yr_1996', 'yr_1997', 'yr_1998', 'yr_1999', 'yr_2000', 'yr_2001', 'yr_2002', 'yr_2003', 'yr_2004', 'yr_2005', 'yr_2006', 'yr_2007', 'yr_2008', 'yr_2009', 'yr_2010', 'yr_2011', 'yr_2012', 'yr_2013', 'yr_2014', \"yr_2015'\", 'male_1999', 'male_2000', 'male_2001', 'male_2002', 'male_2003', 'male_2004', 'male_2005', 'male_2006', 'male_2007', 'male_2008', 'male_2009', 'male_2010', 'male_2011', 'male_2012', 'male_2013', 'male_2014', 'male_2015', 'male_2016']\n"
     ]
    }
   ],
   "source": [
    "a = '''u'female_1999' u'female_2000' u'female_2001' u'female_2002' u'female_2003'\n",
    " u'female_2004' u'female_2005' u'female_2006' u'female_2007' u'female_2008'\n",
    " u'female_2009' u'female_2010' u'female_2011' u'female_2012' u'female_2013'\n",
    " u'female_2014' u'female_2015' u'female_2016' u'yr_1970' u'yr_1971'\n",
    " u'yr_1972' u'yr_1973' u'yr_1974' u'yr_1975' u'yr_1976' u'yr_1977'\n",
    " u'yr_1978' u'yr_1979' u'yr_1980' u'yr_1981' u'yr_1982' u'yr_1983'\n",
    " u'yr_1984' u'yr_1985' u'yr_1986' u'yr_1987' u'yr_1988' u'yr_1989'\n",
    " u'yr_1990' u'yr_1991' u'yr_1992' u'yr_1993' u'yr_1994' u'yr_1995'\n",
    " u'yr_1996' u'yr_1997' u'yr_1998' u'yr_1999' u'yr_2000' u'yr_2001'\n",
    " u'yr_2002' u'yr_2003' u'yr_2004' u'yr_2005' u'yr_2006' u'yr_2007'\n",
    " u'yr_2008' u'yr_2009' u'yr_2010' u'yr_2011' u'yr_2012' u'yr_2013'\n",
    " u'yr_2014' u'yr_2015', u'male_1999' u'male_2000' u'male_2001' u'male_2002' u'male_2003'\n",
    " u'male_2004' u'male_2005' u'male_2006' u'male_2007' u'male_2008'\n",
    " u'male_2009' u'male_2010' u'male_2011' u'male_2012' u'male_2013'\n",
    " u'male_2014' u'male_2015' u'male_2016' '''.split( )\n",
    "a = [b[2:-1] for b in a]\n",
    "print(a)"
   ]
  }
 ],
 "metadata": {
  "kernelspec": {
   "display_name": "Python 3",
   "language": "python",
   "name": "python3"
  },
  "language_info": {
   "codemirror_mode": {
    "name": "ipython",
    "version": 3
   },
   "file_extension": ".py",
   "mimetype": "text/x-python",
   "name": "python",
   "nbconvert_exporter": "python",
   "pygments_lexer": "ipython3",
   "version": "3.6.0"
  }
 },
 "nbformat": 4,
 "nbformat_minor": 2
}
