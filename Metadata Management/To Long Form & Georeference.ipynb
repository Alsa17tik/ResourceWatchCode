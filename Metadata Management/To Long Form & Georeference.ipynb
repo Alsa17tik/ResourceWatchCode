{
 "cells": [
  {
   "cell_type": "code",
   "execution_count": 2,
   "metadata": {
    "collapsed": true
   },
   "outputs": [],
   "source": [
    "import cartoframes\n",
    "import pandas as pd\n",
    "pd.options.display.max_columns = 200\n",
    "\n",
    "import requests as req\n",
    "import json\n",
    "import boto3\n",
    "import io\n",
    "import datetime\n",
    "from dateutil import parser\n",
    "\n",
    "import sys\n",
    "import logging\n",
    "import os\n",
    "logging.basicConfig(stream=sys.stderr, level=logging.DEBUG)"
   ]
  },
  {
   "cell_type": "markdown",
   "metadata": {},
   "source": [
    "Parameters"
   ]
  },
  {
   "cell_type": "code",
   "execution_count": 9,
   "metadata": {
    "collapsed": false
   },
   "outputs": [],
   "source": [
    "datasets_in_wide_form = {} #{wri_id1:rw_id1, wri_id2, rw_id2, ...}\n",
    "datasets_to_geolocate_with_rw_countries = [] #{wri_id1:rw_id1, wri_id2, rw_id2, ...}\n",
    "\n",
    "###\n",
    "## Read from docker data volume - stored in json - can be hooked into API as microservice\n",
    "###\n",
    "\n",
    "# Long form table possibilities\n",
    "datasets_in_wide_form = {\"cit.022\":\"6b670396-c52c-430c-b5bb-20693da03b60\",\"cit.025\":\"d38d0d5c-31b1-47f4-9d2e-d8fba4c7d083\",\"cit.028\":\"35ce2b98-adbb-4873-b334-d7b1cc542de7\",\"cit.029\":\"10337db6-8321-445e-a60b-28fc1e114f29\",\"cli.007\":\"3d2ce960-abda-4c9c-bd29-1929e9ca24c9\",\"cli.008\":\"3a46f6b4-0eec-49d4-bbfc-e2e8f64e6117\",\"com.006\":\"2e31a1f3-576b-46b4-84f0-3f0cc399f887\",\"com.007\":\"fe311144-8c0e-4440-b068-6efd057e0f6a\",\"com.009\":\"c61c364b-1d68-4dd9-ae3d-76c2a0022280\",\"com.010\":\"52c55378-0484-48c3-92fc-3ee94d21c716\",\"com.015\":\"c18a38cd-94ff-48cd-818f-6ffb05992abb\",\"com.019\":\"5e3a3a9f-7380-47c0-ad84-2c193861e106\",\"com.028\":\"62c988a7-1e4d-418e-87bf-a743e24209e8\",\"ene.012\":\"d446a52e-c4c1-4e74-ae30-3204620a0365\",\"ene.021\":\"2c092793-aa3a-4520-959c-ad48165dcae4\",\"ene.022\":\"d639909f-bcf3-4875-b8c3-35f030b68ed3\",\"ene.028\":\"c665f519-eef9-4f67-a8bf-7e3e6dc8bfcd\",\"foo.006\":\"2034a766-6e8a-416d-b8ab-9b7b3e3abb15\",\"foo.015\":\"4338471d-881a-475f-8bd9-60c4d48b8e12\",\"foo.019\":\"8bc79a36-d77e-4ee3-b9bc-c77146cfc503\",\"foo.040\":\"91ff1359-6680-49bc-8002-20256e999993\",\"foo.041\":\"ccfb322a-20aa-4132-b58b-0f76acec8f5a\",\"foo.042\":\"7a551dd8-b59c-4f59-9d50-c92cb61c5799\",\"foo.043\":\"95b013a3-389a-4367-83b7-c9d68c28c406\",\"for.021\":\"05b7c688-09ba-4f33-90ea-185a1039df43\",\"soc.004\":\"bea122ce-1e4b-465d-8b7b-fa11aadd20f7\",\"cit.017\":\"0303127a-70b0-4164-9251-d8162615d058\",\"soc.005\":\"a7067e9f-fe40-4338-85da-13a6071c76fe\",\"soc.006\":\"a89c95c7-0b82-4162-b9d8-cc0205e9f7ec\",\"soc.008\":\"00abb46f-34e2-4bf7-be30-1fb0b1de022f\",\"soc.015\":\"e8f53f73-d77c-485a-a2a6-1c47ea4aead9\",\"soc.020\":\"f8d3e79c-c3d0-4f9a-9b68-9c5ad1f025e4\",\"soc.023\":\"d3a6b89f-cf5c-40cf-b2b3-ac1c8315c648\",\"soc.025\":\"11278cb6-b298-49a1-bf71-f1e269f40758\",\"soc.029\":\"7793f46c-a48a-466f-a8ce-ca1a87b7aeed\",\"soc.035\":\"e7780d53-ad80-45bd-a271-79615ee97a37\",\"soc.036\":\"8671f536-1979-4b6f-a147-70152fcb44ed\",\"soc.039\":\"b37048be-9b23-4458-a047-888956c69aa1\",\"soc.040\":\"37d04efc-0ab2-4499-a891-54dca1013c74\",\"soc.062\":\"5e69cfac-1f68-4864-a19a-3c1bdb180100\",\"wat.005\":\"1b97e47e-ca18-4e50-9aae-a2853acca3f0\",\"cli.029\":\"fa6443ff-eb95-4d0f-84d2-f0c91682efdf\",\"ene.017\":\"75061411-3afd-442f-b7d6-7607f97f639b\"}\n",
    "datasets_to_geolocate_with_rw_countries = {\"cit.022\":\"6b670396-c52c-430c-b5bb-20693da03b60\",\"cit.025\":\"d38d0d5c-31b1-47f4-9d2e-d8fba4c7d083\",\"cit.028\":\"35ce2b98-adbb-4873-b334-d7b1cc542de7\",\"cit.029\":\"10337db6-8321-445e-a60b-28fc1e114f29\",\"cli.007\":\"3d2ce960-abda-4c9c-bd29-1929e9ca24c9\",\"cli.008\":\"3a46f6b4-0eec-49d4-bbfc-e2e8f64e6117\",\"com.006\":\"2e31a1f3-576b-46b4-84f0-3f0cc399f887\",\"com.007\":\"fe311144-8c0e-4440-b068-6efd057e0f6a\",\"com.009\":\"c61c364b-1d68-4dd9-ae3d-76c2a0022280\",\"com.010\":\"52c55378-0484-48c3-92fc-3ee94d21c716\",\"com.015\":\"c18a38cd-94ff-48cd-818f-6ffb05992abb\",\"com.019\":\"5e3a3a9f-7380-47c0-ad84-2c193861e106\",\"com.028\":\"62c988a7-1e4d-418e-87bf-a743e24209e8\",\"ene.012\":\"d446a52e-c4c1-4e74-ae30-3204620a0365\",\"ene.021\":\"2c092793-aa3a-4520-959c-ad48165dcae4\",\"ene.022\":\"d639909f-bcf3-4875-b8c3-35f030b68ed3\",\"ene.028\":\"c665f519-eef9-4f67-a8bf-7e3e6dc8bfcd\",\"foo.006\":\"2034a766-6e8a-416d-b8ab-9b7b3e3abb15\",\"foo.015\":\"4338471d-881a-475f-8bd9-60c4d48b8e12\",\"foo.019\":\"8bc79a36-d77e-4ee3-b9bc-c77146cfc503\",\"foo.040\":\"91ff1359-6680-49bc-8002-20256e999993\",\"foo.041\":\"ccfb322a-20aa-4132-b58b-0f76acec8f5a\",\"foo.042\":\"7a551dd8-b59c-4f59-9d50-c92cb61c5799\",\"foo.043\":\"95b013a3-389a-4367-83b7-c9d68c28c406\",\"for.021\":\"05b7c688-09ba-4f33-90ea-185a1039df43\",\"soc.004\":\"bea122ce-1e4b-465d-8b7b-fa11aadd20f7\",\"cit.017\":\"0303127a-70b0-4164-9251-d8162615d058\",\"soc.005\":\"a7067e9f-fe40-4338-85da-13a6071c76fe\",\"soc.006\":\"a89c95c7-0b82-4162-b9d8-cc0205e9f7ec\",\"soc.008\":\"00abb46f-34e2-4bf7-be30-1fb0b1de022f\",\"soc.015\":\"e8f53f73-d77c-485a-a2a6-1c47ea4aead9\",\"soc.020\":\"f8d3e79c-c3d0-4f9a-9b68-9c5ad1f025e4\",\"soc.023\":\"d3a6b89f-cf5c-40cf-b2b3-ac1c8315c648\",\"soc.025\":\"11278cb6-b298-49a1-bf71-f1e269f40758\",\"soc.029\":\"7793f46c-a48a-466f-a8ce-ca1a87b7aeed\",\"soc.035\":\"e7780d53-ad80-45bd-a271-79615ee97a37\",\"soc.036\":\"8671f536-1979-4b6f-a147-70152fcb44ed\",\"soc.039\":\"b37048be-9b23-4458-a047-888956c69aa1\",\"soc.040\":\"37d04efc-0ab2-4499-a891-54dca1013c74\",\"soc.062\":\"5e69cfac-1f68-4864-a19a-3c1bdb180100\",\"wat.005\":\"1b97e47e-ca18-4e50-9aae-a2853acca3f0\",\"cli.029\":\"fa6443ff-eb95-4d0f-84d2-f0c91682efdf\",\"ene.017\":\"75061411-3afd-442f-b7d6-7607f97f639b\"}"
   ]
  },
  {
   "cell_type": "markdown",
   "metadata": {},
   "source": [
    "Results"
   ]
  },
  {
   "cell_type": "code",
   "execution_count": 10,
   "metadata": {
    "collapsed": true
   },
   "outputs": [],
   "source": [
    "df = pd.DataFrame()\n",
    "long_formed_datasets = [] #[df,df,...]\n",
    "geolocated_datasets = [] #[df,df,...]"
   ]
  },
  {
   "cell_type": "markdown",
   "metadata": {},
   "source": [
    "Code"
   ]
  },
  {
   "cell_type": "code",
   "execution_count": 11,
   "metadata": {
    "collapsed": false
   },
   "outputs": [
    {
     "ename": "RuntimeError",
     "evalue": "Could not load CARTO credentials. Try setting them with the `key` and `username` arguments.",
     "output_type": "error",
     "traceback": [
      "\u001b[0;31m---------------------------------------------------------------------------\u001b[0m",
      "\u001b[0;31mFileNotFoundError\u001b[0m                         Traceback (most recent call last)",
      "\u001b[0;32m~/.pyenv/versions/3.6.0/lib/python3.6/site-packages/cartoframes/credentials.py\u001b[0m in \u001b[0;36m__init__\u001b[0;34m(self, creds, key, username, base_url, cred_file)\u001b[0m\n\u001b[1;32m     63\u001b[0m             \u001b[0;32mtry\u001b[0m\u001b[0;34m:\u001b[0m\u001b[0;34m\u001b[0m\u001b[0m\n\u001b[0;32m---> 64\u001b[0;31m                 \u001b[0mself\u001b[0m\u001b[0;34m.\u001b[0m\u001b[0m_retrieve\u001b[0m\u001b[0;34m(\u001b[0m\u001b[0m_DEFAULT_PATH\u001b[0m\u001b[0;34m)\u001b[0m\u001b[0;34m\u001b[0m\u001b[0m\n\u001b[0m\u001b[1;32m     65\u001b[0m             \u001b[0;32mexcept\u001b[0m\u001b[0;34m:\u001b[0m\u001b[0;34m\u001b[0m\u001b[0m\n",
      "\u001b[0;32m~/.pyenv/versions/3.6.0/lib/python3.6/site-packages/cartoframes/credentials.py\u001b[0m in \u001b[0;36m_retrieve\u001b[0;34m(self, config_file)\u001b[0m\n\u001b[1;32m    108\u001b[0m         directory\"\"\"\n\u001b[0;32m--> 109\u001b[0;31m         \u001b[0;32mwith\u001b[0m \u001b[0mopen\u001b[0m\u001b[0;34m(\u001b[0m\u001b[0mconfig_file\u001b[0m \u001b[0;32mor\u001b[0m \u001b[0m_DEFAULT_PATH\u001b[0m\u001b[0;34m,\u001b[0m \u001b[0;34m'r'\u001b[0m\u001b[0;34m)\u001b[0m \u001b[0;32mas\u001b[0m \u001b[0mf\u001b[0m\u001b[0;34m:\u001b[0m\u001b[0;34m\u001b[0m\u001b[0m\n\u001b[0m\u001b[1;32m    110\u001b[0m             \u001b[0mcreds\u001b[0m \u001b[0;34m=\u001b[0m \u001b[0mjson\u001b[0m\u001b[0;34m.\u001b[0m\u001b[0mload\u001b[0m\u001b[0;34m(\u001b[0m\u001b[0mf\u001b[0m\u001b[0;34m)\u001b[0m\u001b[0;34m\u001b[0m\u001b[0m\n",
      "\u001b[0;31mFileNotFoundError\u001b[0m: [Errno 2] No such file or directory: '/Users/nathansuberi/Library/Application Support/cartoframes/cartocreds.json'",
      "\nDuring handling of the above exception, another exception occurred:\n",
      "\u001b[0;31mRuntimeError\u001b[0m                              Traceback (most recent call last)",
      "\u001b[0;32m<ipython-input-11-59bdaa20b7e6>\u001b[0m in \u001b[0;36m<module>\u001b[0;34m()\u001b[0m\n\u001b[1;32m     39\u001b[0m \u001b[0mapi_key\u001b[0m \u001b[0;34m=\u001b[0m \u001b[0mos\u001b[0m\u001b[0;34m.\u001b[0m\u001b[0menviron\u001b[0m\u001b[0;34m.\u001b[0m\u001b[0mget\u001b[0m\u001b[0;34m(\u001b[0m\u001b[0;34m'CARTO_KEY'\u001b[0m\u001b[0;34m)\u001b[0m\u001b[0;34m\u001b[0m\u001b[0m\n\u001b[1;32m     40\u001b[0m cc = cartoframes.CartoContext(base_url='https://{}.carto.com/'.format(user),\n\u001b[0;32m---> 41\u001b[0;31m                               api_key=api_key)\n\u001b[0m\u001b[1;32m     42\u001b[0m \u001b[0;34m\u001b[0m\u001b[0m\n\u001b[1;32m     43\u001b[0m \u001b[0;34m\u001b[0m\u001b[0m\n",
      "\u001b[0;32m~/.pyenv/versions/3.6.0/lib/python3.6/site-packages/cartoframes/context.py\u001b[0m in \u001b[0;36m__init__\u001b[0;34m(self, base_url, api_key, creds, session, verbose)\u001b[0m\n\u001b[1;32m     99\u001b[0m                  verbose=0):\n\u001b[1;32m    100\u001b[0m \u001b[0;34m\u001b[0m\u001b[0m\n\u001b[0;32m--> 101\u001b[0;31m         \u001b[0mself\u001b[0m\u001b[0;34m.\u001b[0m\u001b[0mcreds\u001b[0m \u001b[0;34m=\u001b[0m \u001b[0mCredentials\u001b[0m\u001b[0;34m(\u001b[0m\u001b[0mcreds\u001b[0m\u001b[0;34m=\u001b[0m\u001b[0mcreds\u001b[0m\u001b[0;34m,\u001b[0m \u001b[0mkey\u001b[0m\u001b[0;34m=\u001b[0m\u001b[0mapi_key\u001b[0m\u001b[0;34m,\u001b[0m \u001b[0mbase_url\u001b[0m\u001b[0;34m=\u001b[0m\u001b[0mbase_url\u001b[0m\u001b[0;34m)\u001b[0m\u001b[0;34m\u001b[0m\u001b[0m\n\u001b[0m\u001b[1;32m    102\u001b[0m         self.auth_client = APIKeyAuthClient(base_url=self.creds.base_url(),\n\u001b[1;32m    103\u001b[0m                                             \u001b[0mapi_key\u001b[0m\u001b[0;34m=\u001b[0m\u001b[0mself\u001b[0m\u001b[0;34m.\u001b[0m\u001b[0mcreds\u001b[0m\u001b[0;34m.\u001b[0m\u001b[0mkey\u001b[0m\u001b[0;34m(\u001b[0m\u001b[0;34m)\u001b[0m\u001b[0;34m,\u001b[0m\u001b[0;34m\u001b[0m\u001b[0m\n",
      "\u001b[0;32m~/.pyenv/versions/3.6.0/lib/python3.6/site-packages/cartoframes/credentials.py\u001b[0m in \u001b[0;36m__init__\u001b[0;34m(self, creds, key, username, base_url, cred_file)\u001b[0m\n\u001b[1;32m     64\u001b[0m                 \u001b[0mself\u001b[0m\u001b[0;34m.\u001b[0m\u001b[0m_retrieve\u001b[0m\u001b[0;34m(\u001b[0m\u001b[0m_DEFAULT_PATH\u001b[0m\u001b[0;34m)\u001b[0m\u001b[0;34m\u001b[0m\u001b[0m\n\u001b[1;32m     65\u001b[0m             \u001b[0;32mexcept\u001b[0m\u001b[0;34m:\u001b[0m\u001b[0;34m\u001b[0m\u001b[0m\n\u001b[0;32m---> 66\u001b[0;31m                 raise RuntimeError('Could not load CARTO credentials. Try '\n\u001b[0m\u001b[1;32m     67\u001b[0m                                    \u001b[0;34m'setting them with the `key` and '\u001b[0m\u001b[0;34m\u001b[0m\u001b[0m\n\u001b[1;32m     68\u001b[0m                                    '`username` arguments.')\n",
      "\u001b[0;31mRuntimeError\u001b[0m: Could not load CARTO credentials. Try setting them with the `key` and `username` arguments."
     ]
    }
   ],
   "source": [
    "\n",
    "\n",
    "\n",
    "###\n",
    "## Set up S3 access ###\n",
    "### \n",
    "\n",
    "\n",
    "\n",
    "ACCESS_ID = os.environ.get('S3_ACCESS_ID')\n",
    "SECRET_KEY = os.environ.get('S3_ACCESS_KEY')\n",
    "\n",
    "s3_bucket = \"wri-public-data\"\n",
    "s3_folder = \"resourcewatch/wide_to_long/\"\n",
    "\n",
    "s3_client = boto3.client(\n",
    "    's3',\n",
    "    aws_access_key_id=ACCESS_ID,\n",
    "    aws_secret_access_key=SECRET_KEY\n",
    ")\n",
    "s3_resource = boto3.resource(\n",
    "    's3',\n",
    "    aws_access_key_id=ACCESS_ID,\n",
    "    aws_secret_access_key=SECRET_KEY\n",
    ")\n",
    "\n",
    "\n",
    "\n",
    "# Functions for reading and uploading data to/from S3\n",
    "def read_from_S3(bucket, key, index_col=0):\n",
    "    obj = s3_client.get_object(Bucket=bucket, Key=key)\n",
    "    df = pd.read_csv(io.BytesIO(obj['Body'].read()), index_col=[index_col], encoding=\"utf8\")\n",
    "    return(df)\n",
    "\n",
    "def write_to_S3(df, bucket, key):\n",
    "    csv_buffer = io.StringIO()\n",
    "    # Need to set encoding in Python2... default of 'ascii' fails\n",
    "    df.to_csv(csv_buffer, encoding='utf-8')\n",
    "    s3_resource.Object(bucket, key).put(Body=csv_buffer.getvalue())\n",
    "\n",
    "    \n",
    "    \n",
    "    \n",
    "    \n",
    "###\n",
    "## Set up carto context ###\n",
    "###\n",
    "\n",
    "user = os.environ.get('CARTO_USER')\n",
    "api_key = os.environ.get('CARTO_KEY')\n",
    "cc = cartoframes.CartoContext(base_url='https://{}.carto.com/'.format(user),\n",
    "                              api_key=api_key)\n",
    "\n",
    "\n",
    "\n",
    "\n",
    "###\n",
    "## Access data from API\n",
    "###\n",
    "\n",
    "\n",
    "# Base URL for getting dataset metadata from RW API\n",
    "url = \"https://api.resourcewatch.org/v1/dataset?sort=slug,-provider,userId&status=saved&includes=metadata,vocabulary,widget,layer\"\n",
    "\n",
    "# page[size] tells the API the maximum number of results to send back\n",
    "# There are currently between 200 and 300 datasets on the RW API\n",
    "payload = { \"application\":\"rw\", \"page[size]\": 1000}\n",
    "\n",
    "# Request all datasets, and extract the data from the response\n",
    "res = req.get(url, params=payload)\n",
    "data = res.json()[\"data\"]\n",
    "\n",
    "### Convert the json object returned by the API into a pandas DataFrame\n",
    "# Another option: https://pandas.pydata.org/pandas-docs/stable/generated/pandas.io.json.json_normalize.html\n",
    "datasets_on_api = {}\n",
    "for ix, dset in enumerate(data):\n",
    "    atts = dset[\"attributes\"]\n",
    "    metadata = atts[\"metadata\"]\n",
    "    layers = atts[\"layer\"]\n",
    "    widgets = atts[\"widget\"]\n",
    "    tags = atts[\"vocabulary\"]\n",
    "    datasets_on_api[dset[\"id\"]] = {\n",
    "        \"name\":atts[\"name\"],\n",
    "        \"table_name\":atts[\"tableName\"],\n",
    "        \"provider\":atts[\"provider\"],\n",
    "        \"date_updated\":atts[\"updatedAt\"],\n",
    "        \"num_metadata\":len(metadata),\n",
    "        \"metadata\": metadata,\n",
    "        \"num_layers\":len(layers),\n",
    "        \"layers\": layers,\n",
    "        \"num_widgets\":len(widgets),\n",
    "        \"widgets\": widgets,\n",
    "        \"num_tags\":len(tags),\n",
    "        \"tags\":tags\n",
    "    }\n",
    "\n",
    "# Create the DataFrame, name the index, and sort by date_updated\n",
    "# More recently updated datasets at the top\n",
    "current_datasets_on_api = pd.DataFrame.from_dict(datasets_on_api, orient='index')\n",
    "current_datasets_on_api.index.rename(\"Dataset\", inplace=True)\n",
    "current_datasets_on_api.sort_values(by=[\"date_updated\"], inplace=True, ascending = False)\n",
    "\n",
    "# Select all Carto datasets on the API:\n",
    "provider = \"cartodb\"\n",
    "carto_ids = (current_datasets_on_api[\"provider\"]==provider)\n",
    "carto_data = current_datasets_on_api.loc[carto_ids]\n",
    "\n",
    "logging.info(\"Number of Carto datasets: \" + str(carto_data.shape[0]))"
   ]
  },
  {
   "cell_type": "code",
   "execution_count": 12,
   "metadata": {
    "collapsed": true
   },
   "outputs": [
    {
     "data": {
      "text/plain": [
       "{'%20soc_023_fragile_states_index': {'error': '* Problem fetching %20soc_023_fragile_states_index from Carto server *'},\n",
       " 'cit_022_road_traffic_deaths_by_country': {'config_options': {'_incl': True,\n",
       "   'add_ind': True,\n",
       "   'country_code': False,\n",
       "   'country_name': 'country',\n",
       "   'id_cols': ['country'],\n",
       "   'prefixes': ['estimated_number_of_road_traffic_deaths']}},\n",
       " 'cit_025_urban_population': {'config_options': {'_incl': True,\n",
       "   'add_ind': False,\n",
       "   'country_code': 'country_code',\n",
       "   'country_name': 'country_name',\n",
       "   'id_cols': ['country_code',\n",
       "    'country_name',\n",
       "    'indicator_code',\n",
       "    'indicator_name'],\n",
       "   'prefixes': ['yr']}},\n",
       " 'cit_028_percent_urban_slums_edit': {'config_options': {'_incl': True,\n",
       "   'add_ind': False,\n",
       "   'country_code': 'country_code',\n",
       "   'country_name': 'country_name',\n",
       "   'id_cols': ['country_code',\n",
       "    'country_name',\n",
       "    'indicator_code',\n",
       "    'indicator_name'],\n",
       "   'prefixes': ['yr']}},\n",
       " 'cit_029_municipal_waste': {'config_options': {'_incl': True,\n",
       "   'add_ind': False,\n",
       "   'country_code': False,\n",
       "   'country_name': 'country',\n",
       "   'id_cols': ['_2012_2015_avg', 'country'],\n",
       "   'prefixes': ['yr']}},\n",
       " 'cli_007_greenhouse_gas_emissions_projections': {'config_options': {'_incl': False,\n",
       "   'add_ind': False,\n",
       "   'prefixes': ['already long']}},\n",
       " 'cli_008_greenhouse_gas_emissions_country_sector': {'config_options': {'_incl': False,\n",
       "   'add_ind': False,\n",
       "   'prefixes': ['already long']}},\n",
       " 'cli_029_vulnerability_to_cc': {'config_options': {'_incl': True,\n",
       "   'add_ind': True,\n",
       "   'country_code': False,\n",
       "   'country_name': 'country',\n",
       "   'id_cols': ['country'],\n",
       "   'prefixes': ['gain', 'readiness', 'vulnerability']}},\n",
       " 'com_006_national_current_accounts_edit': {'config_options': {'_incl': True,\n",
       "   'add_ind': False,\n",
       "   'country_code': 'country_code',\n",
       "   'country_name': 'country_name',\n",
       "   'id_cols': ['country_code',\n",
       "    'country_name',\n",
       "    'indicator_code',\n",
       "    'indicator_name'],\n",
       "   'prefixes': ['yr']}},\n",
       " 'com_007_fdi_index': {'config_options': {'_incl': False,\n",
       "   'add_ind': False,\n",
       "   'prefixes': ['already long']}},\n",
       " 'com_009_1_material_flows_main': {'config_options': {'_incl': False,\n",
       "   'add_ind': False,\n",
       "   'prefixes': ['already long']}},\n",
       " 'com_010_gdp_ppp_usd': {'config_options': {'_incl': True,\n",
       "   'add_ind': False,\n",
       "   'country_code': 'country_code',\n",
       "   'country_name': 'country_name',\n",
       "   'id_cols': ['country_code',\n",
       "    'country_name',\n",
       "    'indicator_code',\n",
       "    'indicator_name'],\n",
       "   'prefixes': ['yr']}},\n",
       " 'com_015_recycling_rates': {'config_options': {'_incl': True,\n",
       "   'add_ind': False,\n",
       "   'country_code': False,\n",
       "   'country_name': 'country',\n",
       "   'id_cols': ['_2012_2015_avg', 'country'],\n",
       "   'prefixes': ['yr']}},\n",
       " 'com_019_ecological_footprint_edit': {'config_options': {'_incl': False,\n",
       "   'add_ind': False,\n",
       "   'prefixes': ['already long']}},\n",
       " 'com_028_effect_of_ag_prices_on_commodity_prices': {'config_options': {'_incl': False,\n",
       "   'add_ind': False,\n",
       "   'prefixes': ['already long']}},\n",
       " 'country_aliases': {'config_options': {'country_code': 'iso',\n",
       "   'country_name': 'alias',\n",
       "   'id_cols': ['']}},\n",
       " 'ene_012_electricity_access': {'config_options': {'_incl': True,\n",
       "   'add_ind': True,\n",
       "   'country_code': 'country_code',\n",
       "   'country_name': 'country_name',\n",
       "   'id_cols': ['country_code', 'country_name'],\n",
       "   'prefixes': ['urban', 'rural', 'total']}},\n",
       " 'ene_017_energy_facility_emissions_edit': {'config_options': {'_incl': False,\n",
       "   'add_ind': False,\n",
       "   'prefixes': ['already long']}},\n",
       " 'ene_021_se4all_country_indicators': {'config_options': {'_incl': True,\n",
       "   'add_ind': False,\n",
       "   'country_code': 'country_code',\n",
       "   'country_name': 'country_name',\n",
       "   'id_cols': ['country_code',\n",
       "    'country_name',\n",
       "    'indicator_code',\n",
       "    'indicator_name'],\n",
       "   'prefixes': ['yr']}},\n",
       " 'ene_022_se4all_tracking_goals': {'config_options': {'_incl': False,\n",
       "   'add_ind': False,\n",
       "   'prefixes': ['--']}},\n",
       " 'ene_028_access_clean_cooking_fuels': {'config_options': {'_incl': True,\n",
       "   'add_ind': False,\n",
       "   'country_code': 'country_code',\n",
       "   'country_name': 'country_name',\n",
       "   'id_cols': ['country_code', 'country_name', 'series_code', 'series_name'],\n",
       "   'prefixes': ['yr']}},\n",
       " 'foo_006_effects_climate_change_food_production': {'config_options': {'_incl': False,\n",
       "   'add_ind': True,\n",
       "   'prefixes': ['--']}},\n",
       " 'foo_015_global_hunger_index': {'config_options': {'_incl': True,\n",
       "   'add_ind': False,\n",
       "   'country_code': False,\n",
       "   'country_name': 'country',\n",
       "   'id_cols': ['country'],\n",
       "   'prefixes': ['ghi']}},\n",
       " 'foo_019_child_malnutrition_edit': {'config_options': {'_incl': False,\n",
       "   'add_ind': False,\n",
       "   'prefixes': ['already long']}},\n",
       " 'foo_040_fisheries_vuln_climat': {'config_options': {'_incl': True,\n",
       "   'add_ind': True,\n",
       "   'country_code': False,\n",
       "   'country_name': 'country_territory',\n",
       "   'id_cols': ['country_territory', 'field_8'],\n",
       "   'prefixes': ['rcp26', 'rcp45', 'rcp85']}},\n",
       " 'foo_041_agricultural_emissions': {'config_options': {'_incl': False,\n",
       "   'add_ind': False,\n",
       "   'prefixes': ['already long']}},\n",
       " 'foo_042_agricultural_production_value': {'config_options': {'_incl': False,\n",
       "   'add_ind': False,\n",
       "   'prefixes': ['already long']}},\n",
       " 'foo_43_agriculture_value_added': {'config_options': {'_incl': True,\n",
       "   'add_ind': False,\n",
       "   'country_code': 'country_code',\n",
       "   'country_name': 'country_name',\n",
       "   'id_cols': ['country_code',\n",
       "    'country_name',\n",
       "    'indicator_code',\n",
       "    'indicator_name'],\n",
       "   'prefixes': ['yr']}},\n",
       " 'for_021_certified_forest_edit': {'config_options': {'_incl': False,\n",
       "   'add_ind': False,\n",
       "   'prefixes': ['already long']}},\n",
       " 'geometry': {'config_options': {'country_code': 'iso_a3',\n",
       "   'country_name': 'name',\n",
       "   'id_cols': ['']}},\n",
       " 'soc_004_human_development_index': {'config_options': {'country_code': False,\n",
       "   'country_name': 'country',\n",
       "   'id_cols': ['country']}},\n",
       " 'soc_005_political_rights_civil_liberties_index': {'config_options': {'_incl': False,\n",
       "   'add_ind': False,\n",
       "   'prefixes': ['already long']}},\n",
       " 'soc_006_multidimensional_poverty_index': {'config_options': {'_incl': True,\n",
       "   'add_ind': False,\n",
       "   'country_code': False,\n",
       "   'country_name': 'country',\n",
       "   'id_cols': ['country', 'latest'],\n",
       "   'prefixes': ['yr']}},\n",
       " 'soc_008_gdp_per_capita_edit': {'config_options': {'_incl': True,\n",
       "   'add_ind': False,\n",
       "   'country_code': 'country_code',\n",
       "   'country_name': 'country_name',\n",
       "   'id_cols': ['country_code',\n",
       "    'country_name',\n",
       "    'indicator_code',\n",
       "    'indicator_name'],\n",
       "   'prefixes': ['yr']}},\n",
       " 'soc_015_adult_literacy_rate': {'config_options': {'_incl': True,\n",
       "   'add_ind': True,\n",
       "   'country_code': 'country_code',\n",
       "   'country_name': 'country_name',\n",
       "   'id_cols': ['indicator_code',\n",
       "    'indicator_name',\n",
       "    'country_code',\n",
       "    'country_name'],\n",
       "   'prefixes': ['yr', 'male', 'female']}},\n",
       " 'soc_020_gini': {'config_options': {'_incl': True,\n",
       "   'add_ind': False,\n",
       "   'country_code': 'country_code',\n",
       "   'country_name': 'country_name',\n",
       "   'id_cols': ['indicator_code',\n",
       "    'indicator_name',\n",
       "    'country_code',\n",
       "    'country_name'],\n",
       "   'prefixes': ['yr']}},\n",
       " 'soc_025_gender_inequality_index': {'config_options': {'_incl': True,\n",
       "   'add_ind': False,\n",
       "   'country_code': False,\n",
       "   'country_name': 'country',\n",
       "   'id_cols': ['country'],\n",
       "   'prefixes': ['yr']}},\n",
       " 'soc_029_worldwide_governance_indicators': {'config_options': {'_incl': True,\n",
       "   'add_ind': True,\n",
       "   'country_code': 'wbcode',\n",
       "   'country_name': 'country_territory',\n",
       "   'id_cols': ['country_territory', 'wbcode'],\n",
       "   'prefixes': ['control_of_corruption',\n",
       "    'government_effectiveness',\n",
       "    'political_stability',\n",
       "    'regulatory_quality',\n",
       "    'rule_of_law',\n",
       "    'voice_accountability']}},\n",
       " 'soc_035_land_deals': {'config_options': {'_incl': False,\n",
       "   'add_ind': False,\n",
       "   'prefixes': ['already long']}},\n",
       " 'soc_036_life_expectancy_at_birth': {'config_options': {'_incl': True,\n",
       "   'add_ind': False,\n",
       "   'country_code': 'country_code',\n",
       "   'country_name': 'country_name',\n",
       "   'id_cols': ['indicator_code',\n",
       "    'indicator_name',\n",
       "    'country_code',\n",
       "    'country_name'],\n",
       "   'prefixes': ['yr']}},\n",
       " 'soc_039_out_of_school_rate_edit': {'config_options': {'_incl': True,\n",
       "   'add_ind': False,\n",
       "   'country_code': False,\n",
       "   'country_name': 'country',\n",
       "   'id_cols': ['country'],\n",
       "   'prefixes': ['yr']}},\n",
       " 'soc_040_improved_sanitation': {'config_options': {'_incl': True,\n",
       "   'add_ind': True,\n",
       "   'country_code': 'country_code',\n",
       "   'country_name': 'country_name',\n",
       "   'id_cols': ['country_code', 'country_name'],\n",
       "   'prefixes': ['rural', 'urban', 'total']}},\n",
       " 'soc_062_internal_displacement_conflict_and_natural_disaster': {'config_options': {'_incl': False,\n",
       "   'add_ind': False,\n",
       "   'prefixes': ['already long']}},\n",
       " 'wat_005_improved_water_access': {'config_options': {'_incl': True,\n",
       "   'add_ind': True,\n",
       "   'country_code': 'country_code',\n",
       "   'country_name': 'country_name',\n",
       "   'id_cols': ['country_code', 'country_name'],\n",
       "   'prefixes': ['urban', 'rural', 'total']}}}"
      ]
     },
     "execution_count": 12,
     "metadata": {},
     "output_type": "execute_result"
    }
   ],
   "source": [
    "# Load config options\n",
    "try:\n",
    "    table_info = json.load(open('./table_info.json', 'r'))\n",
    "except:\n",
    "    table_info = {}\n",
    "table_info"
   ]
  },
  {
   "cell_type": "code",
   "execution_count": 28,
   "metadata": {
    "collapsed": false
   },
   "outputs": [
    {
     "ename": "NameError",
     "evalue": "name 'cc' is not defined",
     "output_type": "error",
     "traceback": [
      "\u001b[0;31m---------------------------------------------------------------------------\u001b[0m",
      "\u001b[0;31mNameError\u001b[0m                                 Traceback (most recent call last)",
      "\u001b[0;32m<ipython-input-28-701e286677b5>\u001b[0m in \u001b[0;36m<module>\u001b[0;34m()\u001b[0m\n\u001b[1;32m      1\u001b[0m \u001b[0mtables\u001b[0m \u001b[0;34m=\u001b[0m \u001b[0;34m{\u001b[0m\u001b[0;34m}\u001b[0m\u001b[0;34m\u001b[0m\u001b[0m\n\u001b[1;32m      2\u001b[0m tables['geometry'] = {\n\u001b[0;32m----> 3\u001b[0;31m     \u001b[0;34m'data'\u001b[0m\u001b[0;34m:\u001b[0m\u001b[0mcc\u001b[0m\u001b[0;34m.\u001b[0m\u001b[0mread\u001b[0m\u001b[0;34m(\u001b[0m\u001b[0;34m'wri_countries_a'\u001b[0m\u001b[0;34m)\u001b[0m\u001b[0;34m\u001b[0m\u001b[0m\n\u001b[0m\u001b[1;32m      4\u001b[0m }\n\u001b[1;32m      5\u001b[0m table_info['geometry'] = {\n",
      "\u001b[0;31mNameError\u001b[0m: name 'cc' is not defined"
     ]
    }
   ],
   "source": [
    "tables = {}\n",
    "tables['geometry'] = {\n",
    "    'data':cc.read('wri_countries_a')\n",
    "}\n",
    "table_info['geometry'] = {\n",
    "    'config_options':{}\n",
    "}\n",
    "\n",
    "tables['country_aliases'] = {\n",
    "    'old_data':cc.read('rw_aliasing_countries'),\n",
    "    'data':cc.read('country_aliases_extended')\n",
    "}\n",
    "table_info['country_aliases'] = {\n",
    "    'config_options':{}\n",
    "}\n",
    "\n",
    "\n",
    "###\n",
    "## This is currently built out to read data already on the API... \n",
    "## could be used to prepare data for upload to the API\n",
    "###\n",
    "\n",
    "\n",
    "\n",
    "for rw_id, api_id in datasets_in_wide_form.items():\n",
    "    logging.info(rw_id)\n",
    "\n",
    "    # Fetch table name\n",
    "    try:\n",
    "        table_name = carto_data.loc[api_id]['table_name']\n",
    "    except:\n",
    "        msg = '***** ' + rw_id + ' not in carto_data *****'\n",
    "        table_info[table_name] = {\n",
    "            'error':msg\n",
    "        }\n",
    "        logging.info(msg)\n",
    "\n",
    "\n",
    "    if table_name in table_info:\n",
    "        if 'config_options' in table_info[table_name]:\n",
    "            if 'prefixes' in table_info[table_name]['config_options']:\n",
    "                if table_info[table_name]['config_options']['prefixes'] in [[u'--'], [u'already long']]:\n",
    "                    logging.info('not fetching data for ' + table_name)\n",
    "                    continue\n",
    "\n",
    "    # Fetch data\n",
    "    try:\n",
    "        tables[table_name] = {\n",
    "            'data':cc.read(table_name)\n",
    "        }\n",
    "        if 'config_options' not in table_info[table_name]:\n",
    "            logging.info('updating table_info for ' + table_name)\n",
    "            table_info[table_name] = {\n",
    "                'config_options':{}\n",
    "            }\n",
    "    except:\n",
    "        msg = '***** Problem fetching ' + table_name + ' from Carto server *****'\n",
    "        if table_name in table_info:\n",
    "            if 'error' in table_info[table_name]:\n",
    "                logging.info(table_info[table_name]['error'])\n",
    "        else:\n",
    "            table_info[table_name] = {\n",
    "                'error':msg\n",
    "            }\n",
    "            logging.info(msg)\n",
    "\n",
    "\n",
    "for name, info in tables.items():\n",
    "    logging.info('table name: ' + name)\n",
    "    try:\n",
    "        logging.info('table shape: ' + str(info['data'].shape))\n",
    "    except:\n",
    "        logging.info(info['error'])"
   ]
  },
  {
   "cell_type": "code",
   "execution_count": 32,
   "metadata": {
    "collapsed": false
   },
   "outputs": [
    {
     "name": "stderr",
     "output_type": "stream",
     "text": [
      "INFO:root:geometry\n",
      "INFO:root:Index(['_primary', 'abbrev', 'adm0_a3', 'continent', 'formal_nam', 'iso_a2',\n",
      "       'iso_a3', 'iso_n3', 'iso_short', 'name', 'name_sort', 'postal',\n",
      "       'short_name', 'sov_a3', 'sovereign', 'the_geom', 'type', 'un_ar',\n",
      "       'un_en', 'un_es', 'un_fr', 'un_n3', 'un_region', 'un_ru', 'un_subregi',\n",
      "       'un_zh', 'wb_a2', 'wb_a3', 'wb_region'],\n",
      "      dtype='object')\n"
     ]
    },
    {
     "name": "stdout",
     "output_type": "stream",
     "text": [
      "id columns? separate by comma with a space\n"
     ]
    },
    {
     "name": "stderr",
     "output_type": "stream",
     "text": [
      "INFO:root:country_aliases\n",
      "INFO:root:Index(['alias', 'iso', 'name', 'the_geom'], dtype='object')\n"
     ]
    },
    {
     "name": "stdout",
     "output_type": "stream",
     "text": [
      "id columns? separate by comma with a space\n"
     ]
    },
    {
     "name": "stderr",
     "output_type": "stream",
     "text": [
      "INFO:root:cit_022_road_traffic_deaths_by_country\n",
      "INFO:root:Index(['cartodb_georef_status', 'country', 'death_rate_per_100000',\n",
      "       'estimated_number_of_road_traffic_deaths_2013', 'the_geom'],\n",
      "      dtype='object')\n"
     ]
    },
    {
     "name": "stdout",
     "output_type": "stream",
     "text": [
      "id columns? separate by comma with a spacecountry\n"
     ]
    },
    {
     "name": "stderr",
     "output_type": "stream",
     "text": [
      "INFO:root:cit_025_urban_population\n",
      "INFO:root:Index(['cartodb_georef_status', 'country_code', 'country_name',\n",
      "       'indicator_code', 'indicator_name', 'the_geom', 'yr_1960', 'yr_1961',\n",
      "       'yr_1962', 'yr_1963', 'yr_1964', 'yr_1965', 'yr_1966', 'yr_1967',\n",
      "       'yr_1968', 'yr_1969', 'yr_1970', 'yr_1971', 'yr_1972', 'yr_1973',\n",
      "       'yr_1974', 'yr_1975', 'yr_1976', 'yr_1977', 'yr_1978', 'yr_1979',\n",
      "       'yr_1980', 'yr_1981', 'yr_1982', 'yr_1983', 'yr_1984', 'yr_1985',\n",
      "       'yr_1986', 'yr_1987', 'yr_1988', 'yr_1989', 'yr_1990', 'yr_1991',\n",
      "       'yr_1992', 'yr_1993', 'yr_1994', 'yr_1995', 'yr_1996', 'yr_1997',\n",
      "       'yr_1998', 'yr_1999', 'yr_2000', 'yr_2001', 'yr_2002', 'yr_2003',\n",
      "       'yr_2004', 'yr_2005', 'yr_2006', 'yr_2007', 'yr_2008', 'yr_2009',\n",
      "       'yr_2010', 'yr_2011', 'yr_2012', 'yr_2013', 'yr_2014', 'yr_2015',\n",
      "       'yr_2016'],\n",
      "      dtype='object')\n"
     ]
    },
    {
     "name": "stdout",
     "output_type": "stream",
     "text": [
      "id columns? separate by comma with a spacecountry_code, country_name, indicator_code, indicator_name\n"
     ]
    },
    {
     "name": "stderr",
     "output_type": "stream",
     "text": [
      "INFO:root:cit_028_percent_urban_slums_edit\n",
      "INFO:root:Index(['cartodb_georef_status', 'country_code', 'country_name',\n",
      "       'indicator_code', 'indicator_name', 'the_geom', 'yr_1960', 'yr_1961',\n",
      "       'yr_1962', 'yr_1963', 'yr_1964', 'yr_1965', 'yr_1966', 'yr_1967',\n",
      "       'yr_1968', 'yr_1969', 'yr_1970', 'yr_1971', 'yr_1972', 'yr_1973',\n",
      "       'yr_1974', 'yr_1975', 'yr_1976', 'yr_1977', 'yr_1978', 'yr_1979',\n",
      "       'yr_1980', 'yr_1981', 'yr_1982', 'yr_1983', 'yr_1984', 'yr_1985',\n",
      "       'yr_1986', 'yr_1987', 'yr_1988', 'yr_1989', 'yr_1990', 'yr_1991',\n",
      "       'yr_1992', 'yr_1993', 'yr_1994', 'yr_1995', 'yr_1996', 'yr_1997',\n",
      "       'yr_1998', 'yr_1999', 'yr_2000', 'yr_2001', 'yr_2002', 'yr_2003',\n",
      "       'yr_2004', 'yr_2005', 'yr_2006', 'yr_2007', 'yr_2008', 'yr_2009',\n",
      "       'yr_2010', 'yr_2011', 'yr_2012', 'yr_2013', 'yr_2014', 'yr_2015',\n",
      "       'yr_2016'],\n",
      "      dtype='object')\n"
     ]
    },
    {
     "name": "stdout",
     "output_type": "stream",
     "text": [
      "id columns? separate by comma with a spacecountry_code, country_name, indicator_code, indicator_name\n"
     ]
    },
    {
     "name": "stderr",
     "output_type": "stream",
     "text": [
      "INFO:root:cit_029_municipal_waste\n",
      "INFO:root:Index(['_2012_2015_avg', 'country', 'the_geom', 'yr_1990', 'yr_1991',\n",
      "       'yr_1992', 'yr_1993', 'yr_1994', 'yr_1995', 'yr_1996', 'yr_1997',\n",
      "       'yr_1998', 'yr_1999', 'yr_2000', 'yr_2001', 'yr_2002', 'yr_2003',\n",
      "       'yr_2004', 'yr_2005', 'yr_2006', 'yr_2007', 'yr_2008', 'yr_2009',\n",
      "       'yr_2010', 'yr_2011', 'yr_2012', 'yr_2013', 'yr_2014', 'yr_2015'],\n",
      "      dtype='object')\n"
     ]
    },
    {
     "name": "stdout",
     "output_type": "stream",
     "text": [
      "id columns? separate by comma with a space_2012_2015_avg, country\n"
     ]
    },
    {
     "name": "stderr",
     "output_type": "stream",
     "text": [
      "INFO:root:com_006_national_current_accounts_edit\n",
      "INFO:root:Index(['cartodb_georef_status', 'country_code', 'country_name',\n",
      "       'indicator_code', 'indicator_name', 'the_geom', 'yr_1960', 'yr_1961',\n",
      "       'yr_1962', 'yr_1963', 'yr_1964', 'yr_1965', 'yr_1966', 'yr_1967',\n",
      "       'yr_1968', 'yr_1969', 'yr_1970', 'yr_1971', 'yr_1972', 'yr_1973',\n",
      "       'yr_1974', 'yr_1975', 'yr_1976', 'yr_1977', 'yr_1978', 'yr_1979',\n",
      "       'yr_1980', 'yr_1981', 'yr_1982', 'yr_1983', 'yr_1984', 'yr_1985',\n",
      "       'yr_1986', 'yr_1987', 'yr_1988', 'yr_1989', 'yr_1990', 'yr_1991',\n",
      "       'yr_1992', 'yr_1993', 'yr_1994', 'yr_1995', 'yr_1996', 'yr_1997',\n",
      "       'yr_1998', 'yr_1999', 'yr_2000', 'yr_2001', 'yr_2002', 'yr_2003',\n",
      "       'yr_2004', 'yr_2005', 'yr_2006', 'yr_2007', 'yr_2008', 'yr_2009',\n",
      "       'yr_2010', 'yr_2011', 'yr_2012', 'yr_2013', 'yr_2014', 'yr_2015',\n",
      "       'yr_2016'],\n",
      "      dtype='object')\n"
     ]
    },
    {
     "name": "stdout",
     "output_type": "stream",
     "text": [
      "id columns? separate by comma with a spacecountry_code, country_name, indicator_code, indicator_name\n"
     ]
    },
    {
     "name": "stderr",
     "output_type": "stream",
     "text": [
      "INFO:root:com_010_gdp_ppp_usd\n",
      "INFO:root:Index(['cartodb_georef_status', 'country_code', 'country_name',\n",
      "       'indicator_code', 'indicator_name', 'the_geom', 'yr_1990', 'yr_1991',\n",
      "       'yr_1992', 'yr_1993', 'yr_1994', 'yr_1995', 'yr_1996', 'yr_1997',\n",
      "       'yr_1998', 'yr_1999', 'yr_2000', 'yr_2001', 'yr_2002', 'yr_2003',\n",
      "       'yr_2004', 'yr_2005', 'yr_2006', 'yr_2007', 'yr_2008', 'yr_2009',\n",
      "       'yr_2010', 'yr_2011', 'yr_2012', 'yr_2013', 'yr_2014', 'yr_2015',\n",
      "       'yr_2016'],\n",
      "      dtype='object')\n"
     ]
    },
    {
     "name": "stdout",
     "output_type": "stream",
     "text": [
      "id columns? separate by comma with a spacecountry_code, country_name, indicator_code, indicator_name\n"
     ]
    },
    {
     "name": "stderr",
     "output_type": "stream",
     "text": [
      "INFO:root:com_015_recycling_rates\n",
      "INFO:root:Index(['_2012_2015_avg', 'cartodb_georef_status', 'country', 'the_geom',\n",
      "       'yr_1990', 'yr_1991', 'yr_1992', 'yr_1993', 'yr_1994', 'yr_1995',\n",
      "       'yr_1996', 'yr_1997', 'yr_1998', 'yr_1999', 'yr_2000', 'yr_2001',\n",
      "       'yr_2002', 'yr_2003', 'yr_2004', 'yr_2005', 'yr_2006', 'yr_2007',\n",
      "       'yr_2008', 'yr_2009', 'yr_2010', 'yr_2011', 'yr_2012', 'yr_2013',\n",
      "       'yr_2014', 'yr_2015'],\n",
      "      dtype='object')\n"
     ]
    },
    {
     "name": "stdout",
     "output_type": "stream",
     "text": [
      "id columns? separate by comma with a space_2012_2015_avg, country\n"
     ]
    },
    {
     "name": "stderr",
     "output_type": "stream",
     "text": [
      "INFO:root:ene_012_electricity_access\n",
      "INFO:root:Index(['cartodb_georef_status', 'country_code', 'country_name', 'rural_1990',\n",
      "       'rural_1991', 'rural_1992', 'rural_1993', 'rural_1994', 'rural_1995',\n",
      "       'rural_1996', 'rural_1997', 'rural_1998', 'rural_1999', 'rural_2000',\n",
      "       'rural_2001', 'rural_2002', 'rural_2003', 'rural_2004', 'rural_2005',\n",
      "       'rural_2006', 'rural_2007', 'rural_2008', 'rural_2009', 'rural_2010',\n",
      "       'rural_2011', 'rural_2012', 'rural_2013', 'rural_2014', 'the_geom',\n",
      "       'total_1990', 'total_1991', 'total_1992', 'total_1993', 'total_1994',\n",
      "       'total_1995', 'total_1996', 'total_1997', 'total_1998', 'total_1999',\n",
      "       'total_2000', 'total_2001', 'total_2002', 'total_2003', 'total_2004',\n",
      "       'total_2005', 'total_2006', 'total_2007', 'total_2008', 'total_2009',\n",
      "       'total_2010', 'total_2011', 'total_2012', 'total_2013', 'total_2014',\n",
      "       'urban_1990', 'urban_1991', 'urban_1992', 'urban_1993', 'urban_1994',\n",
      "       'urban_1995', 'urban_1996', 'urban_1997', 'urban_1998', 'urban_1999',\n",
      "       'urban_2000', 'urban_2001', 'urban_2002', 'urban_2003', 'urban_2004',\n",
      "       'urban_2005', 'urban_2006', 'urban_2007', 'urban_2008', 'urban_2009',\n",
      "       'urban_2010', 'urban_2011', 'urban_2012', 'urban_2013', 'urban_2014'],\n",
      "      dtype='object')\n"
     ]
    },
    {
     "name": "stdout",
     "output_type": "stream",
     "text": [
      "id columns? separate by comma with a spacecountry_code, country_name\n"
     ]
    },
    {
     "name": "stderr",
     "output_type": "stream",
     "text": [
      "INFO:root:ene_021_se4all_country_indicators\n",
      "INFO:root:Index(['cartodb_georef_status', 'country_code', 'country_name',\n",
      "       'indicator_code', 'indicator_name', 'the_geom', 'yr_1990', 'yr_1991',\n",
      "       'yr_1992', 'yr_1993', 'yr_1994', 'yr_1995', 'yr_1996', 'yr_1997',\n",
      "       'yr_1998', 'yr_1999', 'yr_2000', 'yr_2001', 'yr_2002', 'yr_2003',\n",
      "       'yr_2004', 'yr_2005', 'yr_2006', 'yr_2007', 'yr_2008', 'yr_2009',\n",
      "       'yr_2010'],\n",
      "      dtype='object')\n"
     ]
    },
    {
     "name": "stdout",
     "output_type": "stream",
     "text": [
      "id columns? separate by comma with a spacecountry_code, country_name, indicator_code, indicator_name\n"
     ]
    },
    {
     "name": "stderr",
     "output_type": "stream",
     "text": [
      "INFO:root:ene_028_access_clean_cooking_fuels\n",
      "INFO:root:Index(['cartodb_georef_status', 'country_code', 'country_name', 'series_code',\n",
      "       'series_name', 'the_geom', 'yr_2000', 'yr_2007', 'yr_2008', 'yr_2009',\n",
      "       'yr_2010', 'yr_2011', 'yr_2012', 'yr_2013', 'yr_2014'],\n",
      "      dtype='object')\n"
     ]
    },
    {
     "name": "stdout",
     "output_type": "stream",
     "text": [
      "id columns? separate by comma with a spacecountry_code, country_name, series_code, series_name\n"
     ]
    },
    {
     "name": "stderr",
     "output_type": "stream",
     "text": [
      "INFO:root:foo_015_global_hunger_index\n",
      "INFO:root:Index(['cartodb_georef_status', 'country', 'ghi_1992', 'ghi_2000', 'ghi_2008',\n",
      "       'ghi_2017', 'the_geom'],\n",
      "      dtype='object')\n"
     ]
    },
    {
     "name": "stdout",
     "output_type": "stream",
     "text": [
      "id columns? separate by comma with a spacecountry\n"
     ]
    },
    {
     "name": "stderr",
     "output_type": "stream",
     "text": [
      "INFO:root:foo_040_fisheries_vuln_climat\n",
      "INFO:root:Index(['cartodb_georef_status', 'country_territory', 'field_8',\n",
      "       'rcp26___2016_2050', 'rcp26___2066_2100', 'rcp45___2016_2050',\n",
      "       'rcp45___2066_2100', 'rcp85___2016_2050', 'rcp85___2066_2100',\n",
      "       'the_geom'],\n",
      "      dtype='object')\n"
     ]
    },
    {
     "name": "stdout",
     "output_type": "stream",
     "text": [
      "id columns? separate by comma with a spacecountry_territory, field_8\n"
     ]
    },
    {
     "name": "stderr",
     "output_type": "stream",
     "text": [
      "INFO:root:foo_43_agriculture_value_added\n",
      "INFO:root:Index(['cartodb_georef_status', 'country_code', 'country_name',\n",
      "       'indicator_code', 'indicator_name', 'the_geom', 'yr_1960', 'yr_1961',\n",
      "       'yr_1962', 'yr_1963', 'yr_1964', 'yr_1965', 'yr_1966', 'yr_1967',\n",
      "       'yr_1968', 'yr_1969', 'yr_1970', 'yr_1971', 'yr_1972', 'yr_1973',\n",
      "       'yr_1974', 'yr_1975', 'yr_1976', 'yr_1977', 'yr_1978', 'yr_1979',\n",
      "       'yr_1980', 'yr_1981', 'yr_1982', 'yr_1983', 'yr_1984', 'yr_1985',\n",
      "       'yr_1986', 'yr_1987', 'yr_1988', 'yr_1989', 'yr_1990', 'yr_1991',\n",
      "       'yr_1992', 'yr_1993', 'yr_1994', 'yr_1995', 'yr_1996', 'yr_1997',\n",
      "       'yr_1998', 'yr_1999', 'yr_2000', 'yr_2001', 'yr_2002', 'yr_2003',\n",
      "       'yr_2004', 'yr_2005', 'yr_2006', 'yr_2007', 'yr_2008', 'yr_2009',\n",
      "       'yr_2010', 'yr_2011', 'yr_2012', 'yr_2013', 'yr_2014', 'yr_2015',\n",
      "       'yr_2016'],\n",
      "      dtype='object')\n"
     ]
    },
    {
     "name": "stdout",
     "output_type": "stream",
     "text": [
      "id columns? separate by comma with a spacecountry_code, country_name, indicator_code, indicator_name\n"
     ]
    },
    {
     "name": "stderr",
     "output_type": "stream",
     "text": [
      "INFO:root:soc_004_human_development_index\n",
      "INFO:root:Index(['cartodb_georef_status', 'country', 'hdi_rank_2015', 'the_geom',\n",
      "       'yr_1990', 'yr_1991', 'yr_1992', 'yr_1993', 'yr_1994', 'yr_1995',\n",
      "       'yr_1996', 'yr_1997', 'yr_1998', 'yr_1999', 'yr_2000', 'yr_2001',\n",
      "       'yr_2002', 'yr_2003', 'yr_2004', 'yr_2005', 'yr_2006', 'yr_2007',\n",
      "       'yr_2008', 'yr_2009', 'yr_2010', 'yr_2011', 'yr_2012', 'yr_2013',\n",
      "       'yr_2014', 'yr_2015'],\n",
      "      dtype='object')\n"
     ]
    },
    {
     "name": "stdout",
     "output_type": "stream",
     "text": [
      "id columns? separate by comma with a spacecountry\n"
     ]
    },
    {
     "name": "stderr",
     "output_type": "stream",
     "text": [
      "INFO:root:soc_006_multidimensional_poverty_index\n",
      "INFO:root:Index(['cartodb_georef_status', 'country', 'hdi_rank', 'latest', 'the_geom',\n",
      "       'yr_2005', 'yr_2006', 'yr_2007', 'yr_2008', 'yr_2009', 'yr_2010',\n",
      "       'yr_2011', 'yr_2012', 'yr_2013', 'yr_2014', 'yr_2015'],\n",
      "      dtype='object')\n"
     ]
    },
    {
     "name": "stdout",
     "output_type": "stream",
     "text": [
      "id columns? separate by comma with a spacecountry, latest\n"
     ]
    },
    {
     "name": "stderr",
     "output_type": "stream",
     "text": [
      "INFO:root:soc_008_gdp_per_capita_edit\n",
      "INFO:root:Index(['cartodb_georef_status', 'country_code', 'country_name',\n",
      "       'indicator_code', 'indicator_name', 'the_geom', 'yr_1990', 'yr_1991',\n",
      "       'yr_1992', 'yr_1993', 'yr_1994', 'yr_1995', 'yr_1996', 'yr_1997',\n",
      "       'yr_1998', 'yr_1999', 'yr_2000', 'yr_2001', 'yr_2002', 'yr_2003',\n",
      "       'yr_2004', 'yr_2005', 'yr_2006', 'yr_2007', 'yr_2008', 'yr_2009',\n",
      "       'yr_2010', 'yr_2011', 'yr_2012', 'yr_2013', 'yr_2014', 'yr_2015',\n",
      "       'yr_2016'],\n",
      "      dtype='object')\n"
     ]
    },
    {
     "name": "stdout",
     "output_type": "stream",
     "text": [
      "id columns? separate by comma with a spacecountry_code, country_name, indicator_code, indicator_name\n"
     ]
    },
    {
     "name": "stderr",
     "output_type": "stream",
     "text": [
      "INFO:root:soc_015_adult_literacy_rate\n",
      "INFO:root:Index(['cartodb_georef_status', 'country_code', 'country_name', 'female_1999',\n",
      "       'female_2000', 'female_2001', 'female_2002', 'female_2003',\n",
      "       'female_2004', 'female_2005', 'female_2006', 'female_2007',\n",
      "       'female_2008', 'female_2009', 'female_2010', 'female_2011',\n",
      "       'female_2012', 'female_2013', 'female_2014', 'female_2015',\n",
      "       'female_2016', 'indicator_code', 'indicator_name', 'male_1999',\n",
      "       'male_2000', 'male_2001', 'male_2002', 'male_2003', 'male_2004',\n",
      "       'male_2005', 'male_2006', 'male_2007', 'male_2008', 'male_2009',\n",
      "       'male_2010', 'male_2011', 'male_2012', 'male_2013', 'male_2014',\n",
      "       'male_2015', 'male_2016', 'the_geom', 'yr_1970', 'yr_1971', 'yr_1972',\n",
      "       'yr_1973', 'yr_1974', 'yr_1975', 'yr_1976', 'yr_1977', 'yr_1978',\n",
      "       'yr_1979', 'yr_1980', 'yr_1981', 'yr_1982', 'yr_1983', 'yr_1984',\n",
      "       'yr_1985', 'yr_1986', 'yr_1987', 'yr_1988', 'yr_1989', 'yr_1990',\n",
      "       'yr_1991', 'yr_1992', 'yr_1993', 'yr_1994', 'yr_1995', 'yr_1996',\n",
      "       'yr_1997', 'yr_1998', 'yr_1999', 'yr_2000', 'yr_2001', 'yr_2002',\n",
      "       'yr_2003', 'yr_2004', 'yr_2005', 'yr_2006', 'yr_2007', 'yr_2008',\n",
      "       'yr_2009', 'yr_2010', 'yr_2011', 'yr_2012', 'yr_2013', 'yr_2014',\n",
      "       'yr_2015'],\n",
      "      dtype='object')\n"
     ]
    },
    {
     "name": "stdout",
     "output_type": "stream",
     "text": [
      "id columns? separate by comma with a spaceindicator_code, indicator_name, country_code, country_name\n"
     ]
    },
    {
     "name": "stderr",
     "output_type": "stream",
     "text": [
      "INFO:root:soc_020_gini\n",
      "INFO:root:Index(['cartodb_georef_status', 'column_1503694226021', 'country_code',\n",
      "       'country_name', 'indicator_code', 'indicator_name', 'the_geom',\n",
      "       'yr_1960', 'yr_1961', 'yr_1962', 'yr_1963', 'yr_1964', 'yr_1965',\n",
      "       'yr_1966', 'yr_1967', 'yr_1968', 'yr_1969', 'yr_1970', 'yr_1971',\n",
      "       'yr_1972', 'yr_1973', 'yr_1974', 'yr_1975', 'yr_1976', 'yr_1977',\n",
      "       'yr_1978', 'yr_1979', 'yr_1980', 'yr_1981', 'yr_1982', 'yr_1983',\n",
      "       'yr_1984', 'yr_1985', 'yr_1986', 'yr_1987', 'yr_1988', 'yr_1989',\n",
      "       'yr_1990', 'yr_1991', 'yr_1992', 'yr_1993', 'yr_1994', 'yr_1995',\n",
      "       'yr_1996', 'yr_1997', 'yr_1998', 'yr_1999', 'yr_2000', 'yr_2001',\n",
      "       'yr_2002', 'yr_2003', 'yr_2004', 'yr_2005', 'yr_2006', 'yr_2007',\n",
      "       'yr_2008', 'yr_2009', 'yr_2010', 'yr_2011', 'yr_2012', 'yr_2013',\n",
      "       'yr_2014', 'yr_2015', 'yr_2016'],\n",
      "      dtype='object')\n"
     ]
    },
    {
     "name": "stdout",
     "output_type": "stream",
     "text": [
      "id columns? separate by comma with a spaceindicator_code, indicator_name, country_code, country_name\n"
     ]
    },
    {
     "name": "stderr",
     "output_type": "stream",
     "text": [
      "INFO:root:soc_025_gender_inequality_index\n",
      "INFO:root:Index(['cartodb_georef_status', 'country', 'hdi_rank_2015', 'the_geom',\n",
      "       'yr_1995', 'yr_2000', 'yr_2005', 'yr_2010', 'yr_2011', 'yr_2012',\n",
      "       'yr_2013', 'yr_2014', 'yr_2015'],\n",
      "      dtype='object')\n"
     ]
    },
    {
     "name": "stdout",
     "output_type": "stream",
     "text": [
      "id columns? separate by comma with a spacecountry\n"
     ]
    },
    {
     "name": "stderr",
     "output_type": "stream",
     "text": [
      "INFO:root:soc_029_worldwide_governance_indicators\n",
      "INFO:root:Index(['cartodb_georef_status', 'control_of_corruption_2016',\n",
      "       'country_territory', 'government_effectiveness_2016',\n",
      "       'political_stability_2016', 'regulatory_quality_2016',\n",
      "       'rule_of_law_2016', 'the_geom', 'voice_accountability_2016', 'wbcode'],\n",
      "      dtype='object')\n"
     ]
    },
    {
     "name": "stdout",
     "output_type": "stream",
     "text": [
      "id columns? separate by comma with a spacecountry_territory, wbcode\n"
     ]
    },
    {
     "name": "stderr",
     "output_type": "stream",
     "text": [
      "INFO:root:soc_036_life_expectancy_at_birth\n",
      "INFO:root:Index(['cartodb_georef_status', 'country_code', 'country_name',\n",
      "       'indicator_code', 'indicator_name', 'the_geom', 'yr_1960', 'yr_1961',\n",
      "       'yr_1962', 'yr_1963', 'yr_1964', 'yr_1965', 'yr_1966', 'yr_1967',\n",
      "       'yr_1968', 'yr_1969', 'yr_1970', 'yr_1971', 'yr_1972', 'yr_1973',\n",
      "       'yr_1974', 'yr_1975', 'yr_1976', 'yr_1977', 'yr_1978', 'yr_1979',\n",
      "       'yr_1980', 'yr_1981', 'yr_1982', 'yr_1983', 'yr_1984', 'yr_1985',\n",
      "       'yr_1986', 'yr_1987', 'yr_1988', 'yr_1989', 'yr_1990', 'yr_1991',\n",
      "       'yr_1992', 'yr_1993', 'yr_1994', 'yr_1995', 'yr_1996', 'yr_1997',\n",
      "       'yr_1998', 'yr_1999', 'yr_2000', 'yr_2001', 'yr_2002', 'yr_2003',\n",
      "       'yr_2004', 'yr_2005', 'yr_2006', 'yr_2007', 'yr_2008', 'yr_2009',\n",
      "       'yr_2010', 'yr_2011', 'yr_2012', 'yr_2013', 'yr_2014', 'yr_2015',\n",
      "       'yr_2016'],\n",
      "      dtype='object')\n"
     ]
    },
    {
     "name": "stdout",
     "output_type": "stream",
     "text": [
      "id columns? separate by comma with a spaceindicator_code, indicator_name, country_code, country_name\n"
     ]
    },
    {
     "name": "stderr",
     "output_type": "stream",
     "text": [
      "INFO:root:soc_039_out_of_school_rate_edit\n",
      "INFO:root:Index(['country', 'the_geom', 'yr_1999', 'yr_2000', 'yr_2001', 'yr_2002',\n",
      "       'yr_2003', 'yr_2004', 'yr_2005', 'yr_2006', 'yr_2007', 'yr_2008',\n",
      "       'yr_2009', 'yr_2010', 'yr_2011', 'yr_2012', 'yr_2013', 'yr_2014',\n",
      "       'yr_2015', 'yr_2016'],\n",
      "      dtype='object')\n"
     ]
    },
    {
     "name": "stdout",
     "output_type": "stream",
     "text": [
      "id columns? separate by comma with a spacecountry\n"
     ]
    },
    {
     "name": "stderr",
     "output_type": "stream",
     "text": [
      "INFO:root:soc_040_improved_sanitation\n",
      "INFO:root:Index(['cartodb_georef_status', 'country_code', 'country_name', 'rural_1990',\n",
      "       'rural_1991', 'rural_1992', 'rural_1993', 'rural_1994', 'rural_1995',\n",
      "       'rural_1996', 'rural_1997', 'rural_1998', 'rural_1999', 'rural_2000',\n",
      "       'rural_2001', 'rural_2002', 'rural_2003', 'rural_2004', 'rural_2005',\n",
      "       'rural_2006', 'rural_2007', 'rural_2008', 'rural_2009', 'rural_2010',\n",
      "       'rural_2011', 'rural_2012', 'rural_2013', 'rural_2014', 'rural_2015',\n",
      "       'the_geom', 'total_1990', 'total_1991', 'total_1992', 'total_1993',\n",
      "       'total_1994', 'total_1995', 'total_1996', 'total_1997', 'total_1998',\n",
      "       'total_1999', 'total_2000', 'total_2001', 'total_2002', 'total_2003',\n",
      "       'total_2004', 'total_2005', 'total_2006', 'total_2007', 'total_2008',\n",
      "       'total_2009', 'total_2010', 'total_2011', 'total_2012', 'total_2013',\n",
      "       'total_2014', 'total_2015', 'urban_1990', 'urban_1991', 'urban_1992',\n",
      "       'urban_1993', 'urban_1994', 'urban_1995', 'urban_1996', 'urban_1997',\n",
      "       'urban_1998', 'urban_1999', 'urban_2000', 'urban_2001', 'urban_2002',\n",
      "       'urban_2003', 'urban_2004', 'urban_2005', 'urban_2006', 'urban_2007',\n",
      "       'urban_2008', 'urban_2009', 'urban_2010', 'urban_2011', 'urban_2012',\n",
      "       'urban_2013', 'urban_2014', 'urban_2015'],\n",
      "      dtype='object')\n"
     ]
    },
    {
     "name": "stdout",
     "output_type": "stream",
     "text": [
      "id columns? separate by comma with a spacecountry_code, country_name\n"
     ]
    },
    {
     "name": "stderr",
     "output_type": "stream",
     "text": [
      "INFO:root:wat_005_improved_water_access\n",
      "INFO:root:Index(['cartodb_georef_status', 'country_code', 'country_name', 'rural_1990',\n",
      "       'rural_1991', 'rural_1992', 'rural_1993', 'rural_1994', 'rural_1995',\n",
      "       'rural_1996', 'rural_1997', 'rural_1998', 'rural_1999', 'rural_2000',\n",
      "       'rural_2001', 'rural_2002', 'rural_2003', 'rural_2004', 'rural_2005',\n",
      "       'rural_2006', 'rural_2007', 'rural_2008', 'rural_2009', 'rural_2010',\n",
      "       'rural_2011', 'rural_2012', 'rural_2013', 'rural_2014', 'rural_2015',\n",
      "       'the_geom', 'total_1990', 'total_1991', 'total_1992', 'total_1993',\n",
      "       'total_1994', 'total_1995', 'total_1996', 'total_1997', 'total_1998',\n",
      "       'total_1999', 'total_2000', 'total_2001', 'total_2002', 'total_2003',\n",
      "       'total_2004', 'total_2005', 'total_2006', 'total_2007', 'total_2008',\n",
      "       'total_2009', 'total_2010', 'total_2011', 'total_2012', 'total_2013',\n",
      "       'total_2014', 'total_2015', 'urban_1990', 'urban_1991', 'urban_1992',\n",
      "       'urban_1993', 'urban_1994', 'urban_1995', 'urban_1996', 'urban_1997',\n",
      "       'urban_1998', 'urban_1999', 'urban_2000', 'urban_2001', 'urban_2002',\n",
      "       'urban_2003', 'urban_2004', 'urban_2005', 'urban_2006', 'urban_2007',\n",
      "       'urban_2008', 'urban_2009', 'urban_2010', 'urban_2011', 'urban_2012',\n",
      "       'urban_2013', 'urban_2014', 'urban_2015'],\n",
      "      dtype='object')\n"
     ]
    },
    {
     "name": "stdout",
     "output_type": "stream",
     "text": [
      "id columns? separate by comma with a spacecountry_code, country_name\n"
     ]
    },
    {
     "name": "stderr",
     "output_type": "stream",
     "text": [
      "INFO:root:cli_029_vulnerability_to_cc\n",
      "INFO:root:Index(['cartodb_georef_status', 'country', 'gain_1995', 'gain_1996',\n",
      "       'gain_1997', 'gain_1998', 'gain_1999', 'gain_2000', 'gain_2001',\n",
      "       'gain_2002', 'gain_2003', 'gain_2004', 'gain_2005', 'gain_2006',\n",
      "       'gain_2007', 'gain_2008', 'gain_2009', 'gain_2010', 'gain_2011',\n",
      "       'gain_2012', 'gain_2013', 'gain_2014', 'gain_2015', 'iso4',\n",
      "       'readiness_1995', 'readiness_1996', 'readiness_1997', 'readiness_1998',\n",
      "       'readiness_1999', 'readiness_2000', 'readiness_2001', 'readiness_2002',\n",
      "       'readiness_2003', 'readiness_2004', 'readiness_2005', 'readiness_2006',\n",
      "       'readiness_2007', 'readiness_2008', 'readiness_2009', 'readiness_2010',\n",
      "       'readiness_2011', 'readiness_2012', 'readiness_2013', 'readiness_2014',\n",
      "       'readiness_2015', 'the_geom', 'vulnerability_1995',\n",
      "       'vulnerability_1996', 'vulnerability_1997', 'vulnerability_1998',\n",
      "       'vulnerability_1999', 'vulnerability_2000', 'vulnerability_2001',\n",
      "       'vulnerability_2002', 'vulnerability_2003', 'vulnerability_2004',\n",
      "       'vulnerability_2005', 'vulnerability_2006', 'vulnerability_2007',\n",
      "       'vulnerability_2008', 'vulnerability_2009', 'vulnerability_2010',\n",
      "       'vulnerability_2011', 'vulnerability_2012', 'vulnerability_2013',\n",
      "       'vulnerability_2014', 'vulnerability_2015'],\n",
      "      dtype='object')\n"
     ]
    },
    {
     "name": "stdout",
     "output_type": "stream",
     "text": [
      "id columns? separate by comma with a spacecountry\n"
     ]
    }
   ],
   "source": [
    "# Add config options\n",
    "for name, info in tables.items():\n",
    "    logging.info(name)\n",
    "    logging.info(info['data'].columns)\n",
    "    print\n",
    "\n",
    "    ## To determine id columns to use, uncomment\n",
    "    '''\n",
    "    id_cols = input('id columns? separate by comma with a space')\n",
    "    table_info[name]['config_options']['id_cols'] = [col.strip() for col in id_cols.split(',')]\n",
    "    '''\n",
    "    \n",
    "    ## To assign prefixes for value column names, uncomment\n",
    "    '''\n",
    "    prefixes = input('time column prefixes?')\n",
    "    table_info[name]['config_options']['prefixes'] = [pfx.strip() for pfx in prefixes.split(',')]\n",
    "    '''\n",
    "\n",
    "    ## To determine whether value column prefixes should be added as a new column, uncomment\n",
    "    '''\n",
    "    add_indicator_column = input('Add prefix as indicator? type anything for True, leave blank for False')\n",
    "    if add_indicator_column != '':\n",
    "        table_info[name]['config_options']['add_ind'] = True\n",
    "    else:\n",
    "        table_info[name]['config_options']['add_ind'] = False\n",
    "    '''\n",
    "\n",
    "    ## To determine whether the value column names have a _ after the prefix, uncomment\n",
    "    '''\n",
    "    _included = input('Is there a _ after the prefix? type anything for True, leave blank for False')\n",
    "    if _included != '':\n",
    "        table_info[name]['config_options']['_incl'] = True\n",
    "    else:\n",
    "        table_info[name]['config_options']['_incl'] = False\n",
    "    '''\n",
    "\n",
    "    ## To determine country identifying info column, uncomment\n",
    "    '''\n",
    "    country_code = input('country code column? leave blank if needs country code added')\n",
    "    if country_code != '':\n",
    "        table_info[name]['config_options']['country_code'] = country_code\n",
    "    else:\n",
    "        table_info[name]['config_options']['country_code'] = False\n",
    "\n",
    "    country_name = input('country name column? leave blank if needs country name added')\n",
    "    if country_name != '':\n",
    "        table_info[name]['config_options']['country_name'] = country_name\n",
    "    else:\n",
    "        table_info[name]['config_options']['country_name'] = False\n",
    "    '''\n",
    "    "
   ]
  },
  {
   "cell_type": "code",
   "execution_count": 26,
   "metadata": {
    "collapsed": false
   },
   "outputs": [],
   "source": [
    "long_form_these=[]\n",
    "for info in table_info.values():\n",
    "    if 'config_options' in info:\n",
    "        if 'prefixes' in info['config_options']:\n",
    "            if info['config_options']['prefixes']!=['already long']:\n",
    "                long_form_these.append(info)"
   ]
  },
  {
   "cell_type": "code",
   "execution_count": null,
   "metadata": {
    "collapsed": true
   },
   "outputs": [],
   "source": [
    "geolocated_these=table_info.values():"
   ]
  },
  {
   "cell_type": "markdown",
   "metadata": {},
   "source": [
    "Now we know what we're working with, we can get to work!"
   ]
  },
  {
   "cell_type": "code",
   "execution_count": 159,
   "metadata": {
    "collapsed": true
   },
   "outputs": [
    {
     "data": {
      "text/plain": [
       "{'%20soc_023_fragile_states_index': {'error': '* Problem fetching %20soc_023_fragile_states_index from Carto server *'},\n",
       " 'cit_022_road_traffic_deaths_by_country': {'config_options': {'_incl': True,\n",
       "   'add_ind': True,\n",
       "   'country_code': False,\n",
       "   'country_name': 'country',\n",
       "   'id_cols': ['country'],\n",
       "   'prefixes': ['estimated_number_of_road_traffic_deaths']}},\n",
       " 'cit_025_urban_population': {'config_options': {'_incl': True,\n",
       "   'add_ind': False,\n",
       "   'country_code': 'country_code',\n",
       "   'country_name': 'country_name',\n",
       "   'id_cols': ['country_code',\n",
       "    'country_name',\n",
       "    'indicator_code',\n",
       "    'indicator_name'],\n",
       "   'prefixes': ['yr']}},\n",
       " 'cit_028_percent_urban_slums_edit': {'config_options': {'_incl': True,\n",
       "   'add_ind': False,\n",
       "   'country_code': 'country_code',\n",
       "   'country_name': 'country_name',\n",
       "   'id_cols': ['country_code',\n",
       "    'country_name',\n",
       "    'indicator_code',\n",
       "    'indicator_name'],\n",
       "   'prefixes': ['yr']}},\n",
       " 'cit_029_municipal_waste': {'config_options': {'_incl': True,\n",
       "   'add_ind': False,\n",
       "   'country_code': False,\n",
       "   'country_name': 'country',\n",
       "   'id_cols': ['_2012_2015_avg', 'country'],\n",
       "   'prefixes': ['yr']}},\n",
       " 'cli_007_greenhouse_gas_emissions_projections': {'config_options': {'_incl': False,\n",
       "   'add_ind': False,\n",
       "   'prefixes': ['already long']}},\n",
       " 'cli_008_greenhouse_gas_emissions_country_sector': {'config_options': {'_incl': False,\n",
       "   'add_ind': False,\n",
       "   'prefixes': ['already long']}},\n",
       " 'cli_029_vulnerability_to_cc': {'config_options': {'_incl': True,\n",
       "   'add_ind': True,\n",
       "   'country_code': False,\n",
       "   'country_name': 'country',\n",
       "   'id_cols': ['country'],\n",
       "   'prefixes': ['gain', 'readiness', 'vulnerability']}},\n",
       " 'com_006_national_current_accounts_edit': {'config_options': {'_incl': True,\n",
       "   'add_ind': False,\n",
       "   'country_code': 'country_code',\n",
       "   'country_name': 'country_name',\n",
       "   'id_cols': ['country_code',\n",
       "    'country_name',\n",
       "    'indicator_code',\n",
       "    'indicator_name'],\n",
       "   'prefixes': ['yr']}},\n",
       " 'com_007_fdi_index': {'config_options': {'_incl': False,\n",
       "   'add_ind': False,\n",
       "   'prefixes': ['already long']}},\n",
       " 'com_009_1_material_flows_main': {'config_options': {'_incl': False,\n",
       "   'add_ind': False,\n",
       "   'prefixes': ['already long']}},\n",
       " 'com_010_gdp_ppp_usd': {'config_options': {'_incl': True,\n",
       "   'add_ind': False,\n",
       "   'country_code': 'country_code',\n",
       "   'country_name': 'country_name',\n",
       "   'id_cols': ['country_code',\n",
       "    'country_name',\n",
       "    'indicator_code',\n",
       "    'indicator_name'],\n",
       "   'prefixes': ['yr']}},\n",
       " 'com_015_recycling_rates': {'config_options': {'_incl': True,\n",
       "   'add_ind': False,\n",
       "   'country_code': False,\n",
       "   'country_name': 'country',\n",
       "   'id_cols': ['_2012_2015_avg', 'country'],\n",
       "   'prefixes': ['yr']}},\n",
       " 'com_019_ecological_footprint_edit': {'config_options': {'_incl': False,\n",
       "   'add_ind': False,\n",
       "   'prefixes': ['already long']}},\n",
       " 'com_028_effect_of_ag_prices_on_commodity_prices': {'config_options': {'_incl': False,\n",
       "   'add_ind': False,\n",
       "   'prefixes': ['already long']}},\n",
       " 'country_aliases': {'config_options': {'country_code': 'iso',\n",
       "   'country_name': 'alias',\n",
       "   'id_cols': ['']}},\n",
       " 'ene_012_electricity_access': {'config_options': {'_incl': True,\n",
       "   'add_ind': True,\n",
       "   'country_code': 'country_code',\n",
       "   'country_name': 'country_name',\n",
       "   'id_cols': ['country_code', 'country_name'],\n",
       "   'prefixes': ['urban', 'rural', 'total']}},\n",
       " 'ene_017_energy_facility_emissions_edit': {'config_options': {'_incl': False,\n",
       "   'add_ind': False,\n",
       "   'prefixes': ['already long']}},\n",
       " 'ene_021_se4all_country_indicators': {'config_options': {'_incl': True,\n",
       "   'add_ind': False,\n",
       "   'country_code': 'country_code',\n",
       "   'country_name': 'country_name',\n",
       "   'id_cols': ['country_code',\n",
       "    'country_name',\n",
       "    'indicator_code',\n",
       "    'indicator_name'],\n",
       "   'prefixes': ['yr']}},\n",
       " 'ene_022_se4all_tracking_goals': {'config_options': {'_incl': False,\n",
       "   'add_ind': False,\n",
       "   'prefixes': ['--']}},\n",
       " 'ene_028_access_clean_cooking_fuels': {'config_options': {'_incl': True,\n",
       "   'add_ind': False,\n",
       "   'country_code': 'country_code',\n",
       "   'country_name': 'country_name',\n",
       "   'id_cols': ['country_code', 'country_name', 'series_code', 'series_name'],\n",
       "   'prefixes': ['yr']}},\n",
       " 'foo_006_effects_climate_change_food_production': {'config_options': {'_incl': False,\n",
       "   'add_ind': True,\n",
       "   'prefixes': ['--']}},\n",
       " 'foo_015_global_hunger_index': {'config_options': {'_incl': True,\n",
       "   'add_ind': False,\n",
       "   'country_code': False,\n",
       "   'country_name': 'country',\n",
       "   'id_cols': ['country'],\n",
       "   'prefixes': ['ghi']}},\n",
       " 'foo_019_child_malnutrition_edit': {'config_options': {'_incl': False,\n",
       "   'add_ind': False,\n",
       "   'prefixes': ['already long']}},\n",
       " 'foo_040_fisheries_vuln_climat': {'config_options': {'_incl': True,\n",
       "   'add_ind': True,\n",
       "   'country_code': False,\n",
       "   'country_name': 'country_territory',\n",
       "   'id_cols': ['country_territory', 'field_8'],\n",
       "   'prefixes': ['rcp26', 'rcp45', 'rcp85']}},\n",
       " 'foo_041_agricultural_emissions': {'config_options': {'_incl': False,\n",
       "   'add_ind': False,\n",
       "   'prefixes': ['already long']}},\n",
       " 'foo_042_agricultural_production_value': {'config_options': {'_incl': False,\n",
       "   'add_ind': False,\n",
       "   'prefixes': ['already long']}},\n",
       " 'foo_43_agriculture_value_added': {'config_options': {'_incl': True,\n",
       "   'add_ind': False,\n",
       "   'country_code': 'country_code',\n",
       "   'country_name': 'country_name',\n",
       "   'id_cols': ['country_code',\n",
       "    'country_name',\n",
       "    'indicator_code',\n",
       "    'indicator_name'],\n",
       "   'prefixes': ['yr']}},\n",
       " 'for_021_certified_forest_edit': {'config_options': {'_incl': False,\n",
       "   'add_ind': False,\n",
       "   'prefixes': ['already long']}},\n",
       " 'geometry': {'config_options': {'country_code': 'iso_a3',\n",
       "   'country_name': 'name',\n",
       "   'id_cols': ['']}},\n",
       " 'soc_004_human_development_index': {'config_options': {'country_code': False,\n",
       "   'country_name': 'country',\n",
       "   'id_cols': ['country']}},\n",
       " 'soc_005_political_rights_civil_liberties_index': {'config_options': {'_incl': False,\n",
       "   'add_ind': False,\n",
       "   'prefixes': ['already long']}},\n",
       " 'soc_006_multidimensional_poverty_index': {'config_options': {'_incl': True,\n",
       "   'add_ind': False,\n",
       "   'country_code': False,\n",
       "   'country_name': 'country',\n",
       "   'id_cols': ['country', 'latest'],\n",
       "   'prefixes': ['yr']}},\n",
       " 'soc_008_gdp_per_capita_edit': {'config_options': {'_incl': True,\n",
       "   'add_ind': False,\n",
       "   'country_code': 'country_code',\n",
       "   'country_name': 'country_name',\n",
       "   'id_cols': ['country_code',\n",
       "    'country_name',\n",
       "    'indicator_code',\n",
       "    'indicator_name'],\n",
       "   'prefixes': ['yr']}},\n",
       " 'soc_015_adult_literacy_rate': {'config_options': {'_incl': True,\n",
       "   'add_ind': True,\n",
       "   'country_code': 'country_code',\n",
       "   'country_name': 'country_name',\n",
       "   'id_cols': ['indicator_code',\n",
       "    'indicator_name',\n",
       "    'country_code',\n",
       "    'country_name'],\n",
       "   'prefixes': ['yr', 'male', 'female']}},\n",
       " 'soc_020_gini': {'config_options': {'_incl': True,\n",
       "   'add_ind': False,\n",
       "   'country_code': 'country_code',\n",
       "   'country_name': 'country_name',\n",
       "   'id_cols': ['indicator_code',\n",
       "    'indicator_name',\n",
       "    'country_code',\n",
       "    'country_name'],\n",
       "   'prefixes': ['yr']}},\n",
       " 'soc_025_gender_inequality_index': {'config_options': {'_incl': True,\n",
       "   'add_ind': False,\n",
       "   'country_code': False,\n",
       "   'country_name': 'country',\n",
       "   'id_cols': ['country'],\n",
       "   'prefixes': ['yr']}},\n",
       " 'soc_029_worldwide_governance_indicators': {'config_options': {'_incl': True,\n",
       "   'add_ind': True,\n",
       "   'country_code': 'wbcode',\n",
       "   'country_name': 'country_territory',\n",
       "   'id_cols': ['country_territory', 'wbcode'],\n",
       "   'prefixes': ['control_of_corruption',\n",
       "    'government_effectiveness',\n",
       "    'political_stability',\n",
       "    'regulatory_quality',\n",
       "    'rule_of_law',\n",
       "    'voice_accountability']}},\n",
       " 'soc_035_land_deals': {'config_options': {'_incl': False,\n",
       "   'add_ind': False,\n",
       "   'prefixes': ['already long']}},\n",
       " 'soc_036_life_expectancy_at_birth': {'config_options': {'_incl': True,\n",
       "   'add_ind': False,\n",
       "   'country_code': 'country_code',\n",
       "   'country_name': 'country_name',\n",
       "   'id_cols': ['indicator_code',\n",
       "    'indicator_name',\n",
       "    'country_code',\n",
       "    'country_name'],\n",
       "   'prefixes': ['yr']}},\n",
       " 'soc_039_out_of_school_rate_edit': {'config_options': {'_incl': True,\n",
       "   'add_ind': False,\n",
       "   'country_code': False,\n",
       "   'country_name': 'country',\n",
       "   'id_cols': ['country'],\n",
       "   'prefixes': ['yr']}},\n",
       " 'soc_040_improved_sanitation': {'config_options': {'_incl': True,\n",
       "   'add_ind': True,\n",
       "   'country_code': 'country_code',\n",
       "   'country_name': 'country_name',\n",
       "   'id_cols': ['country_code', 'country_name'],\n",
       "   'prefixes': ['rural', 'urban', 'total']}},\n",
       " 'soc_062_internal_displacement_conflict_and_natural_disaster': {'config_options': {'_incl': False,\n",
       "   'add_ind': False,\n",
       "   'prefixes': ['already long']}},\n",
       " 'wat_005_improved_water_access': {'config_options': {'_incl': True,\n",
       "   'add_ind': True,\n",
       "   'country_code': 'country_code',\n",
       "   'country_name': 'country_name',\n",
       "   'id_cols': ['country_code', 'country_name'],\n",
       "   'prefixes': ['urban', 'rural', 'total']}}}"
      ]
     },
     "execution_count": 159,
     "metadata": {},
     "output_type": "execute_result"
    }
   ],
   "source": [
    "## Save this info for working with later\n",
    "json.dump(table_info, open('./table_info.json', 'w'))\n",
    "table_info = json.load(open('./table_info.json', 'r'))\n",
    "table_info"
   ]
  },
  {
   "cell_type": "code",
   "execution_count": 68,
   "metadata": {
    "collapsed": true
   },
   "outputs": [],
   "source": [
    "# Use known prefixes to reformat tables\n",
    "def pick_value_col(col, pfx, use_):\n",
    "    if use_:\n",
    "        if pfx+'_' in col:\n",
    "            return True\n",
    "        else:\n",
    "            return False\n",
    "    else:\n",
    "        if pfx in col:\n",
    "            return True:\n",
    "        else:\n",
    "            return False\n",
    "\n",
    "def prepare_date(date, pfx, use_):\n",
    "    if use_:\n",
    "        return date[date.index(pfx) + len(pfx) + 1:]\n",
    "    else:\n",
    "        return date[date.index(pfx) + len(pfx):]"
   ]
  },
  {
   "cell_type": "code",
   "execution_count": 155,
   "metadata": {
    "collapsed": false
   },
   "outputs": [
    {
     "name": "stderr",
     "output_type": "stream",
     "text": [
      "INFO:root:processing cit_022_road_traffic_deaths_by_country\n",
      "INFO:root:options:\n",
      "INFO:root:{'_incl': True, 'add_ind': True, 'prefixes': ['estimated_number_of_road_traffic_deaths'], 'country_code': False, 'country_name': 'country', 'id_cols': ['country']}\n",
      "INFO:root:initial shape: (179, 5)\n",
      "INFO:root:\n",
      "INFO:root:final shape of cit_022_road_traffic_deaths_by_country: (179, 3)\n",
      "INFO:root:final columns: Index(['country', 'variable', 'estimated_number_of_road_traffic_deaths_data'], dtype='object')\n",
      "INFO:root:processing cit_025_urban_population\n",
      "INFO:root:options:\n",
      "INFO:root:{'_incl': True, 'add_ind': False, 'prefixes': ['yr'], 'country_code': 'country_code', 'country_name': 'country_name', 'id_cols': ['country_code', 'country_name', 'indicator_code', 'indicator_name']}\n",
      "INFO:root:initial shape: (218, 63)\n",
      "INFO:root:\n",
      "INFO:root:final shape of cit_025_urban_population: (12426, 6)\n",
      "INFO:root:processing cit_028_percent_urban_slums_edit\n",
      "INFO:root:options:\n",
      "INFO:root:{'_incl': True, 'add_ind': False, 'prefixes': ['yr'], 'country_code': 'country_code', 'country_name': 'country_name', 'id_cols': ['country_code', 'country_name', 'indicator_code', 'indicator_name']}\n",
      "INFO:root:initial shape: (218, 63)\n",
      "INFO:root:\n",
      "INFO:root:final shape of cit_028_percent_urban_slums_edit: (12426, 6)\n",
      "INFO:root:processing cit_029_municipal_waste\n",
      "INFO:root:options:\n",
      "INFO:root:{'_incl': True, 'add_ind': False, 'prefixes': ['yr'], 'country_code': False, 'country_name': 'country', 'id_cols': ['_2012_2015_avg', 'country']}\n",
      "INFO:root:initial shape: (34, 29)\n",
      "INFO:root:\n",
      "INFO:root:final shape of cit_029_municipal_waste: (884, 4)\n",
      "INFO:root:processing com_006_national_current_accounts_edit\n",
      "INFO:root:options:\n",
      "INFO:root:{'_incl': True, 'add_ind': False, 'prefixes': ['yr'], 'country_code': 'country_code', 'country_name': 'country_name', 'id_cols': ['country_code', 'country_name', 'indicator_code', 'indicator_name']}\n",
      "INFO:root:initial shape: (217, 63)\n",
      "INFO:root:\n",
      "INFO:root:final shape of com_006_national_current_accounts_edit: (12369, 6)\n",
      "INFO:root:processing com_010_gdp_ppp_usd\n",
      "INFO:root:options:\n",
      "INFO:root:{'_incl': True, 'add_ind': False, 'prefixes': ['yr'], 'country_code': 'country_code', 'country_name': 'country_name', 'id_cols': ['country_code', 'country_name', 'indicator_code', 'indicator_name']}\n",
      "INFO:root:initial shape: (218, 33)\n",
      "INFO:root:\n",
      "INFO:root:final shape of com_010_gdp_ppp_usd: (5886, 6)\n",
      "INFO:root:processing com_015_recycling_rates\n",
      "INFO:root:options:\n",
      "INFO:root:{'_incl': True, 'add_ind': False, 'prefixes': ['yr'], 'country_code': False, 'country_name': 'country', 'id_cols': ['_2012_2015_avg', 'country']}\n",
      "INFO:root:initial shape: (33, 30)\n",
      "INFO:root:\n",
      "INFO:root:final shape of com_015_recycling_rates: (858, 4)\n",
      "INFO:root:processing ene_012_electricity_access\n",
      "INFO:root:options:\n",
      "INFO:root:{'_incl': True, 'add_ind': True, 'prefixes': ['urban', 'rural', 'total'], 'country_code': 'country_code', 'country_name': 'country_name', 'id_cols': ['country_code', 'country_name']}\n",
      "INFO:root:initial shape: (264, 79)\n",
      "INFO:root:\n",
      "INFO:root:final shape of ene_012_electricity_access: (6600, 6)\n",
      "INFO:root:final columns: Index(['country_code', 'country_name', 'variable', 'urban_data', 'rural_data',\n",
      "       'total_data'],\n",
      "      dtype='object')\n",
      "INFO:root:processing ene_021_se4all_country_indicators\n",
      "INFO:root:options:\n",
      "INFO:root:{'_incl': True, 'add_ind': False, 'prefixes': ['yr'], 'country_code': 'country_code', 'country_name': 'country_name', 'id_cols': ['country_code', 'country_name', 'indicator_code', 'indicator_name']}\n",
      "INFO:root:initial shape: (227, 27)\n",
      "INFO:root:\n",
      "INFO:root:final shape of ene_021_se4all_country_indicators: (4767, 6)\n",
      "INFO:root:processing ene_028_access_clean_cooking_fuels\n",
      "INFO:root:options:\n",
      "INFO:root:{'_incl': True, 'add_ind': False, 'prefixes': ['yr'], 'country_code': 'country_code', 'country_name': 'country_name', 'id_cols': ['country_code', 'country_name', 'series_code', 'series_name']}\n",
      "INFO:root:initial shape: (217, 15)\n",
      "INFO:root:\n",
      "INFO:root:final shape of ene_028_access_clean_cooking_fuels: (1953, 6)\n",
      "INFO:root:processing foo_015_global_hunger_index\n",
      "INFO:root:options:\n",
      "INFO:root:{'_incl': True, 'add_ind': False, 'prefixes': ['ghi'], 'country_code': False, 'country_name': 'country', 'id_cols': ['country']}\n",
      "INFO:root:initial shape: (132, 7)\n",
      "INFO:root:\n",
      "INFO:root:final shape of foo_015_global_hunger_index: (528, 3)\n",
      "INFO:root:processing foo_040_fisheries_vuln_climat\n",
      "INFO:root:options:\n",
      "INFO:root:{'_incl': True, 'add_ind': True, 'prefixes': ['rcp26', 'rcp45', 'rcp85'], 'country_code': False, 'country_name': 'country_territory', 'id_cols': ['country_territory', 'field_8']}\n",
      "INFO:root:initial shape: (147, 10)\n",
      "INFO:root:\n",
      "INFO:root:final shape of foo_040_fisheries_vuln_climat: (294, 6)\n",
      "INFO:root:final columns: Index(['country_territory', 'field_8', 'variable', 'rcp26_data', 'rcp45_data',\n",
      "       'rcp85_data'],\n",
      "      dtype='object')\n",
      "INFO:root:processing foo_43_agriculture_value_added\n",
      "INFO:root:options:\n",
      "INFO:root:{'_incl': True, 'add_ind': False, 'prefixes': ['yr'], 'country_code': 'country_code', 'country_name': 'country_name', 'id_cols': ['country_code', 'country_name', 'indicator_code', 'indicator_name']}\n",
      "INFO:root:initial shape: (218, 63)\n",
      "INFO:root:\n",
      "INFO:root:final shape of foo_43_agriculture_value_added: (12426, 6)\n",
      "INFO:root:processing soc_006_multidimensional_poverty_index\n",
      "INFO:root:options:\n",
      "INFO:root:{'_incl': True, 'add_ind': False, 'prefixes': ['yr'], 'country_code': False, 'country_name': 'country', 'id_cols': ['country', 'latest']}\n",
      "INFO:root:initial shape: (102, 16)\n",
      "INFO:root:\n",
      "INFO:root:final shape of soc_006_multidimensional_poverty_index: (1122, 4)\n",
      "INFO:root:processing soc_008_gdp_per_capita_edit\n",
      "INFO:root:options:\n",
      "INFO:root:{'_incl': True, 'add_ind': False, 'prefixes': ['yr'], 'country_code': 'country_code', 'country_name': 'country_name', 'id_cols': ['country_code', 'country_name', 'indicator_code', 'indicator_name']}\n",
      "INFO:root:initial shape: (218, 33)\n",
      "INFO:root:\n",
      "INFO:root:final shape of soc_008_gdp_per_capita_edit: (5886, 6)\n",
      "INFO:root:processing soc_015_adult_literacy_rate\n",
      "INFO:root:options:\n",
      "INFO:root:{'_incl': True, 'add_ind': True, 'prefixes': ['yr', 'male', 'female'], 'country_code': 'country_code', 'country_name': 'country_name', 'id_cols': ['indicator_code', 'indicator_name', 'country_code', 'country_name']}\n",
      "INFO:root:initial shape: (264, 88)\n",
      "INFO:root:\n",
      "INFO:root:final shape of soc_015_adult_literacy_rate: (12408, 8)\n",
      "INFO:root:final columns: Index(['indicator_code', 'indicator_name', 'country_code', 'country_name',\n",
      "       'variable', 'yr_data', 'male_data', 'female_data'],\n",
      "      dtype='object')\n",
      "INFO:root:processing soc_020_gini\n",
      "INFO:root:options:\n",
      "INFO:root:{'_incl': True, 'add_ind': False, 'prefixes': ['yr'], 'country_code': 'country_code', 'country_name': 'country_name', 'id_cols': ['indicator_code', 'indicator_name', 'country_code', 'country_name']}\n",
      "INFO:root:initial shape: (218, 64)\n",
      "INFO:root:\n",
      "INFO:root:final shape of soc_020_gini: (12426, 6)\n",
      "INFO:root:processing soc_025_gender_inequality_index\n",
      "INFO:root:options:\n",
      "INFO:root:{'_incl': True, 'add_ind': False, 'prefixes': ['yr'], 'country_code': False, 'country_name': 'country', 'id_cols': ['country']}\n",
      "INFO:root:initial shape: (160, 13)\n",
      "INFO:root:\n",
      "INFO:root:final shape of soc_025_gender_inequality_index: (1440, 3)\n",
      "INFO:root:processing soc_029_worldwide_governance_indicators\n",
      "INFO:root:options:\n",
      "INFO:root:{'_incl': True, 'add_ind': True, 'prefixes': ['control_of_corruption', 'government_effectiveness', 'political_stability', 'regulatory_quality', 'rule_of_law', 'voice_accountability'], 'country_code': 'wbcode', 'country_name': 'country_territory', 'id_cols': ['country_territory', 'wbcode']}\n",
      "INFO:root:initial shape: (214, 10)\n",
      "INFO:root:\n",
      "INFO:root:final shape of soc_029_worldwide_governance_indicators: (214, 9)\n",
      "INFO:root:final columns: Index(['country_territory', 'wbcode', 'variable', 'control_of_corruption_data',\n",
      "       'government_effectiveness_data', 'political_stability_data',\n",
      "       'regulatory_quality_data', 'rule_of_law_data',\n",
      "       'voice_accountability_data'],\n",
      "      dtype='object')\n",
      "INFO:root:processing soc_036_life_expectancy_at_birth\n",
      "INFO:root:options:\n",
      "INFO:root:{'_incl': True, 'add_ind': False, 'prefixes': ['yr'], 'country_code': 'country_code', 'country_name': 'country_name', 'id_cols': ['indicator_code', 'indicator_name', 'country_code', 'country_name']}\n",
      "INFO:root:initial shape: (218, 63)\n",
      "INFO:root:\n",
      "INFO:root:final shape of soc_036_life_expectancy_at_birth: (12426, 6)\n",
      "INFO:root:processing soc_039_out_of_school_rate_edit\n",
      "INFO:root:options:\n",
      "INFO:root:{'_incl': True, 'add_ind': False, 'prefixes': ['yr'], 'country_code': False, 'country_name': 'country', 'id_cols': ['country']}\n",
      "INFO:root:initial shape: (239, 20)\n",
      "INFO:root:\n",
      "INFO:root:final shape of soc_039_out_of_school_rate_edit: (4302, 3)\n",
      "INFO:root:processing soc_040_improved_sanitation\n",
      "INFO:root:options:\n",
      "INFO:root:{'_incl': True, 'add_ind': True, 'prefixes': ['rural', 'urban', 'total'], 'country_code': 'country_code', 'country_name': 'country_name', 'id_cols': ['country_code', 'country_name']}\n",
      "INFO:root:initial shape: (218, 82)\n",
      "INFO:root:\n",
      "INFO:root:final shape of soc_040_improved_sanitation: (5668, 6)\n",
      "INFO:root:final columns: Index(['country_code', 'country_name', 'variable', 'rural_data', 'urban_data',\n",
      "       'total_data'],\n",
      "      dtype='object')\n",
      "INFO:root:processing wat_005_improved_water_access\n",
      "INFO:root:options:\n",
      "INFO:root:{'_incl': True, 'add_ind': True, 'prefixes': ['urban', 'rural', 'total'], 'country_code': 'country_code', 'country_name': 'country_name', 'id_cols': ['country_code', 'country_name']}\n",
      "INFO:root:initial shape: (216, 82)\n",
      "INFO:root:\n",
      "INFO:root:final shape of wat_005_improved_water_access: (5616, 6)\n",
      "INFO:root:final columns: Index(['country_code', 'country_name', 'variable', 'urban_data', 'rural_data',\n",
      "       'total_data'],\n",
      "      dtype='object')\n",
      "INFO:root:processing cli_029_vulnerability_to_cc\n",
      "INFO:root:options:\n",
      "INFO:root:{'_incl': True, 'add_ind': True, 'prefixes': ['gain', 'readiness', 'vulnerability'], 'country_code': False, 'country_name': 'country', 'id_cols': ['country']}\n",
      "INFO:root:initial shape: (192, 67)\n",
      "INFO:root:\n",
      "INFO:root:final shape of cli_029_vulnerability_to_cc: (4032, 5)\n",
      "INFO:root:final columns: Index(['country', 'variable', 'gain_data', 'readiness_data',\n",
      "       'vulnerability_data'],\n",
      "      dtype='object')\n"
     ]
    }
   ],
   "source": [
    "for name, info in tables.items():\n",
    "    if not table_info[name]['config_options'].get('prefixes', False):\n",
    "        continue\n",
    "    if table_info[name]['config_options']['prefixes'][0] in ['already long']:\n",
    "        logging.info('skipping ' + name + ', already in long form')\n",
    "        continue\n",
    "    if table_info[name]['config_options']['prefixes'][0] in ['--']:\n",
    "        logging.info('skipping ' + name + ', requires more manual approach')\n",
    "        continue\n",
    "\n",
    "    logging.info('processing ' + name)\n",
    "    logging.info('options:')\n",
    "    logging.info(table_info[name]['config_options'])\n",
    "    \n",
    "    prefixes = table_info[name]['config_options'].get('prefixes', [])\n",
    "    id_cols = table_info[name]['config_options'].get('id_cols', [])\n",
    "    use_ = table_info[name]['config_options'].get('_incl', False)\n",
    "    add_ind = table_info[name]['config_options'].get('add_ind', False)\n",
    "\n",
    "    logging.info('initial shape: ' + str(info['data'].shape))\n",
    "    logging.info('')\n",
    "    \n",
    "    df = pd.DataFrame(columns = id_cols + ['variable'])\n",
    "    \n",
    "    for pfx in prefixes:\n",
    "\n",
    "        value_cols = [col for col in info['data'].columns if pick_value_col(col, pfx, use_)]\n",
    "\n",
    "        _df = pd.melt(info['data'], id_vars=id_cols, value_vars=value_cols)\n",
    "        _df['variable'] = [prepare_date(date, pfx, use_) for date in _df['variable']]\n",
    "\n",
    "        col_names = [pfx+'_data' if col=='value' else col for col in _df.columns]\n",
    "        _df.columns = col_names\n",
    "\n",
    "        df = df.merge(_df, on=id_cols  + ['variable'], how='outer')\n",
    "\n",
    "    logging.info('final shape of ' + name + ': ' + str(df.shape))\n",
    "    logging.info('final columns: ' + str(df.columns))\n",
    "\n",
    "    new_cols = ['datetime' if col=='variable' else col for col in df.columns]\n",
    "    df.columns = new_cols\n",
    "    \n",
    "    tables[name]['long_data'] = df"
   ]
  },
  {
   "cell_type": "markdown",
   "metadata": {},
   "source": [
    "SUCCESS!"
   ]
  },
  {
   "cell_type": "code",
   "execution_count": null,
   "metadata": {
    "collapsed": true
   },
   "outputs": [],
   "source": []
  },
  {
   "cell_type": "markdown",
   "metadata": {},
   "source": [
    "Inputs"
   ]
  },
  {
   "cell_type": "code",
   "execution_count": null,
   "metadata": {
    "collapsed": true
   },
   "outputs": [],
   "source": [
    "datasets_to_georeference = []\n",
    "aliases_to_add = []"
   ]
  },
  {
   "cell_type": "markdown",
   "metadata": {},
   "source": [
    "Results"
   ]
  },
  {
   "cell_type": "code",
   "execution_count": null,
   "metadata": {
    "collapsed": true
   },
   "outputs": [],
   "source": [
    "georeferenced_datasets = []\n",
    "unknown_countries = []\n",
    "unknown_isos = []\n",
    "added_aliases = []"
   ]
  },
  {
   "cell_type": "markdown",
   "metadata": {},
   "source": [
    "Start Georeferencing"
   ]
  },
  {
   "cell_type": "markdown",
   "metadata": {},
   "source": [
    "Explore geometries and aliasing table"
   ]
  },
  {
   "cell_type": "code",
   "execution_count": 208,
   "metadata": {
    "collapsed": false
   },
   "outputs": [
    {
     "data": {
      "text/html": [
       "<div>\n",
       "<style>\n",
       "    .dataframe thead tr:only-child th {\n",
       "        text-align: right;\n",
       "    }\n",
       "\n",
       "    .dataframe thead th {\n",
       "        text-align: left;\n",
       "    }\n",
       "\n",
       "    .dataframe tbody tr th {\n",
       "        vertical-align: top;\n",
       "    }\n",
       "</style>\n",
       "<table border=\"1\" class=\"dataframe\">\n",
       "  <thead>\n",
       "    <tr style=\"text-align: right;\">\n",
       "      <th></th>\n",
       "      <th>_primary</th>\n",
       "      <th>abbrev</th>\n",
       "      <th>adm0_a3</th>\n",
       "      <th>continent</th>\n",
       "      <th>formal_nam</th>\n",
       "      <th>iso_a2</th>\n",
       "      <th>iso_a3</th>\n",
       "      <th>iso_n3</th>\n",
       "      <th>iso_short</th>\n",
       "      <th>name</th>\n",
       "      <th>name_sort</th>\n",
       "      <th>postal</th>\n",
       "      <th>short_name</th>\n",
       "      <th>sov_a3</th>\n",
       "      <th>sovereign</th>\n",
       "      <th>the_geom</th>\n",
       "      <th>type</th>\n",
       "      <th>un_ar</th>\n",
       "      <th>un_en</th>\n",
       "      <th>un_es</th>\n",
       "      <th>un_fr</th>\n",
       "      <th>un_n3</th>\n",
       "      <th>un_region</th>\n",
       "      <th>un_ru</th>\n",
       "      <th>un_subregi</th>\n",
       "      <th>un_zh</th>\n",
       "      <th>wb_a2</th>\n",
       "      <th>wb_a3</th>\n",
       "      <th>wb_region</th>\n",
       "    </tr>\n",
       "    <tr>\n",
       "      <th>cartodb_id</th>\n",
       "      <th></th>\n",
       "      <th></th>\n",
       "      <th></th>\n",
       "      <th></th>\n",
       "      <th></th>\n",
       "      <th></th>\n",
       "      <th></th>\n",
       "      <th></th>\n",
       "      <th></th>\n",
       "      <th></th>\n",
       "      <th></th>\n",
       "      <th></th>\n",
       "      <th></th>\n",
       "      <th></th>\n",
       "      <th></th>\n",
       "      <th></th>\n",
       "      <th></th>\n",
       "      <th></th>\n",
       "      <th></th>\n",
       "      <th></th>\n",
       "      <th></th>\n",
       "      <th></th>\n",
       "      <th></th>\n",
       "      <th></th>\n",
       "      <th></th>\n",
       "      <th></th>\n",
       "      <th></th>\n",
       "      <th></th>\n",
       "      <th></th>\n",
       "    </tr>\n",
       "  </thead>\n",
       "  <tbody>\n",
       "    <tr>\n",
       "      <th>52</th>\n",
       "      <td>1</td>\n",
       "      <td>Egypt</td>\n",
       "      <td>EGY</td>\n",
       "      <td>Africa</td>\n",
       "      <td>Arab Republic of Egypt</td>\n",
       "      <td>EG</td>\n",
       "      <td>EGY</td>\n",
       "      <td>818</td>\n",
       "      <td>Egypt</td>\n",
       "      <td>Egypt</td>\n",
       "      <td>Egypt, Arab Rep.</td>\n",
       "      <td>EG</td>\n",
       "      <td>Egypt</td>\n",
       "      <td>EGY</td>\n",
       "      <td>Egypt</td>\n",
       "      <td>0106000020E6100000080000000103000000010000000A...</td>\n",
       "      <td>Sovereign country</td>\n",
       "      <td>رصم</td>\n",
       "      <td>Egypt</td>\n",
       "      <td>Egipto</td>\n",
       "      <td>Égypte (l') [fém.]</td>\n",
       "      <td>818</td>\n",
       "      <td>Africa</td>\n",
       "      <td>Египет</td>\n",
       "      <td>Northern Africa</td>\n",
       "      <td>埃及</td>\n",
       "      <td>EG</td>\n",
       "      <td>EGY</td>\n",
       "      <td>Middle East &amp; North Africa</td>\n",
       "    </tr>\n",
       "  </tbody>\n",
       "</table>\n",
       "</div>"
      ],
      "text/plain": [
       "            _primary abbrev adm0_a3 continent              formal_nam iso_a2  \\\n",
       "cartodb_id                                                                     \n",
       "52                 1  Egypt     EGY    Africa  Arab Republic of Egypt     EG   \n",
       "\n",
       "           iso_a3  iso_n3 iso_short   name         name_sort postal  \\\n",
       "cartodb_id                                                            \n",
       "52            EGY     818     Egypt  Egypt  Egypt, Arab Rep.     EG   \n",
       "\n",
       "           short_name sov_a3 sovereign  \\\n",
       "cartodb_id                               \n",
       "52              Egypt    EGY     Egypt   \n",
       "\n",
       "                                                     the_geom  \\\n",
       "cartodb_id                                                      \n",
       "52          0106000020E6100000080000000103000000010000000A...   \n",
       "\n",
       "                         type un_ar  un_en   un_es               un_fr  un_n3  \\\n",
       "cartodb_id                                                                      \n",
       "52          Sovereign country   رصم  Egypt  Egipto  Égypte (l') [fém.]    818   \n",
       "\n",
       "           un_region   un_ru       un_subregi un_zh wb_a2 wb_a3  \\\n",
       "cartodb_id                                                        \n",
       "52            Africa  Египет  Northern Africa    埃及    EG   EGY   \n",
       "\n",
       "                             wb_region  \n",
       "cartodb_id                              \n",
       "52          Middle East & North Africa  "
      ]
     },
     "execution_count": 208,
     "metadata": {},
     "output_type": "execute_result"
    }
   ],
   "source": [
    "tables['geometry']['data'].head(1)\n",
    "tables['geometry']['data'][tables['geometry']['data']['adm0_a3']=='MLI']"
   ]
  },
  {
   "cell_type": "code",
   "execution_count": 210,
   "metadata": {
    "collapsed": false
   },
   "outputs": [
    {
     "data": {
      "text/html": [
       "<div>\n",
       "<style>\n",
       "    .dataframe thead tr:only-child th {\n",
       "        text-align: right;\n",
       "    }\n",
       "\n",
       "    .dataframe thead th {\n",
       "        text-align: left;\n",
       "    }\n",
       "\n",
       "    .dataframe tbody tr th {\n",
       "        vertical-align: top;\n",
       "    }\n",
       "</style>\n",
       "<table border=\"1\" class=\"dataframe\">\n",
       "  <thead>\n",
       "    <tr style=\"text-align: right;\">\n",
       "      <th></th>\n",
       "      <th>alias</th>\n",
       "      <th>iso</th>\n",
       "      <th>name</th>\n",
       "      <th>the_geom</th>\n",
       "    </tr>\n",
       "    <tr>\n",
       "      <th>cartodb_id</th>\n",
       "      <th></th>\n",
       "      <th></th>\n",
       "      <th></th>\n",
       "      <th></th>\n",
       "    </tr>\n",
       "  </thead>\n",
       "  <tbody>\n",
       "    <tr>\n",
       "      <th>1</th>\n",
       "      <td>Korea North</td>\n",
       "      <td>PRK</td>\n",
       "      <td>North Korea</td>\n",
       "      <td>None</td>\n",
       "    </tr>\n",
       "  </tbody>\n",
       "</table>\n",
       "</div>"
      ],
      "text/plain": [
       "                  alias  iso         name the_geom\n",
       "cartodb_id                                        \n",
       "1           Korea North  PRK  North Korea     None"
      ]
     },
     "execution_count": 210,
     "metadata": {},
     "output_type": "execute_result"
    }
   ],
   "source": [
    "tables['country_aliases']['data'].head(1)\n",
    "tables['country_aliases']['data'][tables['country_aliases']['data']['alias']=='Madagascar']"
   ]
  },
  {
   "cell_type": "markdown",
   "metadata": {},
   "source": [
    "Prep work to get country alias table ready"
   ]
  },
  {
   "cell_type": "code",
   "execution_count": 278,
   "metadata": {
    "collapsed": false
   },
   "outputs": [],
   "source": [
    "\n",
    "###\n",
    "## Remove from microservice\n",
    "###\n",
    "\n",
    "df = tables['country_aliases']['data']\n",
    "try:\n",
    "    df = df.drop('the_geom', axis=1)\n",
    "except:\n",
    "    logging.info('could not delete column `the_geom`')\n",
    "\n",
    "## Adding all countries from our wri-bounds shapefile to the alias table\n",
    "\n",
    "new_aliases = tables['geometry']['data'][['adm0_a3', 'name']].copy()\n",
    "new_aliases['alias'] = new_aliases['name']\n",
    "\n",
    "cols = ['iso' if 'adm0_a3' in col for col in new_aliases.columns]\n",
    "cols = [col.strip() for col in cols]\n",
    "new_aliases.columns = cols\n",
    "\n",
    "df = df.append(new_aliases)\n",
    "\n",
    "\n",
    "\n",
    "# Add entries that were missed when below code was run, different only by capitalization and some spacing\n",
    "lower_aliases_df = df.copy()\n",
    "lower_aliases_df['alias'] = [alias.lower() for alias in df['alias']]\n",
    "df = df.append(lower_aliases_df)\n",
    "\n",
    "upper_aliases_df = df.copy()\n",
    "upper_aliases_df['alias'] = [alias.upper() for alias in df['alias']]\n",
    "df = df.append(upper_aliases_df)\n",
    "\n",
    "capitalized_aliases_df = df.copy()\n",
    "capitalized_aliases_df['alias'] = [alias.lower().title() for alias in df['alias']]\n",
    "df = df.append(capitalized_aliases_df)\n",
    "\n",
    "capitalized_stripped_aliases_df = df.copy()\n",
    "capitalized_stripped_aliases_df['alias'] = [alias.lower().title().replace(' ','') for alias in df['alias']]\n",
    "df = df.append(capitalized_stripped_aliases_df)\n",
    "\n",
    "\n",
    "\n",
    "## Adding in new aliases identified by Peter\n",
    "\n",
    "peters_new_aliases = pd.read_csv('aliases_for_longform.csv', header=1)\n",
    "peters_new_aliases.columns = ['alias', 'name', 'iso']\n",
    "\n",
    "df = df.append(peters_new_aliases)\n",
    "\n",
    "\n",
    "## check / remove duplicates\n",
    "sum(df.duplicated(subset=['alias']))\n",
    "sum(df.duplicated(subset=['name']))\n",
    "sum(df.duplicated(subset=['iso']))\n",
    "\n",
    "df = df[~df.duplicated()]\n",
    "    \n",
    "tables['country_aliases']['data'] = df\n",
    "\n",
    "logging.info('Size of current aliasing table: ' + str(tables['country_aliases']['data'].shape))"
   ]
  },
  {
   "cell_type": "code",
   "execution_count": null,
   "metadata": {
    "collapsed": true
   },
   "outputs": [],
   "source": []
  },
  {
   "cell_type": "code",
   "execution_count": 289,
   "metadata": {
    "collapsed": true
   },
   "outputs": [],
   "source": [
    "# Adding geometries to long data\n",
    "def merge_aliases_with_data(data, aliases, left_on='country', right_on='name'):\n",
    "    data = data.copy()\n",
    "    \n",
    "    # REMOVE POTENTIAL LEADING/TRAILING SPACES IN COUNTRY ID COLUMN THAT BREAK JOIN\n",
    "    data[left_on] = data[left_on].apply(lambda item: item.strip())\n",
    "    \n",
    "    \n",
    "    data_with_aliases = data.merge(aliases, \n",
    "                                     left_on = left_on,\n",
    "                                     right_on = right_on,\n",
    "                                     how='left')    \n",
    "    logging.debug('merged data:')\n",
    "    logging.debug(data_with_aliases.head(5))\n",
    "    null_aliases = pd.isnull(data_with_aliases[right_on])\n",
    "    \n",
    "    logging.debug('number null aliases')\n",
    "    logging.debug(sum(null_aliases))\n",
    "    logging.debug('--')\n",
    "    \n",
    "    return data_with_aliases, null_aliases\n",
    "\n",
    "'''\n",
    "def match_name_to_iso_through_alias(names, alias_info):\n",
    "    logging.info('matching parameters')\n",
    "    logging.info(names.head(5))\n",
    "    logging.info(aliases.head(5))\n",
    "    logging.info('--')\n",
    "    logging.info('--')\n",
    "\n",
    "    alias_indices = []\n",
    "    poss_aliases = list(aliases['alias'])\n",
    "    for name in names:\n",
    "        try:\n",
    "            alias_indices.append(poss_aliases.index(name))\n",
    "        except:\n",
    "            alias_indices.append('***')\n",
    " \n",
    "    isos = list(alias_info['iso'])\n",
    "    \n",
    "    matching_aliases = []\n",
    "    for index in alias_indices:\n",
    "        try:\n",
    "            matching_aliases.append(isos[index])\n",
    "        except:\n",
    "            matching_aliases.append('***')\n",
    "            \n",
    "    return matching_aliases\n",
    "'''"
   ]
  },
  {
   "cell_type": "code",
   "execution_count": 290,
   "metadata": {
    "collapsed": false
   },
   "outputs": [
    {
     "name": "stderr",
     "output_type": "stream",
     "text": [
      "INFO:root:merged data:\n",
      "INFO:root:      country       alias  iso        name the_geom\n",
      "0        Mali        Mali  MLI        Mali     None\n",
      "1        Mali        Mali  MLI        Mali      NaN\n",
      "2  Madagascar  Madagascar  MDG  Madagascar      NaN\n",
      "3    Malaysia    Malaysia  MYS    Malaysia      NaN\n",
      "4     Liberia     Liberia  LBR     Liberia      NaN\n",
      "INFO:root:number null aliases\n",
      "INFO:root:1\n",
      "INFO:root:--\n"
     ]
    },
    {
     "name": "stdout",
     "output_type": "stream",
     "text": [
      "          country alias  iso name the_geom\n",
      "186  Cook Islands   NaN  NaN  NaN      NaN\n"
     ]
    }
   ],
   "source": [
    "name = 'cit_022_road_traffic_deaths_by_country'\n",
    "c_name = 'country'\n",
    "aliases = tables['country_aliases']['data']\n",
    "\n",
    "df = pd.DataFrame(tables[name]['long_data'][c_name])\n",
    "\n",
    "a, b = join_data_with_aliases(df, aliases, left_on = c_name, right_on = 'alias' )\n",
    "print(a[b])"
   ]
  },
  {
   "cell_type": "code",
   "execution_count": 30,
   "metadata": {
    "collapsed": false
   },
   "outputs": [],
   "source": [
    "# Tracking all mis-matched names\n",
    "missed_names = []\n",
    "\n",
    "for name, info in tables.items():\n",
    "    \n",
    "    logging.info('Processing table ' + name)\n",
    "    logging.info('Table head:')\n",
    "    logging.info(info['long_data'].head(5))\n",
    "    \n",
    "    c_code = table_info[name]['config_options'].get('country_code', False)\n",
    "    c_name = table_info[name]['config_options'].get('country_name', False)\n",
    "    \n",
    "    logging.info('c_code: ***' + str(c_code) + '***')\n",
    "    logging.info('c_name: ***' + str(c_name) + '***')\n",
    "    logging.info('--')\n",
    "    logging.info('--')\n",
    "    \n",
    "    \n",
    "    geometry = tables['geometry']['data']\n",
    "    alias_info = tables['country_aliases']['data']\n",
    "    data = info['long_data']\n",
    "    \n",
    "    # If country name is supplied, check how many match up with alias/name in country_aliases\n",
    "    if c_name:       \n",
    "        # Ensure that leading or trailing spaces don't break the match\n",
    "        data[c_name] = data[c_name].apply(lambda item: item.strip())\n",
    "        data_with_alias = data.merge(alias_infos, \n",
    "                                         left_on = c_name,\n",
    "                                         right_on = 'alias',\n",
    "                                         how='left')    \n",
    "        logging.debug('merged data:')\n",
    "        logging.debug(data_with_alias.head(5))\n",
    "        null_aliases = pd.isnull(data_with_alias['alias'])\n",
    "\n",
    "        if sum(null_aliases):\n",
    "            no_alias_match = data_with_alias.loc[null_aliases]\n",
    "            logging.info('missed aliases, matching on column \"alias\" of country_aliases')\n",
    "            logging.info(no_alias_match[c_name].unique())\n",
    "            missed_names.extend(no_alias_match[c_name].unique())\n",
    "\n",
    "        ### NO GUARANTEE ALL COUNTRIES HAVE NOT-NULL VALUES\n",
    "        ### THIS IS THE ONLY PLACE DATA IS ALTERED\n",
    "\n",
    "        data['new_country_code'] = data_with_aliases['iso']\n",
    "        \n",
    "            \n",
    "            \n",
    "            \n",
    "    if c_code:\n",
    "        logging.info('already has an iso3 code, in column ' + c_code)\n",
    "        \n",
    "        if c_code == 'iso':\n",
    "            logging.warning('not supported to have a c_code also named `iso`')\n",
    "            \n",
    "        df = data.merge(geometry,\n",
    "                           left_on=c_code,\n",
    "                           right_on='adm0_a3', \n",
    "                           how='left')\n",
    "        \n",
    "        no_geom_match = pd.isnull(df['adm0_a3'])\n",
    "        \n",
    "        data_with_isos_not_in_geometry = df[no_geom_match.values]\n",
    "        logging.info('no match for these isos in the data being processed: ')\n",
    "        logging.info(data_with_isos_not_in_geometry.head())\n",
    "        \n",
    "        \n",
    "        \n",
    "        \n",
    "    ### SUCCESS\n",
    "    tables[name]['long_data'] = data\n"
   ]
  },
  {
   "cell_type": "code",
   "execution_count": 300,
   "metadata": {
    "collapsed": false
   },
   "outputs": [
    {
     "name": "stdout",
     "output_type": "stream",
     "text": [
      "139\n",
      "['European Union', 'Other small states', \"Democratic People's Republic of Korea\", 'Middle East & North Africa (IDA & IBRD countries)', 'Upper middle income', 'IDA only', 'Pitcairn', 'Jersey', 'Saint Pierre et Miquelon', 'Aruba', 'Bolivia (Plurinational State of)', 'Venezuela, Bolivarian Republic of', 'Kosovo', 'Puerto Rico', 'Virgin Islands', 'United States Virgin Islands', 'Channel Islands', 'Åland Islands', 'St. Martin (French part)', 'West Bank and Gaza', 'Latin America & Caribbean (excluding high income)', 'Europe & Central Asia (IDA & IBRD countries)', 'East Asia & Pacific (IDA & IBRD countries)', 'Libyan Arab Jamahiriya', 'Congo (Democratic Republic of the)', 'Latin America & Caribbean', 'Heavily indebted poor countries (HIPC)', 'IDA & IBRD total', 'Isle of Man', 'Hong Kong', 'French Guiana', 'Hong Kong SAR, China', 'Low & middle income', 'IBRD only', 'Cook Islands', 'Lao PDR', 'Korea, Dem. People\\x92s Rep.', 'Sint Maarten (Dutch part)', 'Saint-Martin (French part)', 'Montserrat', 'Greenland', 'Tanzania (United Republic of)', 'Virgin Islands (U.S.)', 'Sub-Saharan Africa (IDA & IBRD countries)', 'Anguilla', 'Curaçao', 'French Polynesia', 'Palestine, State of', 'Korea, Republic of', 'Early-demographic dividend', 'Bolivia, Plurinational State of', 'Low income', 'Arab World', 'British Virgin Islands', 'Korea, Dem. People’s Rep.', 'Sint Maarten', 'Macedonia, FYR', 'HONG KONG SAR, CHINA', 'Cayman Islands', 'Congo, the Democratic Republic of', 'Saint-Barthélemy', 'Reunion', 'IDA blend', 'Lower middle income', 'Small states', 'Falkland Islands', 'GuineaBissau', 'Niue', 'Palestine', 'Mayotte', 'The former Yugoslav Republic of Macedonia', 'St. Vincent and the Grenadines', 'Not classified', 'Sub-Saharan Africa (excluding high income)', 'Guam', 'Pre-demographic dividend', 'Saint Pierre and Miquelon', 'South Asia (IDA & IBRD)', 'Holy See', 'Gibraltar', 'High income', 'Iran, Islamic Republic of', 'Taiwan', 'Fragile and conflict affected situations', \"Korea, Democratic People's Republ\", 'Macao SAR, China', 'East Asia & Pacific', 'TimorLeste', 'Europe & Central Asia', 'Faeroe Islands', 'Least developed countries: UN classification', 'Pacific island small states', 'Euro area', 'Middle income', 'Middle East & North Africa', 'Caribbean small states', 'Guadeloupe', 'World', 'IDA total', 'ARUBA', 'South Asia', 'Sub-Saharan Africa', 'Martinique', 'Northern Mariana Islands', 'Wallis and Futuna Islands', 'Moldova, Republic of', 'Svalbard and Jan Mayen Islands', 'MACAO SAR', 'US Virgin Islands', 'American Samoa', 'New Caledonia', 'Turks and Caicos Islands', 'Latin America & the Caribbean (IDA & IBRD countries)', 'Late-demographic dividend', 'Post-demographic dividend', 'Macao', 'Guernsey', 'Micronesia, Fed. Sts.', 'Curacao', 'Dutch Antilles', 'Moldova (Republic of)', 'Bermuda', 'Bosnia & Herzegovina', 'Western Sahara', 'Trinidad & Tobago', 'Central Europe and the Baltics', 'East Asia & Pacific (excluding high income)', 'Saint Helena', 'Faroe Islands', 'Réunion', 'Middle East & North Africa (excluding high income)', 'Tokelau', 'Europe & Central Asia (excluding high income)', 'Tanzania, United Republic of', 'Norfolk Island', 'OECD members', 'Micronesia, Federated States of', 'St. Martin', 'North America']\n"
     ]
    }
   ],
   "source": [
    "missed_names = list(set(missed_names))\n",
    "print(len(missed_names))\n",
    "print(missed_names)"
   ]
  },
  {
   "cell_type": "code",
   "execution_count": 301,
   "metadata": {
    "collapsed": false
   },
   "outputs": [
    {
     "name": "stdout",
     "output_type": "stream",
     "text": [
      "Table successfully written to CARTO: https://wri-rw.carto.com/dataset/country_aliases_extended\n"
     ]
    }
   ],
   "source": [
    "cc.write(tables['country_aliases']['data'], 'country_aliases_extended')"
   ]
  },
  {
   "cell_type": "code",
   "execution_count": 299,
   "metadata": {
    "collapsed": false
   },
   "outputs": [
    {
     "name": "stderr",
     "output_type": "stream",
     "text": [
      "INFO:root:geometry\n",
      "INFO:root:country_aliases\n",
      "INFO:root:cit_022_road_traffic_deaths_by_country\n",
      "INFO:root:      country datetime estimated_number_of_road_traffic_deaths_data  \\\n",
      "0        Mali     2013                        3 920 [3 193 - 4 648]   \n",
      "1  Madagascar     2013                        6 506 [5 361 - 7 650]   \n",
      "2    Malaysia     2013                        7 129 [6 050 - 8 209]   \n",
      "3     Liberia     2013                        1 448 [1 144 - 1 752]   \n",
      "4    Maldives     2013                                           12   \n",
      "\n",
      "  new_country_code  \n",
      "0              MLI  \n",
      "1              MDG  \n",
      "2              MYS  \n",
      "3              LBR  \n",
      "4              MDV  \n",
      "INFO:root:saved cit_022_road_traffic_deaths_by_country long data to s3\n",
      "/Users/nathansuberi/.pyenv/versions/3.6.0/lib/python3.6/site-packages/cartoframes/context.py:511: UserWarning: DataFrame written to CARTO but the table schema failed to update to match DataFrame. All columns in CARTO table have data type `text`. CARTO error: `['syntax error at end of input']`.\n",
      "  query=alter_query))\n",
      "INFO:root:saved cit_022_road_traffic_deaths_by_country long data to Carto\n",
      "INFO:root:cit_025_urban_population\n",
      "INFO:root:  country_code    country_name     indicator_code  \\\n",
      "0          INX  Not classified  SP.URB.TOTL.IN.ZS   \n",
      "1          XKX          Kosovo  SP.URB.TOTL.IN.ZS   \n",
      "2          IRQ            Iraq  SP.URB.TOTL.IN.ZS   \n",
      "3          ISL         Iceland  SP.URB.TOTL.IN.ZS   \n",
      "4          NOR          Norway  SP.URB.TOTL.IN.ZS   \n",
      "\n",
      "                  indicator_name datetime  yr_data  \n",
      "0  Urban population (% of total)     1960      NaN  \n",
      "1  Urban population (% of total)     1960      NaN  \n",
      "2  Urban population (% of total)     1960   42.899  \n",
      "3  Urban population (% of total)     1960   80.300  \n",
      "4  Urban population (% of total)     1960   49.920  \n"
     ]
    },
    {
     "name": "stdout",
     "output_type": "stream",
     "text": [
      "Table successfully written to CARTO: https://wri-rw.carto.com/dataset/cit_022_road_traffic_deaths_by_country_longform\n"
     ]
    },
    {
     "name": "stderr",
     "output_type": "stream",
     "text": [
      "INFO:root:saved cit_025_urban_population long data to s3\n",
      "INFO:root:saved cit_025_urban_population long data to Carto\n",
      "INFO:root:cit_028_percent_urban_slums_edit\n",
      "INFO:root:  country_code    country_name     indicator_code  \\\n",
      "0          AFG     Afghanistan  EN.POP.SLUM.UR.ZS   \n",
      "1          INX  Not classified  EN.POP.SLUM.UR.ZS   \n",
      "2          IND           India  EN.POP.SLUM.UR.ZS   \n",
      "3          IRL         Ireland  EN.POP.SLUM.UR.ZS   \n",
      "4          ITA           Italy  EN.POP.SLUM.UR.ZS   \n",
      "\n",
      "                                      indicator_name datetime yr_data  \n",
      "0  Population living in slums (% of urban populat...     1960          \n",
      "1  Population living in slums (% of urban populat...     1960          \n",
      "2  Population living in slums (% of urban populat...     1960          \n",
      "3  Population living in slums (% of urban populat...     1960          \n",
      "4  Population living in slums (% of urban populat...     1960          \n"
     ]
    },
    {
     "name": "stdout",
     "output_type": "stream",
     "text": [
      "Table successfully written to CARTO: https://wri-rw.carto.com/dataset/cit_025_urban_population_longform\n"
     ]
    },
    {
     "name": "stderr",
     "output_type": "stream",
     "text": [
      "INFO:root:saved cit_028_percent_urban_slums_edit long data to s3\n",
      "INFO:root:saved cit_028_percent_urban_slums_edit long data to Carto\n",
      "INFO:root:cit_029_municipal_waste\n",
      "INFO:root:   _2012_2015_avg          country datetime  yr_data new_country_code\n",
      "0      522.890000          Iceland     1990      NaN              ISL\n",
      "1      587.203000          Ireland     1990      NaN              IRL\n",
      "2      448.354667         Portugal     1990  300.504              PRT\n",
      "3      314.840750  Slovak Republic     1990      NaN              SVK\n",
      "4      414.217000         Slovenia     1990      NaN              SVN\n",
      "INFO:root:saved cit_029_municipal_waste long data to s3\n"
     ]
    },
    {
     "name": "stdout",
     "output_type": "stream",
     "text": [
      "Table successfully written to CARTO: https://wri-rw.carto.com/dataset/cit_028_percent_urban_slums_edit_longform\n"
     ]
    },
    {
     "name": "stderr",
     "output_type": "stream",
     "text": [
      "INFO:root:saved cit_029_municipal_waste long data to Carto\n",
      "INFO:root:com_006_national_current_accounts_edit\n",
      "INFO:root:  country_code  country_name  indicator_code  \\\n",
      "0          AND       Andorra  BN.CAB.XOKA.CD   \n",
      "1          PAK      Pakistan  BN.CAB.XOKA.CD   \n",
      "2          SMR    San Marino  BN.CAB.XOKA.CD   \n",
      "3          BFA  Burkina Faso  BN.CAB.XOKA.CD   \n",
      "4          BEN         Benin  BN.CAB.XOKA.CD   \n",
      "\n",
      "                               indicator_name datetime  yr_data  \n",
      "0  Current account balance (BoP, current US$)     1960      NaN  \n",
      "1  Current account balance (BoP, current US$)     1960      NaN  \n",
      "2  Current account balance (BoP, current US$)     1960      NaN  \n",
      "3  Current account balance (BoP, current US$)     1960      NaN  \n",
      "4  Current account balance (BoP, current US$)     1960      NaN  \n"
     ]
    },
    {
     "name": "stdout",
     "output_type": "stream",
     "text": [
      "Table successfully written to CARTO: https://wri-rw.carto.com/dataset/cit_029_municipal_waste_longform\n"
     ]
    },
    {
     "name": "stderr",
     "output_type": "stream",
     "text": [
      "INFO:root:saved com_006_national_current_accounts_edit long data to s3\n",
      "INFO:root:saved com_006_national_current_accounts_edit long data to Carto\n",
      "INFO:root:com_010_gdp_ppp_usd\n",
      "INFO:root:  country_code     country_name     indicator_code  \\\n",
      "0          NCL    New Caledonia  NY.GDP.MKTP.PP.CD   \n",
      "1          CHI  Channel Islands  NY.GDP.MKTP.PP.CD   \n",
      "2          INX   Not classified  NY.GDP.MKTP.PP.CD   \n",
      "3          UZB       Uzbekistan  NY.GDP.MKTP.PP.CD   \n",
      "4          VEN    Venezuela, RB  NY.GDP.MKTP.PP.CD   \n",
      "\n",
      "                       indicator_name datetime       yr_data  \n",
      "0  GDP, PPP (current international $)     1990           NaN  \n",
      "1  GDP, PPP (current international $)     1990           NaN  \n",
      "2  GDP, PPP (current international $)     1990           NaN  \n",
      "3  GDP, PPP (current international $)     1990  4.071037e+10  \n",
      "4  GDP, PPP (current international $)     1990  1.855098e+11  \n"
     ]
    },
    {
     "name": "stdout",
     "output_type": "stream",
     "text": [
      "Table successfully written to CARTO: https://wri-rw.carto.com/dataset/com_006_national_current_accounts_edit_longform\n"
     ]
    },
    {
     "name": "stderr",
     "output_type": "stream",
     "text": [
      "INFO:root:saved com_010_gdp_ppp_usd long data to s3\n",
      "INFO:root:saved com_010_gdp_ppp_usd long data to Carto\n",
      "INFO:root:com_015_recycling_rates\n",
      "INFO:root:   _2012_2015_avg      country datetime  yr_data new_country_code\n",
      "0         2100.00       Mexico     1990      NaN              MEX\n",
      "1         2149.75  Netherlands     1990      NaN              NLD\n",
      "2          587.25       Norway     1990    100.0              NOR\n",
      "3         1947.50       Poland     1990      NaN              POL\n",
      "4         3620.00        Spain     1990      NaN              ESP\n",
      "INFO:root:saved com_015_recycling_rates long data to s3\n"
     ]
    },
    {
     "name": "stdout",
     "output_type": "stream",
     "text": [
      "Table successfully written to CARTO: https://wri-rw.carto.com/dataset/com_010_gdp_ppp_usd_longform\n"
     ]
    },
    {
     "name": "stderr",
     "output_type": "stream",
     "text": [
      "INFO:root:saved com_015_recycling_rates long data to Carto\n",
      "INFO:root:ene_012_electricity_access\n",
      "INFO:root:  country_code                country_name datetime  urban_data  rural_data  \\\n",
      "0          INX              Not classified     1990         NaN         NaN   \n",
      "1          EAR  Early-demographic dividend     1990         NaN   41.197684   \n",
      "2          LCA                   St. Lucia     1990         NaN   78.359886   \n",
      "3          SOM                     Somalia     1990         NaN         NaN   \n",
      "4          OMN                        Oman     1990         NaN         NaN   \n",
      "\n",
      "   total_data  \n",
      "0         NaN  \n",
      "1   55.955087  \n",
      "2   82.475647  \n",
      "3         NaN  \n",
      "4         NaN  \n"
     ]
    },
    {
     "name": "stdout",
     "output_type": "stream",
     "text": [
      "Table successfully written to CARTO: https://wri-rw.carto.com/dataset/com_015_recycling_rates_longform\n"
     ]
    },
    {
     "name": "stderr",
     "output_type": "stream",
     "text": [
      "INFO:root:saved ene_012_electricity_access long data to s3\n",
      "INFO:root:saved ene_012_electricity_access long data to Carto\n",
      "INFO:root:ene_021_se4all_country_indicators\n",
      "INFO:root:  country_code country_name      indicator_code  \\\n",
      "0          OMN         Oman  3.1_RE.CONSUMPTION   \n",
      "1          SSD  South Sudan  3.1_RE.CONSUMPTION   \n",
      "2          DNK      Denmark  3.1_RE.CONSUMPTION   \n",
      "3          SMR   San Marino  3.1_RE.CONSUMPTION   \n",
      "4          ALB      Albania  3.1_RE.CONSUMPTION   \n",
      "\n",
      "                      indicator_name datetime      yr_data  \n",
      "0  Renewable energy consumption (TJ)     1990          NaN  \n",
      "1  Renewable energy consumption (TJ)     1990          NaN  \n",
      "2  Renewable energy consumption (TJ)     1990  39120.98875  \n",
      "3  Renewable energy consumption (TJ)     1990          NaN  \n",
      "4  Renewable energy consumption (TJ)     1990  20589.21076  \n"
     ]
    },
    {
     "name": "stdout",
     "output_type": "stream",
     "text": [
      "Table successfully written to CARTO: https://wri-rw.carto.com/dataset/ene_012_electricity_access_longform\n"
     ]
    },
    {
     "name": "stderr",
     "output_type": "stream",
     "text": [
      "INFO:root:saved ene_021_se4all_country_indicators long data to s3\n",
      "INFO:root:saved ene_021_se4all_country_indicators long data to Carto\n",
      "INFO:root:ene_028_access_clean_cooking_fuels\n",
      "INFO:root:  country_code country_name     series_code  \\\n",
      "0          NRU        Nauru  EG.CFT.ACCS.ZS   \n",
      "1          AFG  Afghanistan  EG.CFT.ACCS.ZS   \n",
      "2          ALB      Albania  EG.CFT.ACCS.ZS   \n",
      "3          DZA      Algeria  EG.CFT.ACCS.ZS   \n",
      "4          BGD   Bangladesh  EG.CFT.ACCS.ZS   \n",
      "\n",
      "                                         series_name datetime    yr_data  \n",
      "0  Access to clean fuels and technologies for coo...     2000        NaN  \n",
      "1  Access to clean fuels and technologies for coo...     2000  22.666341  \n",
      "2  Access to clean fuels and technologies for coo...     2000  48.022336  \n",
      "3  Access to clean fuels and technologies for coo...     2000  93.082431  \n",
      "4  Access to clean fuels and technologies for coo...     2000  10.548800  \n"
     ]
    },
    {
     "name": "stdout",
     "output_type": "stream",
     "text": [
      "Table successfully written to CARTO: https://wri-rw.carto.com/dataset/ene_021_se4all_country_indicators_longform\n"
     ]
    },
    {
     "name": "stderr",
     "output_type": "stream",
     "text": [
      "INFO:root:saved ene_028_access_clean_cooking_fuels long data to s3\n",
      "INFO:root:saved ene_028_access_clean_cooking_fuels long data to Carto\n",
      "INFO:root:foo_015_global_hunger_index\n",
      "INFO:root:        country datetime  ghi_data new_country_code\n",
      "0         Ghana     1992      41.9              GHA\n",
      "1        Guinea     1992      46.5              GIN\n",
      "2  GuineaBissau     1992      44.5              ***\n",
      "3          Iraq     1992      21.8              IRQ\n",
      "4        Guyana     1992      22.3              GUY\n",
      "INFO:root:saved foo_015_global_hunger_index long data to s3\n"
     ]
    },
    {
     "name": "stdout",
     "output_type": "stream",
     "text": [
      "Table successfully written to CARTO: https://wri-rw.carto.com/dataset/ene_028_access_clean_cooking_fuels_longform\n"
     ]
    },
    {
     "name": "stderr",
     "output_type": "stream",
     "text": [
      "INFO:root:saved foo_015_global_hunger_index long data to Carto\n",
      "INFO:root:foo_040_fisheries_vuln_climat\n",
      "INFO:root:  country_territory field_8     datetime  rcp26_data  rcp45_data  rcp85_data  \\\n",
      "0         ARGENTINA          __2016_2050    0.084542    0.154796    0.167004   \n",
      "1            GUINEA          __2016_2050    0.608461    0.592828    0.521583   \n",
      "2            GREECE          __2016_2050    0.417849    0.380012    0.413244   \n",
      "3         INDONESIA          __2016_2050    0.677371    0.666611    0.594091   \n",
      "4             ITALY          __2016_2050    0.253508    0.229789    0.255898   \n",
      "\n",
      "  new_country_code  \n",
      "0              ARG  \n",
      "1              GIN  \n",
      "2              GRC  \n",
      "3              IDN  \n",
      "4              ITA  \n",
      "INFO:root:saved foo_040_fisheries_vuln_climat long data to s3\n"
     ]
    },
    {
     "name": "stdout",
     "output_type": "stream",
     "text": [
      "Table successfully written to CARTO: https://wri-rw.carto.com/dataset/foo_015_global_hunger_index_longform\n"
     ]
    },
    {
     "name": "stderr",
     "output_type": "stream",
     "text": [
      "INFO:root:saved foo_040_fisheries_vuln_climat long data to Carto\n",
      "INFO:root:foo_43_agriculture_value_added\n",
      "INFO:root:  country_code    country_name  indicator_code  \\\n",
      "0          NER           Niger  NV.AGR.TOTL.ZS   \n",
      "1          INX  Not classified  NV.AGR.TOTL.ZS   \n",
      "2          LBY           Libya  NV.AGR.TOTL.ZS   \n",
      "3          MCO          Monaco  NV.AGR.TOTL.ZS   \n",
      "4          SOM         Somalia  NV.AGR.TOTL.ZS   \n",
      "\n",
      "                        indicator_name datetime    yr_data  \n",
      "0  Agriculture, value added (% of GDP)     1960        NaN  \n",
      "1  Agriculture, value added (% of GDP)     1960        NaN  \n",
      "2  Agriculture, value added (% of GDP)     1960        NaN  \n",
      "3  Agriculture, value added (% of GDP)     1960        NaN  \n",
      "4  Agriculture, value added (% of GDP)     1960  71.121603  \n"
     ]
    },
    {
     "name": "stdout",
     "output_type": "stream",
     "text": [
      "Table successfully written to CARTO: https://wri-rw.carto.com/dataset/foo_040_fisheries_vuln_climat_longform\n"
     ]
    },
    {
     "name": "stderr",
     "output_type": "stream",
     "text": [
      "INFO:root:saved foo_43_agriculture_value_added long data to s3\n",
      "INFO:root:saved foo_43_agriculture_value_added long data to Carto\n",
      "INFO:root:soc_004_human_development_index\n",
      "INFO:root:soc_006_multidimensional_poverty_index\n",
      "INFO:root:                             country  latest datetime  yr_data  \\\n",
      "0                            Belarus   0.001     2005    0.001   \n",
      "1                         Bangladesh   0.188     2005      NaN   \n",
      "2   Bolivia (Plurinational State of)   0.097     2005      NaN   \n",
      "3                               Chad   0.545     2005      NaN   \n",
      "4             Bosnia and Herzegovina   0.006     2005      NaN   \n",
      "\n",
      "  new_country_code  \n",
      "0              ***  \n",
      "1              ***  \n",
      "2              ***  \n",
      "3              ***  \n",
      "4              ***  \n",
      "INFO:root:saved soc_006_multidimensional_poverty_index long data to s3\n"
     ]
    },
    {
     "name": "stdout",
     "output_type": "stream",
     "text": [
      "Table successfully written to CARTO: https://wri-rw.carto.com/dataset/foo_43_agriculture_value_added_longform\n"
     ]
    },
    {
     "name": "stderr",
     "output_type": "stream",
     "text": [
      "INFO:root:saved soc_006_multidimensional_poverty_index long data to Carto\n",
      "INFO:root:soc_008_gdp_per_capita_edit\n",
      "INFO:root:  country_code               country_name     indicator_code  \\\n",
      "0          CUB                       Cuba  NY.GDP.PCAP.PP.CD   \n",
      "1          HRV                    Croatia  NY.GDP.PCAP.PP.CD   \n",
      "2          NCL              New Caledonia  NY.GDP.PCAP.PP.CD   \n",
      "3          PRK  Korea, Dem. Peoples Rep.  NY.GDP.PCAP.PP.CD   \n",
      "4          SRB                     Serbia  NY.GDP.PCAP.PP.CD   \n",
      "\n",
      "                                  indicator_name datetime  yr_data  \n",
      "0  GDP per capita, PPP (current international $)     1990      NaN  \n",
      "1  GDP per capita, PPP (current international $)     1990      NaN  \n",
      "2  GDP per capita, PPP (current international $)     1990      NaN  \n",
      "3  GDP per capita, PPP (current international $)     1990      NaN  \n",
      "4  GDP per capita, PPP (current international $)     1990      NaN  \n"
     ]
    },
    {
     "name": "stdout",
     "output_type": "stream",
     "text": [
      "Table successfully written to CARTO: https://wri-rw.carto.com/dataset/soc_006_multidimensional_poverty_index_longform\n"
     ]
    },
    {
     "name": "stderr",
     "output_type": "stream",
     "text": [
      "INFO:root:saved soc_008_gdp_per_capita_edit long data to s3\n",
      "INFO:root:saved soc_008_gdp_per_capita_edit long data to Carto\n",
      "INFO:root:soc_015_adult_literacy_rate\n",
      "INFO:root:   indicator_code                                     indicator_name  \\\n",
      "0  SE.ADT.LITR.ZS  Literacy rate, adult total (% of people ages 1...   \n",
      "1  SE.ADT.LITR.ZS  Literacy rate, adult total (% of people ages 1...   \n",
      "2  SE.ADT.LITR.ZS  Literacy rate, adult total (% of people ages 1...   \n",
      "3  SE.ADT.LITR.ZS  Literacy rate, adult total (% of people ages 1...   \n",
      "4  SE.ADT.LITR.ZS  Literacy rate, adult total (% of people ages 1...   \n",
      "\n",
      "  country_code          country_name datetime yr_data  male_data  female_data  \n",
      "0          CUW               Curacao     1970     NaN        NaN          NaN  \n",
      "1          WSM                 Samoa     1970     NaN        NaN          NaN  \n",
      "2          AFG           Afghanistan     1970     NaN        NaN          NaN  \n",
      "3          ARG             Argentina     1970     NaN        NaN          NaN  \n",
      "4          ARE  United Arab Emirates     1970     NaN        NaN          NaN  \n"
     ]
    },
    {
     "name": "stdout",
     "output_type": "stream",
     "text": [
      "Table successfully written to CARTO: https://wri-rw.carto.com/dataset/soc_008_gdp_per_capita_edit_longform\n"
     ]
    },
    {
     "name": "stderr",
     "output_type": "stream",
     "text": [
      "INFO:root:saved soc_015_adult_literacy_rate long data to s3\n",
      "INFO:root:saved soc_015_adult_literacy_rate long data to Carto\n",
      "INFO:root:soc_020_gini\n",
      "INFO:root:  indicator_code                    indicator_name country_code country_name  \\\n",
      "0    SI.POV.GINI  GINI index (World Bank estimate)          MWI       Malawi   \n",
      "1    SI.POV.GINI  GINI index (World Bank estimate)          MNG     Mongolia   \n",
      "2    SI.POV.GINI  GINI index (World Bank estimate)          MRT   Mauritania   \n",
      "3    SI.POV.GINI  GINI index (World Bank estimate)          MOZ   Mozambique   \n",
      "4    SI.POV.GINI  GINI index (World Bank estimate)          NAM      Namibia   \n",
      "\n",
      "  datetime yr_data  \n",
      "0     1960    None  \n",
      "1     1960    None  \n",
      "2     1960    None  \n",
      "3     1960    None  \n",
      "4     1960    None  \n"
     ]
    },
    {
     "name": "stdout",
     "output_type": "stream",
     "text": [
      "Table successfully written to CARTO: https://wri-rw.carto.com/dataset/soc_015_adult_literacy_rate_longform\n"
     ]
    },
    {
     "name": "stderr",
     "output_type": "stream",
     "text": [
      "INFO:root:saved soc_020_gini long data to s3\n",
      "INFO:root:saved soc_020_gini long data to Carto\n",
      "INFO:root:soc_025_gender_inequality_index\n",
      "INFO:root:      country datetime  yr_data new_country_code\n",
      "0    Honduras     1995      NaN              ***\n",
      "1     Georgia     1995    0.426              ***\n",
      "2       Libya     1995      NaN              ***\n",
      "3   Singapore     1995    0.252              ***\n",
      "4    Suriname     1995      NaN              ***\n"
     ]
    },
    {
     "name": "stdout",
     "output_type": "stream",
     "text": [
      "Table successfully written to CARTO: https://wri-rw.carto.com/dataset/soc_020_gini_longform\n"
     ]
    },
    {
     "name": "stderr",
     "output_type": "stream",
     "text": [
      "INFO:root:saved soc_025_gender_inequality_index long data to s3\n",
      "INFO:root:saved soc_025_gender_inequality_index long data to Carto\n",
      "INFO:root:soc_029_worldwide_governance_indicators\n",
      "INFO:root:  country_territory wbcode datetime  control_of_corruption_data  \\\n",
      "0    Dutch Antilles    ANT     2016                         NaN   \n",
      "1            Malawi    MWI     2016                       -0.75   \n",
      "2             Niger    NER     2016                       -0.64   \n",
      "3           Namibia    NAM     2016                        0.37   \n",
      "4          Malaysia    MYS     2016                        0.11   \n",
      "\n",
      "   government_effectiveness_data  political_stability_data  \\\n",
      "0                            NaN                       NaN   \n",
      "1                          -0.73                     -0.06   \n",
      "2                          -0.59                     -1.08   \n",
      "3                           0.17                      0.74   \n",
      "4                           0.88                      0.10   \n",
      "\n",
      "   regulatory_quality_data  rule_of_law_data  voice_accountability_data  \n",
      "0                      NaN               NaN                        NaN  \n",
      "1                    -0.84             -0.37                       0.04  \n",
      "2                    -0.67             -0.64                      -0.34  \n",
      "3                    -0.14              0.39                       0.61  \n",
      "4                     0.71              0.54                      -0.47  \n",
      "INFO:root:saved soc_029_worldwide_governance_indicators long data to s3\n"
     ]
    },
    {
     "name": "stdout",
     "output_type": "stream",
     "text": [
      "Table successfully written to CARTO: https://wri-rw.carto.com/dataset/soc_025_gender_inequality_index_longform\n"
     ]
    },
    {
     "name": "stderr",
     "output_type": "stream",
     "text": [
      "INFO:root:saved soc_029_worldwide_governance_indicators long data to Carto\n",
      "INFO:root:soc_036_life_expectancy_at_birth\n",
      "INFO:root:   indicator_code                           indicator_name country_code  \\\n",
      "0  SP.DYN.LE00.IN  Life expectancy at birth, total (years)          CUW   \n",
      "1  SP.DYN.LE00.IN  Life expectancy at birth, total (years)          GIB   \n",
      "2  SP.DYN.LE00.IN  Life expectancy at birth, total (years)          NRU   \n",
      "3  SP.DYN.LE00.IN  Life expectancy at birth, total (years)          AGO   \n",
      "4  SP.DYN.LE00.IN  Life expectancy at birth, total (years)          NER   \n",
      "\n",
      "  country_name datetime  yr_data  \n",
      "0      Curacao     1960      NaN  \n",
      "1    Gibraltar     1960      NaN  \n",
      "2        Nauru     1960      NaN  \n",
      "3       Angola     1960  32.9848  \n",
      "4        Niger     1960   35.515  \n"
     ]
    },
    {
     "name": "stdout",
     "output_type": "stream",
     "text": [
      "Table successfully written to CARTO: https://wri-rw.carto.com/dataset/soc_029_worldwide_governance_indicators_longform\n"
     ]
    },
    {
     "name": "stderr",
     "output_type": "stream",
     "text": [
      "INFO:root:saved soc_036_life_expectancy_at_birth long data to s3\n",
      "INFO:root:saved soc_036_life_expectancy_at_birth long data to Carto\n",
      "INFO:root:soc_039_out_of_school_rate_edit\n",
      "INFO:root:       country datetime  yr_data new_country_code\n",
      "0    Macedonia     1999  4.95965              MKD\n",
      "1        Libya     1999      NaN              LBY\n",
      "2      Somalia     1999      NaN              SOM\n",
      "3      Andorra     1999      NaN              AND\n",
      "4  Afghanistan     1999      NaN              AFG\n"
     ]
    },
    {
     "name": "stdout",
     "output_type": "stream",
     "text": [
      "Table successfully written to CARTO: https://wri-rw.carto.com/dataset/soc_036_life_expectancy_at_birth_longform\n"
     ]
    },
    {
     "name": "stderr",
     "output_type": "stream",
     "text": [
      "INFO:root:saved soc_039_out_of_school_rate_edit long data to s3\n",
      "INFO:root:saved soc_039_out_of_school_rate_edit long data to Carto\n",
      "INFO:root:soc_040_improved_sanitation\n",
      "INFO:root:  country_code     country_name datetime  rural_data  urban_data  total_data\n",
      "0          BMU          Bermuda     1990         NaN         NaN         NaN\n",
      "1          CHI  Channel Islands     1990         NaN         NaN         NaN\n",
      "2          CUW          Curacao     1990         NaN         NaN         NaN\n",
      "3          GIB        Gibraltar     1990         NaN         NaN         NaN\n",
      "4          NZL      New Zealand     1990        88.0         NaN         NaN\n"
     ]
    },
    {
     "name": "stdout",
     "output_type": "stream",
     "text": [
      "Table successfully written to CARTO: https://wri-rw.carto.com/dataset/soc_039_out_of_school_rate_edit_longform\n"
     ]
    },
    {
     "name": "stderr",
     "output_type": "stream",
     "text": [
      "INFO:root:saved soc_040_improved_sanitation long data to s3\n",
      "INFO:root:saved soc_040_improved_sanitation long data to Carto\n",
      "INFO:root:wat_005_improved_water_access\n",
      "INFO:root:  country_code     country_name datetime  urban_data  rural_data  total_data\n",
      "0          BMU          Bermuda     1990         NaN         NaN         NaN\n",
      "1          CHI  Channel Islands     1990         NaN         NaN         NaN\n",
      "2          CUW          Curacao     1990         NaN         NaN         NaN\n",
      "3          INX   Not classified     1990         NaN         NaN         NaN\n",
      "4          SSD      South Sudan     1990         NaN         NaN         NaN\n"
     ]
    },
    {
     "name": "stdout",
     "output_type": "stream",
     "text": [
      "Table successfully written to CARTO: https://wri-rw.carto.com/dataset/soc_040_improved_sanitation_longform\n"
     ]
    },
    {
     "name": "stderr",
     "output_type": "stream",
     "text": [
      "INFO:root:saved wat_005_improved_water_access long data to s3\n",
      "INFO:root:saved wat_005_improved_water_access long data to Carto\n",
      "INFO:root:cli_029_vulnerability_to_cc\n",
      "INFO:root:         country datetime  gain_data  readiness_data  vulnerability_data  \\\n",
      "0        Andorra     1995        NaN             NaN                 NaN   \n",
      "1  Liechtenstein     1995        NaN             NaN                 NaN   \n",
      "2         Monaco     1995        NaN             NaN                 NaN   \n",
      "3          Nauru     1995        NaN             NaN                 NaN   \n",
      "4     San Marino     1995        NaN             NaN                 NaN   \n",
      "\n",
      "  new_country_code  \n",
      "0              AND  \n",
      "1              LIE  \n",
      "2              MCO  \n",
      "3              NRU  \n",
      "4              SMR  \n"
     ]
    },
    {
     "name": "stdout",
     "output_type": "stream",
     "text": [
      "Table successfully written to CARTO: https://wri-rw.carto.com/dataset/wat_005_improved_water_access_longform\n"
     ]
    },
    {
     "name": "stderr",
     "output_type": "stream",
     "text": [
      "INFO:root:saved cli_029_vulnerability_to_cc long data to s3\n",
      "INFO:root:saved cli_029_vulnerability_to_cc long data to Carto\n"
     ]
    },
    {
     "name": "stdout",
     "output_type": "stream",
     "text": [
      "Table successfully written to CARTO: https://wri-rw.carto.com/dataset/cli_029_vulnerability_to_cc_longform\n"
     ]
    }
   ],
   "source": [
    "for name, info in tables.items():\n",
    "    logging.info(name)\n",
    "    for key, data in info.items():\n",
    "        if key == 'long_data':\n",
    "            logging.info(data.head())\n",
    "            write_to_S3(data,s3_bucket,s3_folder+name+'_long')\n",
    "            logging.info('saved ' + name + ' long data to s3')\n",
    "            cc.write(data, name + '_longform', overwrite=True)\n",
    "            logging.info('saved ' + name + ' long data to Carto')\n",
    "            #logging.info('failed to write table ' + name)"
   ]
  }
 ],
 "metadata": {
  "kernelspec": {
   "display_name": "Python 3",
   "language": "python",
   "name": "python3"
  },
  "language_info": {
   "codemirror_mode": {
    "name": "ipython",
    "version": 3
   },
   "file_extension": ".py",
   "mimetype": "text/x-python",
   "name": "python",
   "nbconvert_exporter": "python",
   "pygments_lexer": "ipython3",
   "version": "3.6.0"
  }
 },
 "nbformat": 4,
 "nbformat_minor": 2
}
