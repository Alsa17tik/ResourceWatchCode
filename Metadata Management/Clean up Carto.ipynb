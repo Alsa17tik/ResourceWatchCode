{
 "cells": [
  {
   "cell_type": "code",
   "execution_count": null,
   "metadata": {
    "collapsed": false
   },
   "outputs": [],
   "source": [
    "import requests\n",
    "import os\n",
    "import logging\n",
    "import sys\n",
    "import json\n",
    "import cartoframes\n",
    "logging.basicConfig(stream=sys.stderr, level=logging.INFO)"
   ]
  },
  {
   "cell_type": "code",
   "execution_count": null,
   "metadata": {
    "collapsed": false
   },
   "outputs": [],
   "source": [
    "CARTO_URL = 'https://{}.carto.com/api/v2/sql'\n",
    "CARTO_USER = 'wri-rw'\n",
    "CARTO_KEY = ''\n",
    "STRICT = True\n",
    "\n",
    "cc = cartoframes.CartoContext(base_url='https://{}.carto.com/'.format(CARTO_USER),\n",
    "                              api_key=CARTO_KEY)"
   ]
  },
  {
   "cell_type": "code",
   "execution_count": null,
   "metadata": {
    "collapsed": false
   },
   "outputs": [],
   "source": [
    "def getTables(user=CARTO_USER, key=CARTO_KEY, f='csv'):\n",
    "    '''Get the list of tables'''\n",
    "    r = get('SELECT * FROM CDB_UserTables()', f=f)\n",
    "    if f == 'csv':\n",
    "        return r.text.split(\"\\r\\n\")[1:-1]\n",
    "    return r\n",
    "\n",
    "def sendSql(sql, user=CARTO_USER, key=CARTO_KEY, f='', post=True):\n",
    "    '''Send arbitrary sql and return response object or False'''\n",
    "    url = CARTO_URL.format(user)\n",
    "    payload = {\n",
    "        'api_key': key,\n",
    "        'q': sql,\n",
    "    }\n",
    "    if len(f):\n",
    "        payload['format'] = f\n",
    "    logging.debug((url, payload))\n",
    "    if post:\n",
    "        r = requests.post(url, json=payload)\n",
    "    else:\n",
    "        r = requests.get(url, params=payload)\n",
    "    if not r.ok:\n",
    "        logging.error(r.text)\n",
    "        if STRICT:\n",
    "            raise Exception(r.text)\n",
    "        return False\n",
    "    return r\n",
    "\n",
    "def get(sql, user=CARTO_USER, key=CARTO_KEY, f=''):\n",
    "    '''Send arbitrary sql and return response object or False'''\n",
    "    return sendSql(sql, user, key, f, False)\n",
    "\n",
    "def post(sql, user=CARTO_USER, key=CARTO_KEY, f=''):\n",
    "    '''Send arbitrary sql and return response object or False'''\n",
    "    return sendSql(sql, user, key, f)\n",
    "\n",
    "def dropTable(table, user=CARTO_USER, key=CARTO_KEY):\n",
    "    '''Delete table'''\n",
    "    sql = 'DROP TABLE \"{}\"'.format(table)\n",
    "    return post(sql)"
   ]
  },
  {
   "cell_type": "code",
   "execution_count": null,
   "metadata": {
    "collapsed": false
   },
   "outputs": [],
   "source": [
    "tables = getTables()\n",
    "# Load config options\n",
    "try:\n",
    "    table_info = json.load(open('/Users/nathansuberi/Documents/GitHub/ResourceWatchCode/Metadata Management/table_info.json', 'r'))\n",
    "except Exception as e:\n",
    "    logging.info(e)\n",
    "    table_info = {}"
   ]
  },
  {
   "cell_type": "code",
   "execution_count": null,
   "metadata": {
    "collapsed": true
   },
   "outputs": [],
   "source": [
    "matches = {}\n",
    "for name in table_info:\n",
    "    matches[name] = [table for table in tables if name in table]"
   ]
  },
  {
   "cell_type": "code",
   "execution_count": null,
   "metadata": {
    "collapsed": false
   },
   "outputs": [],
   "source": [
    "matches"
   ]
  },
  {
   "cell_type": "markdown",
   "metadata": {},
   "source": [
    "# Switch long-formed to wide tables, save wide tables"
   ]
  },
  {
   "cell_type": "code",
   "execution_count": null,
   "metadata": {
    "collapsed": false
   },
   "outputs": [],
   "source": [
    "exceptions = ['soc_025', 'country_aliases', 'com_015', 'ene_022', 'cit_022',\n",
    "             'soc_062', 'wat_005', 'soc_023']\n",
    "skipped = []\n",
    "processed = []\n",
    "for name, tables in matches.items():\n",
    "    if len(tables)==2:\n",
    "        if not any([name in tables[1] for name in exceptions]):\n",
    "            processed.append(name)\n",
    "#             old_table = tables[0]\n",
    "#             new_table = tables[1]\n",
    "#             print('Old table: {}'.format(old_table))\n",
    "#             print('New table: {}'.format(new_table))\n",
    "            \n",
    "#             # Load data\n",
    "#             wide_data = cc.read(old_table)\n",
    "#             long_data = cc.read(new_table)\n",
    "            \n",
    "#             # Write data\n",
    "#             print('Writing wide_data to {}'.format(old_table + '_wide'))\n",
    "#             cc.write(wide_data, old_table + '_wide', overwrite=True)\n",
    "#             print('Writing long_data to {}'.format(old_table))\n",
    "#             cc.write(long_data, old_table, overwrite=True)\n",
    "            \n",
    "#             # Delete other storage of new data\n",
    "#             print('Dropping {}'.format(new_table))\n",
    "#             dropTable(new_table)\n",
    "        else:\n",
    "            skipped.append(name)\n",
    "    else:\n",
    "        skipped.append(name)\n",
    "        #print('Second look: {}'.format(name))"
   ]
  },
  {
   "cell_type": "code",
   "execution_count": null,
   "metadata": {
    "collapsed": false
   },
   "outputs": [],
   "source": [
    "processed"
   ]
  },
  {
   "cell_type": "markdown",
   "metadata": {},
   "source": [
    "# Delete select tables"
   ]
  },
  {
   "cell_type": "code",
   "execution_count": null,
   "metadata": {
    "collapsed": false
   },
   "outputs": [],
   "source": [
    "all_to_delete = []\n",
    "for name, tables in matches.items():\n",
    "    print(name)\n",
    "    print(tables)\n",
    "    for table in tables:\n",
    "        print(table)\n",
    "        delete = input('Delete this table? type anything for yes, empty for no')\n",
    "        if delete:\n",
    "            all_to_delete.append(table)"
   ]
  },
  {
   "cell_type": "code",
   "execution_count": null,
   "metadata": {
    "collapsed": true
   },
   "outputs": [],
   "source": [
    "# soc_025_gender_inequality_index"
   ]
  },
  {
   "cell_type": "code",
   "execution_count": null,
   "metadata": {
    "collapsed": false
   },
   "outputs": [],
   "source": [
    "for table in all_to_delete:\n",
    "    print('dropping table: ' + table)\n",
    "    dropTable(table)"
   ]
  }
 ],
 "metadata": {
  "kernelspec": {
   "display_name": "Python 3",
   "language": "python",
   "name": "python3"
  },
  "language_info": {
   "codemirror_mode": {
    "name": "ipython",
    "version": 3
   },
   "file_extension": ".py",
   "mimetype": "text/x-python",
   "name": "python",
   "nbconvert_exporter": "python",
   "pygments_lexer": "ipython3",
   "version": "3.6.0"
  }
 },
 "nbformat": 4,
 "nbformat_minor": 2
}
